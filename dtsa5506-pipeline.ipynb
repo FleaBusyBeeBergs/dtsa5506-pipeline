{
  "cells": [
    {
      "cell_type": "markdown",
      "metadata": {
        "id": "view-in-github",
        "colab_type": "text"
      },
      "source": [
        "<a href=\"https://colab.research.google.com/github/FleaBusyBeeBergs/dtsa5506-pipeline/blob/main/dtsa5506-pipeline.ipynb\" target=\"_parent\"><img src=\"https://colab.research.google.com/assets/colab-badge.svg\" alt=\"Open In Colab\"/></a>"
      ]
    },
    {
      "cell_type": "code",
      "execution_count": null,
      "id": "bf77cd13-70d6-4138-a8ea-93374834cefa",
      "metadata": {
        "id": "bf77cd13-70d6-4138-a8ea-93374834cefa"
      },
      "outputs": [],
      "source": [
        "# uncomment to install\n",
        "\n",
        "# !pip install pandas requests pandasdmx\n",
        "# !pip install requests-cache"
      ]
    },
    {
      "cell_type": "code",
      "execution_count": 1,
      "id": "2b95808b-7fef-4218-8168-57235a9afb97",
      "metadata": {
        "id": "2b95808b-7fef-4218-8168-57235a9afb97"
      },
      "outputs": [],
      "source": [
        "import zipfile\n",
        "import pandas as pd\n",
        "import os\n",
        "import requests\n",
        "# import pandasdmx # sdmx api library\n",
        "# from pandasdmx import Request\n",
        "# from requests_cache import install_cache\n",
        "import matplotlib.pyplot as plt\n",
        "import xml.etree.ElementTree as ET"
      ]
    },
    {
      "cell_type": "markdown",
      "id": "3a2d04f6-bc4f-48bf-9224-86a11b0ea535",
      "metadata": {
        "id": "3a2d04f6-bc4f-48bf-9224-86a11b0ea535"
      },
      "source": [
        "## The Data"
      ]
    },
    {
      "cell_type": "markdown",
      "id": "0c787743-5bd0-44c9-af95-c1f08855d8a7",
      "metadata": {
        "id": "0c787743-5bd0-44c9-af95-c1f08855d8a7"
      },
      "source": [
        "The data used comes from the statistics canada data cube (herein referred to as the 'Cube') and is found in the following tables:\n",
        "\n",
        "* wages, table 14-10-0223-01\n",
        "* raw materials index, table 18-10-0268-01\n",
        "* taxes, table 11-10-0058-01\n",
        "* productivity, table 36-10-0206-01\n",
        "* consumer price index, table 18-10-004-01"
      ]
    },
    {
      "cell_type": "markdown",
      "id": "17eedffd-7a34-48f8-93d5-f194dd1f6387",
      "metadata": {
        "id": "17eedffd-7a34-48f8-93d5-f194dd1f6387"
      },
      "source": [
        "## ETL"
      ]
    },
    {
      "cell_type": "markdown",
      "id": "c042eb07-8150-4409-b81d-3342633b787b",
      "metadata": {
        "id": "c042eb07-8150-4409-b81d-3342633b787b"
      },
      "source": [
        "There is a very large amount of data in the Cube. Pulling an entire table then paring it down to a few variables is inefficient - create an ETL pipeline."
      ]
    },
    {
      "cell_type": "code",
      "execution_count": 10,
      "id": "16d5a9f7-e44d-4d3f-aa16-94205866644e",
      "metadata": {
        "id": "16d5a9f7-e44d-4d3f-aa16-94205866644e",
        "outputId": "d6ebb8ed-3b89-4017-825b-690b1a7b030f",
        "colab": {
          "base_uri": "https://localhost:8080/"
        }
      },
      "outputs": [
        {
          "output_type": "stream",
          "name": "stdout",
          "text": [
            "           name   tableid       vector description  frequency    start  \\\n",
            "0          wage  14100223    v79311153                monthly  2001-01   \n",
            "1           raw  18100268  v1230998135                monthly  2001-01   \n",
            "2           tax  11100058   v122807833                 annual     YYYY   \n",
            "3  productivity  36100206     v1409153              quarterly  YYYY-Qx   \n",
            "4           cpi  18100004    v41690973                monthly  2001-01   \n",
            "\n",
            "       end url  \n",
            "0  2024-12      \n",
            "1  2024-12      \n",
            "2     YYYY      \n",
            "3  YYYY-Qx      \n",
            "4  2024-12      \n"
          ]
        }
      ],
      "source": [
        "# create df of tables\n",
        "tables = {\n",
        "    'name': ['wage', 'raw', 'tax', 'productivity', 'cpi'],\n",
        "    'tableid': [14100223, 18100268, 11100058, 36100206, 18100004],\n",
        "    'vector': ['v79311153', 'v1230998135', 'v122807833', 'v1409153', 'v41690973'],\n",
        "    'description': ['', '', '', '', ''],\n",
        "    'frequency': ['monthly', 'monthly', 'annual', 'quarterly', 'monthly'],\n",
        "    'start': ['2001-01', '2001-01', 'YYYY', 'YYYY-Qx', '2001-01'],\n",
        "    'end': ['2024-12', '2024-12', 'YYYY', 'YYYY-Qx', '2024-12'],\n",
        "    'url': ['', '', '', '', '']\n",
        "         }\n",
        "table_df = pd.DataFrame(tables)\n",
        "print(table_df)\n",
        "\n",
        "# base_url = 'https://www150.statcan.gc.ca/t1/wds/sdmx/statcan/rest/vector/'"
      ]
    },
    {
      "cell_type": "code",
      "execution_count": 20,
      "id": "e475c767-2798-48c4-897c-08a24f9e2275",
      "metadata": {
        "id": "e475c767-2798-48c4-897c-08a24f9e2275",
        "outputId": "5544a9c3-c1ab-48ac-e290-31ffdba7412e",
        "colab": {
          "base_uri": "https://localhost:8080/"
        }
      },
      "outputs": [
        {
          "output_type": "execute_result",
          "data": {
            "text/plain": [
              "<Response [200]>"
            ]
          },
          "metadata": {},
          "execution_count": 20
        }
      ],
      "source": [
        "url = 'https://www150.statcan.gc.ca/t1/wds/sdmx/statcan/rest/vector/v122807833?startPeriod=2001-01&endPeriod=2022-01&detail=full'\n",
        "\n",
        "response = requests.get(url)\n",
        "response"
      ]
    },
    {
      "cell_type": "code",
      "execution_count": 12,
      "id": "d48311ea-b1ff-4c13-8f44-8743f80aadc3",
      "metadata": {
        "id": "d48311ea-b1ff-4c13-8f44-8743f80aadc3",
        "outputId": "4cc7fb2f-7cc5-4232-a634-39c4155cee4e",
        "colab": {
          "base_uri": "https://localhost:8080/"
        }
      },
      "outputs": [
        {
          "output_type": "stream",
          "name": "stdout",
          "text": [
            "{http://www.sdmx.org/resources/sdmxml/schemas/v2_1/message}Header None\n",
            "{http://www.sdmx.org/resources/sdmxml/schemas/v2_1/message}DataSet None\n"
          ]
        }
      ],
      "source": [
        "# Parse XML\n",
        "root = ET.fromstring(response.content)\n",
        "\n",
        "# Print all elements\n",
        "for child in root:\n",
        "    print(child.tag, child.text)"
      ]
    },
    {
      "cell_type": "code",
      "execution_count": 13,
      "id": "7d184194-741d-4495-bc01-4eefaa63d810",
      "metadata": {
        "id": "7d184194-741d-4495-bc01-4eefaa63d810",
        "outputId": "f7d81c79-ee9a-42b3-94d9-6b0c03fbbabc",
        "colab": {
          "base_uri": "https://localhost:8080/"
        }
      },
      "outputs": [
        {
          "output_type": "stream",
          "name": "stdout",
          "text": [
            "Header Element: {http://www.sdmx.org/resources/sdmxml/schemas/v2_1/message}ID, Value: DS8394833387236\n",
            "Header Element: {http://www.sdmx.org/resources/sdmxml/schemas/v2_1/message}Test, Value: false\n",
            "Header Element: {http://www.sdmx.org/resources/sdmxml/schemas/v2_1/message}Prepared, Value: 2025-01-21T18:56:32\n",
            "Header Element: {http://www.sdmx.org/resources/sdmxml/schemas/v2_1/message}Sender, Value: None\n",
            "Header Element: {http://www.sdmx.org/resources/sdmxml/schemas/v2_1/message}Structure, Value: None\n",
            "DataSet Element: {http://www.sdmx.org/resources/sdmxml/schemas/v2_1/data/generic}Series, Value: None\n"
          ]
        }
      ],
      "source": [
        "# Parse the XML response\n",
        "root = ET.fromstring(response.content)\n",
        "\n",
        "# Define the namespace\n",
        "namespace = {'ns': 'http://www.sdmx.org/resources/sdmxml/schemas/v2_1/message'}\n",
        "\n",
        "# Print the contents of the Header\n",
        "header = root.find('ns:Header', namespace)\n",
        "if header is not None:\n",
        "    for elem in header:\n",
        "        print(f\"Header Element: {elem.tag}, Value: {elem.text}\")\n",
        "\n",
        "# Print the contents of the DataSet\n",
        "dataset = root.find('ns:DataSet', namespace)\n",
        "if dataset is not None:\n",
        "    for elem in dataset:\n",
        "        print(f\"DataSet Element: {elem.tag}, Value: {elem.text}\")\n"
      ]
    },
    {
      "cell_type": "code",
      "execution_count": 14,
      "id": "99ad0eac-4480-481e-a5fa-21e9f9f9a862",
      "metadata": {
        "id": "99ad0eac-4480-481e-a5fa-21e9f9f9a862"
      },
      "outputs": [],
      "source": [
        "def print_elements(element, level=0):\n",
        "    indent = \"  \" * level\n",
        "    print(f\"{indent}Tag: {element.tag}, Text: {element.text}\")\n",
        "    for child in element:\n",
        "        print_elements(child, level + 1)\n",
        "\n",
        "# Explore the root element\n",
        "#print_elements(root)\n"
      ]
    },
    {
      "cell_type": "code",
      "execution_count": 15,
      "id": "e96776b4-c3d3-455c-abd1-711c5999c159",
      "metadata": {
        "id": "e96776b4-c3d3-455c-abd1-711c5999c159"
      },
      "outputs": [],
      "source": [
        "with open(\"response_output.xml\", \"wb\") as file:\n",
        "    file.write(response.content)"
      ]
    },
    {
      "cell_type": "code",
      "execution_count": 17,
      "id": "fd4a1ebb-39d0-4d77-8a04-a161b629565d",
      "metadata": {
        "id": "fd4a1ebb-39d0-4d77-8a04-a161b629565d",
        "outputId": "438ee078-ec68-469c-94e8-ab08397b5802",
        "colab": {
          "base_uri": "https://localhost:8080/"
        }
      },
      "outputs": [
        {
          "output_type": "stream",
          "name": "stdout",
          "text": [
            "Series Key:\n",
            "  Geography: 2\n",
            "  Products_and_product_groups: 2\n",
            "\n",
            "Attributes:\n",
            "  VECTOR_ID: 41690973\n",
            "  SCALAR_FACTOR: 0\n",
            "  NB_DECIMAL: 1\n",
            "  DGUID: 2016A000011124\n",
            "  UOM: 17\n",
            "\n",
            "Observations:\n"
          ]
        }
      ],
      "source": [
        "# Define the namespace mappings\n",
        "namespaces = {\n",
        "    \"message\": \"http://www.sdmx.org/resources/sdmxml/schemas/v2_1/message\",\n",
        "    \"generic\": \"http://www.sdmx.org/resources/sdmxml/schemas/v2_1/data/generic\",\n",
        "    \"common\": \"http://www.sdmx.org/resources/sdmxml/schemas/v2_1/common\",\n",
        "}\n",
        "\n",
        "# Parse the XML content\n",
        "root = ET.fromstring(response.content)  # Replace 'xml_content' with your XML string or response.content\n",
        "\n",
        "# Extract SeriesKey\n",
        "series = root.find(\".//generic:Series\", namespaces)\n",
        "if series is not None:\n",
        "    series_key = series.find(\".//generic:SeriesKey\", namespaces)\n",
        "    print(\"Series Key:\")\n",
        "    for value in series_key.findall(\".//generic:Value\", namespaces):\n",
        "        print(f\"  {value.attrib['id']}: {value.attrib['value']}\")\n",
        "\n",
        "# Extract Attributes\n",
        "attributes = series.find(\".//generic:Attributes\", namespaces)\n",
        "print(\"\\nAttributes:\")\n",
        "for attr in attributes.findall(\".//generic:Value\", namespaces):\n",
        "    print(f\"  {attr.attrib['id']}: {attr.attrib['value']}\")\n",
        "\n",
        "# Extract Observations\n",
        "print(\"\\nObservations:\")\n",
        "observations = series.findall(\".//generic:Obs\", namespaces)\n",
        "for obs in observations:\n",
        "    obs_dim = obs.find(\".//generic:ObsDimension\", namespaces)\n",
        "    obs_val = obs.find(\".//generic:ObsValue\", namespaces)\n",
        "    #print(f\"  {obs_dim.attrib['value']}: {obs_val.attrib['value']}\")\n"
      ]
    },
    {
      "cell_type": "code",
      "execution_count": 19,
      "id": "8cf85ecf-3e71-4ec0-849c-68b5e7b518ba",
      "metadata": {
        "id": "8cf85ecf-3e71-4ec0-849c-68b5e7b518ba",
        "outputId": "2aee73b8-cdfe-474e-a257-923988bb4696",
        "colab": {
          "base_uri": "https://localhost:8080/",
          "height": 380
        }
      },
      "outputs": [
        {
          "output_type": "stream",
          "name": "stdout",
          "text": [
            "<class 'pandas.core.frame.DataFrame'>\n",
            "RangeIndex: 264 entries, 0 to 263\n",
            "Data columns (total 2 columns):\n",
            " #   Column  Non-Null Count  Dtype  \n",
            "---  ------  --------------  -----  \n",
            " 0   Date    264 non-null    object \n",
            " 1   Value   264 non-null    float64\n",
            "dtypes: float64(1), object(1)\n",
            "memory usage: 4.3+ KB\n",
            "None\n"
          ]
        },
        {
          "output_type": "execute_result",
          "data": {
            "text/plain": [
              "      Date  Value\n",
              "0  2001-01   96.3\n",
              "1  2001-02   96.8\n",
              "2  2001-03   97.1\n",
              "3  2001-04   97.8\n",
              "4  2001-05   98.6"
            ],
            "text/html": [
              "\n",
              "  <div id=\"df-7b536add-7a85-45ea-b9d5-c2bb50cd38f1\" class=\"colab-df-container\">\n",
              "    <div>\n",
              "<style scoped>\n",
              "    .dataframe tbody tr th:only-of-type {\n",
              "        vertical-align: middle;\n",
              "    }\n",
              "\n",
              "    .dataframe tbody tr th {\n",
              "        vertical-align: top;\n",
              "    }\n",
              "\n",
              "    .dataframe thead th {\n",
              "        text-align: right;\n",
              "    }\n",
              "</style>\n",
              "<table border=\"1\" class=\"dataframe\">\n",
              "  <thead>\n",
              "    <tr style=\"text-align: right;\">\n",
              "      <th></th>\n",
              "      <th>Date</th>\n",
              "      <th>Value</th>\n",
              "    </tr>\n",
              "  </thead>\n",
              "  <tbody>\n",
              "    <tr>\n",
              "      <th>0</th>\n",
              "      <td>2001-01</td>\n",
              "      <td>96.3</td>\n",
              "    </tr>\n",
              "    <tr>\n",
              "      <th>1</th>\n",
              "      <td>2001-02</td>\n",
              "      <td>96.8</td>\n",
              "    </tr>\n",
              "    <tr>\n",
              "      <th>2</th>\n",
              "      <td>2001-03</td>\n",
              "      <td>97.1</td>\n",
              "    </tr>\n",
              "    <tr>\n",
              "      <th>3</th>\n",
              "      <td>2001-04</td>\n",
              "      <td>97.8</td>\n",
              "    </tr>\n",
              "    <tr>\n",
              "      <th>4</th>\n",
              "      <td>2001-05</td>\n",
              "      <td>98.6</td>\n",
              "    </tr>\n",
              "  </tbody>\n",
              "</table>\n",
              "</div>\n",
              "    <div class=\"colab-df-buttons\">\n",
              "\n",
              "  <div class=\"colab-df-container\">\n",
              "    <button class=\"colab-df-convert\" onclick=\"convertToInteractive('df-7b536add-7a85-45ea-b9d5-c2bb50cd38f1')\"\n",
              "            title=\"Convert this dataframe to an interactive table.\"\n",
              "            style=\"display:none;\">\n",
              "\n",
              "  <svg xmlns=\"http://www.w3.org/2000/svg\" height=\"24px\" viewBox=\"0 -960 960 960\">\n",
              "    <path d=\"M120-120v-720h720v720H120Zm60-500h600v-160H180v160Zm220 220h160v-160H400v160Zm0 220h160v-160H400v160ZM180-400h160v-160H180v160Zm440 0h160v-160H620v160ZM180-180h160v-160H180v160Zm440 0h160v-160H620v160Z\"/>\n",
              "  </svg>\n",
              "    </button>\n",
              "\n",
              "  <style>\n",
              "    .colab-df-container {\n",
              "      display:flex;\n",
              "      gap: 12px;\n",
              "    }\n",
              "\n",
              "    .colab-df-convert {\n",
              "      background-color: #E8F0FE;\n",
              "      border: none;\n",
              "      border-radius: 50%;\n",
              "      cursor: pointer;\n",
              "      display: none;\n",
              "      fill: #1967D2;\n",
              "      height: 32px;\n",
              "      padding: 0 0 0 0;\n",
              "      width: 32px;\n",
              "    }\n",
              "\n",
              "    .colab-df-convert:hover {\n",
              "      background-color: #E2EBFA;\n",
              "      box-shadow: 0px 1px 2px rgba(60, 64, 67, 0.3), 0px 1px 3px 1px rgba(60, 64, 67, 0.15);\n",
              "      fill: #174EA6;\n",
              "    }\n",
              "\n",
              "    .colab-df-buttons div {\n",
              "      margin-bottom: 4px;\n",
              "    }\n",
              "\n",
              "    [theme=dark] .colab-df-convert {\n",
              "      background-color: #3B4455;\n",
              "      fill: #D2E3FC;\n",
              "    }\n",
              "\n",
              "    [theme=dark] .colab-df-convert:hover {\n",
              "      background-color: #434B5C;\n",
              "      box-shadow: 0px 1px 3px 1px rgba(0, 0, 0, 0.15);\n",
              "      filter: drop-shadow(0px 1px 2px rgba(0, 0, 0, 0.3));\n",
              "      fill: #FFFFFF;\n",
              "    }\n",
              "  </style>\n",
              "\n",
              "    <script>\n",
              "      const buttonEl =\n",
              "        document.querySelector('#df-7b536add-7a85-45ea-b9d5-c2bb50cd38f1 button.colab-df-convert');\n",
              "      buttonEl.style.display =\n",
              "        google.colab.kernel.accessAllowed ? 'block' : 'none';\n",
              "\n",
              "      async function convertToInteractive(key) {\n",
              "        const element = document.querySelector('#df-7b536add-7a85-45ea-b9d5-c2bb50cd38f1');\n",
              "        const dataTable =\n",
              "          await google.colab.kernel.invokeFunction('convertToInteractive',\n",
              "                                                    [key], {});\n",
              "        if (!dataTable) return;\n",
              "\n",
              "        const docLinkHtml = 'Like what you see? Visit the ' +\n",
              "          '<a target=\"_blank\" href=https://colab.research.google.com/notebooks/data_table.ipynb>data table notebook</a>'\n",
              "          + ' to learn more about interactive tables.';\n",
              "        element.innerHTML = '';\n",
              "        dataTable['output_type'] = 'display_data';\n",
              "        await google.colab.output.renderOutput(dataTable, element);\n",
              "        const docLink = document.createElement('div');\n",
              "        docLink.innerHTML = docLinkHtml;\n",
              "        element.appendChild(docLink);\n",
              "      }\n",
              "    </script>\n",
              "  </div>\n",
              "\n",
              "\n",
              "<div id=\"df-c8d414e8-f0fe-45f2-8a65-20bd64eb044f\">\n",
              "  <button class=\"colab-df-quickchart\" onclick=\"quickchart('df-c8d414e8-f0fe-45f2-8a65-20bd64eb044f')\"\n",
              "            title=\"Suggest charts\"\n",
              "            style=\"display:none;\">\n",
              "\n",
              "<svg xmlns=\"http://www.w3.org/2000/svg\" height=\"24px\"viewBox=\"0 0 24 24\"\n",
              "     width=\"24px\">\n",
              "    <g>\n",
              "        <path d=\"M19 3H5c-1.1 0-2 .9-2 2v14c0 1.1.9 2 2 2h14c1.1 0 2-.9 2-2V5c0-1.1-.9-2-2-2zM9 17H7v-7h2v7zm4 0h-2V7h2v10zm4 0h-2v-4h2v4z\"/>\n",
              "    </g>\n",
              "</svg>\n",
              "  </button>\n",
              "\n",
              "<style>\n",
              "  .colab-df-quickchart {\n",
              "      --bg-color: #E8F0FE;\n",
              "      --fill-color: #1967D2;\n",
              "      --hover-bg-color: #E2EBFA;\n",
              "      --hover-fill-color: #174EA6;\n",
              "      --disabled-fill-color: #AAA;\n",
              "      --disabled-bg-color: #DDD;\n",
              "  }\n",
              "\n",
              "  [theme=dark] .colab-df-quickchart {\n",
              "      --bg-color: #3B4455;\n",
              "      --fill-color: #D2E3FC;\n",
              "      --hover-bg-color: #434B5C;\n",
              "      --hover-fill-color: #FFFFFF;\n",
              "      --disabled-bg-color: #3B4455;\n",
              "      --disabled-fill-color: #666;\n",
              "  }\n",
              "\n",
              "  .colab-df-quickchart {\n",
              "    background-color: var(--bg-color);\n",
              "    border: none;\n",
              "    border-radius: 50%;\n",
              "    cursor: pointer;\n",
              "    display: none;\n",
              "    fill: var(--fill-color);\n",
              "    height: 32px;\n",
              "    padding: 0;\n",
              "    width: 32px;\n",
              "  }\n",
              "\n",
              "  .colab-df-quickchart:hover {\n",
              "    background-color: var(--hover-bg-color);\n",
              "    box-shadow: 0 1px 2px rgba(60, 64, 67, 0.3), 0 1px 3px 1px rgba(60, 64, 67, 0.15);\n",
              "    fill: var(--button-hover-fill-color);\n",
              "  }\n",
              "\n",
              "  .colab-df-quickchart-complete:disabled,\n",
              "  .colab-df-quickchart-complete:disabled:hover {\n",
              "    background-color: var(--disabled-bg-color);\n",
              "    fill: var(--disabled-fill-color);\n",
              "    box-shadow: none;\n",
              "  }\n",
              "\n",
              "  .colab-df-spinner {\n",
              "    border: 2px solid var(--fill-color);\n",
              "    border-color: transparent;\n",
              "    border-bottom-color: var(--fill-color);\n",
              "    animation:\n",
              "      spin 1s steps(1) infinite;\n",
              "  }\n",
              "\n",
              "  @keyframes spin {\n",
              "    0% {\n",
              "      border-color: transparent;\n",
              "      border-bottom-color: var(--fill-color);\n",
              "      border-left-color: var(--fill-color);\n",
              "    }\n",
              "    20% {\n",
              "      border-color: transparent;\n",
              "      border-left-color: var(--fill-color);\n",
              "      border-top-color: var(--fill-color);\n",
              "    }\n",
              "    30% {\n",
              "      border-color: transparent;\n",
              "      border-left-color: var(--fill-color);\n",
              "      border-top-color: var(--fill-color);\n",
              "      border-right-color: var(--fill-color);\n",
              "    }\n",
              "    40% {\n",
              "      border-color: transparent;\n",
              "      border-right-color: var(--fill-color);\n",
              "      border-top-color: var(--fill-color);\n",
              "    }\n",
              "    60% {\n",
              "      border-color: transparent;\n",
              "      border-right-color: var(--fill-color);\n",
              "    }\n",
              "    80% {\n",
              "      border-color: transparent;\n",
              "      border-right-color: var(--fill-color);\n",
              "      border-bottom-color: var(--fill-color);\n",
              "    }\n",
              "    90% {\n",
              "      border-color: transparent;\n",
              "      border-bottom-color: var(--fill-color);\n",
              "    }\n",
              "  }\n",
              "</style>\n",
              "\n",
              "  <script>\n",
              "    async function quickchart(key) {\n",
              "      const quickchartButtonEl =\n",
              "        document.querySelector('#' + key + ' button');\n",
              "      quickchartButtonEl.disabled = true;  // To prevent multiple clicks.\n",
              "      quickchartButtonEl.classList.add('colab-df-spinner');\n",
              "      try {\n",
              "        const charts = await google.colab.kernel.invokeFunction(\n",
              "            'suggestCharts', [key], {});\n",
              "      } catch (error) {\n",
              "        console.error('Error during call to suggestCharts:', error);\n",
              "      }\n",
              "      quickchartButtonEl.classList.remove('colab-df-spinner');\n",
              "      quickchartButtonEl.classList.add('colab-df-quickchart-complete');\n",
              "    }\n",
              "    (() => {\n",
              "      let quickchartButtonEl =\n",
              "        document.querySelector('#df-c8d414e8-f0fe-45f2-8a65-20bd64eb044f button');\n",
              "      quickchartButtonEl.style.display =\n",
              "        google.colab.kernel.accessAllowed ? 'block' : 'none';\n",
              "    })();\n",
              "  </script>\n",
              "</div>\n",
              "\n",
              "    </div>\n",
              "  </div>\n"
            ],
            "application/vnd.google.colaboratory.intrinsic+json": {
              "type": "dataframe",
              "variable_name": "df",
              "summary": "{\n  \"name\": \"df\",\n  \"rows\": 264,\n  \"fields\": [\n    {\n      \"column\": \"Date\",\n      \"properties\": {\n        \"dtype\": \"object\",\n        \"num_unique_values\": 264,\n        \"samples\": [\n          \"2006-09\",\n          \"2017-03\",\n          \"2007-11\"\n        ],\n        \"semantic_type\": \"\",\n        \"description\": \"\"\n      }\n    },\n    {\n      \"column\": \"Value\",\n      \"properties\": {\n        \"dtype\": \"number\",\n        \"std\": 14.020872462715692,\n        \"min\": 96.3,\n        \"max\": 154.0,\n        \"num_unique_values\": 205,\n        \"samples\": [\n          99.9,\n          97.4,\n          120.6\n        ],\n        \"semantic_type\": \"\",\n        \"description\": \"\"\n      }\n    }\n  ]\n}"
            }
          },
          "metadata": {},
          "execution_count": 19
        }
      ],
      "source": [
        "# Collect observation data\n",
        "data = []\n",
        "for obs in observations:\n",
        "    obs_dim = obs.find(\".//generic:ObsDimension\", namespaces)\n",
        "    obs_val = obs.find(\".//generic:ObsValue\", namespaces)\n",
        "    data.append({\"Date\": obs_dim.attrib[\"value\"], \"Value\": float(obs_val.attrib[\"value\"])})\n",
        "\n",
        "# Create DataFrame\n",
        "df = pd.DataFrame(data)\n",
        "print(df.info())\n",
        "df.head()"
      ]
    },
    {
      "cell_type": "code",
      "execution_count": null,
      "id": "2f9c1763-4662-42a7-8791-090323673e9d",
      "metadata": {
        "id": "2f9c1763-4662-42a7-8791-090323673e9d"
      },
      "outputs": [],
      "source": [
        "cpi_df = df.loc[1044:1319,]\n",
        "\n",
        "cpi_df.head\n"
      ]
    },
    {
      "cell_type": "code",
      "execution_count": null,
      "id": "e0410cd7-e35c-48cc-9505-acc1d1715d89",
      "metadata": {
        "id": "e0410cd7-e35c-48cc-9505-acc1d1715d89"
      },
      "outputs": [],
      "source": [
        "cpi_df.to_csv('cpi.csv', index = False)"
      ]
    },
    {
      "cell_type": "markdown",
      "id": "7d4ea441-9322-402e-9610-86056644cd09",
      "metadata": {
        "id": "7d4ea441-9322-402e-9610-86056644cd09"
      },
      "source": [
        "### Cleaning and wrangling"
      ]
    },
    {
      "cell_type": "code",
      "execution_count": null,
      "id": "8d632b04-3dd4-422e-a8ec-b65335a8757d",
      "metadata": {
        "id": "8d632b04-3dd4-422e-a8ec-b65335a8757d"
      },
      "outputs": [],
      "source": [
        "wage = pd.read_csv('data/wage.csv')\n",
        "wage.rename(columns = {'Value': 'wage'}, inplace = True)\n",
        "tax = pd.read_csv('data/tax.csv')\n",
        "tax.rename(columns = {'Value': 'tax'}, inplace = True)\n",
        "rawmat = pd.read_csv('data/rawmat.csv')\n",
        "rawmat.rename(columns = {'Value': 'rawmat'}, inplace = True)\n",
        "prod = pd.read_csv('data/prod.csv')\n",
        "prod.rename(columns = {'Value': 'prod'}, inplace = True)\n",
        "cpi = pd.read_csv('data/cpi.csv')\n",
        "cpi.rename(columns = {'Value': 'cpi'}, inplace = True)"
      ]
    },
    {
      "cell_type": "code",
      "execution_count": null,
      "id": "27727c6c-142c-47b3-acce-8691e5e557d5",
      "metadata": {
        "id": "27727c6c-142c-47b3-acce-8691e5e557d5"
      },
      "outputs": [],
      "source": [
        "df = (pd.merge(wage, rawmat,\n",
        "               on = 'Date',\n",
        "               how = 'outer'))\n",
        "df = (pd.merge(df, cpi,\n",
        "               on = 'Date',\n",
        "               how = 'outer'))\n",
        "df"
      ]
    },
    {
      "cell_type": "code",
      "execution_count": null,
      "id": "a0aeb320-39bd-4c8a-a7a9-a868d2b88384",
      "metadata": {
        "id": "a0aeb320-39bd-4c8a-a7a9-a868d2b88384"
      },
      "outputs": [],
      "source": [
        "prod['Date'] = pd.to_datetime(prod['Date'].str[:4] + '-' +\n",
        "                              prod['Date'].str[-2:].replace({'Q1': '01', 'Q2': '04', 'Q3': '07', 'Q4': '10'}))\n"
      ]
    },
    {
      "cell_type": "code",
      "execution_count": null,
      "id": "950f72d7-f123-4be8-a823-69664ca8d0cf",
      "metadata": {
        "id": "950f72d7-f123-4be8-a823-69664ca8d0cf"
      },
      "outputs": [],
      "source": [
        "prod['Date'] = prod['Date'].dt.strftime('%Y-%m')"
      ]
    },
    {
      "cell_type": "code",
      "execution_count": null,
      "id": "d147c38f-d2cf-4119-8169-f166cf6ec6bc",
      "metadata": {
        "id": "d147c38f-d2cf-4119-8169-f166cf6ec6bc"
      },
      "outputs": [],
      "source": [
        "df = (pd.merge(df, prod,\n",
        "               on='Date',\n",
        "               how ='outer'))\n"
      ]
    },
    {
      "cell_type": "code",
      "execution_count": null,
      "id": "6e60f854-2395-49b3-af8c-d165f04e5a60",
      "metadata": {
        "id": "6e60f854-2395-49b3-af8c-d165f04e5a60"
      },
      "outputs": [],
      "source": [
        "df['prod'] = df['prod'].ffill()"
      ]
    },
    {
      "cell_type": "code",
      "execution_count": null,
      "id": "16147eea-590f-41c3-ae69-d8be2f3608a8",
      "metadata": {
        "id": "16147eea-590f-41c3-ae69-d8be2f3608a8"
      },
      "outputs": [],
      "source": [
        "tax['Date'] = pd.to_datetime(tax['Date'])"
      ]
    },
    {
      "cell_type": "code",
      "execution_count": null,
      "id": "54b90ffa-0f4d-4995-a21b-42de09bd917b",
      "metadata": {
        "id": "54b90ffa-0f4d-4995-a21b-42de09bd917b"
      },
      "outputs": [],
      "source": [
        "tax"
      ]
    },
    {
      "cell_type": "code",
      "execution_count": null,
      "id": "8851ad35-00e4-44c2-a6a7-febccc07f227",
      "metadata": {
        "id": "8851ad35-00e4-44c2-a6a7-febccc07f227"
      },
      "outputs": [],
      "source": []
    },
    {
      "cell_type": "code",
      "execution_count": null,
      "id": "8f350647-f6db-442a-966a-0e645c964c3e",
      "metadata": {
        "id": "8f350647-f6db-442a-966a-0e645c964c3e"
      },
      "outputs": [],
      "source": [
        "df"
      ]
    },
    {
      "cell_type": "markdown",
      "id": "8bc2f0bc-ddeb-4e12-bc8d-08183300bbe2",
      "metadata": {
        "id": "8bc2f0bc-ddeb-4e12-bc8d-08183300bbe2"
      },
      "source": [
        "## Train-test-split"
      ]
    },
    {
      "cell_type": "markdown",
      "id": "0cb5bd12-f129-4192-bbf3-9eab11857657",
      "metadata": {
        "id": "0cb5bd12-f129-4192-bbf3-9eab11857657"
      },
      "source": [
        "## EDA"
      ]
    },
    {
      "cell_type": "markdown",
      "id": "1606fd17-8687-4084-9a44-74d6e59fd97b",
      "metadata": {
        "id": "1606fd17-8687-4084-9a44-74d6e59fd97b"
      },
      "source": [
        "* Create for loop to visualize series, line plot (interactive?)\n",
        "* Correlation grid\n",
        "*"
      ]
    },
    {
      "cell_type": "markdown",
      "id": "3ea9f898-523d-443e-b5ee-d23624bf78b1",
      "metadata": {
        "id": "3ea9f898-523d-443e-b5ee-d23624bf78b1"
      },
      "source": [
        "## Preprocessor\n",
        "define steps so they are applied equally to both training and testing sets."
      ]
    }
  ],
  "metadata": {
    "colab": {
      "provenance": [],
      "include_colab_link": true
    },
    "kernelspec": {
      "display_name": "Python 3",
      "name": "python3"
    },
    "language_info": {
      "codemirror_mode": {
        "name": "ipython",
        "version": 3
      },
      "file_extension": ".py",
      "mimetype": "text/x-python",
      "name": "python",
      "nbconvert_exporter": "python",
      "pygments_lexer": "ipython3",
      "version": "3.12.3"
    }
  },
  "nbformat": 4,
  "nbformat_minor": 5
}