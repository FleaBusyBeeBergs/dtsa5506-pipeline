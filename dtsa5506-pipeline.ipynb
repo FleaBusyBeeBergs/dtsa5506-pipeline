{
 "cells": [
  {
   "cell_type": "markdown",
   "id": "04bd7903",
   "metadata": {
    "colab_type": "text",
    "id": "view-in-github"
   },
   "source": [
    "<a href=\"https://colab.research.google.com/github/FleaBusyBeeBergs/dtsa5506-pipeline/blob/main/dtsa5506-pipeline.ipynb\" target=\"_parent\"><img src=\"https://colab.research.google.com/assets/colab-badge.svg\" alt=\"Open In Colab\"/></a>"
   ]
  },
  {
   "cell_type": "code",
   "execution_count": null,
   "id": "2b95808b-7fef-4218-8168-57235a9afb97",
   "metadata": {
    "id": "2b95808b-7fef-4218-8168-57235a9afb97"
   },
   "outputs": [],
   "source": [
    "# verify setup\n"
   ]
  },
  {
   "cell_type": "markdown",
   "id": "U0I59EmpM_Ix",
   "metadata": {
    "id": "U0I59EmpM_Ix"
   },
   "source": [
    "verify setup"
   ]
  },
  {
   "cell_type": "code",
   "execution_count": null,
   "id": "2564ba19-7826-4cff-921a-46c288f4301c",
   "metadata": {},
   "outputs": [],
   "source": []
  }
 ],
 "metadata": {
  "colab": {
   "include_colab_link": true,
   "provenance": []
  },
  "kernelspec": {
   "display_name": "Python 3 (ipykernel)",
   "language": "python",
   "name": "python3"
  },
  "language_info": {
   "codemirror_mode": {
    "name": "ipython",
    "version": 3
   },
   "file_extension": ".py",
   "mimetype": "text/x-python",
   "name": "python",
   "nbconvert_exporter": "python",
   "pygments_lexer": "ipython3",
   "version": "3.12.3"
  }
 },
 "nbformat": 4,
 "nbformat_minor": 5
}
