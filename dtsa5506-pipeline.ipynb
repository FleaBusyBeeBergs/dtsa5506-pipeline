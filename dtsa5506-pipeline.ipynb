{
 "cells": [
  {
   "cell_type": "markdown",
   "id": "04bd7903",
   "metadata": {
    "colab_type": "text",
    "id": "view-in-github"
   },
   "source": [
    "<a href=\"https://colab.research.google.com/github/FleaBusyBeeBergs/dtsa5506-pipeline/blob/main/dtsa5506-pipeline.ipynb\" target=\"_parent\"><img src=\"https://colab.research.google.com/assets/colab-badge.svg\" alt=\"Open In Colab\"/></a>"
   ]
  },
  {
   "cell_type": "code",
   "execution_count": 1,
   "id": "bf77cd13-70d6-4138-a8ea-93374834cefa",
   "metadata": {},
   "outputs": [],
   "source": [
    "# uncomment to install \n",
    "\n",
    "# !pip install pandas requests pandasdmx\n",
    "# !pip install requests-cache "
   ]
  },
  {
   "cell_type": "code",
   "execution_count": 8,
   "id": "2b95808b-7fef-4218-8168-57235a9afb97",
   "metadata": {
    "id": "2b95808b-7fef-4218-8168-57235a9afb97"
   },
   "outputs": [],
   "source": [
    "import zipfile\n",
    "import pandas as pd\n",
    "import os\n",
    "import requests\n",
    "# import pandasdmx # sdmx api library\n",
    "# from pandasdmx import Request\n",
    "# from requests_cache import install_cache\n",
    "import matplotlib.pyplot as plt\n",
    "import xml.etree.ElementTree as ET"
   ]
  },
  {
   "cell_type": "markdown",
   "id": "3a2d04f6-bc4f-48bf-9224-86a11b0ea535",
   "metadata": {},
   "source": [
    "## The Data"
   ]
  },
  {
   "cell_type": "markdown",
   "id": "0c787743-5bd0-44c9-af95-c1f08855d8a7",
   "metadata": {},
   "source": [
    "The data used comes from the statistics canada data cube (herein referred to as the 'Cube') and is found in the following tables:\n",
    "\n",
    "* wages, table 14-10-0223-01\n",
    "* raw materials index, table 18-10-0268-01\n",
    "* taxes, table 11-10-0058-01\n",
    "* productivity, table 36-10-0206-01\n",
    "* consumer price index, table 18-10-004-01"
   ]
  },
  {
   "cell_type": "markdown",
   "id": "17eedffd-7a34-48f8-93d5-f194dd1f6387",
   "metadata": {},
   "source": [
    "## ETL"
   ]
  },
  {
   "cell_type": "markdown",
   "id": "c042eb07-8150-4409-b81d-3342633b787b",
   "metadata": {},
   "source": [
    "There is a very large amount of data in the Cube. Pulling an entire table then paring it down to a few variables is inefficient - create an ETL pipeline."
   ]
  },
  {
   "cell_type": "code",
   "execution_count": 83,
   "id": "16d5a9f7-e44d-4d3f-aa16-94205866644e",
   "metadata": {},
   "outputs": [
    {
     "name": "stdout",
     "output_type": "stream",
     "text": [
      "           name   tableid       vector description  frequency    start  \\\n",
      "0          wage  14100223    v79311153                monthly  YYYY-MM   \n",
      "1           raw  18100268  v1230998135                monthly  YYYY-MM   \n",
      "2           tax  11100058   v122807833                 annual     YYYY   \n",
      "3  productivity  36100206     v1409153              quarterly  YYYY-Qx   \n",
      "4           cpi  18100004    v41690973                monthly  YYYY-MM   \n",
      "\n",
      "       end url  \n",
      "0  YYYY-MM      \n",
      "1  YYYY-MM      \n",
      "2     YYYY      \n",
      "3  YYYY-Qx      \n",
      "4  YYYY-MM      \n"
     ]
    }
   ],
   "source": [
    "# create df of tables\n",
    "tables = {\n",
    "    'name': ['wage', 'raw', 'tax', 'productivity', 'cpi'],\n",
    "    'tableid': [14100223, 18100268, 11100058, 36100206, 18100004],\n",
    "    'vector': ['v79311153', 'v1230998135', 'v122807833', 'v1409153', 'v41690973'],\n",
    "    'description': ['', '', '', '', ''],\n",
    "    'frequency': ['monthly', 'monthly', 'annual', 'quarterly', 'monthly'],\n",
    "    'start': ['YYYY-MM', 'YYYY-MM', 'YYYY', 'YYYY-Qx', 'YYYY-MM'],\n",
    "    'end': ['YYYY-MM', 'YYYY-MM', 'YYYY', 'YYYY-Qx', 'YYYY-MM'],\n",
    "    'url': ['', '', '', '', '']\n",
    "         }\n",
    "table_df = pd.DataFrame(tables)\n",
    "print(table_df)\n",
    "\n",
    "# base_url = 'https://www150.statcan.gc.ca/t1/wds/sdmx/statcan/rest/vector/'"
   ]
  },
  {
   "cell_type": "code",
   "execution_count": 100,
   "id": "e475c767-2798-48c4-897c-08a24f9e2275",
   "metadata": {},
   "outputs": [
    {
     "data": {
      "text/plain": [
       "<Response [200]>"
      ]
     },
     "execution_count": 100,
     "metadata": {},
     "output_type": "execute_result"
    }
   ],
   "source": [
    "url = 'https://www150.statcan.gc.ca/t1/wds/sdmx/statcan/rest/vector/v41690973?&detail=full'\n",
    "\n",
    "response = requests.get(url)\n",
    "response"
   ]
  },
  {
   "cell_type": "code",
   "execution_count": 101,
   "id": "d48311ea-b1ff-4c13-8f44-8743f80aadc3",
   "metadata": {},
   "outputs": [
    {
     "name": "stdout",
     "output_type": "stream",
     "text": [
      "{http://www.sdmx.org/resources/sdmxml/schemas/v2_1/message}Header None\n",
      "{http://www.sdmx.org/resources/sdmxml/schemas/v2_1/message}DataSet None\n"
     ]
    }
   ],
   "source": [
    "# Parse XML\n",
    "root = ET.fromstring(response.content)\n",
    "\n",
    "# Print all elements\n",
    "for child in root:\n",
    "    print(child.tag, child.text)"
   ]
  },
  {
   "cell_type": "code",
   "execution_count": 102,
   "id": "7d184194-741d-4495-bc01-4eefaa63d810",
   "metadata": {},
   "outputs": [
    {
     "name": "stdout",
     "output_type": "stream",
     "text": [
      "Header Element: {http://www.sdmx.org/resources/sdmxml/schemas/v2_1/message}ID, Value: DS8698764349075\n",
      "Header Element: {http://www.sdmx.org/resources/sdmxml/schemas/v2_1/message}Test, Value: false\n",
      "Header Element: {http://www.sdmx.org/resources/sdmxml/schemas/v2_1/message}Prepared, Value: 2025-01-14T22:35:58\n",
      "Header Element: {http://www.sdmx.org/resources/sdmxml/schemas/v2_1/message}Sender, Value: None\n",
      "Header Element: {http://www.sdmx.org/resources/sdmxml/schemas/v2_1/message}Structure, Value: None\n",
      "DataSet Element: {http://www.sdmx.org/resources/sdmxml/schemas/v2_1/data/generic}Series, Value: None\n"
     ]
    }
   ],
   "source": [
    "# Parse the XML response\n",
    "root = ET.fromstring(response.content)\n",
    "\n",
    "# Define the namespace\n",
    "namespace = {'ns': 'http://www.sdmx.org/resources/sdmxml/schemas/v2_1/message'}\n",
    "\n",
    "# Print the contents of the Header\n",
    "header = root.find('ns:Header', namespace)\n",
    "if header is not None:\n",
    "    for elem in header:\n",
    "        print(f\"Header Element: {elem.tag}, Value: {elem.text}\")\n",
    "\n",
    "# Print the contents of the DataSet\n",
    "dataset = root.find('ns:DataSet', namespace)\n",
    "if dataset is not None:\n",
    "    for elem in dataset:\n",
    "        print(f\"DataSet Element: {elem.tag}, Value: {elem.text}\")\n"
   ]
  },
  {
   "cell_type": "code",
   "execution_count": 103,
   "id": "99ad0eac-4480-481e-a5fa-21e9f9f9a862",
   "metadata": {},
   "outputs": [],
   "source": [
    "def print_elements(element, level=0):\n",
    "    indent = \"  \" * level\n",
    "    print(f\"{indent}Tag: {element.tag}, Text: {element.text}\")\n",
    "    for child in element:\n",
    "        print_elements(child, level + 1)\n",
    "\n",
    "# Explore the root element\n",
    "#print_elements(root)\n"
   ]
  },
  {
   "cell_type": "code",
   "execution_count": 104,
   "id": "e96776b4-c3d3-455c-abd1-711c5999c159",
   "metadata": {},
   "outputs": [],
   "source": [
    "with open(\"response_output.xml\", \"wb\") as file:\n",
    "    file.write(response.content)"
   ]
  },
  {
   "cell_type": "code",
   "execution_count": 105,
   "id": "fd4a1ebb-39d0-4d77-8a04-a161b629565d",
   "metadata": {},
   "outputs": [
    {
     "name": "stdout",
     "output_type": "stream",
     "text": [
      "Series Key:\n",
      "  Geography: 2\n",
      "  Products_and_product_groups: 2\n",
      "\n",
      "Attributes:\n",
      "  VECTOR_ID: 41690973\n",
      "  SCALAR_FACTOR: 0\n",
      "  NB_DECIMAL: 1\n",
      "  DGUID: 2016A000011124\n",
      "  UOM: 17\n",
      "\n",
      "Observations:\n"
     ]
    }
   ],
   "source": [
    "# Define the namespace mappings\n",
    "namespaces = {\n",
    "    \"message\": \"http://www.sdmx.org/resources/sdmxml/schemas/v2_1/message\",\n",
    "    \"generic\": \"http://www.sdmx.org/resources/sdmxml/schemas/v2_1/data/generic\",\n",
    "    \"common\": \"http://www.sdmx.org/resources/sdmxml/schemas/v2_1/common\",\n",
    "}\n",
    "\n",
    "# Parse the XML content\n",
    "root = ET.fromstring(response.content)  # Replace 'xml_content' with your XML string or response.content\n",
    "\n",
    "# Extract SeriesKey\n",
    "series = root.find(\".//generic:Series\", namespaces)\n",
    "if series is not None:\n",
    "    series_key = series.find(\".//generic:SeriesKey\", namespaces)\n",
    "    print(\"Series Key:\")\n",
    "    for value in series_key.findall(\".//generic:Value\", namespaces):\n",
    "        print(f\"  {value.attrib['id']}: {value.attrib['value']}\")\n",
    "\n",
    "# Extract Attributes\n",
    "attributes = series.find(\".//generic:Attributes\", namespaces)\n",
    "print(\"\\nAttributes:\")\n",
    "for attr in attributes.findall(\".//generic:Value\", namespaces):\n",
    "    print(f\"  {attr.attrib['id']}: {attr.attrib['value']}\")\n",
    "\n",
    "# Extract Observations\n",
    "print(\"\\nObservations:\")\n",
    "observations = series.findall(\".//generic:Obs\", namespaces)\n",
    "for obs in observations:\n",
    "    obs_dim = obs.find(\".//generic:ObsDimension\", namespaces)\n",
    "    obs_val = obs.find(\".//generic:ObsValue\", namespaces)\n",
    "    #print(f\"  {obs_dim.attrib['value']}: {obs_val.attrib['value']}\")\n"
   ]
  },
  {
   "cell_type": "code",
   "execution_count": null,
   "id": "7cdd13f5-896a-4c1f-b017-a50157b838f7",
   "metadata": {},
   "outputs": [],
   "source": []
  },
  {
   "cell_type": "code",
   "execution_count": 106,
   "id": "8cf85ecf-3e71-4ec0-849c-68b5e7b518ba",
   "metadata": {},
   "outputs": [
    {
     "name": "stdout",
     "output_type": "stream",
     "text": [
      "<class 'pandas.core.frame.DataFrame'>\n",
      "RangeIndex: 1331 entries, 0 to 1330\n",
      "Data columns (total 2 columns):\n",
      " #   Column  Non-Null Count  Dtype  \n",
      "---  ------  --------------  -----  \n",
      " 0   Date    1331 non-null   object \n",
      " 1   Value   1331 non-null   float64\n",
      "dtypes: float64(1), object(1)\n",
      "memory usage: 20.9+ KB\n",
      "None\n"
     ]
    },
    {
     "data": {
      "text/html": [
       "<div>\n",
       "<style scoped>\n",
       "    .dataframe tbody tr th:only-of-type {\n",
       "        vertical-align: middle;\n",
       "    }\n",
       "\n",
       "    .dataframe tbody tr th {\n",
       "        vertical-align: top;\n",
       "    }\n",
       "\n",
       "    .dataframe thead th {\n",
       "        text-align: right;\n",
       "    }\n",
       "</style>\n",
       "<table border=\"1\" class=\"dataframe\">\n",
       "  <thead>\n",
       "    <tr style=\"text-align: right;\">\n",
       "      <th></th>\n",
       "      <th>Date</th>\n",
       "      <th>Value</th>\n",
       "    </tr>\n",
       "  </thead>\n",
       "  <tbody>\n",
       "    <tr>\n",
       "      <th>1236</th>\n",
       "      <td>2017-01</td>\n",
       "      <td>129.5</td>\n",
       "    </tr>\n",
       "    <tr>\n",
       "      <th>1237</th>\n",
       "      <td>2017-02</td>\n",
       "      <td>129.7</td>\n",
       "    </tr>\n",
       "    <tr>\n",
       "      <th>1238</th>\n",
       "      <td>2017-03</td>\n",
       "      <td>129.9</td>\n",
       "    </tr>\n",
       "    <tr>\n",
       "      <th>1239</th>\n",
       "      <td>2017-04</td>\n",
       "      <td>130.4</td>\n",
       "    </tr>\n",
       "    <tr>\n",
       "      <th>1240</th>\n",
       "      <td>2017-05</td>\n",
       "      <td>130.5</td>\n",
       "    </tr>\n",
       "    <tr>\n",
       "      <th>...</th>\n",
       "      <td>...</td>\n",
       "      <td>...</td>\n",
       "    </tr>\n",
       "    <tr>\n",
       "      <th>1326</th>\n",
       "      <td>2024-07</td>\n",
       "      <td>162.1</td>\n",
       "    </tr>\n",
       "    <tr>\n",
       "      <th>1327</th>\n",
       "      <td>2024-08</td>\n",
       "      <td>161.8</td>\n",
       "    </tr>\n",
       "    <tr>\n",
       "      <th>1328</th>\n",
       "      <td>2024-09</td>\n",
       "      <td>161.1</td>\n",
       "    </tr>\n",
       "    <tr>\n",
       "      <th>1329</th>\n",
       "      <td>2024-10</td>\n",
       "      <td>161.8</td>\n",
       "    </tr>\n",
       "    <tr>\n",
       "      <th>1330</th>\n",
       "      <td>2024-11</td>\n",
       "      <td>161.8</td>\n",
       "    </tr>\n",
       "  </tbody>\n",
       "</table>\n",
       "<p>95 rows × 2 columns</p>\n",
       "</div>"
      ],
      "text/plain": [
       "         Date  Value\n",
       "1236  2017-01  129.5\n",
       "1237  2017-02  129.7\n",
       "1238  2017-03  129.9\n",
       "1239  2017-04  130.4\n",
       "1240  2017-05  130.5\n",
       "...       ...    ...\n",
       "1326  2024-07  162.1\n",
       "1327  2024-08  161.8\n",
       "1328  2024-09  161.1\n",
       "1329  2024-10  161.8\n",
       "1330  2024-11  161.8\n",
       "\n",
       "[95 rows x 2 columns]"
      ]
     },
     "execution_count": 106,
     "metadata": {},
     "output_type": "execute_result"
    }
   ],
   "source": [
    "# Collect observation data\n",
    "data = []\n",
    "for obs in observations:\n",
    "    obs_dim = obs.find(\".//generic:ObsDimension\", namespaces)\n",
    "    obs_val = obs.find(\".//generic:ObsValue\", namespaces)\n",
    "    data.append({\"Date\": obs_dim.attrib[\"value\"], \"Value\": float(obs_val.attrib[\"value\"])})\n",
    "\n",
    "# Create DataFrame\n",
    "df = pd.DataFrame(data)\n",
    "print(df.info())\n",
    "df.tail(95)"
   ]
  },
  {
   "cell_type": "code",
   "execution_count": 124,
   "id": "2f9c1763-4662-42a7-8791-090323673e9d",
   "metadata": {},
   "outputs": [
    {
     "data": {
      "text/plain": [
       "<bound method NDFrame.head of          Date  Value\n",
       "1044  2001-01   96.3\n",
       "1045  2001-02   96.8\n",
       "1046  2001-03   97.1\n",
       "1047  2001-04   97.8\n",
       "1048  2001-05   98.6\n",
       "...       ...    ...\n",
       "1315  2023-08  158.7\n",
       "1316  2023-09  158.5\n",
       "1317  2023-10  158.6\n",
       "1318  2023-11  158.8\n",
       "1319  2023-12  158.3\n",
       "\n",
       "[276 rows x 2 columns]>"
      ]
     },
     "execution_count": 124,
     "metadata": {},
     "output_type": "execute_result"
    }
   ],
   "source": [
    "cpi_df = df.loc[1044:1319,]\n",
    "\n",
    "cpi_df.head\n"
   ]
  },
  {
   "cell_type": "code",
   "execution_count": 125,
   "id": "e0410cd7-e35c-48cc-9505-acc1d1715d89",
   "metadata": {},
   "outputs": [],
   "source": [
    "cpi_df.to_csv('cpi.csv', index = False)"
   ]
  },
  {
   "cell_type": "markdown",
   "id": "0cb5bd12-f129-4192-bbf3-9eab11857657",
   "metadata": {},
   "source": [
    "## EDA"
   ]
  }
 ],
 "metadata": {
  "colab": {
   "include_colab_link": true,
   "provenance": []
  },
  "kernelspec": {
   "display_name": "Python 3 (ipykernel)",
   "language": "python",
   "name": "python3"
  },
  "language_info": {
   "codemirror_mode": {
    "name": "ipython",
    "version": 3
   },
   "file_extension": ".py",
   "mimetype": "text/x-python",
   "name": "python",
   "nbconvert_exporter": "python",
   "pygments_lexer": "ipython3",
   "version": "3.12.3"
  }
 },
 "nbformat": 4,
 "nbformat_minor": 5
}
