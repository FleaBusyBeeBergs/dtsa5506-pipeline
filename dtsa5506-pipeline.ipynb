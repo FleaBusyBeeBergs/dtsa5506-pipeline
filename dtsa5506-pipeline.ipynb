{
 "cells": [
  {
   "cell_type": "markdown",
   "id": "04bd7903",
   "metadata": {
    "colab_type": "text",
    "id": "view-in-github"
   },
   "source": [
    "<a href=\"https://colab.research.google.com/github/FleaBusyBeeBergs/dtsa5506-pipeline/blob/main/dtsa5506-pipeline.ipynb\" target=\"_parent\"><img src=\"https://colab.research.google.com/assets/colab-badge.svg\" alt=\"Open In Colab\"/></a>"
   ]
  },
  {
   "cell_type": "code",
   "execution_count": null,
   "id": "bf77cd13-70d6-4138-a8ea-93374834cefa",
   "metadata": {},
   "outputs": [],
   "source": [
    "# uncomment to install \n",
    "\n",
    "# !pip install pandas requests pandasdmx\n",
    "# !pip install requests-cache "
   ]
  },
  {
   "cell_type": "code",
   "execution_count": 1,
   "id": "2b95808b-7fef-4218-8168-57235a9afb97",
   "metadata": {
    "id": "2b95808b-7fef-4218-8168-57235a9afb97"
   },
   "outputs": [],
   "source": [
    "import zipfile\n",
    "import pandas as pd\n",
    "import os\n",
    "import requests\n",
    "# import pandasdmx # sdmx api library\n",
    "# from pandasdmx import Request\n",
    "# from requests_cache import install_cache\n",
    "import matplotlib.pyplot as plt\n",
    "import xml.etree.ElementTree as ET"
   ]
  },
  {
   "cell_type": "code",
   "execution_count": null,
   "id": "7b420d7b-998e-41ec-94d3-a293a03df5e5",
   "metadata": {},
   "outputs": [],
   "source": []
  },
  {
   "cell_type": "markdown",
   "id": "3a2d04f6-bc4f-48bf-9224-86a11b0ea535",
   "metadata": {},
   "source": [
    "## The Data"
   ]
  },
  {
   "cell_type": "markdown",
   "id": "0c787743-5bd0-44c9-af95-c1f08855d8a7",
   "metadata": {},
   "source": [
    "The data used comes from the statistics canada data cube (herein referred to as the 'Cube') and is found in the following tables:\n",
    "\n",
    "* wages, table 14-10-0223-01\n",
    "* raw materials index, table 18-10-0268-01\n",
    "* taxes, table 11-10-0058-01\n",
    "* productivity, table 36-10-0206-01\n",
    "* consumer price index, table 18-10-004-01"
   ]
  },
  {
   "cell_type": "markdown",
   "id": "17eedffd-7a34-48f8-93d5-f194dd1f6387",
   "metadata": {},
   "source": [
    "## ETL"
   ]
  },
  {
   "cell_type": "markdown",
   "id": "c042eb07-8150-4409-b81d-3342633b787b",
   "metadata": {},
   "source": [
    "There is a very large amount of data in the Cube. Pulling an entire table then paring it down to a few variables is inefficient - create an ETL pipeline."
   ]
  },
  {
   "cell_type": "code",
   "execution_count": null,
   "id": "16d5a9f7-e44d-4d3f-aa16-94205866644e",
   "metadata": {},
   "outputs": [],
   "source": [
    "# create df of tables\n",
    "tables = {\n",
    "    'name': ['wage', 'raw', 'tax', 'productivity', 'cpi'],\n",
    "    'tableid': [14100223, 18100268, 11100058, 36100206, 18100004],\n",
    "    'vector': ['v79311153', 'v1230998135', 'v122807833', 'v1409153', 'v41690973'],\n",
    "    'description': ['', '', '', '', ''],\n",
    "    'frequency': ['monthly', 'monthly', 'annual', 'quarterly', 'monthly'],\n",
    "    'start': ['YYYY-MM', 'YYYY-MM', 'YYYY', 'YYYY-Qx', 'YYYY-MM'],\n",
    "    'end': ['YYYY-MM', 'YYYY-MM', 'YYYY', 'YYYY-Qx', 'YYYY-MM'],\n",
    "    'url': ['', '', '', '', '']\n",
    "         }\n",
    "table_df = pd.DataFrame(tables)\n",
    "print(table_df)\n",
    "\n",
    "# base_url = 'https://www150.statcan.gc.ca/t1/wds/sdmx/statcan/rest/vector/'"
   ]
  },
  {
   "cell_type": "code",
   "execution_count": null,
   "id": "e475c767-2798-48c4-897c-08a24f9e2275",
   "metadata": {},
   "outputs": [],
   "source": [
    "url = 'https://www150.statcan.gc.ca/t1/wds/sdmx/statcan/rest/vector/v41690973?&detail=full'\n",
    "\n",
    "response = requests.get(url)\n",
    "response"
   ]
  },
  {
   "cell_type": "code",
   "execution_count": null,
   "id": "d48311ea-b1ff-4c13-8f44-8743f80aadc3",
   "metadata": {},
   "outputs": [],
   "source": [
    "# Parse XML\n",
    "root = ET.fromstring(response.content)\n",
    "\n",
    "# Print all elements\n",
    "for child in root:\n",
    "    print(child.tag, child.text)"
   ]
  },
  {
   "cell_type": "code",
   "execution_count": null,
   "id": "7d184194-741d-4495-bc01-4eefaa63d810",
   "metadata": {},
   "outputs": [],
   "source": [
    "# Parse the XML response\n",
    "root = ET.fromstring(response.content)\n",
    "\n",
    "# Define the namespace\n",
    "namespace = {'ns': 'http://www.sdmx.org/resources/sdmxml/schemas/v2_1/message'}\n",
    "\n",
    "# Print the contents of the Header\n",
    "header = root.find('ns:Header', namespace)\n",
    "if header is not None:\n",
    "    for elem in header:\n",
    "        print(f\"Header Element: {elem.tag}, Value: {elem.text}\")\n",
    "\n",
    "# Print the contents of the DataSet\n",
    "dataset = root.find('ns:DataSet', namespace)\n",
    "if dataset is not None:\n",
    "    for elem in dataset:\n",
    "        print(f\"DataSet Element: {elem.tag}, Value: {elem.text}\")\n"
   ]
  },
  {
   "cell_type": "code",
   "execution_count": null,
   "id": "99ad0eac-4480-481e-a5fa-21e9f9f9a862",
   "metadata": {},
   "outputs": [],
   "source": [
    "def print_elements(element, level=0):\n",
    "    indent = \"  \" * level\n",
    "    print(f\"{indent}Tag: {element.tag}, Text: {element.text}\")\n",
    "    for child in element:\n",
    "        print_elements(child, level + 1)\n",
    "\n",
    "# Explore the root element\n",
    "#print_elements(root)\n"
   ]
  },
  {
   "cell_type": "code",
   "execution_count": null,
   "id": "e96776b4-c3d3-455c-abd1-711c5999c159",
   "metadata": {},
   "outputs": [],
   "source": [
    "with open(\"response_output.xml\", \"wb\") as file:\n",
    "    file.write(response.content)"
   ]
  },
  {
   "cell_type": "code",
   "execution_count": null,
   "id": "fd4a1ebb-39d0-4d77-8a04-a161b629565d",
   "metadata": {},
   "outputs": [],
   "source": [
    "# Define the namespace mappings\n",
    "namespaces = {\n",
    "    \"message\": \"http://www.sdmx.org/resources/sdmxml/schemas/v2_1/message\",\n",
    "    \"generic\": \"http://www.sdmx.org/resources/sdmxml/schemas/v2_1/data/generic\",\n",
    "    \"common\": \"http://www.sdmx.org/resources/sdmxml/schemas/v2_1/common\",\n",
    "}\n",
    "\n",
    "# Parse the XML content\n",
    "root = ET.fromstring(response.content)  # Replace 'xml_content' with your XML string or response.content\n",
    "\n",
    "# Extract SeriesKey\n",
    "series = root.find(\".//generic:Series\", namespaces)\n",
    "if series is not None:\n",
    "    series_key = series.find(\".//generic:SeriesKey\", namespaces)\n",
    "    print(\"Series Key:\")\n",
    "    for value in series_key.findall(\".//generic:Value\", namespaces):\n",
    "        print(f\"  {value.attrib['id']}: {value.attrib['value']}\")\n",
    "\n",
    "# Extract Attributes\n",
    "attributes = series.find(\".//generic:Attributes\", namespaces)\n",
    "print(\"\\nAttributes:\")\n",
    "for attr in attributes.findall(\".//generic:Value\", namespaces):\n",
    "    print(f\"  {attr.attrib['id']}: {attr.attrib['value']}\")\n",
    "\n",
    "# Extract Observations\n",
    "print(\"\\nObservations:\")\n",
    "observations = series.findall(\".//generic:Obs\", namespaces)\n",
    "for obs in observations:\n",
    "    obs_dim = obs.find(\".//generic:ObsDimension\", namespaces)\n",
    "    obs_val = obs.find(\".//generic:ObsValue\", namespaces)\n",
    "    #print(f\"  {obs_dim.attrib['value']}: {obs_val.attrib['value']}\")\n"
   ]
  },
  {
   "cell_type": "code",
   "execution_count": null,
   "id": "7cdd13f5-896a-4c1f-b017-a50157b838f7",
   "metadata": {},
   "outputs": [],
   "source": []
  },
  {
   "cell_type": "code",
   "execution_count": null,
   "id": "8cf85ecf-3e71-4ec0-849c-68b5e7b518ba",
   "metadata": {},
   "outputs": [],
   "source": [
    "# Collect observation data\n",
    "data = []\n",
    "for obs in observations:\n",
    "    obs_dim = obs.find(\".//generic:ObsDimension\", namespaces)\n",
    "    obs_val = obs.find(\".//generic:ObsValue\", namespaces)\n",
    "    data.append({\"Date\": obs_dim.attrib[\"value\"], \"Value\": float(obs_val.attrib[\"value\"])})\n",
    "\n",
    "# Create DataFrame\n",
    "df = pd.DataFrame(data)\n",
    "print(df.info())\n",
    "df.tail(95)"
   ]
  },
  {
   "cell_type": "code",
   "execution_count": null,
   "id": "2f9c1763-4662-42a7-8791-090323673e9d",
   "metadata": {},
   "outputs": [],
   "source": [
    "cpi_df = df.loc[1044:1319,]\n",
    "\n",
    "cpi_df.head\n"
   ]
  },
  {
   "cell_type": "code",
   "execution_count": null,
   "id": "e0410cd7-e35c-48cc-9505-acc1d1715d89",
   "metadata": {},
   "outputs": [],
   "source": [
    "cpi_df.to_csv('cpi.csv', index = False)"
   ]
  },
  {
   "cell_type": "markdown",
   "id": "7d4ea441-9322-402e-9610-86056644cd09",
   "metadata": {},
   "source": [
    "### Cleaning and wrangling"
   ]
  },
  {
   "cell_type": "code",
   "execution_count": null,
   "id": "8d632b04-3dd4-422e-a8ec-b65335a8757d",
   "metadata": {},
   "outputs": [],
   "source": [
    "wage = pd.read_csv('data/wage.csv')\n",
    "wage.rename(columns = {'Value': 'wage'}, inplace = True)\n",
    "tax = pd.read_csv('data/tax.csv')\n",
    "tax.rename(columns = {'Value': 'tax'}, inplace = True)\n",
    "rawmat = pd.read_csv('data/rawmat.csv')\n",
    "rawmat.rename(columns = {'Value': 'rawmat'}, inplace = True)\n",
    "prod = pd.read_csv('data/prod.csv')\n",
    "prod.rename(columns = {'Value': 'prod'}, inplace = True)\n",
    "cpi = pd.read_csv('data/cpi.csv')\n",
    "cpi.rename(columns = {'Value': 'cpi'}, inplace = True)"
   ]
  },
  {
   "cell_type": "code",
   "execution_count": null,
   "id": "27727c6c-142c-47b3-acce-8691e5e557d5",
   "metadata": {},
   "outputs": [],
   "source": [
    "df = (pd.merge(wage, rawmat,\n",
    "               on = 'Date', \n",
    "               how = 'outer'))\n",
    "df = (pd.merge(df, cpi,\n",
    "               on = 'Date', \n",
    "               how = 'outer')) \n",
    "df"
   ]
  },
  {
   "cell_type": "code",
   "execution_count": null,
   "id": "a0aeb320-39bd-4c8a-a7a9-a868d2b88384",
   "metadata": {},
   "outputs": [],
   "source": [
    "prod['Date'] = pd.to_datetime(prod['Date'].str[:4] + '-' +\n",
    "                              prod['Date'].str[-2:].replace({'Q1': '01', 'Q2': '04', 'Q3': '07', 'Q4': '10'}))\n"
   ]
  },
  {
   "cell_type": "code",
   "execution_count": null,
   "id": "950f72d7-f123-4be8-a823-69664ca8d0cf",
   "metadata": {},
   "outputs": [],
   "source": [
    "prod['Date'] = prod['Date'].dt.strftime('%Y-%m')"
   ]
  },
  {
   "cell_type": "code",
   "execution_count": null,
   "id": "d147c38f-d2cf-4119-8169-f166cf6ec6bc",
   "metadata": {},
   "outputs": [],
   "source": [
    "df = (pd.merge(df, prod, \n",
    "               on='Date', \n",
    "               how ='outer'))\n"
   ]
  },
  {
   "cell_type": "code",
   "execution_count": null,
   "id": "6e60f854-2395-49b3-af8c-d165f04e5a60",
   "metadata": {},
   "outputs": [],
   "source": [
    "df['prod'] = df['prod'].ffill()"
   ]
  },
  {
   "cell_type": "code",
   "execution_count": null,
   "id": "16147eea-590f-41c3-ae69-d8be2f3608a8",
   "metadata": {},
   "outputs": [],
   "source": [
    "tax['Date'] = pd.to_datetime(tax['Date'])"
   ]
  },
  {
   "cell_type": "code",
   "execution_count": null,
   "id": "54b90ffa-0f4d-4995-a21b-42de09bd917b",
   "metadata": {},
   "outputs": [],
   "source": [
    "tax"
   ]
  },
  {
   "cell_type": "code",
   "execution_count": null,
   "id": "8851ad35-00e4-44c2-a6a7-febccc07f227",
   "metadata": {},
   "outputs": [],
   "source": []
  },
  {
   "cell_type": "code",
   "execution_count": null,
   "id": "8f350647-f6db-442a-966a-0e645c964c3e",
   "metadata": {},
   "outputs": [],
   "source": [
    "df"
   ]
  },
  {
   "cell_type": "markdown",
   "id": "8bc2f0bc-ddeb-4e12-bc8d-08183300bbe2",
   "metadata": {},
   "source": [
    "## Train-test-split"
   ]
  },
  {
   "cell_type": "markdown",
   "id": "0cb5bd12-f129-4192-bbf3-9eab11857657",
   "metadata": {},
   "source": [
    "## EDA"
   ]
  },
  {
   "cell_type": "markdown",
   "id": "1606fd17-8687-4084-9a44-74d6e59fd97b",
   "metadata": {},
   "source": [
    "* Create for loop to visualize series, line plot (interactive?)\n",
    "* Correlation grid\n",
    "* "
   ]
  },
  {
   "cell_type": "markdown",
   "id": "3ea9f898-523d-443e-b5ee-d23624bf78b1",
   "metadata": {},
   "source": [
    "## Preprocessor\n",
    "define steps so they are applied equally to both training and testing sets."
   ]
  }
 ],
 "metadata": {
  "colab": {
   "include_colab_link": true,
   "provenance": []
  },
  "kernelspec": {
   "display_name": "Python 3 (ipykernel)",
   "language": "python",
   "name": "python3"
  },
  "language_info": {
   "codemirror_mode": {
    "name": "ipython",
    "version": 3
   },
   "file_extension": ".py",
   "mimetype": "text/x-python",
   "name": "python",
   "nbconvert_exporter": "python",
   "pygments_lexer": "ipython3",
   "version": "3.12.3"
  }
 },
 "nbformat": 4,
 "nbformat_minor": 5
}
