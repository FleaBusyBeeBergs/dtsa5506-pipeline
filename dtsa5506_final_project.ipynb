{
  "nbformat": 4,
  "nbformat_minor": 0,
  "metadata": {
    "colab": {
      "provenance": [],
      "authorship_tag": "ABX9TyP7nITkKx/dPuNYsoSoLKKZ",
      "include_colab_link": true
    },
    "kernelspec": {
      "name": "python3",
      "display_name": "Python 3"
    },
    "language_info": {
      "name": "python"
    }
  },
  "cells": [
    {
      "cell_type": "markdown",
      "metadata": {
        "id": "view-in-github",
        "colab_type": "text"
      },
      "source": [
        "<a href=\"https://colab.research.google.com/github/FleaBusyBeeBergs/dtsa5506-pipeline/blob/main/dtsa5506_final_project.ipynb\" target=\"_parent\"><img src=\"https://colab.research.google.com/assets/colab-badge.svg\" alt=\"Open In Colab\"/></a>"
      ]
    },
    {
      "cell_type": "code",
      "execution_count": 1,
      "metadata": {
        "id": "ZitFgRnRxmzO"
      },
      "outputs": [],
      "source": [
        "!pip install scikit-learn-intelex -q\n",
        "!pip install statsmodels==0.14.0 -q\n",
        "!pip install tslearn -q\n",
        "!pip install scikeras -q"
      ]
    },
    {
      "cell_type": "code",
      "source": [
        "# file handling & general\n",
        "import itertools\n",
        "import numpy as np\n",
        "import pandas as pd\n",
        "import os\n",
        "from google.colab import files\n",
        "import xml.etree.ElementTree as ET\n",
        "import warnings\n",
        "warnings.filterwarnings('ignore',\n",
        "                        message = '''.*'force_all_finite' was renamed to 'ensure_all_finite'.*''')\n",
        "\n",
        "# http requests\n",
        "import requests\n",
        "\n",
        "# vis\n",
        "import matplotlib.pyplot as plt\n",
        "import matplotlib.dates as mdates\n",
        "import altair as alt\n",
        "import seaborn as sns\n",
        "\n",
        "# eda\n",
        "from statsmodels.stats.stattools import durbin_watson\n",
        "from statsmodels.tsa.stattools import adfuller\n",
        "from statsmodels.tsa.filters.hp_filter import hpfilter\n",
        "from statsmodels.graphics.tsaplots import plot_acf, plot_pacf\n",
        "import statsmodels.api as sm\n",
        "import scipy.stats as stats\n",
        "\n",
        "# pca\n",
        "from sklearn.decomposition import PCA\n",
        "from sklearnex import patch_sklearn\n",
        "patch_sklearn()\n",
        "from sklearn.cluster import DBSCAN\n",
        "\n",
        "# preprocessing & ml\n",
        "from sklearn.preprocessing import MinMaxScaler, StandardScaler\n",
        "from sklearn.impute import SimpleImputer\n",
        "from sklearn.pipeline import Pipeline\n",
        "from sklearn.compose import ColumnTransformer\n",
        "from sklearn.model_selection import train_test_split, GridSearchCV\n",
        "from statsmodels.tsa.api import VAR\n",
        "from statsmodels.tsa.arima.model import ARIMA\n",
        "from sklearn.metrics import mean_squared_error, mean_absolute_error, mean_absolute_percentage_error, silhouette_score\n",
        "\n",
        "from xgboost import XGBRegressor\n",
        "\n",
        "#\n",
        "from sklearn.linear_model import LinearRegression\n",
        "from sklearn.metrics import mean_squared_error, r2_score\n",
        "\n",
        "from tensorflow.keras.models import Sequential\n",
        "from tensorflow.keras.layers import SimpleRNN, Input, LSTM, Dense, Dropout\n",
        "from tensorflow.keras.callbacks import EarlyStopping\n",
        "from scikeras.wrappers import KerasRegressor\n",
        "\n",
        "# clustering\n",
        "from tslearn.clustering import TimeSeriesKMeans\n",
        "from tslearn import metrics"
      ],
      "metadata": {
        "colab": {
          "base_uri": "https://localhost:8080/"
        },
        "id": "cXr96m9LyEdR",
        "outputId": "5414ea33-e7be-481b-9da2-32d5c19ac80f"
      },
      "execution_count": 2,
      "outputs": [
        {
          "output_type": "stream",
          "name": "stderr",
          "text": [
            "Intel(R) Extension for Scikit-learn* enabled (https://github.com/intel/scikit-learn-intelex)\n"
          ]
        }
      ]
    },
    {
      "cell_type": "markdown",
      "source": [
        "## Introduction"
      ],
      "metadata": {
        "id": "HzDxWzSzajfT"
      }
    },
    {
      "cell_type": "markdown",
      "source": [
        "The main idea of this project is to predict interest rate changes before they are announced. Interest rates affect nearly everyone and changes to the prevailing rates affect many decisions not just in the long term, but in the short term as well.\n",
        "\n",
        "The bank of canada exercises counter-inflationary monetary policy by increasing interest to slow inflation, and decreasing interest to allow inflation to increase (and avoid recession). To predict changes to the policy interest rate, it would be helpful to first model and predict inflation. The consumer price index is a common measure of inflation, and cpi time series is available from statistics canada.\n",
        "\n",
        " Thinking back to when I studied economics as an undergrad, I remember the 2 drivers of inflation being cost-push and demand-pull. In this project I will focus on the cost-push side of things. Intuitively, I think of the inputs to producing goods and services as being materials and wages. For a simple model, the 2 indicators I will use from statistics canada to model cpi are the raw materials price index and average weekly wages.\n",
        "\n",
        " Once I have a forcast of cpi, I will use that to make predictions on whether the bank of canada will decrease, hold steady, or increase interest rates."
      ],
      "metadata": {
        "id": "__GhPR4DalnX"
      }
    },
    {
      "cell_type": "markdown",
      "source": [
        "## Extract, Transform, Load (ETL) pipeline"
      ],
      "metadata": {
        "id": "tZ-Ul-FAyYtj"
      }
    },
    {
      "cell_type": "markdown",
      "source": [
        "Statistics Canada has a data cube available to the public, and provides instructions to make http requests [1]. I used these these instructions to request very specific information for specific dates, rather than having to download entire tables. I was able to write code for a single vector request, then spent a lot of time trying to write my own functions before turning to a code generator [2] for the following StatCanETL class."
      ],
      "metadata": {
        "id": "S2xq_uiYyiep"
      }
    },
    {
      "cell_type": "code",
      "source": [
        "# base URL for data extraction\n",
        "base_url = 'https://www150.statcan.gc.ca/t1/wds/sdmx/statcan/rest/vector/'\n",
        "\n",
        "# namespace mappings for XML parsing\n",
        "namespaces = {\n",
        "    \"message\": 'http://www.sdmx.org/resources/sdmxml/schemas/v2_1/message',\n",
        "    \"generic\": 'http://www.sdmx.org/resources/sdmxml/schemas/v2_1/data/generic',\n",
        "    \"common\": 'http://www.sdmx.org/resources/sdmxml/schemas/v2_1/common',\n",
        "}\n"
      ],
      "metadata": {
        "id": "mjrGaYAEz3hm"
      },
      "execution_count": 3,
      "outputs": []
    },
    {
      "cell_type": "code",
      "source": [
        "class StatCanETL:\n",
        "    '''ETL pipeline for StatCan data'''\n",
        "\n",
        "    def __init__(self, table_df):\n",
        "        '''initialize with df of metadata table'''\n",
        "        self.table_df = table_df\n",
        "        self.data_objects = {}\n",
        "\n",
        "    def extract(self, vector, start_period, end_period):\n",
        "        '''extract data from the StatCan API for a given vector, start, and end dates'''\n",
        "        url = f'{base_url}{vector}?startPeriod={start_period}&endPeriod={end_period}&detail=full'\n",
        "        response = requests.get(url)\n",
        "\n",
        "        if response.status_code == 200:\n",
        "            return response.content\n",
        "        else:\n",
        "            raise ValueError(f'Failed to fetch data for vector {vector}. HTTP Status: {response.status_code}')\n",
        "\n",
        "    def transform(self, xml_content, frequency):\n",
        "        '''transform the XML response into a structured DataFrame.'''\n",
        "        # parse XML content\n",
        "        root = ET.fromstring(xml_content)\n",
        "\n",
        "        # locate the series element\n",
        "        series = root.find('.//generic:Series', namespaces)\n",
        "        if series is None:\n",
        "            raise ValueError('No Series element found in the XML response')\n",
        "\n",
        "        # extract obs\n",
        "        observations = series.findall('.//generic:Obs', namespaces)\n",
        "        data = []\n",
        "        for obs in observations:\n",
        "            obs_dim = obs.find('.//generic:ObsDimension', namespaces)\n",
        "            obs_val = obs.find('.//generic:ObsValue', namespaces)\n",
        "            date = obs_dim.attrib['value']\n",
        "\n",
        "            # convert date format if quarterly or yearly\n",
        "            if frequency == 'quarterly':\n",
        "                date = self.convert_quarter_to_date(date)\n",
        "            elif frequency == 'yearly':\n",
        "                date = date[:4] + '-01'\n",
        "\n",
        "            data.append({\n",
        "                'Date': date,\n",
        "                'Value': float(obs_val.attrib['value']),\n",
        "            })\n",
        "\n",
        "        # convert to df\n",
        "        df = pd.DataFrame(data)\n",
        "        return df\n",
        "\n",
        "    @staticmethod\n",
        "    def convert_quarter_to_date(quarter_str):\n",
        "        '''convert quarterly date string (YYYY-Qx) to a standard date format (YYYY-MM)'''\n",
        "        try:\n",
        "            year, quarter = quarter_str.split('-Q')\n",
        "            quarter_start_month = {\n",
        "                '1': '01',\n",
        "                '2': '04',\n",
        "                '3': '07',\n",
        "                '4': '10',\n",
        "            }.get(quarter)\n",
        "            if quarter_start_month:\n",
        "                return f'{year}-{quarter_start_month}'\n",
        "            else:\n",
        "                raise ValueError(f'Invalid quarter format: {quarter_str}')\n",
        "        except Exception as e:\n",
        "            raise ValueError(f'Error converting quarter string {quarter_str}: {e}')\n",
        "\n",
        "    def load(self, df, name):\n",
        "        '''load df into object named name_df.'''\n",
        "        variable_name = f'{name}_df'\n",
        "        globals()[variable_name] = df\n",
        "        self.data_objects[variable_name] = df\n",
        "        print(f'Data for {name} saved to object {variable_name}')\n",
        "\n",
        "    def run(self):\n",
        "        '''Run the full ETL pipeline for all variables'''\n",
        "        for _, row in self.table_df.iterrows():\n",
        "            print(f'Processing {row[\"name\"]}...')\n",
        "            try:\n",
        "                # extract\n",
        "                xml_content = self.extract(row['vector'], row['start'], row['end'])\n",
        "\n",
        "                # transform\n",
        "                df = self.transform(xml_content, row['frequency'])\n",
        "\n",
        "                # load\n",
        "                self.load(df, row['name'])\n",
        "            except Exception as e:\n",
        "                print(f'Error processing {row[\"name\"]}: {e}')"
      ],
      "metadata": {
        "id": "DHFUzbfa0E-z"
      },
      "execution_count": 6,
      "outputs": []
    },
    {
      "cell_type": "code",
      "source": [
        "# metadata - define what information to pull from statcan\n",
        "tables = {\n",
        "    'name': ['wage', 'rmpi', 'cpi', 'rate'],\n",
        "    'tableid': [14100223, 18100268, 18100004, 10100139],\n",
        "    'tablename': ['employment and average weekly earnings',\n",
        "                  'raw materials price index, 2010 = 100',\n",
        "                  'consumer price index, not seasonally adjusted, 2002 = 100', 'bank rate'],\n",
        "    'vector': ['v79311153', 'v1230998135', 'v41690973', 'v39078'],\n",
        "    'vectdesc': ['', '', '', ''],\n",
        "    'description': ['', '', '', ''],\n",
        "    'frequency': ['monthly', 'monthly', 'monthly', 'daily'],\n",
        "    'start': ['2001-01', '2001-01', '2001-01', '2001-01-01'], # if using quarterly data like productivity, format as yyyy-Q#\n",
        "    'end': ['2024-12', '2024-12', '2024-12', '2024-12-31']\n",
        "}\n",
        "\n",
        "# make df\n",
        "table_df = pd.DataFrame(tables)"
      ],
      "metadata": {
        "id": "OBz6HCJD0vwu"
      },
      "execution_count": 7,
      "outputs": []
    },
    {
      "cell_type": "code",
      "source": [
        "# run ETL pipe\n",
        "pipeline = StatCanETL(table_df)\n",
        "pipeline.run()"
      ],
      "metadata": {
        "colab": {
          "base_uri": "https://localhost:8080/"
        },
        "id": "W_mIaiIF1A1Z",
        "outputId": "d3fa989e-865d-4093-8bb9-a6d5d9af7ec2"
      },
      "execution_count": 8,
      "outputs": [
        {
          "output_type": "stream",
          "name": "stdout",
          "text": [
            "Processing wage...\n",
            "Data for wage saved to object wage_df\n",
            "Processing rmpi...\n",
            "Data for rmpi saved to object rmpi_df\n",
            "Processing cpi...\n",
            "Data for cpi saved to object cpi_df\n",
            "Processing rate...\n",
            "Data for rate saved to object rate_df\n"
          ]
        }
      ]
    },
    {
      "cell_type": "markdown",
      "source": [
        "## EDA and cleaning"
      ],
      "metadata": {
        "id": "YIzyqqe21Rhf"
      }
    },
    {
      "cell_type": "code",
      "source": [
        "# check to see if data loaded correctly\n",
        "for key, value in pipeline.data_objects.items():\n",
        "    print(key)\n",
        "    print(value.head(3), '\\n')"
      ],
      "metadata": {
        "colab": {
          "base_uri": "https://localhost:8080/"
        },
        "id": "pKsc3CDa1YM_",
        "outputId": "c8a4208e-eb8a-405f-e2cb-ec934d36d27a"
      },
      "execution_count": 7,
      "outputs": [
        {
          "output_type": "stream",
          "name": "stdout",
          "text": [
            "wage_df\n",
            "      Date   Value\n",
            "0  2001-01  657.14\n",
            "1  2001-02  653.59\n",
            "2  2001-03  655.14 \n",
            "\n",
            "rmpi_df\n",
            "      Date  Value\n",
            "0  2001-01   65.2\n",
            "1  2001-02   65.8\n",
            "2  2001-03   65.5 \n",
            "\n",
            "cpi_df\n",
            "      Date  Value\n",
            "0  2001-01   96.3\n",
            "1  2001-02   96.8\n",
            "2  2001-03   97.1 \n",
            "\n",
            "rate_df\n",
            "         Date  Value\n",
            "0  2001-01-01    6.0\n",
            "1  2001-01-02    6.0\n",
            "2  2001-01-03    6.0 \n",
            "\n"
          ]
        }
      ]
    },
    {
      "cell_type": "code",
      "source": [
        "# rename columns\n",
        "wage_df.rename(columns = {'Value': 'wage',\n",
        "                          'Date': 'date'},\n",
        "               inplace = True)\n",
        "rmpi_df.rename(columns = {'Value': 'rmpi',\n",
        "                          'Date': 'date'},\n",
        "               inplace = True)\n",
        "cpi_df.rename(columns={'Value': 'cpi',\n",
        "                       'Date': 'date'},\n",
        "               inplace = True)\n",
        "rate_df.rename(columns={'Value': 'rate',\n",
        "                        'Date': 'date'},\n",
        "               inplace = True)"
      ],
      "metadata": {
        "id": "7P_wGHC71oUL"
      },
      "execution_count": 9,
      "outputs": []
    },
    {
      "cell_type": "code",
      "source": [
        "# merge tables with monthly data\n",
        "data = wage_df.merge(rmpi_df, on = 'date', how = 'outer') \\\n",
        "              .merge(cpi_df, on = 'date', how = 'outer')"
      ],
      "metadata": {
        "id": "h6Uge2Um1uqP"
      },
      "execution_count": 10,
      "outputs": []
    },
    {
      "cell_type": "code",
      "source": [
        "print(data)\n",
        "print(data.info())"
      ],
      "metadata": {
        "colab": {
          "base_uri": "https://localhost:8080/"
        },
        "id": "bgGJvvg_16zD",
        "outputId": "84c80e0b-cee1-479f-95fb-440455151a3f"
      },
      "execution_count": 11,
      "outputs": [
        {
          "output_type": "stream",
          "name": "stdout",
          "text": [
            "        date     wage   rmpi    cpi\n",
            "0    2001-01   657.14   65.2   96.3\n",
            "1    2001-02   653.59   65.8   96.8\n",
            "2    2001-03   655.14   65.5   97.1\n",
            "3    2001-04   652.44   65.2   97.8\n",
            "4    2001-05   652.28   65.3   98.6\n",
            "..       ...      ...    ...    ...\n",
            "283  2024-08  1274.25  139.3  161.8\n",
            "284  2024-09  1277.70  134.8  161.1\n",
            "285  2024-10  1284.24  140.3  161.8\n",
            "286  2024-11  1285.91  140.2  161.8\n",
            "287  2024-12      NaN  142.0  161.2\n",
            "\n",
            "[288 rows x 4 columns]\n",
            "<class 'pandas.core.frame.DataFrame'>\n",
            "RangeIndex: 288 entries, 0 to 287\n",
            "Data columns (total 4 columns):\n",
            " #   Column  Non-Null Count  Dtype  \n",
            "---  ------  --------------  -----  \n",
            " 0   date    288 non-null    object \n",
            " 1   wage    287 non-null    float64\n",
            " 2   rmpi    288 non-null    float64\n",
            " 3   cpi     288 non-null    float64\n",
            "dtypes: float64(3), object(1)\n",
            "memory usage: 9.1+ KB\n",
            "None\n"
          ]
        }
      ]
    },
    {
      "cell_type": "markdown",
      "source": [
        "At the time of writing, wage was missing one observation from 2024-12.\n",
        "I assume this is because it may take a while for the data to be processed each month. I'll use forward fill to deal with that missing value. If quarterly data was pulled from the data cube, there would be missing data for the months 02-03, 05-06, 08-09, and 11-12. Forward fill could also deal with those missing observations."
      ],
      "metadata": {
        "id": "K7YZAaQE2TMw"
      }
    },
    {
      "cell_type": "code",
      "source": [
        "# fill na\n",
        "data = data.ffill()"
      ],
      "metadata": {
        "id": "myxueTrR2CHP"
      },
      "execution_count": 12,
      "outputs": []
    },
    {
      "cell_type": "code",
      "source": [
        "# format date\n",
        "data['date'] = pd.to_datetime(data['date']).dt.strftime('%Y-%m')"
      ],
      "metadata": {
        "id": "WTI1uSHQ2p0X"
      },
      "execution_count": 13,
      "outputs": []
    },
    {
      "cell_type": "code",
      "source": [
        "data.info()"
      ],
      "metadata": {
        "colab": {
          "base_uri": "https://localhost:8080/"
        },
        "id": "HmkdWs6pIasN",
        "outputId": "90fad68b-9fbd-47b0-ea42-36406651d431"
      },
      "execution_count": 70,
      "outputs": [
        {
          "output_type": "stream",
          "name": "stdout",
          "text": [
            "<class 'pandas.core.frame.DataFrame'>\n",
            "RangeIndex: 288 entries, 0 to 287\n",
            "Data columns (total 4 columns):\n",
            " #   Column  Non-Null Count  Dtype  \n",
            "---  ------  --------------  -----  \n",
            " 0   date    288 non-null    object \n",
            " 1   wage    288 non-null    float64\n",
            " 2   rmpi    288 non-null    float64\n",
            " 3   cpi     288 non-null    float64\n",
            "dtypes: float64(3), object(1)\n",
            "memory usage: 9.1+ KB\n"
          ]
        }
      ]
    },
    {
      "cell_type": "code",
      "source": [
        "# descriptive stats\n",
        "data.describe()"
      ],
      "metadata": {
        "colab": {
          "base_uri": "https://localhost:8080/",
          "height": 300
        },
        "id": "GbAAuB7B2w8u",
        "outputId": "2d5e7ef4-0ea1-471c-ad3b-948fc7a6bdac"
      },
      "execution_count": 14,
      "outputs": [
        {
          "output_type": "execute_result",
          "data": {
            "text/plain": [
              "              wage        rmpi         cpi\n",
              "count   288.000000  288.000000  288.000000\n",
              "mean    911.631250   99.128125  123.738542\n",
              "std     170.097978   24.307042   17.143681\n",
              "min     652.280000   55.300000   96.300000\n",
              "25%     772.157500   84.075000  109.775000\n",
              "50%     903.520000   97.050000  122.200000\n",
              "75%    1009.597500  112.725000  134.225000\n",
              "max    1285.910000  166.600000  162.100000"
            ],
            "text/html": [
              "\n",
              "  <div id=\"df-80d4e2b9-023d-4b98-b91e-fa91da787e2c\" class=\"colab-df-container\">\n",
              "    <div>\n",
              "<style scoped>\n",
              "    .dataframe tbody tr th:only-of-type {\n",
              "        vertical-align: middle;\n",
              "    }\n",
              "\n",
              "    .dataframe tbody tr th {\n",
              "        vertical-align: top;\n",
              "    }\n",
              "\n",
              "    .dataframe thead th {\n",
              "        text-align: right;\n",
              "    }\n",
              "</style>\n",
              "<table border=\"1\" class=\"dataframe\">\n",
              "  <thead>\n",
              "    <tr style=\"text-align: right;\">\n",
              "      <th></th>\n",
              "      <th>wage</th>\n",
              "      <th>rmpi</th>\n",
              "      <th>cpi</th>\n",
              "    </tr>\n",
              "  </thead>\n",
              "  <tbody>\n",
              "    <tr>\n",
              "      <th>count</th>\n",
              "      <td>288.000000</td>\n",
              "      <td>288.000000</td>\n",
              "      <td>288.000000</td>\n",
              "    </tr>\n",
              "    <tr>\n",
              "      <th>mean</th>\n",
              "      <td>911.631250</td>\n",
              "      <td>99.128125</td>\n",
              "      <td>123.738542</td>\n",
              "    </tr>\n",
              "    <tr>\n",
              "      <th>std</th>\n",
              "      <td>170.097978</td>\n",
              "      <td>24.307042</td>\n",
              "      <td>17.143681</td>\n",
              "    </tr>\n",
              "    <tr>\n",
              "      <th>min</th>\n",
              "      <td>652.280000</td>\n",
              "      <td>55.300000</td>\n",
              "      <td>96.300000</td>\n",
              "    </tr>\n",
              "    <tr>\n",
              "      <th>25%</th>\n",
              "      <td>772.157500</td>\n",
              "      <td>84.075000</td>\n",
              "      <td>109.775000</td>\n",
              "    </tr>\n",
              "    <tr>\n",
              "      <th>50%</th>\n",
              "      <td>903.520000</td>\n",
              "      <td>97.050000</td>\n",
              "      <td>122.200000</td>\n",
              "    </tr>\n",
              "    <tr>\n",
              "      <th>75%</th>\n",
              "      <td>1009.597500</td>\n",
              "      <td>112.725000</td>\n",
              "      <td>134.225000</td>\n",
              "    </tr>\n",
              "    <tr>\n",
              "      <th>max</th>\n",
              "      <td>1285.910000</td>\n",
              "      <td>166.600000</td>\n",
              "      <td>162.100000</td>\n",
              "    </tr>\n",
              "  </tbody>\n",
              "</table>\n",
              "</div>\n",
              "    <div class=\"colab-df-buttons\">\n",
              "\n",
              "  <div class=\"colab-df-container\">\n",
              "    <button class=\"colab-df-convert\" onclick=\"convertToInteractive('df-80d4e2b9-023d-4b98-b91e-fa91da787e2c')\"\n",
              "            title=\"Convert this dataframe to an interactive table.\"\n",
              "            style=\"display:none;\">\n",
              "\n",
              "  <svg xmlns=\"http://www.w3.org/2000/svg\" height=\"24px\" viewBox=\"0 -960 960 960\">\n",
              "    <path d=\"M120-120v-720h720v720H120Zm60-500h600v-160H180v160Zm220 220h160v-160H400v160Zm0 220h160v-160H400v160ZM180-400h160v-160H180v160Zm440 0h160v-160H620v160ZM180-180h160v-160H180v160Zm440 0h160v-160H620v160Z\"/>\n",
              "  </svg>\n",
              "    </button>\n",
              "\n",
              "  <style>\n",
              "    .colab-df-container {\n",
              "      display:flex;\n",
              "      gap: 12px;\n",
              "    }\n",
              "\n",
              "    .colab-df-convert {\n",
              "      background-color: #E8F0FE;\n",
              "      border: none;\n",
              "      border-radius: 50%;\n",
              "      cursor: pointer;\n",
              "      display: none;\n",
              "      fill: #1967D2;\n",
              "      height: 32px;\n",
              "      padding: 0 0 0 0;\n",
              "      width: 32px;\n",
              "    }\n",
              "\n",
              "    .colab-df-convert:hover {\n",
              "      background-color: #E2EBFA;\n",
              "      box-shadow: 0px 1px 2px rgba(60, 64, 67, 0.3), 0px 1px 3px 1px rgba(60, 64, 67, 0.15);\n",
              "      fill: #174EA6;\n",
              "    }\n",
              "\n",
              "    .colab-df-buttons div {\n",
              "      margin-bottom: 4px;\n",
              "    }\n",
              "\n",
              "    [theme=dark] .colab-df-convert {\n",
              "      background-color: #3B4455;\n",
              "      fill: #D2E3FC;\n",
              "    }\n",
              "\n",
              "    [theme=dark] .colab-df-convert:hover {\n",
              "      background-color: #434B5C;\n",
              "      box-shadow: 0px 1px 3px 1px rgba(0, 0, 0, 0.15);\n",
              "      filter: drop-shadow(0px 1px 2px rgba(0, 0, 0, 0.3));\n",
              "      fill: #FFFFFF;\n",
              "    }\n",
              "  </style>\n",
              "\n",
              "    <script>\n",
              "      const buttonEl =\n",
              "        document.querySelector('#df-80d4e2b9-023d-4b98-b91e-fa91da787e2c button.colab-df-convert');\n",
              "      buttonEl.style.display =\n",
              "        google.colab.kernel.accessAllowed ? 'block' : 'none';\n",
              "\n",
              "      async function convertToInteractive(key) {\n",
              "        const element = document.querySelector('#df-80d4e2b9-023d-4b98-b91e-fa91da787e2c');\n",
              "        const dataTable =\n",
              "          await google.colab.kernel.invokeFunction('convertToInteractive',\n",
              "                                                    [key], {});\n",
              "        if (!dataTable) return;\n",
              "\n",
              "        const docLinkHtml = 'Like what you see? Visit the ' +\n",
              "          '<a target=\"_blank\" href=https://colab.research.google.com/notebooks/data_table.ipynb>data table notebook</a>'\n",
              "          + ' to learn more about interactive tables.';\n",
              "        element.innerHTML = '';\n",
              "        dataTable['output_type'] = 'display_data';\n",
              "        await google.colab.output.renderOutput(dataTable, element);\n",
              "        const docLink = document.createElement('div');\n",
              "        docLink.innerHTML = docLinkHtml;\n",
              "        element.appendChild(docLink);\n",
              "      }\n",
              "    </script>\n",
              "  </div>\n",
              "\n",
              "\n",
              "<div id=\"df-a250db79-6afa-493d-aef1-9299fd59c7dd\">\n",
              "  <button class=\"colab-df-quickchart\" onclick=\"quickchart('df-a250db79-6afa-493d-aef1-9299fd59c7dd')\"\n",
              "            title=\"Suggest charts\"\n",
              "            style=\"display:none;\">\n",
              "\n",
              "<svg xmlns=\"http://www.w3.org/2000/svg\" height=\"24px\"viewBox=\"0 0 24 24\"\n",
              "     width=\"24px\">\n",
              "    <g>\n",
              "        <path d=\"M19 3H5c-1.1 0-2 .9-2 2v14c0 1.1.9 2 2 2h14c1.1 0 2-.9 2-2V5c0-1.1-.9-2-2-2zM9 17H7v-7h2v7zm4 0h-2V7h2v10zm4 0h-2v-4h2v4z\"/>\n",
              "    </g>\n",
              "</svg>\n",
              "  </button>\n",
              "\n",
              "<style>\n",
              "  .colab-df-quickchart {\n",
              "      --bg-color: #E8F0FE;\n",
              "      --fill-color: #1967D2;\n",
              "      --hover-bg-color: #E2EBFA;\n",
              "      --hover-fill-color: #174EA6;\n",
              "      --disabled-fill-color: #AAA;\n",
              "      --disabled-bg-color: #DDD;\n",
              "  }\n",
              "\n",
              "  [theme=dark] .colab-df-quickchart {\n",
              "      --bg-color: #3B4455;\n",
              "      --fill-color: #D2E3FC;\n",
              "      --hover-bg-color: #434B5C;\n",
              "      --hover-fill-color: #FFFFFF;\n",
              "      --disabled-bg-color: #3B4455;\n",
              "      --disabled-fill-color: #666;\n",
              "  }\n",
              "\n",
              "  .colab-df-quickchart {\n",
              "    background-color: var(--bg-color);\n",
              "    border: none;\n",
              "    border-radius: 50%;\n",
              "    cursor: pointer;\n",
              "    display: none;\n",
              "    fill: var(--fill-color);\n",
              "    height: 32px;\n",
              "    padding: 0;\n",
              "    width: 32px;\n",
              "  }\n",
              "\n",
              "  .colab-df-quickchart:hover {\n",
              "    background-color: var(--hover-bg-color);\n",
              "    box-shadow: 0 1px 2px rgba(60, 64, 67, 0.3), 0 1px 3px 1px rgba(60, 64, 67, 0.15);\n",
              "    fill: var(--button-hover-fill-color);\n",
              "  }\n",
              "\n",
              "  .colab-df-quickchart-complete:disabled,\n",
              "  .colab-df-quickchart-complete:disabled:hover {\n",
              "    background-color: var(--disabled-bg-color);\n",
              "    fill: var(--disabled-fill-color);\n",
              "    box-shadow: none;\n",
              "  }\n",
              "\n",
              "  .colab-df-spinner {\n",
              "    border: 2px solid var(--fill-color);\n",
              "    border-color: transparent;\n",
              "    border-bottom-color: var(--fill-color);\n",
              "    animation:\n",
              "      spin 1s steps(1) infinite;\n",
              "  }\n",
              "\n",
              "  @keyframes spin {\n",
              "    0% {\n",
              "      border-color: transparent;\n",
              "      border-bottom-color: var(--fill-color);\n",
              "      border-left-color: var(--fill-color);\n",
              "    }\n",
              "    20% {\n",
              "      border-color: transparent;\n",
              "      border-left-color: var(--fill-color);\n",
              "      border-top-color: var(--fill-color);\n",
              "    }\n",
              "    30% {\n",
              "      border-color: transparent;\n",
              "      border-left-color: var(--fill-color);\n",
              "      border-top-color: var(--fill-color);\n",
              "      border-right-color: var(--fill-color);\n",
              "    }\n",
              "    40% {\n",
              "      border-color: transparent;\n",
              "      border-right-color: var(--fill-color);\n",
              "      border-top-color: var(--fill-color);\n",
              "    }\n",
              "    60% {\n",
              "      border-color: transparent;\n",
              "      border-right-color: var(--fill-color);\n",
              "    }\n",
              "    80% {\n",
              "      border-color: transparent;\n",
              "      border-right-color: var(--fill-color);\n",
              "      border-bottom-color: var(--fill-color);\n",
              "    }\n",
              "    90% {\n",
              "      border-color: transparent;\n",
              "      border-bottom-color: var(--fill-color);\n",
              "    }\n",
              "  }\n",
              "</style>\n",
              "\n",
              "  <script>\n",
              "    async function quickchart(key) {\n",
              "      const quickchartButtonEl =\n",
              "        document.querySelector('#' + key + ' button');\n",
              "      quickchartButtonEl.disabled = true;  // To prevent multiple clicks.\n",
              "      quickchartButtonEl.classList.add('colab-df-spinner');\n",
              "      try {\n",
              "        const charts = await google.colab.kernel.invokeFunction(\n",
              "            'suggestCharts', [key], {});\n",
              "      } catch (error) {\n",
              "        console.error('Error during call to suggestCharts:', error);\n",
              "      }\n",
              "      quickchartButtonEl.classList.remove('colab-df-spinner');\n",
              "      quickchartButtonEl.classList.add('colab-df-quickchart-complete');\n",
              "    }\n",
              "    (() => {\n",
              "      let quickchartButtonEl =\n",
              "        document.querySelector('#df-a250db79-6afa-493d-aef1-9299fd59c7dd button');\n",
              "      quickchartButtonEl.style.display =\n",
              "        google.colab.kernel.accessAllowed ? 'block' : 'none';\n",
              "    })();\n",
              "  </script>\n",
              "</div>\n",
              "\n",
              "    </div>\n",
              "  </div>\n"
            ],
            "application/vnd.google.colaboratory.intrinsic+json": {
              "type": "dataframe",
              "summary": "{\n  \"name\": \"data\",\n  \"rows\": 8,\n  \"fields\": [\n    {\n      \"column\": \"wage\",\n      \"properties\": {\n        \"dtype\": \"number\",\n        \"std\": 371.1080243384949,\n        \"min\": 170.097977907815,\n        \"max\": 1285.91,\n        \"num_unique_values\": 8,\n        \"samples\": [\n          911.6312499999999,\n          903.52,\n          288.0\n        ],\n        \"semantic_type\": \"\",\n        \"description\": \"\"\n      }\n    },\n    {\n      \"column\": \"rmpi\",\n      \"properties\": {\n        \"dtype\": \"number\",\n        \"std\": 80.98505994307416,\n        \"min\": 24.30704162234297,\n        \"max\": 288.0,\n        \"num_unique_values\": 8,\n        \"samples\": [\n          99.12812500000001,\n          97.05,\n          288.0\n        ],\n        \"semantic_type\": \"\",\n        \"description\": \"\"\n      }\n    },\n    {\n      \"column\": \"cpi\",\n      \"properties\": {\n        \"dtype\": \"number\",\n        \"std\": 75.94252958842388,\n        \"min\": 17.143680806468506,\n        \"max\": 288.0,\n        \"num_unique_values\": 8,\n        \"samples\": [\n          123.73854166666666,\n          122.2,\n          288.0\n        ],\n        \"semantic_type\": \"\",\n        \"description\": \"\"\n      }\n    }\n  ]\n}"
            }
          },
          "metadata": {},
          "execution_count": 14
        }
      ]
    },
    {
      "cell_type": "markdown",
      "source": [
        "The interest rate data is published (almost) daily, but only changes at 8 pre-determined dates per year. This will require some extra wrangling to align with the other monthly series. Where the rate changes on or before the 15th of the month, I'll apply changed rate to that month. Where the rate changes after the 15th of the month, I'll apply the changed rate to the following month."
      ],
      "metadata": {
        "id": "cexNPvzpVHDH"
      }
    },
    {
      "cell_type": "code",
      "source": [
        "print(rate_df.info())\n",
        "print(rate_df.describe())"
      ],
      "metadata": {
        "colab": {
          "base_uri": "https://localhost:8080/"
        },
        "id": "Mu8nfJjq25Kv",
        "outputId": "bf9efb13-3828-43df-d823-fc8037bfd1b7"
      },
      "execution_count": 15,
      "outputs": [
        {
          "output_type": "stream",
          "name": "stdout",
          "text": [
            "<class 'pandas.core.frame.DataFrame'>\n",
            "RangeIndex: 8766 entries, 0 to 8765\n",
            "Data columns (total 2 columns):\n",
            " #   Column  Non-Null Count  Dtype  \n",
            "---  ------  --------------  -----  \n",
            " 0   date    8766 non-null   object \n",
            " 1   rate    6231 non-null   float64\n",
            "dtypes: float64(1), object(1)\n",
            "memory usage: 137.1+ KB\n",
            "None\n",
            "              rate\n",
            "count  6231.000000\n",
            "mean      2.237963\n",
            "std       1.519686\n",
            "min       0.500000\n",
            "25%       1.000000\n",
            "50%       1.750000\n",
            "75%       3.250000\n",
            "max       6.000000\n"
          ]
        }
      ]
    },
    {
      "cell_type": "code",
      "source": [
        "# date format\n",
        "rate_df['date'] = pd.to_datetime(rate_df['date'])\n",
        "\n",
        "# continuous dates\n",
        "rate_df = rate_df.set_index('date')\\\n",
        "                           .asfreq('D')\\\n",
        "                           .reset_index()\n",
        "\n",
        "# fill na\n",
        "rate_df['rate'] = rate_df['rate'].ffill()"
      ],
      "metadata": {
        "id": "4llM29bGMxAL"
      },
      "execution_count": 16,
      "outputs": []
    },
    {
      "cell_type": "code",
      "source": [
        "rate_df.info()"
      ],
      "metadata": {
        "colab": {
          "base_uri": "https://localhost:8080/"
        },
        "id": "Wrg8fN7FM4RT",
        "outputId": "5247c8c4-1c38-424a-8d3b-9414c890d212"
      },
      "execution_count": 17,
      "outputs": [
        {
          "output_type": "stream",
          "name": "stdout",
          "text": [
            "<class 'pandas.core.frame.DataFrame'>\n",
            "RangeIndex: 8766 entries, 0 to 8765\n",
            "Data columns (total 2 columns):\n",
            " #   Column  Non-Null Count  Dtype         \n",
            "---  ------  --------------  -----         \n",
            " 0   date    8766 non-null   datetime64[ns]\n",
            " 1   rate    8766 non-null   float64       \n",
            "dtypes: datetime64[ns](1), float64(1)\n",
            "memory usage: 137.1 KB\n"
          ]
        }
      ]
    },
    {
      "cell_type": "code",
      "source": [
        "def preprocess_rate(rate_df):\n",
        "\n",
        "    '''\n",
        "    cleans and transforms daily interest rate df\n",
        "    to monthly based on the 15th-of-the-month rule.\n",
        "\n",
        "    args:\n",
        "        rate_df (pd.DataFrame): DataFrame containing 'date' and 'rate' columns.\n",
        "\n",
        "    returns:\n",
        "        pd.DataFrame with monthly interest rates.\n",
        "    '''\n",
        "\n",
        "    # sort\n",
        "    rate_df = rate_df.sort_values('date')\n",
        "\n",
        "    # id rate changes\n",
        "    rate_df['prev_rate'] = rate_df['rate'].shift(1)\n",
        "    rate_df['rate_changed'] = rate_df['rate'] != rate_df['prev_rate']\n",
        "\n",
        "    # copy df\n",
        "    rate_changes = rate_df.copy()\n",
        "\n",
        "    # extract year, month, and day\n",
        "    rate_df['year'] = rate_df['date'].dt.year\n",
        "    rate_df['month'] = rate_df['date'].dt.month\n",
        "    rate_df['day'] = rate_df['date'].dt.day\n",
        "\n",
        "    #  apply 15th of month rule\n",
        "    rate_df['effective_month'] = rate_df.apply(\n",
        "        lambda row: row['month'] if row['day'] <= 15 else (row['month'] % 12 + 1),\n",
        "        axis=1)\n",
        "\n",
        "    rate_df['effective_year'] = rate_df.apply(\n",
        "        lambda row: row['year'] if row['day'] <= 15 else (row['year'] + (row['month'] == 12)),\n",
        "        axis=1)\n",
        "\n",
        "    # drop old year and month column\n",
        "    rate_df.drop(columns = ['year', 'month'],\n",
        "                      inplace = True)\n",
        "\n",
        "    # drop duplicates\n",
        "    rate_df = rate_df.sort_values('date')\\\n",
        "                     .drop_duplicates(subset = ['effective_year',\n",
        "                                                      'effective_month'],\n",
        "                                      keep = \"last\")\n",
        "\n",
        "    # rename colunms create date col\n",
        "    rate_df = rate_df.rename(columns = {'effective_year': 'year',\n",
        "                                              'effective_month': 'month'})\n",
        "    rate_df['day'] = 1\n",
        "\n",
        "    # convert datetime\n",
        "    rate_df['date'] = pd.to_datetime(rate_df[['year', 'month', 'day']])\n",
        "\n",
        "    # drop cols\n",
        "    rate_df = rate_df.drop(columns = ['prev_rate', 'rate_changed', 'year', 'month', 'day'])\n",
        "\n",
        "    # format date\n",
        "    rate_df['date'] = pd.to_datetime(rate_df['date']).dt.strftime('%Y-%m')\n",
        "\n",
        "    return rate_df"
      ],
      "metadata": {
        "id": "lB0Sma2924xB"
      },
      "execution_count": 18,
      "outputs": []
    },
    {
      "cell_type": "code",
      "source": [
        "# preprocess rate_df\n",
        "rate_df = preprocess_rate(rate_df)"
      ],
      "metadata": {
        "id": "_MbmzlZDY1R6"
      },
      "execution_count": 19,
      "outputs": []
    },
    {
      "cell_type": "code",
      "source": [
        "rate_df.head()"
      ],
      "metadata": {
        "colab": {
          "base_uri": "https://localhost:8080/",
          "height": 206
        },
        "id": "xCqPN9RkRiwF",
        "outputId": "a13337da-6e26-4cfa-fffc-1d76ca29fa06"
      },
      "execution_count": 20,
      "outputs": [
        {
          "output_type": "execute_result",
          "data": {
            "text/plain": [
              "        date  rate\n",
              "14   2001-01  6.00\n",
              "45   2001-02  5.75\n",
              "73   2001-03  5.25\n",
              "104  2001-04  5.25\n",
              "134  2001-05  5.00"
            ],
            "text/html": [
              "\n",
              "  <div id=\"df-f3c95cb9-4ca3-4511-b5da-483440dac72f\" class=\"colab-df-container\">\n",
              "    <div>\n",
              "<style scoped>\n",
              "    .dataframe tbody tr th:only-of-type {\n",
              "        vertical-align: middle;\n",
              "    }\n",
              "\n",
              "    .dataframe tbody tr th {\n",
              "        vertical-align: top;\n",
              "    }\n",
              "\n",
              "    .dataframe thead th {\n",
              "        text-align: right;\n",
              "    }\n",
              "</style>\n",
              "<table border=\"1\" class=\"dataframe\">\n",
              "  <thead>\n",
              "    <tr style=\"text-align: right;\">\n",
              "      <th></th>\n",
              "      <th>date</th>\n",
              "      <th>rate</th>\n",
              "    </tr>\n",
              "  </thead>\n",
              "  <tbody>\n",
              "    <tr>\n",
              "      <th>14</th>\n",
              "      <td>2001-01</td>\n",
              "      <td>6.00</td>\n",
              "    </tr>\n",
              "    <tr>\n",
              "      <th>45</th>\n",
              "      <td>2001-02</td>\n",
              "      <td>5.75</td>\n",
              "    </tr>\n",
              "    <tr>\n",
              "      <th>73</th>\n",
              "      <td>2001-03</td>\n",
              "      <td>5.25</td>\n",
              "    </tr>\n",
              "    <tr>\n",
              "      <th>104</th>\n",
              "      <td>2001-04</td>\n",
              "      <td>5.25</td>\n",
              "    </tr>\n",
              "    <tr>\n",
              "      <th>134</th>\n",
              "      <td>2001-05</td>\n",
              "      <td>5.00</td>\n",
              "    </tr>\n",
              "  </tbody>\n",
              "</table>\n",
              "</div>\n",
              "    <div class=\"colab-df-buttons\">\n",
              "\n",
              "  <div class=\"colab-df-container\">\n",
              "    <button class=\"colab-df-convert\" onclick=\"convertToInteractive('df-f3c95cb9-4ca3-4511-b5da-483440dac72f')\"\n",
              "            title=\"Convert this dataframe to an interactive table.\"\n",
              "            style=\"display:none;\">\n",
              "\n",
              "  <svg xmlns=\"http://www.w3.org/2000/svg\" height=\"24px\" viewBox=\"0 -960 960 960\">\n",
              "    <path d=\"M120-120v-720h720v720H120Zm60-500h600v-160H180v160Zm220 220h160v-160H400v160Zm0 220h160v-160H400v160ZM180-400h160v-160H180v160Zm440 0h160v-160H620v160ZM180-180h160v-160H180v160Zm440 0h160v-160H620v160Z\"/>\n",
              "  </svg>\n",
              "    </button>\n",
              "\n",
              "  <style>\n",
              "    .colab-df-container {\n",
              "      display:flex;\n",
              "      gap: 12px;\n",
              "    }\n",
              "\n",
              "    .colab-df-convert {\n",
              "      background-color: #E8F0FE;\n",
              "      border: none;\n",
              "      border-radius: 50%;\n",
              "      cursor: pointer;\n",
              "      display: none;\n",
              "      fill: #1967D2;\n",
              "      height: 32px;\n",
              "      padding: 0 0 0 0;\n",
              "      width: 32px;\n",
              "    }\n",
              "\n",
              "    .colab-df-convert:hover {\n",
              "      background-color: #E2EBFA;\n",
              "      box-shadow: 0px 1px 2px rgba(60, 64, 67, 0.3), 0px 1px 3px 1px rgba(60, 64, 67, 0.15);\n",
              "      fill: #174EA6;\n",
              "    }\n",
              "\n",
              "    .colab-df-buttons div {\n",
              "      margin-bottom: 4px;\n",
              "    }\n",
              "\n",
              "    [theme=dark] .colab-df-convert {\n",
              "      background-color: #3B4455;\n",
              "      fill: #D2E3FC;\n",
              "    }\n",
              "\n",
              "    [theme=dark] .colab-df-convert:hover {\n",
              "      background-color: #434B5C;\n",
              "      box-shadow: 0px 1px 3px 1px rgba(0, 0, 0, 0.15);\n",
              "      filter: drop-shadow(0px 1px 2px rgba(0, 0, 0, 0.3));\n",
              "      fill: #FFFFFF;\n",
              "    }\n",
              "  </style>\n",
              "\n",
              "    <script>\n",
              "      const buttonEl =\n",
              "        document.querySelector('#df-f3c95cb9-4ca3-4511-b5da-483440dac72f button.colab-df-convert');\n",
              "      buttonEl.style.display =\n",
              "        google.colab.kernel.accessAllowed ? 'block' : 'none';\n",
              "\n",
              "      async function convertToInteractive(key) {\n",
              "        const element = document.querySelector('#df-f3c95cb9-4ca3-4511-b5da-483440dac72f');\n",
              "        const dataTable =\n",
              "          await google.colab.kernel.invokeFunction('convertToInteractive',\n",
              "                                                    [key], {});\n",
              "        if (!dataTable) return;\n",
              "\n",
              "        const docLinkHtml = 'Like what you see? Visit the ' +\n",
              "          '<a target=\"_blank\" href=https://colab.research.google.com/notebooks/data_table.ipynb>data table notebook</a>'\n",
              "          + ' to learn more about interactive tables.';\n",
              "        element.innerHTML = '';\n",
              "        dataTable['output_type'] = 'display_data';\n",
              "        await google.colab.output.renderOutput(dataTable, element);\n",
              "        const docLink = document.createElement('div');\n",
              "        docLink.innerHTML = docLinkHtml;\n",
              "        element.appendChild(docLink);\n",
              "      }\n",
              "    </script>\n",
              "  </div>\n",
              "\n",
              "\n",
              "<div id=\"df-3c2ec112-a270-4e9c-bff1-df0d2b026d3d\">\n",
              "  <button class=\"colab-df-quickchart\" onclick=\"quickchart('df-3c2ec112-a270-4e9c-bff1-df0d2b026d3d')\"\n",
              "            title=\"Suggest charts\"\n",
              "            style=\"display:none;\">\n",
              "\n",
              "<svg xmlns=\"http://www.w3.org/2000/svg\" height=\"24px\"viewBox=\"0 0 24 24\"\n",
              "     width=\"24px\">\n",
              "    <g>\n",
              "        <path d=\"M19 3H5c-1.1 0-2 .9-2 2v14c0 1.1.9 2 2 2h14c1.1 0 2-.9 2-2V5c0-1.1-.9-2-2-2zM9 17H7v-7h2v7zm4 0h-2V7h2v10zm4 0h-2v-4h2v4z\"/>\n",
              "    </g>\n",
              "</svg>\n",
              "  </button>\n",
              "\n",
              "<style>\n",
              "  .colab-df-quickchart {\n",
              "      --bg-color: #E8F0FE;\n",
              "      --fill-color: #1967D2;\n",
              "      --hover-bg-color: #E2EBFA;\n",
              "      --hover-fill-color: #174EA6;\n",
              "      --disabled-fill-color: #AAA;\n",
              "      --disabled-bg-color: #DDD;\n",
              "  }\n",
              "\n",
              "  [theme=dark] .colab-df-quickchart {\n",
              "      --bg-color: #3B4455;\n",
              "      --fill-color: #D2E3FC;\n",
              "      --hover-bg-color: #434B5C;\n",
              "      --hover-fill-color: #FFFFFF;\n",
              "      --disabled-bg-color: #3B4455;\n",
              "      --disabled-fill-color: #666;\n",
              "  }\n",
              "\n",
              "  .colab-df-quickchart {\n",
              "    background-color: var(--bg-color);\n",
              "    border: none;\n",
              "    border-radius: 50%;\n",
              "    cursor: pointer;\n",
              "    display: none;\n",
              "    fill: var(--fill-color);\n",
              "    height: 32px;\n",
              "    padding: 0;\n",
              "    width: 32px;\n",
              "  }\n",
              "\n",
              "  .colab-df-quickchart:hover {\n",
              "    background-color: var(--hover-bg-color);\n",
              "    box-shadow: 0 1px 2px rgba(60, 64, 67, 0.3), 0 1px 3px 1px rgba(60, 64, 67, 0.15);\n",
              "    fill: var(--button-hover-fill-color);\n",
              "  }\n",
              "\n",
              "  .colab-df-quickchart-complete:disabled,\n",
              "  .colab-df-quickchart-complete:disabled:hover {\n",
              "    background-color: var(--disabled-bg-color);\n",
              "    fill: var(--disabled-fill-color);\n",
              "    box-shadow: none;\n",
              "  }\n",
              "\n",
              "  .colab-df-spinner {\n",
              "    border: 2px solid var(--fill-color);\n",
              "    border-color: transparent;\n",
              "    border-bottom-color: var(--fill-color);\n",
              "    animation:\n",
              "      spin 1s steps(1) infinite;\n",
              "  }\n",
              "\n",
              "  @keyframes spin {\n",
              "    0% {\n",
              "      border-color: transparent;\n",
              "      border-bottom-color: var(--fill-color);\n",
              "      border-left-color: var(--fill-color);\n",
              "    }\n",
              "    20% {\n",
              "      border-color: transparent;\n",
              "      border-left-color: var(--fill-color);\n",
              "      border-top-color: var(--fill-color);\n",
              "    }\n",
              "    30% {\n",
              "      border-color: transparent;\n",
              "      border-left-color: var(--fill-color);\n",
              "      border-top-color: var(--fill-color);\n",
              "      border-right-color: var(--fill-color);\n",
              "    }\n",
              "    40% {\n",
              "      border-color: transparent;\n",
              "      border-right-color: var(--fill-color);\n",
              "      border-top-color: var(--fill-color);\n",
              "    }\n",
              "    60% {\n",
              "      border-color: transparent;\n",
              "      border-right-color: var(--fill-color);\n",
              "    }\n",
              "    80% {\n",
              "      border-color: transparent;\n",
              "      border-right-color: var(--fill-color);\n",
              "      border-bottom-color: var(--fill-color);\n",
              "    }\n",
              "    90% {\n",
              "      border-color: transparent;\n",
              "      border-bottom-color: var(--fill-color);\n",
              "    }\n",
              "  }\n",
              "</style>\n",
              "\n",
              "  <script>\n",
              "    async function quickchart(key) {\n",
              "      const quickchartButtonEl =\n",
              "        document.querySelector('#' + key + ' button');\n",
              "      quickchartButtonEl.disabled = true;  // To prevent multiple clicks.\n",
              "      quickchartButtonEl.classList.add('colab-df-spinner');\n",
              "      try {\n",
              "        const charts = await google.colab.kernel.invokeFunction(\n",
              "            'suggestCharts', [key], {});\n",
              "      } catch (error) {\n",
              "        console.error('Error during call to suggestCharts:', error);\n",
              "      }\n",
              "      quickchartButtonEl.classList.remove('colab-df-spinner');\n",
              "      quickchartButtonEl.classList.add('colab-df-quickchart-complete');\n",
              "    }\n",
              "    (() => {\n",
              "      let quickchartButtonEl =\n",
              "        document.querySelector('#df-3c2ec112-a270-4e9c-bff1-df0d2b026d3d button');\n",
              "      quickchartButtonEl.style.display =\n",
              "        google.colab.kernel.accessAllowed ? 'block' : 'none';\n",
              "    })();\n",
              "  </script>\n",
              "</div>\n",
              "\n",
              "    </div>\n",
              "  </div>\n"
            ],
            "application/vnd.google.colaboratory.intrinsic+json": {
              "type": "dataframe",
              "variable_name": "rate_df",
              "repr_error": "0"
            }
          },
          "metadata": {},
          "execution_count": 20
        }
      ]
    },
    {
      "cell_type": "code",
      "source": [
        "data = data.merge(rate_df, on = 'date', how = 'outer').set_index('date')"
      ],
      "metadata": {
        "id": "nqtPiLM8UUMO"
      },
      "execution_count": 21,
      "outputs": []
    },
    {
      "cell_type": "code",
      "source": [
        "data.head()"
      ],
      "metadata": {
        "colab": {
          "base_uri": "https://localhost:8080/",
          "height": 238
        },
        "id": "y21NQr-XWC2X",
        "outputId": "98a59af0-743c-4c54-f1f6-213d24defd3b"
      },
      "execution_count": 22,
      "outputs": [
        {
          "output_type": "execute_result",
          "data": {
            "text/plain": [
              "           wage  rmpi   cpi  rate\n",
              "date                             \n",
              "2001-01  657.14  65.2  96.3  6.00\n",
              "2001-02  653.59  65.8  96.8  5.75\n",
              "2001-03  655.14  65.5  97.1  5.25\n",
              "2001-04  652.44  65.2  97.8  5.25\n",
              "2001-05  652.28  65.3  98.6  5.00"
            ],
            "text/html": [
              "\n",
              "  <div id=\"df-bc9f5e8a-d6b4-4c0d-8a2f-a0da1f1213bc\" class=\"colab-df-container\">\n",
              "    <div>\n",
              "<style scoped>\n",
              "    .dataframe tbody tr th:only-of-type {\n",
              "        vertical-align: middle;\n",
              "    }\n",
              "\n",
              "    .dataframe tbody tr th {\n",
              "        vertical-align: top;\n",
              "    }\n",
              "\n",
              "    .dataframe thead th {\n",
              "        text-align: right;\n",
              "    }\n",
              "</style>\n",
              "<table border=\"1\" class=\"dataframe\">\n",
              "  <thead>\n",
              "    <tr style=\"text-align: right;\">\n",
              "      <th></th>\n",
              "      <th>wage</th>\n",
              "      <th>rmpi</th>\n",
              "      <th>cpi</th>\n",
              "      <th>rate</th>\n",
              "    </tr>\n",
              "    <tr>\n",
              "      <th>date</th>\n",
              "      <th></th>\n",
              "      <th></th>\n",
              "      <th></th>\n",
              "      <th></th>\n",
              "    </tr>\n",
              "  </thead>\n",
              "  <tbody>\n",
              "    <tr>\n",
              "      <th>2001-01</th>\n",
              "      <td>657.14</td>\n",
              "      <td>65.2</td>\n",
              "      <td>96.3</td>\n",
              "      <td>6.00</td>\n",
              "    </tr>\n",
              "    <tr>\n",
              "      <th>2001-02</th>\n",
              "      <td>653.59</td>\n",
              "      <td>65.8</td>\n",
              "      <td>96.8</td>\n",
              "      <td>5.75</td>\n",
              "    </tr>\n",
              "    <tr>\n",
              "      <th>2001-03</th>\n",
              "      <td>655.14</td>\n",
              "      <td>65.5</td>\n",
              "      <td>97.1</td>\n",
              "      <td>5.25</td>\n",
              "    </tr>\n",
              "    <tr>\n",
              "      <th>2001-04</th>\n",
              "      <td>652.44</td>\n",
              "      <td>65.2</td>\n",
              "      <td>97.8</td>\n",
              "      <td>5.25</td>\n",
              "    </tr>\n",
              "    <tr>\n",
              "      <th>2001-05</th>\n",
              "      <td>652.28</td>\n",
              "      <td>65.3</td>\n",
              "      <td>98.6</td>\n",
              "      <td>5.00</td>\n",
              "    </tr>\n",
              "  </tbody>\n",
              "</table>\n",
              "</div>\n",
              "    <div class=\"colab-df-buttons\">\n",
              "\n",
              "  <div class=\"colab-df-container\">\n",
              "    <button class=\"colab-df-convert\" onclick=\"convertToInteractive('df-bc9f5e8a-d6b4-4c0d-8a2f-a0da1f1213bc')\"\n",
              "            title=\"Convert this dataframe to an interactive table.\"\n",
              "            style=\"display:none;\">\n",
              "\n",
              "  <svg xmlns=\"http://www.w3.org/2000/svg\" height=\"24px\" viewBox=\"0 -960 960 960\">\n",
              "    <path d=\"M120-120v-720h720v720H120Zm60-500h600v-160H180v160Zm220 220h160v-160H400v160Zm0 220h160v-160H400v160ZM180-400h160v-160H180v160Zm440 0h160v-160H620v160ZM180-180h160v-160H180v160Zm440 0h160v-160H620v160Z\"/>\n",
              "  </svg>\n",
              "    </button>\n",
              "\n",
              "  <style>\n",
              "    .colab-df-container {\n",
              "      display:flex;\n",
              "      gap: 12px;\n",
              "    }\n",
              "\n",
              "    .colab-df-convert {\n",
              "      background-color: #E8F0FE;\n",
              "      border: none;\n",
              "      border-radius: 50%;\n",
              "      cursor: pointer;\n",
              "      display: none;\n",
              "      fill: #1967D2;\n",
              "      height: 32px;\n",
              "      padding: 0 0 0 0;\n",
              "      width: 32px;\n",
              "    }\n",
              "\n",
              "    .colab-df-convert:hover {\n",
              "      background-color: #E2EBFA;\n",
              "      box-shadow: 0px 1px 2px rgba(60, 64, 67, 0.3), 0px 1px 3px 1px rgba(60, 64, 67, 0.15);\n",
              "      fill: #174EA6;\n",
              "    }\n",
              "\n",
              "    .colab-df-buttons div {\n",
              "      margin-bottom: 4px;\n",
              "    }\n",
              "\n",
              "    [theme=dark] .colab-df-convert {\n",
              "      background-color: #3B4455;\n",
              "      fill: #D2E3FC;\n",
              "    }\n",
              "\n",
              "    [theme=dark] .colab-df-convert:hover {\n",
              "      background-color: #434B5C;\n",
              "      box-shadow: 0px 1px 3px 1px rgba(0, 0, 0, 0.15);\n",
              "      filter: drop-shadow(0px 1px 2px rgba(0, 0, 0, 0.3));\n",
              "      fill: #FFFFFF;\n",
              "    }\n",
              "  </style>\n",
              "\n",
              "    <script>\n",
              "      const buttonEl =\n",
              "        document.querySelector('#df-bc9f5e8a-d6b4-4c0d-8a2f-a0da1f1213bc button.colab-df-convert');\n",
              "      buttonEl.style.display =\n",
              "        google.colab.kernel.accessAllowed ? 'block' : 'none';\n",
              "\n",
              "      async function convertToInteractive(key) {\n",
              "        const element = document.querySelector('#df-bc9f5e8a-d6b4-4c0d-8a2f-a0da1f1213bc');\n",
              "        const dataTable =\n",
              "          await google.colab.kernel.invokeFunction('convertToInteractive',\n",
              "                                                    [key], {});\n",
              "        if (!dataTable) return;\n",
              "\n",
              "        const docLinkHtml = 'Like what you see? Visit the ' +\n",
              "          '<a target=\"_blank\" href=https://colab.research.google.com/notebooks/data_table.ipynb>data table notebook</a>'\n",
              "          + ' to learn more about interactive tables.';\n",
              "        element.innerHTML = '';\n",
              "        dataTable['output_type'] = 'display_data';\n",
              "        await google.colab.output.renderOutput(dataTable, element);\n",
              "        const docLink = document.createElement('div');\n",
              "        docLink.innerHTML = docLinkHtml;\n",
              "        element.appendChild(docLink);\n",
              "      }\n",
              "    </script>\n",
              "  </div>\n",
              "\n",
              "\n",
              "<div id=\"df-7198055d-dc6a-4e71-857a-b5738ba57069\">\n",
              "  <button class=\"colab-df-quickchart\" onclick=\"quickchart('df-7198055d-dc6a-4e71-857a-b5738ba57069')\"\n",
              "            title=\"Suggest charts\"\n",
              "            style=\"display:none;\">\n",
              "\n",
              "<svg xmlns=\"http://www.w3.org/2000/svg\" height=\"24px\"viewBox=\"0 0 24 24\"\n",
              "     width=\"24px\">\n",
              "    <g>\n",
              "        <path d=\"M19 3H5c-1.1 0-2 .9-2 2v14c0 1.1.9 2 2 2h14c1.1 0 2-.9 2-2V5c0-1.1-.9-2-2-2zM9 17H7v-7h2v7zm4 0h-2V7h2v10zm4 0h-2v-4h2v4z\"/>\n",
              "    </g>\n",
              "</svg>\n",
              "  </button>\n",
              "\n",
              "<style>\n",
              "  .colab-df-quickchart {\n",
              "      --bg-color: #E8F0FE;\n",
              "      --fill-color: #1967D2;\n",
              "      --hover-bg-color: #E2EBFA;\n",
              "      --hover-fill-color: #174EA6;\n",
              "      --disabled-fill-color: #AAA;\n",
              "      --disabled-bg-color: #DDD;\n",
              "  }\n",
              "\n",
              "  [theme=dark] .colab-df-quickchart {\n",
              "      --bg-color: #3B4455;\n",
              "      --fill-color: #D2E3FC;\n",
              "      --hover-bg-color: #434B5C;\n",
              "      --hover-fill-color: #FFFFFF;\n",
              "      --disabled-bg-color: #3B4455;\n",
              "      --disabled-fill-color: #666;\n",
              "  }\n",
              "\n",
              "  .colab-df-quickchart {\n",
              "    background-color: var(--bg-color);\n",
              "    border: none;\n",
              "    border-radius: 50%;\n",
              "    cursor: pointer;\n",
              "    display: none;\n",
              "    fill: var(--fill-color);\n",
              "    height: 32px;\n",
              "    padding: 0;\n",
              "    width: 32px;\n",
              "  }\n",
              "\n",
              "  .colab-df-quickchart:hover {\n",
              "    background-color: var(--hover-bg-color);\n",
              "    box-shadow: 0 1px 2px rgba(60, 64, 67, 0.3), 0 1px 3px 1px rgba(60, 64, 67, 0.15);\n",
              "    fill: var(--button-hover-fill-color);\n",
              "  }\n",
              "\n",
              "  .colab-df-quickchart-complete:disabled,\n",
              "  .colab-df-quickchart-complete:disabled:hover {\n",
              "    background-color: var(--disabled-bg-color);\n",
              "    fill: var(--disabled-fill-color);\n",
              "    box-shadow: none;\n",
              "  }\n",
              "\n",
              "  .colab-df-spinner {\n",
              "    border: 2px solid var(--fill-color);\n",
              "    border-color: transparent;\n",
              "    border-bottom-color: var(--fill-color);\n",
              "    animation:\n",
              "      spin 1s steps(1) infinite;\n",
              "  }\n",
              "\n",
              "  @keyframes spin {\n",
              "    0% {\n",
              "      border-color: transparent;\n",
              "      border-bottom-color: var(--fill-color);\n",
              "      border-left-color: var(--fill-color);\n",
              "    }\n",
              "    20% {\n",
              "      border-color: transparent;\n",
              "      border-left-color: var(--fill-color);\n",
              "      border-top-color: var(--fill-color);\n",
              "    }\n",
              "    30% {\n",
              "      border-color: transparent;\n",
              "      border-left-color: var(--fill-color);\n",
              "      border-top-color: var(--fill-color);\n",
              "      border-right-color: var(--fill-color);\n",
              "    }\n",
              "    40% {\n",
              "      border-color: transparent;\n",
              "      border-right-color: var(--fill-color);\n",
              "      border-top-color: var(--fill-color);\n",
              "    }\n",
              "    60% {\n",
              "      border-color: transparent;\n",
              "      border-right-color: var(--fill-color);\n",
              "    }\n",
              "    80% {\n",
              "      border-color: transparent;\n",
              "      border-right-color: var(--fill-color);\n",
              "      border-bottom-color: var(--fill-color);\n",
              "    }\n",
              "    90% {\n",
              "      border-color: transparent;\n",
              "      border-bottom-color: var(--fill-color);\n",
              "    }\n",
              "  }\n",
              "</style>\n",
              "\n",
              "  <script>\n",
              "    async function quickchart(key) {\n",
              "      const quickchartButtonEl =\n",
              "        document.querySelector('#' + key + ' button');\n",
              "      quickchartButtonEl.disabled = true;  // To prevent multiple clicks.\n",
              "      quickchartButtonEl.classList.add('colab-df-spinner');\n",
              "      try {\n",
              "        const charts = await google.colab.kernel.invokeFunction(\n",
              "            'suggestCharts', [key], {});\n",
              "      } catch (error) {\n",
              "        console.error('Error during call to suggestCharts:', error);\n",
              "      }\n",
              "      quickchartButtonEl.classList.remove('colab-df-spinner');\n",
              "      quickchartButtonEl.classList.add('colab-df-quickchart-complete');\n",
              "    }\n",
              "    (() => {\n",
              "      let quickchartButtonEl =\n",
              "        document.querySelector('#df-7198055d-dc6a-4e71-857a-b5738ba57069 button');\n",
              "      quickchartButtonEl.style.display =\n",
              "        google.colab.kernel.accessAllowed ? 'block' : 'none';\n",
              "    })();\n",
              "  </script>\n",
              "</div>\n",
              "\n",
              "    </div>\n",
              "  </div>\n"
            ],
            "application/vnd.google.colaboratory.intrinsic+json": {
              "type": "dataframe",
              "variable_name": "data",
              "summary": "{\n  \"name\": \"data\",\n  \"rows\": 289,\n  \"fields\": [\n    {\n      \"column\": \"date\",\n      \"properties\": {\n        \"dtype\": \"object\",\n        \"num_unique_values\": 289,\n        \"samples\": [\n          \"2004-10\",\n          \"2014-02\",\n          \"2023-11\"\n        ],\n        \"semantic_type\": \"\",\n        \"description\": \"\"\n      }\n    },\n    {\n      \"column\": \"wage\",\n      \"properties\": {\n        \"dtype\": \"number\",\n        \"std\": 170.097977907815,\n        \"min\": 652.28,\n        \"max\": 1285.91,\n        \"num_unique_values\": 286,\n        \"samples\": [\n          660.91,\n          1201.0,\n          900.71\n        ],\n        \"semantic_type\": \"\",\n        \"description\": \"\"\n      }\n    },\n    {\n      \"column\": \"rmpi\",\n      \"properties\": {\n        \"dtype\": \"number\",\n        \"std\": 24.30704162234297,\n        \"min\": 55.3,\n        \"max\": 166.6,\n        \"num_unique_values\": 242,\n        \"samples\": [\n          61.8,\n          60.8,\n          88.1\n        ],\n        \"semantic_type\": \"\",\n        \"description\": \"\"\n      }\n    },\n    {\n      \"column\": \"cpi\",\n      \"properties\": {\n        \"dtype\": \"number\",\n        \"std\": 17.143680806468506,\n        \"min\": 96.3,\n        \"max\": 162.1,\n        \"num_unique_values\": 225,\n        \"samples\": [\n          97.4,\n          139.6,\n          123.1\n        ],\n        \"semantic_type\": \"\",\n        \"description\": \"\"\n      }\n    },\n    {\n      \"column\": \"rate\",\n      \"properties\": {\n        \"dtype\": \"number\",\n        \"std\": 1.5298378774171824,\n        \"min\": 0.5,\n        \"max\": 6.0,\n        \"num_unique_values\": 22,\n        \"samples\": [\n          6.0,\n          3.5,\n          3.0\n        ],\n        \"semantic_type\": \"\",\n        \"description\": \"\"\n      }\n    }\n  ]\n}"
            }
          },
          "metadata": {},
          "execution_count": 22
        }
      ]
    },
    {
      "cell_type": "markdown",
      "source": [
        "#### Scaling the data"
      ],
      "metadata": {
        "id": "KfSitV5XaPu9"
      }
    },
    {
      "cell_type": "markdown",
      "source": [
        "Comparing series with different magnitudes can be a bit like comparing apples to oranges, or maybe grapes to watermelons. Scaling the data makes visually comparing the series easier and is also required for some ml models."
      ],
      "metadata": {
        "id": "0UEo8FNYZvhx"
      }
    },
    {
      "cell_type": "code",
      "source": [
        "scaler = StandardScaler\n",
        "data_scaled = data.copy()\n",
        "data_scaled[['wage', 'rmpi', 'cpi', 'rate']] = scaler().fit_transform(data[['wage', 'rmpi', 'cpi', 'rate']])\n",
        "data_scaled.describe()"
      ],
      "metadata": {
        "colab": {
          "base_uri": "https://localhost:8080/",
          "height": 300
        },
        "id": "mL_35f6HWXcE",
        "outputId": "2c23153d-d7f9-462f-9979-b603dd498cdf"
      },
      "execution_count": 23,
      "outputs": [
        {
          "output_type": "execute_result",
          "data": {
            "text/plain": [
              "               wage          rmpi           cpi          rate\n",
              "count  2.880000e+02  2.880000e+02  2.880000e+02  2.890000e+02\n",
              "mean   4.934325e-16 -4.934325e-16  2.467162e-16 -1.229313e-16\n",
              "std    1.001741e+00  1.001741e+00  1.001741e+00  1.001735e+00\n",
              "min   -1.527371e+00 -1.806243e+00 -1.603291e+00 -1.152127e+00\n",
              "25%   -8.213885e-01 -6.203687e-01 -8.159186e-01 -8.247281e-01\n",
              "50%   -4.776876e-02 -8.564359e-02 -8.990016e-02 -3.336297e-01\n",
              "75%    5.769426e-01  5.603538e-01  6.127454e-01  6.485671e-01\n",
              "max    2.204202e+00  2.780648e+00  2.241539e+00  2.449261e+00"
            ],
            "text/html": [
              "\n",
              "  <div id=\"df-cc763727-c0ac-4bbb-a7c9-11ee4be44b03\" class=\"colab-df-container\">\n",
              "    <div>\n",
              "<style scoped>\n",
              "    .dataframe tbody tr th:only-of-type {\n",
              "        vertical-align: middle;\n",
              "    }\n",
              "\n",
              "    .dataframe tbody tr th {\n",
              "        vertical-align: top;\n",
              "    }\n",
              "\n",
              "    .dataframe thead th {\n",
              "        text-align: right;\n",
              "    }\n",
              "</style>\n",
              "<table border=\"1\" class=\"dataframe\">\n",
              "  <thead>\n",
              "    <tr style=\"text-align: right;\">\n",
              "      <th></th>\n",
              "      <th>wage</th>\n",
              "      <th>rmpi</th>\n",
              "      <th>cpi</th>\n",
              "      <th>rate</th>\n",
              "    </tr>\n",
              "  </thead>\n",
              "  <tbody>\n",
              "    <tr>\n",
              "      <th>count</th>\n",
              "      <td>2.880000e+02</td>\n",
              "      <td>2.880000e+02</td>\n",
              "      <td>2.880000e+02</td>\n",
              "      <td>2.890000e+02</td>\n",
              "    </tr>\n",
              "    <tr>\n",
              "      <th>mean</th>\n",
              "      <td>4.934325e-16</td>\n",
              "      <td>-4.934325e-16</td>\n",
              "      <td>2.467162e-16</td>\n",
              "      <td>-1.229313e-16</td>\n",
              "    </tr>\n",
              "    <tr>\n",
              "      <th>std</th>\n",
              "      <td>1.001741e+00</td>\n",
              "      <td>1.001741e+00</td>\n",
              "      <td>1.001741e+00</td>\n",
              "      <td>1.001735e+00</td>\n",
              "    </tr>\n",
              "    <tr>\n",
              "      <th>min</th>\n",
              "      <td>-1.527371e+00</td>\n",
              "      <td>-1.806243e+00</td>\n",
              "      <td>-1.603291e+00</td>\n",
              "      <td>-1.152127e+00</td>\n",
              "    </tr>\n",
              "    <tr>\n",
              "      <th>25%</th>\n",
              "      <td>-8.213885e-01</td>\n",
              "      <td>-6.203687e-01</td>\n",
              "      <td>-8.159186e-01</td>\n",
              "      <td>-8.247281e-01</td>\n",
              "    </tr>\n",
              "    <tr>\n",
              "      <th>50%</th>\n",
              "      <td>-4.776876e-02</td>\n",
              "      <td>-8.564359e-02</td>\n",
              "      <td>-8.990016e-02</td>\n",
              "      <td>-3.336297e-01</td>\n",
              "    </tr>\n",
              "    <tr>\n",
              "      <th>75%</th>\n",
              "      <td>5.769426e-01</td>\n",
              "      <td>5.603538e-01</td>\n",
              "      <td>6.127454e-01</td>\n",
              "      <td>6.485671e-01</td>\n",
              "    </tr>\n",
              "    <tr>\n",
              "      <th>max</th>\n",
              "      <td>2.204202e+00</td>\n",
              "      <td>2.780648e+00</td>\n",
              "      <td>2.241539e+00</td>\n",
              "      <td>2.449261e+00</td>\n",
              "    </tr>\n",
              "  </tbody>\n",
              "</table>\n",
              "</div>\n",
              "    <div class=\"colab-df-buttons\">\n",
              "\n",
              "  <div class=\"colab-df-container\">\n",
              "    <button class=\"colab-df-convert\" onclick=\"convertToInteractive('df-cc763727-c0ac-4bbb-a7c9-11ee4be44b03')\"\n",
              "            title=\"Convert this dataframe to an interactive table.\"\n",
              "            style=\"display:none;\">\n",
              "\n",
              "  <svg xmlns=\"http://www.w3.org/2000/svg\" height=\"24px\" viewBox=\"0 -960 960 960\">\n",
              "    <path d=\"M120-120v-720h720v720H120Zm60-500h600v-160H180v160Zm220 220h160v-160H400v160Zm0 220h160v-160H400v160ZM180-400h160v-160H180v160Zm440 0h160v-160H620v160ZM180-180h160v-160H180v160Zm440 0h160v-160H620v160Z\"/>\n",
              "  </svg>\n",
              "    </button>\n",
              "\n",
              "  <style>\n",
              "    .colab-df-container {\n",
              "      display:flex;\n",
              "      gap: 12px;\n",
              "    }\n",
              "\n",
              "    .colab-df-convert {\n",
              "      background-color: #E8F0FE;\n",
              "      border: none;\n",
              "      border-radius: 50%;\n",
              "      cursor: pointer;\n",
              "      display: none;\n",
              "      fill: #1967D2;\n",
              "      height: 32px;\n",
              "      padding: 0 0 0 0;\n",
              "      width: 32px;\n",
              "    }\n",
              "\n",
              "    .colab-df-convert:hover {\n",
              "      background-color: #E2EBFA;\n",
              "      box-shadow: 0px 1px 2px rgba(60, 64, 67, 0.3), 0px 1px 3px 1px rgba(60, 64, 67, 0.15);\n",
              "      fill: #174EA6;\n",
              "    }\n",
              "\n",
              "    .colab-df-buttons div {\n",
              "      margin-bottom: 4px;\n",
              "    }\n",
              "\n",
              "    [theme=dark] .colab-df-convert {\n",
              "      background-color: #3B4455;\n",
              "      fill: #D2E3FC;\n",
              "    }\n",
              "\n",
              "    [theme=dark] .colab-df-convert:hover {\n",
              "      background-color: #434B5C;\n",
              "      box-shadow: 0px 1px 3px 1px rgba(0, 0, 0, 0.15);\n",
              "      filter: drop-shadow(0px 1px 2px rgba(0, 0, 0, 0.3));\n",
              "      fill: #FFFFFF;\n",
              "    }\n",
              "  </style>\n",
              "\n",
              "    <script>\n",
              "      const buttonEl =\n",
              "        document.querySelector('#df-cc763727-c0ac-4bbb-a7c9-11ee4be44b03 button.colab-df-convert');\n",
              "      buttonEl.style.display =\n",
              "        google.colab.kernel.accessAllowed ? 'block' : 'none';\n",
              "\n",
              "      async function convertToInteractive(key) {\n",
              "        const element = document.querySelector('#df-cc763727-c0ac-4bbb-a7c9-11ee4be44b03');\n",
              "        const dataTable =\n",
              "          await google.colab.kernel.invokeFunction('convertToInteractive',\n",
              "                                                    [key], {});\n",
              "        if (!dataTable) return;\n",
              "\n",
              "        const docLinkHtml = 'Like what you see? Visit the ' +\n",
              "          '<a target=\"_blank\" href=https://colab.research.google.com/notebooks/data_table.ipynb>data table notebook</a>'\n",
              "          + ' to learn more about interactive tables.';\n",
              "        element.innerHTML = '';\n",
              "        dataTable['output_type'] = 'display_data';\n",
              "        await google.colab.output.renderOutput(dataTable, element);\n",
              "        const docLink = document.createElement('div');\n",
              "        docLink.innerHTML = docLinkHtml;\n",
              "        element.appendChild(docLink);\n",
              "      }\n",
              "    </script>\n",
              "  </div>\n",
              "\n",
              "\n",
              "<div id=\"df-1ccd03f5-84f3-4b88-ae18-01480121cd30\">\n",
              "  <button class=\"colab-df-quickchart\" onclick=\"quickchart('df-1ccd03f5-84f3-4b88-ae18-01480121cd30')\"\n",
              "            title=\"Suggest charts\"\n",
              "            style=\"display:none;\">\n",
              "\n",
              "<svg xmlns=\"http://www.w3.org/2000/svg\" height=\"24px\"viewBox=\"0 0 24 24\"\n",
              "     width=\"24px\">\n",
              "    <g>\n",
              "        <path d=\"M19 3H5c-1.1 0-2 .9-2 2v14c0 1.1.9 2 2 2h14c1.1 0 2-.9 2-2V5c0-1.1-.9-2-2-2zM9 17H7v-7h2v7zm4 0h-2V7h2v10zm4 0h-2v-4h2v4z\"/>\n",
              "    </g>\n",
              "</svg>\n",
              "  </button>\n",
              "\n",
              "<style>\n",
              "  .colab-df-quickchart {\n",
              "      --bg-color: #E8F0FE;\n",
              "      --fill-color: #1967D2;\n",
              "      --hover-bg-color: #E2EBFA;\n",
              "      --hover-fill-color: #174EA6;\n",
              "      --disabled-fill-color: #AAA;\n",
              "      --disabled-bg-color: #DDD;\n",
              "  }\n",
              "\n",
              "  [theme=dark] .colab-df-quickchart {\n",
              "      --bg-color: #3B4455;\n",
              "      --fill-color: #D2E3FC;\n",
              "      --hover-bg-color: #434B5C;\n",
              "      --hover-fill-color: #FFFFFF;\n",
              "      --disabled-bg-color: #3B4455;\n",
              "      --disabled-fill-color: #666;\n",
              "  }\n",
              "\n",
              "  .colab-df-quickchart {\n",
              "    background-color: var(--bg-color);\n",
              "    border: none;\n",
              "    border-radius: 50%;\n",
              "    cursor: pointer;\n",
              "    display: none;\n",
              "    fill: var(--fill-color);\n",
              "    height: 32px;\n",
              "    padding: 0;\n",
              "    width: 32px;\n",
              "  }\n",
              "\n",
              "  .colab-df-quickchart:hover {\n",
              "    background-color: var(--hover-bg-color);\n",
              "    box-shadow: 0 1px 2px rgba(60, 64, 67, 0.3), 0 1px 3px 1px rgba(60, 64, 67, 0.15);\n",
              "    fill: var(--button-hover-fill-color);\n",
              "  }\n",
              "\n",
              "  .colab-df-quickchart-complete:disabled,\n",
              "  .colab-df-quickchart-complete:disabled:hover {\n",
              "    background-color: var(--disabled-bg-color);\n",
              "    fill: var(--disabled-fill-color);\n",
              "    box-shadow: none;\n",
              "  }\n",
              "\n",
              "  .colab-df-spinner {\n",
              "    border: 2px solid var(--fill-color);\n",
              "    border-color: transparent;\n",
              "    border-bottom-color: var(--fill-color);\n",
              "    animation:\n",
              "      spin 1s steps(1) infinite;\n",
              "  }\n",
              "\n",
              "  @keyframes spin {\n",
              "    0% {\n",
              "      border-color: transparent;\n",
              "      border-bottom-color: var(--fill-color);\n",
              "      border-left-color: var(--fill-color);\n",
              "    }\n",
              "    20% {\n",
              "      border-color: transparent;\n",
              "      border-left-color: var(--fill-color);\n",
              "      border-top-color: var(--fill-color);\n",
              "    }\n",
              "    30% {\n",
              "      border-color: transparent;\n",
              "      border-left-color: var(--fill-color);\n",
              "      border-top-color: var(--fill-color);\n",
              "      border-right-color: var(--fill-color);\n",
              "    }\n",
              "    40% {\n",
              "      border-color: transparent;\n",
              "      border-right-color: var(--fill-color);\n",
              "      border-top-color: var(--fill-color);\n",
              "    }\n",
              "    60% {\n",
              "      border-color: transparent;\n",
              "      border-right-color: var(--fill-color);\n",
              "    }\n",
              "    80% {\n",
              "      border-color: transparent;\n",
              "      border-right-color: var(--fill-color);\n",
              "      border-bottom-color: var(--fill-color);\n",
              "    }\n",
              "    90% {\n",
              "      border-color: transparent;\n",
              "      border-bottom-color: var(--fill-color);\n",
              "    }\n",
              "  }\n",
              "</style>\n",
              "\n",
              "  <script>\n",
              "    async function quickchart(key) {\n",
              "      const quickchartButtonEl =\n",
              "        document.querySelector('#' + key + ' button');\n",
              "      quickchartButtonEl.disabled = true;  // To prevent multiple clicks.\n",
              "      quickchartButtonEl.classList.add('colab-df-spinner');\n",
              "      try {\n",
              "        const charts = await google.colab.kernel.invokeFunction(\n",
              "            'suggestCharts', [key], {});\n",
              "      } catch (error) {\n",
              "        console.error('Error during call to suggestCharts:', error);\n",
              "      }\n",
              "      quickchartButtonEl.classList.remove('colab-df-spinner');\n",
              "      quickchartButtonEl.classList.add('colab-df-quickchart-complete');\n",
              "    }\n",
              "    (() => {\n",
              "      let quickchartButtonEl =\n",
              "        document.querySelector('#df-1ccd03f5-84f3-4b88-ae18-01480121cd30 button');\n",
              "      quickchartButtonEl.style.display =\n",
              "        google.colab.kernel.accessAllowed ? 'block' : 'none';\n",
              "    })();\n",
              "  </script>\n",
              "</div>\n",
              "\n",
              "    </div>\n",
              "  </div>\n"
            ],
            "application/vnd.google.colaboratory.intrinsic+json": {
              "type": "dataframe",
              "summary": "{\n  \"name\": \"data_scaled\",\n  \"rows\": 8,\n  \"fields\": [\n    {\n      \"column\": \"wage\",\n      \"properties\": {\n        \"dtype\": \"number\",\n        \"std\": 101.75962343891722,\n        \"min\": -1.527370823241573,\n        \"max\": 288.0,\n        \"num_unique_values\": 8,\n        \"samples\": [\n          4.934324553889585e-16,\n          -0.04776875604038158,\n          288.0\n        ],\n        \"semantic_type\": \"\",\n        \"description\": \"\"\n      }\n    },\n    {\n      \"column\": \"rmpi\",\n      \"properties\": {\n        \"dtype\": \"number\",\n        \"std\": 101.73950649234504,\n        \"min\": -1.8062426067461006,\n        \"max\": 288.0,\n        \"num_unique_values\": 8,\n        \"samples\": [\n          -4.934324553889585e-16,\n          -0.08564358884036825,\n          288.0\n        ],\n        \"semantic_type\": \"\",\n        \"description\": \"\"\n      }\n    },\n    {\n      \"column\": \"cpi\",\n      \"properties\": {\n        \"dtype\": \"number\",\n        \"std\": 101.76193722066715,\n        \"min\": -1.6032906087712973,\n        \"max\": 288.0,\n        \"num_unique_values\": 8,\n        \"samples\": [\n          2.4671622769447924e-16,\n          -0.08990016435044972,\n          288.0\n        ],\n        \"semantic_type\": \"\",\n        \"description\": \"\"\n      }\n    },\n    {\n      \"column\": \"rate\",\n      \"properties\": {\n        \"dtype\": \"number\",\n        \"std\": 102.09292397672957,\n        \"min\": -1.1521270746509122,\n        \"max\": 289.0,\n        \"num_unique_values\": 8,\n        \"samples\": [\n          -1.229312691626471e-16,\n          -0.33362971827403515,\n          289.0\n        ],\n        \"semantic_type\": \"\",\n        \"description\": \"\"\n      }\n    }\n  ]\n}"
            }
          },
          "metadata": {},
          "execution_count": 23
        }
      ]
    },
    {
      "cell_type": "markdown",
      "source": [
        "Let's have a look at what the plotted data looks like."
      ],
      "metadata": {
        "id": "uSOwkrM-c4HZ"
      }
    },
    {
      "cell_type": "code",
      "source": [
        "plt.figure(figsize=(10, 6))\n",
        "\n",
        "for col in data_scaled.columns:\n",
        "   plt.plot(data_scaled.index,\n",
        "            data_scaled[col],\n",
        "            linestyle = '-',\n",
        "            label = col)\n",
        "\n",
        "plt.xlabel('years 2001 through 2024')\n",
        "plt.xticks([])\n",
        "plt.ylabel('standardized scaled value')\n",
        "plt.title('wage, rmpi, cpi, and rates')\n",
        "plt.legend()\n",
        "plt.show()"
      ],
      "metadata": {
        "colab": {
          "base_uri": "https://localhost:8080/",
          "height": 426
        },
        "id": "rR08TY2_YBX5",
        "outputId": "f35f1e18-0dcb-4557-c03b-12cdeef5f4b3"
      },
      "execution_count": 24,
      "outputs": [
        {
          "output_type": "display_data",
          "data": {
            "text/plain": [
              "<Figure size 1000x600 with 1 Axes>"
            ],
            "image/png": "[encoded data removed]"
          },
          "metadata": {}
        }
      ]
    },
    {
      "cell_type": "markdown",
      "source": [
        "In the figure above, we can see that wage appears to be closely correlated with the cpi with a nearly-constant upward linear trend. rmpi is relatively more volatile but appears to also follow an upward trend."
      ],
      "metadata": {
        "id": "zmk132DSc_p-"
      }
    },
    {
      "cell_type": "markdown",
      "source": [
        "### Differencing"
      ],
      "metadata": {
        "id": "sEXjAHcyitas"
      }
    },
    {
      "cell_type": "markdown",
      "source": [
        "Description of differencing"
      ],
      "metadata": {
        "id": "MeL6uBl8i8WF"
      }
    },
    {
      "cell_type": "code",
      "source": [
        "data_diff = data.copy().dropna()"
      ],
      "metadata": {
        "id": "sIdaV0XIldr4"
      },
      "execution_count": 25,
      "outputs": []
    },
    {
      "cell_type": "code",
      "source": [
        "data_diff.info()"
      ],
      "metadata": {
        "id": "yqkZ-zBeh8ew",
        "outputId": "1f14f6f5-31b0-4780-c035-a59dfea6db12",
        "colab": {
          "base_uri": "https://localhost:8080/"
        }
      },
      "execution_count": 26,
      "outputs": [
        {
          "output_type": "stream",
          "name": "stdout",
          "text": [
            "<class 'pandas.core.frame.DataFrame'>\n",
            "Index: 288 entries, 2001-01 to 2024-12\n",
            "Data columns (total 4 columns):\n",
            " #   Column  Non-Null Count  Dtype  \n",
            "---  ------  --------------  -----  \n",
            " 0   wage    288 non-null    float64\n",
            " 1   rmpi    288 non-null    float64\n",
            " 2   cpi     288 non-null    float64\n",
            " 3   rate    288 non-null    float64\n",
            "dtypes: float64(4)\n",
            "memory usage: 11.2+ KB\n"
          ]
        }
      ]
    },
    {
      "cell_type": "code",
      "source": [
        "# adf test for stationarity\n",
        "adf_result = adfuller(data_diff['cpi'])\n",
        "print(f'ADF Statistic: {adf_result[0]}')\n",
        "print(f'p-value: {adf_result[1]}')"
      ],
      "metadata": {
        "id": "xYDglKE5fFzk",
        "outputId": "19af21d9-1e9e-40a4-a440-6ee111f24b0b",
        "colab": {
          "base_uri": "https://localhost:8080/"
        }
      },
      "execution_count": 27,
      "outputs": [
        {
          "output_type": "stream",
          "name": "stdout",
          "text": [
            "ADF Statistic: 0.7257562584956001\n",
            "p-value: 0.990338109629542\n"
          ]
        }
      ]
    },
    {
      "cell_type": "code",
      "source": [
        "# hp filtering\n",
        "lambda_value = 10\n",
        "cycle, trend = hpfilter(data_diff['cpi'], lamb = lambda_value)\n",
        "data_diff['cpi_cyclical'] = data_diff['cpi'] - trend\n"
      ],
      "metadata": {
        "id": "2hO2Z5WmiFPe"
      },
      "execution_count": 30,
      "outputs": []
    },
    {
      "cell_type": "code",
      "source": [
        "# standard first order differencing\n",
        "data_diff['cpi_diff'] = data_diff['cpi'].diff()\n",
        "data_diff.dropna(inplace = True)"
      ],
      "metadata": {
        "id": "ASwLWu3o0BYB"
      },
      "execution_count": 28,
      "outputs": []
    },
    {
      "cell_type": "code",
      "source": [
        "data_diff.head()"
      ],
      "metadata": {
        "colab": {
          "base_uri": "https://localhost:8080/",
          "height": 238
        },
        "id": "KmGrVDwaxKbL",
        "outputId": "3d0960f4-f6e8-45b5-d28b-991f54e85960"
      },
      "execution_count": 31,
      "outputs": [
        {
          "output_type": "execute_result",
          "data": {
            "text/plain": [
              "           wage  rmpi   cpi  rate  cpi_diff  cpi_cyclical\n",
              "date                                                     \n",
              "2001-02  653.59  65.8  96.8  5.75       0.5     -0.211013\n",
              "2001-03  655.14  65.5  97.1  5.25       0.3     -0.325368\n",
              "2001-04  652.44  65.2  97.8  5.25       0.7     -0.018622\n",
              "2001-05  652.28  65.3  98.6  5.00       0.8      0.462863\n",
              "2001-06  656.81  63.9  98.7  4.75       0.1      0.374588"
            ],
            "text/html": [
              "\n",
              "  <div id=\"df-7b40f086-4b5f-42a3-b0dd-3aa82ee66827\" class=\"colab-df-container\">\n",
              "    <div>\n",
              "<style scoped>\n",
              "    .dataframe tbody tr th:only-of-type {\n",
              "        vertical-align: middle;\n",
              "    }\n",
              "\n",
              "    .dataframe tbody tr th {\n",
              "        vertical-align: top;\n",
              "    }\n",
              "\n",
              "    .dataframe thead th {\n",
              "        text-align: right;\n",
              "    }\n",
              "</style>\n",
              "<table border=\"1\" class=\"dataframe\">\n",
              "  <thead>\n",
              "    <tr style=\"text-align: right;\">\n",
              "      <th></th>\n",
              "      <th>wage</th>\n",
              "      <th>rmpi</th>\n",
              "      <th>cpi</th>\n",
              "      <th>rate</th>\n",
              "      <th>cpi_diff</th>\n",
              "      <th>cpi_cyclical</th>\n",
              "    </tr>\n",
              "    <tr>\n",
              "      <th>date</th>\n",
              "      <th></th>\n",
              "      <th></th>\n",
              "      <th></th>\n",
              "      <th></th>\n",
              "      <th></th>\n",
              "      <th></th>\n",
              "    </tr>\n",
              "  </thead>\n",
              "  <tbody>\n",
              "    <tr>\n",
              "      <th>2001-02</th>\n",
              "      <td>653.59</td>\n",
              "      <td>65.8</td>\n",
              "      <td>96.8</td>\n",
              "      <td>5.75</td>\n",
              "      <td>0.5</td>\n",
              "      <td>-0.211013</td>\n",
              "    </tr>\n",
              "    <tr>\n",
              "      <th>2001-03</th>\n",
              "      <td>655.14</td>\n",
              "      <td>65.5</td>\n",
              "      <td>97.1</td>\n",
              "      <td>5.25</td>\n",
              "      <td>0.3</td>\n",
              "      <td>-0.325368</td>\n",
              "    </tr>\n",
              "    <tr>\n",
              "      <th>2001-04</th>\n",
              "      <td>652.44</td>\n",
              "      <td>65.2</td>\n",
              "      <td>97.8</td>\n",
              "      <td>5.25</td>\n",
              "      <td>0.7</td>\n",
              "      <td>-0.018622</td>\n",
              "    </tr>\n",
              "    <tr>\n",
              "      <th>2001-05</th>\n",
              "      <td>652.28</td>\n",
              "      <td>65.3</td>\n",
              "      <td>98.6</td>\n",
              "      <td>5.00</td>\n",
              "      <td>0.8</td>\n",
              "      <td>0.462863</td>\n",
              "    </tr>\n",
              "    <tr>\n",
              "      <th>2001-06</th>\n",
              "      <td>656.81</td>\n",
              "      <td>63.9</td>\n",
              "      <td>98.7</td>\n",
              "      <td>4.75</td>\n",
              "      <td>0.1</td>\n",
              "      <td>0.374588</td>\n",
              "    </tr>\n",
              "  </tbody>\n",
              "</table>\n",
              "</div>\n",
              "    <div class=\"colab-df-buttons\">\n",
              "\n",
              "  <div class=\"colab-df-container\">\n",
              "    <button class=\"colab-df-convert\" onclick=\"convertToInteractive('df-7b40f086-4b5f-42a3-b0dd-3aa82ee66827')\"\n",
              "            title=\"Convert this dataframe to an interactive table.\"\n",
              "            style=\"display:none;\">\n",
              "\n",
              "  <svg xmlns=\"http://www.w3.org/2000/svg\" height=\"24px\" viewBox=\"0 -960 960 960\">\n",
              "    <path d=\"M120-120v-720h720v720H120Zm60-500h600v-160H180v160Zm220 220h160v-160H400v160Zm0 220h160v-160H400v160ZM180-400h160v-160H180v160Zm440 0h160v-160H620v160ZM180-180h160v-160H180v160Zm440 0h160v-160H620v160Z\"/>\n",
              "  </svg>\n",
              "    </button>\n",
              "\n",
              "  <style>\n",
              "    .colab-df-container {\n",
              "      display:flex;\n",
              "      gap: 12px;\n",
              "    }\n",
              "\n",
              "    .colab-df-convert {\n",
              "      background-color: #E8F0FE;\n",
              "      border: none;\n",
              "      border-radius: 50%;\n",
              "      cursor: pointer;\n",
              "      display: none;\n",
              "      fill: #1967D2;\n",
              "      height: 32px;\n",
              "      padding: 0 0 0 0;\n",
              "      width: 32px;\n",
              "    }\n",
              "\n",
              "    .colab-df-convert:hover {\n",
              "      background-color: #E2EBFA;\n",
              "      box-shadow: 0px 1px 2px rgba(60, 64, 67, 0.3), 0px 1px 3px 1px rgba(60, 64, 67, 0.15);\n",
              "      fill: #174EA6;\n",
              "    }\n",
              "\n",
              "    .colab-df-buttons div {\n",
              "      margin-bottom: 4px;\n",
              "    }\n",
              "\n",
              "    [theme=dark] .colab-df-convert {\n",
              "      background-color: #3B4455;\n",
              "      fill: #D2E3FC;\n",
              "    }\n",
              "\n",
              "    [theme=dark] .colab-df-convert:hover {\n",
              "      background-color: #434B5C;\n",
              "      box-shadow: 0px 1px 3px 1px rgba(0, 0, 0, 0.15);\n",
              "      filter: drop-shadow(0px 1px 2px rgba(0, 0, 0, 0.3));\n",
              "      fill: #FFFFFF;\n",
              "    }\n",
              "  </style>\n",
              "\n",
              "    <script>\n",
              "      const buttonEl =\n",
              "        document.querySelector('#df-7b40f086-4b5f-42a3-b0dd-3aa82ee66827 button.colab-df-convert');\n",
              "      buttonEl.style.display =\n",
              "        google.colab.kernel.accessAllowed ? 'block' : 'none';\n",
              "\n",
              "      async function convertToInteractive(key) {\n",
              "        const element = document.querySelector('#df-7b40f086-4b5f-42a3-b0dd-3aa82ee66827');\n",
              "        const dataTable =\n",
              "          await google.colab.kernel.invokeFunction('convertToInteractive',\n",
              "                                                    [key], {});\n",
              "        if (!dataTable) return;\n",
              "\n",
              "        const docLinkHtml = 'Like what you see? Visit the ' +\n",
              "          '<a target=\"_blank\" href=https://colab.research.google.com/notebooks/data_table.ipynb>data table notebook</a>'\n",
              "          + ' to learn more about interactive tables.';\n",
              "        element.innerHTML = '';\n",
              "        dataTable['output_type'] = 'display_data';\n",
              "        await google.colab.output.renderOutput(dataTable, element);\n",
              "        const docLink = document.createElement('div');\n",
              "        docLink.innerHTML = docLinkHtml;\n",
              "        element.appendChild(docLink);\n",
              "      }\n",
              "    </script>\n",
              "  </div>\n",
              "\n",
              "\n",
              "<div id=\"df-533236c8-a0e5-4c18-8684-e8367aa5bbb6\">\n",
              "  <button class=\"colab-df-quickchart\" onclick=\"quickchart('df-533236c8-a0e5-4c18-8684-e8367aa5bbb6')\"\n",
              "            title=\"Suggest charts\"\n",
              "            style=\"display:none;\">\n",
              "\n",
              "<svg xmlns=\"http://www.w3.org/2000/svg\" height=\"24px\"viewBox=\"0 0 24 24\"\n",
              "     width=\"24px\">\n",
              "    <g>\n",
              "        <path d=\"M19 3H5c-1.1 0-2 .9-2 2v14c0 1.1.9 2 2 2h14c1.1 0 2-.9 2-2V5c0-1.1-.9-2-2-2zM9 17H7v-7h2v7zm4 0h-2V7h2v10zm4 0h-2v-4h2v4z\"/>\n",
              "    </g>\n",
              "</svg>\n",
              "  </button>\n",
              "\n",
              "<style>\n",
              "  .colab-df-quickchart {\n",
              "      --bg-color: #E8F0FE;\n",
              "      --fill-color: #1967D2;\n",
              "      --hover-bg-color: #E2EBFA;\n",
              "      --hover-fill-color: #174EA6;\n",
              "      --disabled-fill-color: #AAA;\n",
              "      --disabled-bg-color: #DDD;\n",
              "  }\n",
              "\n",
              "  [theme=dark] .colab-df-quickchart {\n",
              "      --bg-color: #3B4455;\n",
              "      --fill-color: #D2E3FC;\n",
              "      --hover-bg-color: #434B5C;\n",
              "      --hover-fill-color: #FFFFFF;\n",
              "      --disabled-bg-color: #3B4455;\n",
              "      --disabled-fill-color: #666;\n",
              "  }\n",
              "\n",
              "  .colab-df-quickchart {\n",
              "    background-color: var(--bg-color);\n",
              "    border: none;\n",
              "    border-radius: 50%;\n",
              "    cursor: pointer;\n",
              "    display: none;\n",
              "    fill: var(--fill-color);\n",
              "    height: 32px;\n",
              "    padding: 0;\n",
              "    width: 32px;\n",
              "  }\n",
              "\n",
              "  .colab-df-quickchart:hover {\n",
              "    background-color: var(--hover-bg-color);\n",
              "    box-shadow: 0 1px 2px rgba(60, 64, 67, 0.3), 0 1px 3px 1px rgba(60, 64, 67, 0.15);\n",
              "    fill: var(--button-hover-fill-color);\n",
              "  }\n",
              "\n",
              "  .colab-df-quickchart-complete:disabled,\n",
              "  .colab-df-quickchart-complete:disabled:hover {\n",
              "    background-color: var(--disabled-bg-color);\n",
              "    fill: var(--disabled-fill-color);\n",
              "    box-shadow: none;\n",
              "  }\n",
              "\n",
              "  .colab-df-spinner {\n",
              "    border: 2px solid var(--fill-color);\n",
              "    border-color: transparent;\n",
              "    border-bottom-color: var(--fill-color);\n",
              "    animation:\n",
              "      spin 1s steps(1) infinite;\n",
              "  }\n",
              "\n",
              "  @keyframes spin {\n",
              "    0% {\n",
              "      border-color: transparent;\n",
              "      border-bottom-color: var(--fill-color);\n",
              "      border-left-color: var(--fill-color);\n",
              "    }\n",
              "    20% {\n",
              "      border-color: transparent;\n",
              "      border-left-color: var(--fill-color);\n",
              "      border-top-color: var(--fill-color);\n",
              "    }\n",
              "    30% {\n",
              "      border-color: transparent;\n",
              "      border-left-color: var(--fill-color);\n",
              "      border-top-color: var(--fill-color);\n",
              "      border-right-color: var(--fill-color);\n",
              "    }\n",
              "    40% {\n",
              "      border-color: transparent;\n",
              "      border-right-color: var(--fill-color);\n",
              "      border-top-color: var(--fill-color);\n",
              "    }\n",
              "    60% {\n",
              "      border-color: transparent;\n",
              "      border-right-color: var(--fill-color);\n",
              "    }\n",
              "    80% {\n",
              "      border-color: transparent;\n",
              "      border-right-color: var(--fill-color);\n",
              "      border-bottom-color: var(--fill-color);\n",
              "    }\n",
              "    90% {\n",
              "      border-color: transparent;\n",
              "      border-bottom-color: var(--fill-color);\n",
              "    }\n",
              "  }\n",
              "</style>\n",
              "\n",
              "  <script>\n",
              "    async function quickchart(key) {\n",
              "      const quickchartButtonEl =\n",
              "        document.querySelector('#' + key + ' button');\n",
              "      quickchartButtonEl.disabled = true;  // To prevent multiple clicks.\n",
              "      quickchartButtonEl.classList.add('colab-df-spinner');\n",
              "      try {\n",
              "        const charts = await google.colab.kernel.invokeFunction(\n",
              "            'suggestCharts', [key], {});\n",
              "      } catch (error) {\n",
              "        console.error('Error during call to suggestCharts:', error);\n",
              "      }\n",
              "      quickchartButtonEl.classList.remove('colab-df-spinner');\n",
              "      quickchartButtonEl.classList.add('colab-df-quickchart-complete');\n",
              "    }\n",
              "    (() => {\n",
              "      let quickchartButtonEl =\n",
              "        document.querySelector('#df-533236c8-a0e5-4c18-8684-e8367aa5bbb6 button');\n",
              "      quickchartButtonEl.style.display =\n",
              "        google.colab.kernel.accessAllowed ? 'block' : 'none';\n",
              "    })();\n",
              "  </script>\n",
              "</div>\n",
              "\n",
              "    </div>\n",
              "  </div>\n"
            ],
            "application/vnd.google.colaboratory.intrinsic+json": {
              "type": "dataframe",
              "variable_name": "data_diff",
              "summary": "{\n  \"name\": \"data_diff\",\n  \"rows\": 287,\n  \"fields\": [\n    {\n      \"column\": \"date\",\n      \"properties\": {\n        \"dtype\": \"object\",\n        \"num_unique_values\": 287,\n        \"samples\": [\n          \"2001-11\",\n          \"2022-05\",\n          \"2013-02\"\n        ],\n        \"semantic_type\": \"\",\n        \"description\": \"\"\n      }\n    },\n    {\n      \"column\": \"wage\",\n      \"properties\": {\n        \"dtype\": \"number\",\n        \"std\": 169.72697098316007,\n        \"min\": 652.28,\n        \"max\": 1285.91,\n        \"num_unique_values\": 285,\n        \"samples\": [\n          659.72,\n          1142.05,\n          931.54\n        ],\n        \"semantic_type\": \"\",\n        \"description\": \"\"\n      }\n    },\n    {\n      \"column\": \"rmpi\",\n      \"properties\": {\n        \"dtype\": \"number\",\n        \"std\": 24.266421421303175,\n        \"min\": 55.3,\n        \"max\": 166.6,\n        \"num_unique_values\": 242,\n        \"samples\": [\n          61.8,\n          60.8,\n          88.1\n        ],\n        \"semantic_type\": \"\",\n        \"description\": \"\"\n      }\n    },\n    {\n      \"column\": \"cpi\",\n      \"properties\": {\n        \"dtype\": \"number\",\n        \"std\": 17.0965445907512,\n        \"min\": 96.8,\n        \"max\": 162.1,\n        \"num_unique_values\": 224,\n        \"samples\": [\n          97.6,\n          115.1,\n          122.9\n        ],\n        \"semantic_type\": \"\",\n        \"description\": \"\"\n      }\n    },\n    {\n      \"column\": \"rate\",\n      \"properties\": {\n        \"dtype\": \"number\",\n        \"std\": 1.5172894729913184,\n        \"min\": 0.5,\n        \"max\": 5.75,\n        \"num_unique_values\": 21,\n        \"samples\": [\n          5.75,\n          0.5,\n          1.25\n        ],\n        \"semantic_type\": \"\",\n        \"description\": \"\"\n      }\n    },\n    {\n      \"column\": \"cpi_diff\",\n      \"properties\": {\n        \"dtype\": \"number\",\n        \"std\": 0.49364495242146783,\n        \"min\": -1.2000000000000028,\n        \"max\": 2.0999999999999943,\n        \"num_unique_values\": 54,\n        \"samples\": [\n          -0.09999999999999432,\n          0.799999999999983,\n          -0.8000000000000114\n        ],\n        \"semantic_type\": \"\",\n        \"description\": \"\"\n      }\n    },\n    {\n      \"column\": \"cpi_cyclical\",\n      \"properties\": {\n        \"dtype\": \"number\",\n        \"std\": 0.33706171968620924,\n        \"min\": -0.9873287202004235,\n        \"max\": 0.9375794066569654,\n        \"num_unique_values\": 287,\n        \"samples\": [\n          -0.6439934855998644,\n          0.8450857574383122,\n          0.4299446970852472\n        ],\n        \"semantic_type\": \"\",\n        \"description\": \"\"\n      }\n    }\n  ]\n}"
            }
          },
          "metadata": {},
          "execution_count": 31
        }
      ]
    },
    {
      "cell_type": "code",
      "source": [
        "# adf test - cpi cyclical\n",
        "adf_result = adfuller(data_diff['cpi_cyclical'])\n",
        "print(f'ADF Statistic: {adf_result[0]}')\n",
        "print(f'p-value: {adf_result[1]}')"
      ],
      "metadata": {
        "id": "mkN_C9xhiTr1",
        "outputId": "fc53db0d-b40a-4528-a9cf-ef408548e19d",
        "colab": {
          "base_uri": "https://localhost:8080/"
        }
      },
      "execution_count": 32,
      "outputs": [
        {
          "output_type": "stream",
          "name": "stdout",
          "text": [
            "ADF Statistic: -9.451391567121062\n",
            "p-value: 4.6061792055972e-16\n"
          ]
        }
      ]
    },
    {
      "cell_type": "code",
      "source": [
        "# adf test - cpi diff\n",
        "adf_result = adfuller(data_diff['cpi_diff'])\n",
        "print(f'ADF Statistic: {adf_result[0]}')\n",
        "print(f'p-value: {adf_result[1]}')"
      ],
      "metadata": {
        "colab": {
          "base_uri": "https://localhost:8080/"
        },
        "id": "huSE-JnC0OHZ",
        "outputId": "1ae56a6d-d4a5-4094-f507-681f59cff85f"
      },
      "execution_count": 33,
      "outputs": [
        {
          "output_type": "stream",
          "name": "stdout",
          "text": [
            "ADF Statistic: -2.956485504812459\n",
            "p-value: 0.03916280564842521\n"
          ]
        }
      ]
    },
    {
      "cell_type": "code",
      "source": [
        "# convert index to datetime with frequency for statsmodels\n",
        "data_diff.index = pd.date_range(start = '2001-01-01',\n",
        "                                periods = len(data_diff),\n",
        "                                freq = 'MS')"
      ],
      "metadata": {
        "id": "4ybYz_tHP0k3"
      },
      "execution_count": 34,
      "outputs": []
    },
    {
      "cell_type": "markdown",
      "source": [
        "### ARIMA statistical model"
      ],
      "metadata": {
        "id": "8lrlTTjhhUQN"
      }
    },
    {
      "cell_type": "markdown",
      "source": [
        "The auto-regressive integrate moving average model is not a machine learning model, but a statistical model that is frequently used on time series data. It models series based upon its own prior values. Some assumptions of the model:\n",
        "* stationary data\n",
        "* sensitive to outliers\n",
        "* and others..."
      ],
      "metadata": {
        "id": "rv2W4p9PhZRu"
      }
    },
    {
      "cell_type": "code",
      "source": [
        "def evaluate_arima_rmse(data, p_values, d_values, q_values):\n",
        "    \"\"\"\n",
        "    Iterate through (p, d, q) values, fit ARIMA models, and compute RMSE.\n",
        "\n",
        "    Parameters:\n",
        "        data (pd.Series): Time series data.\n",
        "        p_values (list): List of AR terms.\n",
        "        d_values (list): List of differencing terms.\n",
        "        q_values (list): List of MA terms.\n",
        "\n",
        "    Returns:\n",
        "        results (list of tuples): (p, d, q, RMSE)\n",
        "    \"\"\"\n",
        "    best_score = float(\"inf\")\n",
        "    results = []\n",
        "\n",
        "    # Iterate through all combinations of (p, d, q)\n",
        "    for p, d, q in itertools.product(p_values, d_values, q_values):\n",
        "        try:\n",
        "            # Fit ARIMA model\n",
        "            model = ARIMA(data, order=(p, d, q))\n",
        "            model_fit = model.fit()\n",
        "\n",
        "            # Generate in-sample predictions\n",
        "            predictions = model_fit.fittedvalues\n",
        "\n",
        "            # Compute RMSE\n",
        "            rmse = np.sqrt(mean_squared_error(data[d:], predictions[d:]))  # Align differenced series\n",
        "\n",
        "\n",
        "            # Store results\n",
        "            results.append((p, d, q, rmse))\n",
        "\n",
        "            # Track best model\n",
        "            if rmse < best_score:\n",
        "                best_score = rmse\n",
        "                best_cfg = (p, d, q)\n",
        "\n",
        "            print(f'ARIMA({p},{d},{q}) - RMSE: {rmse:.4f}')\n",
        "\n",
        "        except Exception as e:\n",
        "            print(f'ARIMA({p},{d},{q}) failed: {e}')\n",
        "            continue\n",
        "\n",
        "    # Convert results to DataFrame\n",
        "    results_df = pd.DataFrame(results, columns=['p', 'd', 'q', 'RMSE']).sort_values(by='RMSE')\n",
        "\n",
        "    print(\"\\nBest Model:\", best_cfg, \"with RMSE:\", best_score)\n",
        "\n",
        "    return results_df"
      ],
      "metadata": {
        "id": "pcw9fpOCoBkt"
      },
      "execution_count": 35,
      "outputs": []
    },
    {
      "cell_type": "code",
      "source": [
        "# train & test - original\n",
        "# train_data = data_diff['2021-01-01':'2023-12-31']['cpi']\n",
        "# test_data = data_diff['2024-01-01':'2024-12-31']['cpi']"
      ],
      "metadata": {
        "id": "mt_GarrU18x2"
      },
      "execution_count": 39,
      "outputs": []
    },
    {
      "cell_type": "code",
      "source": [
        "# train & test data - cyclical\n",
        "train_arima_cyclical = data_diff['2001-01-01':'2023-12-31']['cpi_cyclical']\n",
        "test_arima_cyclical = data_diff['2024-01-01':'2024-12-31']['cpi_cyclical']"
      ],
      "metadata": {
        "id": "bYVuP7AOhSSK"
      },
      "execution_count": 54,
      "outputs": []
    },
    {
      "cell_type": "code",
      "source": [
        "# train & test data - diff\n",
        "# train_arima_diff = data_diff['2001-01-01':'2023-12-31']['cpi_diff']\n",
        "# test_arima_diff = data_diff['2024-01-01':'2024-12-31']['cpi_diff']"
      ],
      "metadata": {
        "id": "GhYis1wu0qMb"
      },
      "execution_count": 50,
      "outputs": []
    },
    {
      "cell_type": "code",
      "source": [
        "warnings.filterwarnings('ignore', message = 'Non-stationary starting autoregressive parameters')\n",
        "warnings.filterwarnings('ignore', message = 'Non-invertible starting MA parameters found.')\n",
        "warnings.filterwarnings('ignore', message = 'Maximum Likelihood optimization failed to ')\n",
        "\n",
        "# parameters to search\n",
        "p_values = [1, 2, 3, 6, 12]\n",
        "d_values = [0, 1]\n",
        "q_values = [1, 2, 3, 6, 12]\n",
        "df = train_arima_cyclical\n",
        "\n",
        "arima_results = evaluate_arima_rmse(df, p_values, d_values, q_values)\n",
        "\n"
      ],
      "metadata": {
        "id": "9rOBSck9lEJn",
        "outputId": "7b26446e-ad52-4518-e350-d90413d4de03",
        "colab": {
          "base_uri": "https://localhost:8080/"
        }
      },
      "execution_count": 72,
      "outputs": [
        {
          "output_type": "stream",
          "name": "stdout",
          "text": [
            "ARIMA(1,0,1) - RMSE: 0.3010\n",
            "ARIMA(1,0,2) - RMSE: 0.2694\n",
            "ARIMA(1,0,3) - RMSE: 0.2620\n",
            "ARIMA(1,0,6) - RMSE: 0.2607\n",
            "ARIMA(1,0,12) - RMSE: 0.2316\n",
            "ARIMA(1,1,1) - RMSE: 0.3148\n",
            "ARIMA(1,1,2) - RMSE: 0.3037\n",
            "ARIMA(1,1,3) - RMSE: 0.2977\n",
            "ARIMA(1,1,6) - RMSE: 0.2625\n",
            "ARIMA(1,1,12) - RMSE: 0.2333\n",
            "ARIMA(2,0,1) - RMSE: 0.2549\n",
            "ARIMA(2,0,2) - RMSE: 0.2348\n",
            "ARIMA(2,0,3) - RMSE: 0.2684\n",
            "ARIMA(2,0,6) - RMSE: 0.2599\n",
            "ARIMA(2,0,12) - RMSE: 0.2342\n",
            "ARIMA(2,1,1) - RMSE: 0.2982\n",
            "ARIMA(2,1,2) - RMSE: 0.2599\n",
            "ARIMA(2,1,3) - RMSE: 0.2978\n",
            "ARIMA(2,1,6) - RMSE: 0.2669\n",
            "ARIMA(2,1,12) - RMSE: 0.2381\n",
            "ARIMA(3,0,1) - RMSE: 0.2548\n",
            "ARIMA(3,0,2) - RMSE: 0.2525\n",
            "ARIMA(3,0,3) - RMSE: 0.2339\n",
            "ARIMA(3,0,6) - RMSE: 0.2599\n",
            "ARIMA(3,0,12) - RMSE: 0.2313\n",
            "ARIMA(3,1,1) - RMSE: 0.2976\n",
            "ARIMA(3,1,2) - RMSE: 0.2936\n",
            "ARIMA(3,1,3) - RMSE: 0.2609\n",
            "ARIMA(3,1,6) - RMSE: 0.2946\n",
            "ARIMA(3,1,12) - RMSE: 0.2336\n",
            "ARIMA(6,0,1) - RMSE: 0.2397\n",
            "ARIMA(6,0,2) - RMSE: 0.2381\n",
            "ARIMA(6,0,3) - RMSE: 0.2445\n",
            "ARIMA(6,0,6) - RMSE: 0.2256\n",
            "ARIMA(6,0,12) - RMSE: 0.2307\n",
            "ARIMA(6,1,1) - RMSE: 0.2842\n",
            "ARIMA(6,1,2) - RMSE: 0.2838\n",
            "ARIMA(6,1,3) - RMSE: 0.2443\n",
            "ARIMA(6,1,6) - RMSE: 0.2669\n",
            "ARIMA(6,1,12) - RMSE: 0.2589\n",
            "ARIMA(12,0,1) - RMSE: 0.2388\n",
            "ARIMA(12,0,2) - RMSE: 0.2189\n",
            "ARIMA(12,0,3) - RMSE: 0.2180\n",
            "ARIMA(12,0,6) - RMSE: 0.2174\n",
            "ARIMA(12,0,12) - RMSE: 0.2128\n",
            "ARIMA(12,1,1) - RMSE: 0.2431\n",
            "ARIMA(12,1,2) - RMSE: 0.2407\n",
            "ARIMA(12,1,3) - RMSE: 0.2416\n",
            "ARIMA(12,1,6) - RMSE: 0.2192\n",
            "ARIMA(12,1,12) - RMSE: 0.2131\n",
            "\n",
            "Best Model: (12, 0, 12) with RMSE: 0.21280465396697065\n"
          ]
        }
      ]
    },
    {
      "cell_type": "code",
      "source": [
        "# model\n",
        "arima_model = sm.tsa.ARIMA(train_arima_cyclical,\n",
        "                           order = (12, 0, 12))\n",
        "\n",
        "# fit\n",
        "arima_fit = arima_model.fit()"
      ],
      "metadata": {
        "colab": {
          "base_uri": "https://localhost:8080/"
        },
        "id": "9Rd75Jnjusmp",
        "outputId": "fb9ef4af-7c82-4a0c-8cd2-3426d17b5bf8"
      },
      "execution_count": 56,
      "outputs": [
        {
          "output_type": "stream",
          "name": "stderr",
          "text": [
            "/usr/local/lib/python3.11/dist-packages/statsmodels/tsa/statespace/sarimax.py:978: UserWarning: Non-invertible starting MA parameters found. Using zeros as starting parameters.\n",
            "  warn('Non-invertible starting MA parameters found.'\n",
            "/usr/local/lib/python3.11/dist-packages/statsmodels/base/model.py:607: ConvergenceWarning: Maximum Likelihood optimization failed to converge. Check mle_retvals\n",
            "  warnings.warn(\"Maximum Likelihood optimization failed to \"\n"
          ]
        }
      ]
    },
    {
      "cell_type": "code",
      "source": [
        "# residuals\n",
        "residuals = arima_fit.resid\n",
        "\n",
        "# plot hist and qq\n",
        "fig, ax = plt.subplots(1,\n",
        "                       2,\n",
        "                       figsize = (12, 5))\n",
        "\n",
        "stats.probplot(residuals,\n",
        "               plot = ax[0])\n",
        "ax[0].set_title('qq plot')\n",
        "\n",
        "ax[1].hist(residuals,\n",
        "           bins = 25,\n",
        "           density = True,\n",
        "           alpha = 0.7,\n",
        "           color = 'blue')\n",
        "ax[1].set_title(residuals)\n",
        "\n",
        "plt.show()\n",
        "\n",
        "# acf plot\n",
        "sm.graphics.tsa.plot_acf(residuals,\n",
        "                         lags = 12)\n",
        "plt.title('acf residuals')\n",
        "plt.show()"
      ],
      "metadata": {
        "colab": {
          "base_uri": "https://localhost:8080/",
          "height": 908
        },
        "id": "3Xaur9Wgvjia",
        "outputId": "de67fa78-6169-4b0b-9448-47a4e8419517"
      },
      "execution_count": 74,
      "outputs": [
        {
          "output_type": "display_data",
          "data": {
            "text/plain": [
              "<Figure size 1200x500 with 2 Axes>"
            ],
            "image/png": "[encoded data removed]"
          },
          "metadata": {}
        },
        {
          "output_type": "display_data",
          "data": {
            "text/plain": [
              "<Figure size 640x480 with 1 Axes>"
            ],
            "image/png": "[encoded data removed]"
          },
          "metadata": {}
        }
      ]
    },
    {
      "cell_type": "markdown",
      "source": [
        "QQ plot doesn't look too bad, distribution or residuals looks relatively normal, and no autocorrelation in residuals. I think it's close enough for demonstrative purposes."
      ],
      "metadata": {
        "id": "Vs5-5n9cl7uo"
      }
    },
    {
      "cell_type": "code",
      "source": [
        "# pred on test data\n",
        "forecast_test = arima_fit.get_forecast(steps = len(test_arima_cyclical))\n",
        "predictions = forecast_test.predicted_mean\n",
        "conf_int = forecast_test.conf_int(alpha = 0.10)\n",
        "\n",
        "# evaluate\n",
        "rmse = np.sqrt(mean_squared_error(test_arima_cyclical,\n",
        "                                  predictions))\n",
        "mae = mean_absolute_error(test_arima_cyclical,\n",
        "                          predictions)\n",
        "\n",
        "print(f\"RMSE: {rmse}\")\n",
        "print(f\"MAE: {mae}\")\n",
        "\n",
        "# plot\n",
        "plt.figure(figsize=(10, 5))\n",
        "plt.plot(data_diff.index,\n",
        "         data_diff['cpi_cyclical'],\n",
        "         label = 'actual cpi',\n",
        "         color = 'blue')\n",
        "plt.plot(test_arima_cyclical.index,\n",
        "         predictions,\n",
        "         label = 'predicted cpi (cyclical component)',\n",
        "         color = 'red',\n",
        "         linestyle = 'dashed')\n",
        "plt.fill_between(test_arima_cyclical.index,\n",
        "                 conf_int.iloc[:, 0],\n",
        "                 conf_int.iloc[:, 1],\n",
        "                 color = 'red',\n",
        "                 alpha = 0.10,\n",
        "                 edgecolor = 'black',\n",
        "                 linewidth = 0.5)\n",
        "plt.legend()\n",
        "plt.title('arima(12, 0, 12) cpi (cyclical component) predicted')\n",
        "plt.xlim(pd.to_datetime('2020-01-01'), data_diff.index[-1])\n",
        "plt.grid(True)\n",
        "\n",
        "plt.show()"
      ],
      "metadata": {
        "colab": {
          "base_uri": "https://localhost:8080/",
          "height": 403
        },
        "id": "yM4ijUVomikJ",
        "outputId": "f07b044b-501f-4de9-f19e-8272e07104e4"
      },
      "execution_count": 69,
      "outputs": [
        {
          "output_type": "stream",
          "name": "stdout",
          "text": [
            "RMSE: 0.3308918506501987\n",
            "MAE: 0.23435210335051135\n"
          ]
        },
        {
          "output_type": "display_data",
          "data": {
            "text/plain": [
              "<Figure size 1000x500 with 1 Axes>"
            ],
            "image/png": "[encoded data removed]"
          },
          "metadata": {}
        }
      ]
    },
    {
      "cell_type": "markdown",
      "source": [
        "Now that I have a model, lets forcast cpi for the next 6 months."
      ],
      "metadata": {
        "id": "Do-qKwoo_Q48"
      }
    },
    {
      "cell_type": "code",
      "source": [
        "# last date\n",
        "last_date = data_diff.index[-1]\n",
        "\n",
        "# create future dates\n",
        "future_dates = pd.date_range(start = last_date + pd.DateOffset(months = 1),\n",
        "                             periods = 6,\n",
        "                             freq = 'MS')\n",
        "\n",
        "\n",
        "# forecast\n",
        "forecast_future = arima_fit.get_forecast(steps = 6)\n",
        "predictions_future = forecast_future.predicted_mean\n",
        "conf_int_future = forecast_future.conf_int(alpha = 0.05)\n",
        "\n",
        "forecast_df = pd.DataFrame({'date': future_dates,\n",
        "                            'cpi_cyclical_forecast': predictions_future})\n",
        "\n",
        "print(forecast_df)\n",
        "\n",
        "# plot\n",
        "plt.figure(figsize=(10, 5))\n",
        "\n",
        "plt.plot(data_diff.index,\n",
        "         data_diff['cpi_cyclical'],\n",
        "         label = 'historical cpi (cyclical component)',\n",
        "         color = 'blue')\n",
        "\n",
        "plt.plot(forecast_df['date'],\n",
        "         forecast_df['cpi_cyclical_forecast'],\n",
        "         label = 'forecasted cpi (cyclical component)',\n",
        "         color = 'red',\n",
        "         linestyle = 'dashed')\n",
        "\n",
        "\n",
        "plt.fill_between(forecast_df['date'],\n",
        "                  conf_int_future.iloc[:, 0],\n",
        "                  conf_int_future.iloc[:, 1],\n",
        "                  color='red',\n",
        "                  alpha=0.10,\n",
        "                  edgecolor='black',\n",
        "                  linewidth=0.5)\n",
        "\n",
        "plt.legend()\n",
        "plt.title('arima forecast of cpi (cyclical component)')\n",
        "plt.xlabel('date')\n",
        "plt.ylabel('cpi (cyclical component)')\n",
        "plt.grid(True)\n",
        "\n",
        "plt.xlim(pd.to_datetime('2024-01-01'), forecast_df['date'].max())\n",
        "\n",
        "plt.show()"
      ],
      "metadata": {
        "colab": {
          "base_uri": "https://localhost:8080/",
          "height": 629
        },
        "id": "n9QDMZ6k-5QZ",
        "outputId": "78485a5f-a3a5-4562-d93b-6cb50f57bace"
      },
      "execution_count": 70,
      "outputs": [
        {
          "output_type": "stream",
          "name": "stdout",
          "text": [
            "                 date  cpi_cyclical_forecast\n",
            "2024-01-01 2024-12-01              -0.375973\n",
            "2024-02-01 2025-01-01              -0.080855\n",
            "2024-03-01 2025-02-01               0.058219\n",
            "2024-04-01 2025-03-01               0.244397\n",
            "2024-05-01 2025-04-01               0.177292\n",
            "2024-06-01 2025-05-01               0.257345\n"
          ]
        },
        {
          "output_type": "display_data",
          "data": {
            "text/plain": [
              "<Figure size 1000x500 with 1 Axes>"
            ],
            "image/png": "[encoded data removed]"
          },
          "metadata": {}
        }
      ]
    },
    {
      "cell_type": "markdown",
      "source": [
        "## Machine learning models"
      ],
      "metadata": {
        "id": "4spIfzstC6C8"
      }
    },
    {
      "cell_type": "markdown",
      "source": [
        "### Feature engineering"
      ],
      "metadata": {
        "id": "I2swfiPrF1Yj"
      }
    },
    {
      "cell_type": "code",
      "source": [
        "data_scaled.head()"
      ],
      "metadata": {
        "id": "WtOZHroCG23A",
        "outputId": "918c17f1-80d0-42a9-a10b-ff914e77708c",
        "colab": {
          "base_uri": "https://localhost:8080/",
          "height": 238
        }
      },
      "execution_count": 80,
      "outputs": [
        {
          "output_type": "execute_result",
          "data": {
            "text/plain": [
              "             wage      rmpi       cpi      rate\n",
              "date                                           \n",
              "2001-01 -1.498749 -1.398244 -1.603291  2.449261\n",
              "2001-02 -1.519656 -1.373517 -1.574075  2.285562\n",
              "2001-03 -1.510528 -1.385881 -1.556545  1.958163\n",
              "2001-04 -1.526429 -1.398244 -1.515643  1.958163\n",
              "2001-05 -1.527371 -1.394123 -1.468897  1.794463"
            ],
            "text/html": [
              "\n",
              "  <div id=\"df-53bd0e64-cfe7-4870-a850-6a83d287fca0\" class=\"colab-df-container\">\n",
              "    <div>\n",
              "<style scoped>\n",
              "    .dataframe tbody tr th:only-of-type {\n",
              "        vertical-align: middle;\n",
              "    }\n",
              "\n",
              "    .dataframe tbody tr th {\n",
              "        vertical-align: top;\n",
              "    }\n",
              "\n",
              "    .dataframe thead th {\n",
              "        text-align: right;\n",
              "    }\n",
              "</style>\n",
              "<table border=\"1\" class=\"dataframe\">\n",
              "  <thead>\n",
              "    <tr style=\"text-align: right;\">\n",
              "      <th></th>\n",
              "      <th>wage</th>\n",
              "      <th>rmpi</th>\n",
              "      <th>cpi</th>\n",
              "      <th>rate</th>\n",
              "    </tr>\n",
              "    <tr>\n",
              "      <th>date</th>\n",
              "      <th></th>\n",
              "      <th></th>\n",
              "      <th></th>\n",
              "      <th></th>\n",
              "    </tr>\n",
              "  </thead>\n",
              "  <tbody>\n",
              "    <tr>\n",
              "      <th>2001-01</th>\n",
              "      <td>-1.498749</td>\n",
              "      <td>-1.398244</td>\n",
              "      <td>-1.603291</td>\n",
              "      <td>2.449261</td>\n",
              "    </tr>\n",
              "    <tr>\n",
              "      <th>2001-02</th>\n",
              "      <td>-1.519656</td>\n",
              "      <td>-1.373517</td>\n",
              "      <td>-1.574075</td>\n",
              "      <td>2.285562</td>\n",
              "    </tr>\n",
              "    <tr>\n",
              "      <th>2001-03</th>\n",
              "      <td>-1.510528</td>\n",
              "      <td>-1.385881</td>\n",
              "      <td>-1.556545</td>\n",
              "      <td>1.958163</td>\n",
              "    </tr>\n",
              "    <tr>\n",
              "      <th>2001-04</th>\n",
              "      <td>-1.526429</td>\n",
              "      <td>-1.398244</td>\n",
              "      <td>-1.515643</td>\n",
              "      <td>1.958163</td>\n",
              "    </tr>\n",
              "    <tr>\n",
              "      <th>2001-05</th>\n",
              "      <td>-1.527371</td>\n",
              "      <td>-1.394123</td>\n",
              "      <td>-1.468897</td>\n",
              "      <td>1.794463</td>\n",
              "    </tr>\n",
              "  </tbody>\n",
              "</table>\n",
              "</div>\n",
              "    <div class=\"colab-df-buttons\">\n",
              "\n",
              "  <div class=\"colab-df-container\">\n",
              "    <button class=\"colab-df-convert\" onclick=\"convertToInteractive('df-53bd0e64-cfe7-4870-a850-6a83d287fca0')\"\n",
              "            title=\"Convert this dataframe to an interactive table.\"\n",
              "            style=\"display:none;\">\n",
              "\n",
              "  <svg xmlns=\"http://www.w3.org/2000/svg\" height=\"24px\" viewBox=\"0 -960 960 960\">\n",
              "    <path d=\"M120-120v-720h720v720H120Zm60-500h600v-160H180v160Zm220 220h160v-160H400v160Zm0 220h160v-160H400v160ZM180-400h160v-160H180v160Zm440 0h160v-160H620v160ZM180-180h160v-160H180v160Zm440 0h160v-160H620v160Z\"/>\n",
              "  </svg>\n",
              "    </button>\n",
              "\n",
              "  <style>\n",
              "    .colab-df-container {\n",
              "      display:flex;\n",
              "      gap: 12px;\n",
              "    }\n",
              "\n",
              "    .colab-df-convert {\n",
              "      background-color: #E8F0FE;\n",
              "      border: none;\n",
              "      border-radius: 50%;\n",
              "      cursor: pointer;\n",
              "      display: none;\n",
              "      fill: #1967D2;\n",
              "      height: 32px;\n",
              "      padding: 0 0 0 0;\n",
              "      width: 32px;\n",
              "    }\n",
              "\n",
              "    .colab-df-convert:hover {\n",
              "      background-color: #E2EBFA;\n",
              "      box-shadow: 0px 1px 2px rgba(60, 64, 67, 0.3), 0px 1px 3px 1px rgba(60, 64, 67, 0.15);\n",
              "      fill: #174EA6;\n",
              "    }\n",
              "\n",
              "    .colab-df-buttons div {\n",
              "      margin-bottom: 4px;\n",
              "    }\n",
              "\n",
              "    [theme=dark] .colab-df-convert {\n",
              "      background-color: #3B4455;\n",
              "      fill: #D2E3FC;\n",
              "    }\n",
              "\n",
              "    [theme=dark] .colab-df-convert:hover {\n",
              "      background-color: #434B5C;\n",
              "      box-shadow: 0px 1px 3px 1px rgba(0, 0, 0, 0.15);\n",
              "      filter: drop-shadow(0px 1px 2px rgba(0, 0, 0, 0.3));\n",
              "      fill: #FFFFFF;\n",
              "    }\n",
              "  </style>\n",
              "\n",
              "    <script>\n",
              "      const buttonEl =\n",
              "        document.querySelector('#df-53bd0e64-cfe7-4870-a850-6a83d287fca0 button.colab-df-convert');\n",
              "      buttonEl.style.display =\n",
              "        google.colab.kernel.accessAllowed ? 'block' : 'none';\n",
              "\n",
              "      async function convertToInteractive(key) {\n",
              "        const element = document.querySelector('#df-53bd0e64-cfe7-4870-a850-6a83d287fca0');\n",
              "        const dataTable =\n",
              "          await google.colab.kernel.invokeFunction('convertToInteractive',\n",
              "                                                    [key], {});\n",
              "        if (!dataTable) return;\n",
              "\n",
              "        const docLinkHtml = 'Like what you see? Visit the ' +\n",
              "          '<a target=\"_blank\" href=https://colab.research.google.com/notebooks/data_table.ipynb>data table notebook</a>'\n",
              "          + ' to learn more about interactive tables.';\n",
              "        element.innerHTML = '';\n",
              "        dataTable['output_type'] = 'display_data';\n",
              "        await google.colab.output.renderOutput(dataTable, element);\n",
              "        const docLink = document.createElement('div');\n",
              "        docLink.innerHTML = docLinkHtml;\n",
              "        element.appendChild(docLink);\n",
              "      }\n",
              "    </script>\n",
              "  </div>\n",
              "\n",
              "\n",
              "<div id=\"df-2a9cdaeb-86d5-4502-89fe-63cb4b598c05\">\n",
              "  <button class=\"colab-df-quickchart\" onclick=\"quickchart('df-2a9cdaeb-86d5-4502-89fe-63cb4b598c05')\"\n",
              "            title=\"Suggest charts\"\n",
              "            style=\"display:none;\">\n",
              "\n",
              "<svg xmlns=\"http://www.w3.org/2000/svg\" height=\"24px\"viewBox=\"0 0 24 24\"\n",
              "     width=\"24px\">\n",
              "    <g>\n",
              "        <path d=\"M19 3H5c-1.1 0-2 .9-2 2v14c0 1.1.9 2 2 2h14c1.1 0 2-.9 2-2V5c0-1.1-.9-2-2-2zM9 17H7v-7h2v7zm4 0h-2V7h2v10zm4 0h-2v-4h2v4z\"/>\n",
              "    </g>\n",
              "</svg>\n",
              "  </button>\n",
              "\n",
              "<style>\n",
              "  .colab-df-quickchart {\n",
              "      --bg-color: #E8F0FE;\n",
              "      --fill-color: #1967D2;\n",
              "      --hover-bg-color: #E2EBFA;\n",
              "      --hover-fill-color: #174EA6;\n",
              "      --disabled-fill-color: #AAA;\n",
              "      --disabled-bg-color: #DDD;\n",
              "  }\n",
              "\n",
              "  [theme=dark] .colab-df-quickchart {\n",
              "      --bg-color: #3B4455;\n",
              "      --fill-color: #D2E3FC;\n",
              "      --hover-bg-color: #434B5C;\n",
              "      --hover-fill-color: #FFFFFF;\n",
              "      --disabled-bg-color: #3B4455;\n",
              "      --disabled-fill-color: #666;\n",
              "  }\n",
              "\n",
              "  .colab-df-quickchart {\n",
              "    background-color: var(--bg-color);\n",
              "    border: none;\n",
              "    border-radius: 50%;\n",
              "    cursor: pointer;\n",
              "    display: none;\n",
              "    fill: var(--fill-color);\n",
              "    height: 32px;\n",
              "    padding: 0;\n",
              "    width: 32px;\n",
              "  }\n",
              "\n",
              "  .colab-df-quickchart:hover {\n",
              "    background-color: var(--hover-bg-color);\n",
              "    box-shadow: 0 1px 2px rgba(60, 64, 67, 0.3), 0 1px 3px 1px rgba(60, 64, 67, 0.15);\n",
              "    fill: var(--button-hover-fill-color);\n",
              "  }\n",
              "\n",
              "  .colab-df-quickchart-complete:disabled,\n",
              "  .colab-df-quickchart-complete:disabled:hover {\n",
              "    background-color: var(--disabled-bg-color);\n",
              "    fill: var(--disabled-fill-color);\n",
              "    box-shadow: none;\n",
              "  }\n",
              "\n",
              "  .colab-df-spinner {\n",
              "    border: 2px solid var(--fill-color);\n",
              "    border-color: transparent;\n",
              "    border-bottom-color: var(--fill-color);\n",
              "    animation:\n",
              "      spin 1s steps(1) infinite;\n",
              "  }\n",
              "\n",
              "  @keyframes spin {\n",
              "    0% {\n",
              "      border-color: transparent;\n",
              "      border-bottom-color: var(--fill-color);\n",
              "      border-left-color: var(--fill-color);\n",
              "    }\n",
              "    20% {\n",
              "      border-color: transparent;\n",
              "      border-left-color: var(--fill-color);\n",
              "      border-top-color: var(--fill-color);\n",
              "    }\n",
              "    30% {\n",
              "      border-color: transparent;\n",
              "      border-left-color: var(--fill-color);\n",
              "      border-top-color: var(--fill-color);\n",
              "      border-right-color: var(--fill-color);\n",
              "    }\n",
              "    40% {\n",
              "      border-color: transparent;\n",
              "      border-right-color: var(--fill-color);\n",
              "      border-top-color: var(--fill-color);\n",
              "    }\n",
              "    60% {\n",
              "      border-color: transparent;\n",
              "      border-right-color: var(--fill-color);\n",
              "    }\n",
              "    80% {\n",
              "      border-color: transparent;\n",
              "      border-right-color: var(--fill-color);\n",
              "      border-bottom-color: var(--fill-color);\n",
              "    }\n",
              "    90% {\n",
              "      border-color: transparent;\n",
              "      border-bottom-color: var(--fill-color);\n",
              "    }\n",
              "  }\n",
              "</style>\n",
              "\n",
              "  <script>\n",
              "    async function quickchart(key) {\n",
              "      const quickchartButtonEl =\n",
              "        document.querySelector('#' + key + ' button');\n",
              "      quickchartButtonEl.disabled = true;  // To prevent multiple clicks.\n",
              "      quickchartButtonEl.classList.add('colab-df-spinner');\n",
              "      try {\n",
              "        const charts = await google.colab.kernel.invokeFunction(\n",
              "            'suggestCharts', [key], {});\n",
              "      } catch (error) {\n",
              "        console.error('Error during call to suggestCharts:', error);\n",
              "      }\n",
              "      quickchartButtonEl.classList.remove('colab-df-spinner');\n",
              "      quickchartButtonEl.classList.add('colab-df-quickchart-complete');\n",
              "    }\n",
              "    (() => {\n",
              "      let quickchartButtonEl =\n",
              "        document.querySelector('#df-2a9cdaeb-86d5-4502-89fe-63cb4b598c05 button');\n",
              "      quickchartButtonEl.style.display =\n",
              "        google.colab.kernel.accessAllowed ? 'block' : 'none';\n",
              "    })();\n",
              "  </script>\n",
              "</div>\n",
              "\n",
              "    </div>\n",
              "  </div>\n"
            ],
            "application/vnd.google.colaboratory.intrinsic+json": {
              "type": "dataframe",
              "variable_name": "data_scaled",
              "summary": "{\n  \"name\": \"data_scaled\",\n  \"rows\": 289,\n  \"fields\": [\n    {\n      \"column\": \"date\",\n      \"properties\": {\n        \"dtype\": \"object\",\n        \"num_unique_values\": 289,\n        \"samples\": [\n          \"2004-10\",\n          \"2014-02\",\n          \"2023-11\"\n        ],\n        \"semantic_type\": \"\",\n        \"description\": \"\"\n      }\n    },\n    {\n      \"column\": \"wage\",\n      \"properties\": {\n        \"dtype\": \"number\",\n        \"std\": 1.0017406453556188,\n        \"min\": -1.527370823241573,\n        \"max\": 2.204201608857977,\n        \"num_unique_values\": 286,\n        \"samples\": [\n          -1.4765470458178098,\n          1.7041498196283427,\n          -0.06431740199180394\n        ],\n        \"semantic_type\": \"\",\n        \"description\": \"\"\n      }\n    },\n    {\n      \"column\": \"rmpi\",\n      \"properties\": {\n        \"dtype\": \"number\",\n        \"std\": 1.001740645355619,\n        \"min\": -1.8062426067461006,\n        \"max\": 2.780647709251696,\n        \"num_unique_values\": 242,\n        \"samples\": [\n          -1.5383649153356274,\n          -1.5795768678603155,\n          -0.4544905639363278\n        ],\n        \"semantic_type\": \"\",\n        \"description\": \"\"\n      }\n    },\n    {\n      \"column\": \"cpi\",\n      \"properties\": {\n        \"dtype\": \"number\",\n        \"std\": 1.001740645355619,\n        \"min\": -1.6032906087712973,\n        \"max\": 2.241539168946531,\n        \"num_unique_values\": 225,\n        \"samples\": [\n          -1.5390153389310293,\n          0.9268177403956016,\n          -0.03731130720841305\n        ],\n        \"semantic_type\": \"\",\n        \"description\": \"\"\n      }\n    },\n    {\n      \"column\": \"rate\",\n      \"properties\": {\n        \"dtype\": \"number\",\n        \"std\": 1.001734606680942,\n        \"min\": -1.1521270746509122,\n        \"max\": 2.4492612934073468,\n        \"num_unique_values\": 22,\n        \"samples\": [\n          2.4492612934073468,\n          0.8122665806535927,\n          0.4848676381028419\n        ],\n        \"semantic_type\": \"\",\n        \"description\": \"\"\n      }\n    }\n  ]\n}"
            }
          },
          "metadata": {},
          "execution_count": 80
        }
      ]
    },
    {
      "cell_type": "code",
      "source": [
        "ml_df = data_scaled.copy()\n",
        "ml_df = ml_df.reset_index()"
      ],
      "metadata": {
        "id": "anP0s0IdC0rN"
      },
      "execution_count": 141,
      "outputs": []
    },
    {
      "cell_type": "code",
      "source": [
        "ml_df['date'] = pd.to_datetime(ml_df['date'])"
      ],
      "metadata": {
        "id": "DGwqa4WCHFn4"
      },
      "execution_count": 142,
      "outputs": []
    },
    {
      "cell_type": "code",
      "source": [
        "# date features\n",
        "ml_df['year'] = ml_df['date'].dt.year\n",
        "ml_df['month'] = ml_df['date'].dt.month\n",
        "ml_df['quarter'] = ml_df['date'].dt.quarter"
      ],
      "metadata": {
        "id": "nUh-Y1IUC0oC"
      },
      "execution_count": 143,
      "outputs": []
    },
    {
      "cell_type": "code",
      "source": [
        "# cpi lag features - months\n",
        "ml_df['cpi_lag1'] = ml_df['cpi'].shift(1)\n",
        "ml_df['cpi_lag3'] = ml_df['cpi'].shift(3)\n",
        "ml_df['cpi_lag6'] = ml_df['cpi'].shift(6)\n",
        "ml_df['cpi_lag9'] = ml_df['cpi'].shift(9)\n",
        "ml_df['cpi_lag12'] = ml_df['cpi'].shift(12)"
      ],
      "metadata": {
        "id": "x18HgzXBC0ka"
      },
      "execution_count": 144,
      "outputs": []
    },
    {
      "cell_type": "code",
      "source": [
        "# cpi rolling window - mean\n",
        "ml_df['cpi_rolling_mean3'] = ml_df['cpi'].rolling(window = 3).mean()\n",
        "ml_df['cpi_rolling_mean6'] = ml_df['cpi'].rolling(window = 6).mean()\n",
        "ml_df['cpi_rolling_mean9'] = ml_df['cpi'].rolling(window = 9).mean()"
      ],
      "metadata": {
        "id": "8t1hmGD8C0gR"
      },
      "execution_count": 145,
      "outputs": []
    },
    {
      "cell_type": "code",
      "source": [
        "# cpi exp. moving avg - ema\n",
        "ml_df['cpi_ema3'] = ml_df['cpi'].ewm(span = 3).mean()\n",
        "ml_df['cpi_ema6'] = ml_df['cpi'].ewm(span = 6).mean()\n",
        "ml_df['cpi_ema9'] = ml_df['cpi'].ewm(span = 9).mean()"
      ],
      "metadata": {
        "id": "Snq5Hg6NC0ch"
      },
      "execution_count": 146,
      "outputs": []
    },
    {
      "cell_type": "code",
      "source": [
        "ml_df['cpi_pct_change'] = ml_df['cpi'].pct_change()"
      ],
      "metadata": {
        "id": "hWyQ7_3YMO1f",
        "outputId": "019b82a8-6ee6-4d26-d845-8d514982130c",
        "colab": {
          "base_uri": "https://localhost:8080/"
        }
      },
      "execution_count": 147,
      "outputs": [
        {
          "output_type": "stream",
          "name": "stderr",
          "text": [
            "<ipython-input-147-1133c1896272>:1: FutureWarning: The default fill_method='pad' in Series.pct_change is deprecated and will be removed in a future version. Either fill in any non-leading NA values prior to calling pct_change or specify 'fill_method=None' to not fill NA values.\n",
            "  ml_df['cpi_pct_change'] = ml_df['cpi'].pct_change()\n"
          ]
        }
      ]
    },
    {
      "cell_type": "code",
      "source": [
        "ml_df['cpi_rolling_std_3'] = ml_df['cpi'].rolling(window=3).std()\n",
        "ml_df['cpi_rolling_std_6'] = ml_df['cpi'].rolling(window=6).std()"
      ],
      "metadata": {
        "id": "Y5MTFr3zMX7R"
      },
      "execution_count": 148,
      "outputs": []
    },
    {
      "cell_type": "code",
      "source": [
        "ml_df['cpi_diff_rolling_mean_3'] = ml_df['cpi'] - ml_df['cpi_rolling_mean3']"
      ],
      "metadata": {
        "id": "5ZyCTvXfMnuE"
      },
      "execution_count": 149,
      "outputs": []
    },
    {
      "cell_type": "code",
      "source": [
        "ml_df['rate_change'] = ml_df['rate'].diff()"
      ],
      "metadata": {
        "id": "aH_kqARJNkJK"
      },
      "execution_count": 150,
      "outputs": []
    },
    {
      "cell_type": "code",
      "source": [
        "ml_df.dropna(inplace=True)"
      ],
      "metadata": {
        "id": "W6XE9931Mvp3"
      },
      "execution_count": 151,
      "outputs": []
    },
    {
      "cell_type": "code",
      "source": [
        "ml_df.columns"
      ],
      "metadata": {
        "id": "ZlPPBJKDC0M-",
        "outputId": "59e7c0b7-cf81-4510-f25c-5a2f7172eb4c",
        "colab": {
          "base_uri": "https://localhost:8080/"
        }
      },
      "execution_count": 152,
      "outputs": [
        {
          "output_type": "execute_result",
          "data": {
            "text/plain": [
              "Index(['date', 'wage', 'rmpi', 'cpi', 'rate', 'year', 'month', 'quarter',\n",
              "       'cpi_lag1', 'cpi_lag3', 'cpi_lag6', 'cpi_lag9', 'cpi_lag12',\n",
              "       'cpi_rolling_mean3', 'cpi_rolling_mean6', 'cpi_rolling_mean9',\n",
              "       'cpi_ema3', 'cpi_ema6', 'cpi_ema9', 'cpi_pct_change',\n",
              "       'cpi_rolling_std_3', 'cpi_rolling_std_6', 'cpi_diff_rolling_mean_3',\n",
              "       'rate_change'],\n",
              "      dtype='object')"
            ]
          },
          "metadata": {},
          "execution_count": 152
        }
      ]
    },
    {
      "cell_type": "code",
      "source": [
        "numerical_features = ['wage', 'rmpi', 'cpi', 'year', 'month', 'quarter',\n",
        "       'cpi_lag1', 'cpi_lag3', 'cpi_lag6', 'cpi_lag9', 'cpi_lag12',\n",
        "       'cpi_rolling_mean3', 'cpi_rolling_mean6', 'cpi_rolling_mean9',\n",
        "       'cpi_ema3', 'cpi_ema6', 'cpi_ema9', 'cpi_pct_change',\n",
        "       'cpi_rolling_std_3', 'cpi_rolling_std_6', 'cpi_diff_rolling_mean_3']"
      ],
      "metadata": {
        "id": "L-G9vLL3HrUL"
      },
      "execution_count": 153,
      "outputs": []
    },
    {
      "cell_type": "code",
      "source": [
        "# split data\n",
        "train_ml = ml_df[(ml_df['date'] >= '2002-01-01') & (ml_df['date'] <= '2023-12-01')]\n",
        "test_ml = ml_df[(ml_df['date'] >= '2024-01-01') & (ml_df['date'] <= '2024-12-31')]"
      ],
      "metadata": {
        "id": "Ewpt-AO_ITyh"
      },
      "execution_count": 154,
      "outputs": []
    },
    {
      "cell_type": "code",
      "source": [
        "# train test\n",
        "X_train = train_ml[numerical_features]\n",
        "y_train = train_ml['rate_change']\n",
        "\n",
        "X_test = test_ml[numerical_features]\n",
        "y_test = test_ml['rate_change']"
      ],
      "metadata": {
        "id": "uDS8aRAaITt9"
      },
      "execution_count": 155,
      "outputs": []
    },
    {
      "cell_type": "code",
      "source": [
        "model = LinearRegression()\n",
        "\n",
        "# fit\n",
        "model.fit(X_train, y_train)\n",
        "\n",
        "# predict\n",
        "y_pred = model.predict(X_test)\n",
        "\n",
        "# eval\n",
        "mse = mean_squared_error(y_test, y_pred)\n",
        "print(f'mse: {mse}')"
      ],
      "metadata": {
        "id": "k_WrSNTpKF6U",
        "outputId": "a636524f-229c-487d-d553-5ca6efcd5a4a",
        "colab": {
          "base_uri": "https://localhost:8080/"
        }
      },
      "execution_count": 156,
      "outputs": [
        {
          "output_type": "stream",
          "name": "stdout",
          "text": [
            "mse: 0.02172618675786848\n"
          ]
        }
      ]
    },
    {
      "cell_type": "code",
      "source": [
        "# plot actual vs pred\n",
        "plt.figure(figsize = (10, 6))\n",
        "\n",
        "# years for xaxis lab\n",
        "x_tick_labels = test_ml['date'].dt.strftime('%Y-%m')\n",
        "\n",
        "plt.plot(range(len(y_test)),\n",
        "         y_test.values,\n",
        "         label = 'actual cpi')\n",
        "plt.plot(range(len(y_test)),\n",
        "         y_pred,\n",
        "         label = 'pred cpi')\n",
        "\n",
        "plt.xlabel('date')\n",
        "plt.xticks(range(len(y_test))[::2],\n",
        "           x_tick_labels[::2],\n",
        "           rotation = 90)\n",
        "\n",
        "plt.ylabel('rate')\n",
        "plt.title('actual vs. predicted rate')\n",
        "plt.legend()\n",
        "plt.show()"
      ],
      "metadata": {
        "id": "V5t44Ff-KNxm",
        "outputId": "0796b4bd-7f30-4fae-896a-74f4b86cb7b1",
        "colab": {
          "base_uri": "https://localhost:8080/",
          "height": 467
        }
      },
      "execution_count": 157,
      "outputs": [
        {
          "output_type": "display_data",
          "data": {
            "text/plain": [
              "<Figure size 1000x600 with 1 Axes>"
            ],
            "image/png": "[encoded data removed]"
          },
          "metadata": {}
        }
      ]
    },
    {
      "cell_type": "markdown",
      "source": [
        "### XGB regression"
      ],
      "metadata": {
        "id": "iNDc3LAzO0zq"
      }
    },
    {
      "cell_type": "code",
      "source": [
        "# init\n",
        "model = XGBRegressor()\n",
        "\n",
        "# fit\n",
        "model.fit(X_train, y_train)\n",
        "\n",
        "# predict\n",
        "y_pred = model.predict(X_test)\n",
        "\n",
        "# eval\n",
        "mse = mean_squared_error(y_test, y_pred)\n",
        "r2 = r2_score(y_test, y_pred)\n",
        "\n",
        "print(f'mse: {mse} \\n')\n",
        "print(f'r-sqr: {r2}')\n",
        "\n",
        "# plot\n",
        "plt.figure(figsize=(10, 6))\n",
        "\n",
        "# years for xaxis lab\n",
        "x_tick_labels = test_ml['date'].dt.strftime('%Y-%m')\n",
        "\n",
        "plt.plot(range(len(y_test)),\n",
        "         y_test.values,\n",
        "         label = 'actual cpi')\n",
        "plt.plot(range(len(y_test)),\n",
        "         y_pred,\n",
        "         label = 'predicted cpi')\n",
        "\n",
        "plt.xlabel('date')\n",
        "plt.xticks(range(len(y_test))[::2],\n",
        "           x_tick_labels[::2],\n",
        "           rotation = 90)\n",
        "\n",
        "plt.ylabel('interest rate change')\n",
        "plt.title('XGB regression: actual vs. predicted interest rate change')\n",
        "plt.legend()\n",
        "plt.show()"
      ],
      "metadata": {
        "id": "L8TtFvWpOz9Y",
        "outputId": "c01b0ced-f077-4a17-ed8a-b1991cfe884b",
        "colab": {
          "base_uri": "https://localhost:8080/",
          "height": 519
        }
      },
      "execution_count": 158,
      "outputs": [
        {
          "output_type": "stream",
          "name": "stdout",
          "text": [
            "mse: 0.027472863539391157 \n",
            "\n",
            "r-sqr: -0.7786634274486801\n"
          ]
        },
        {
          "output_type": "display_data",
          "data": {
            "text/plain": [
              "<Figure size 1000x600 with 1 Axes>"
            ],
            "image/png": "[encoded data removed]"
          },
          "metadata": {}
        }
      ]
    },
    {
      "cell_type": "markdown",
      "source": [
        "RNN model"
      ],
      "metadata": {
        "id": "LKhq_BdvPZ8O"
      }
    },
    {
      "cell_type": "code",
      "source": [
        "# prompt: create an rnn to predict rate_change\n",
        "\n",
        "import numpy as np\n",
        "import pandas as pd\n",
        "from sklearn.preprocessing import MinMaxScaler\n",
        "from sklearn.metrics import mean_squared_error\n",
        "from tensorflow.keras.models import Sequential\n",
        "from tensorflow.keras.layers import LSTM, Dense\n",
        "\n",
        "# Assuming 'ml_df' is your preprocessed DataFrame with 'rate_change' as the target\n",
        "# and numerical features\n",
        "\n",
        "# Prepare the data for the RNN\n",
        "def create_sequences(data, seq_length):\n",
        "    xs = []\n",
        "    ys = []\n",
        "    for i in range(len(data) - seq_length - 1):\n",
        "        x = data[i:(i + seq_length)]\n",
        "        y = data[i + seq_length, -1]  # Target is 'rate_change'\n",
        "        xs.append(x)\n",
        "        ys.append(y)\n",
        "    return np.array(xs), np.array(ys)\n",
        "\n",
        "seq_length = 12 # Example sequence length (adjust as needed)\n",
        "\n",
        "# Scale the features (important for RNNs)\n",
        "scaler = MinMaxScaler()\n",
        "scaled_features = scaler.fit_transform(ml_df[numerical_features + ['rate_change']])\n",
        "\n",
        "# Split the data into train and test sets\n",
        "train_size = int(len(scaled_features) * 0.8) # Example split (adjust as needed)\n",
        "train_data = scaled_features[:train_size]\n",
        "test_data = scaled_features[train_size:]\n",
        "\n",
        "# Create sequences for training and testing\n",
        "X_train, y_train = create_sequences(train_data, seq_length)\n",
        "X_test, y_test = create_sequences(test_data, seq_length)\n",
        "\n",
        "# Reshape the data for LSTM (samples, timesteps, features)\n",
        "X_train = np.reshape(X_train, (X_train.shape[0], X_train.shape[1], X_train.shape[2]))\n",
        "X_test = np.reshape(X_test, (X_test.shape[0], X_test.shape[1], X_test.shape[2]))\n",
        "\n",
        "\n",
        "# Build the RNN model\n",
        "model = Sequential()\n",
        "model.add(LSTM(50, activation='relu', input_shape=(X_train.shape[1], X_train.shape[2])))\n",
        "model.add(Dense(1))\n",
        "model.compile(optimizer='adam', loss='mse')\n",
        "\n",
        "# Train the model\n",
        "model.fit(X_train, y_train,\n",
        "          epochs = 50,\n",
        "          batch_size = 32,\n",
        "          verbose = 0)\n",
        "\n",
        "\n",
        "# Make predictions\n",
        "y_pred = model.predict(X_test)\n",
        "\n",
        "# Inverse transform the predictions and actual values\n",
        "y_pred = scaler.inverse_transform(np.concatenate((np.zeros((len(y_pred),len(numerical_features))),y_pred),axis=1))[:,-1]\n",
        "y_test = scaler.inverse_transform(np.concatenate((np.zeros((len(y_test),len(numerical_features))),np.expand_dims(y_test,axis=1)),axis=1))[:,-1]\n",
        "\n",
        "\n",
        "# Evaluate the model\n",
        "rmse = np.sqrt(mean_squared_error(y_test, y_pred))\n",
        "print('RMSE:', rmse)\n",
        "\n",
        "#Further analysis or plotting can be performed here\n"
      ],
      "metadata": {
        "id": "e08nO2wpPf-T",
        "outputId": "9dbe4335-437c-48b1-bd3a-17e9bcc92678",
        "colab": {
          "base_uri": "https://localhost:8080/"
        }
      },
      "execution_count": 161,
      "outputs": [
        {
          "output_type": "stream",
          "name": "stderr",
          "text": [
            "/usr/local/lib/python3.11/dist-packages/keras/src/layers/rnn/rnn.py:200: UserWarning: Do not pass an `input_shape`/`input_dim` argument to a layer. When using Sequential models, prefer using an `Input(shape)` object as the first layer in the model instead.\n",
            "  super().__init__(**kwargs)\n"
          ]
        },
        {
          "output_type": "stream",
          "name": "stdout",
          "text": [
            "\u001b[1m2/2\u001b[0m \u001b[32m━━━━━━━━━━━━━━━━━━━━\u001b[0m\u001b[37m\u001b[0m \u001b[1m0s\u001b[0m 180ms/step\n",
            "RMSE: 0.1891467704685895\n"
          ]
        }
      ]
    },
    {
      "cell_type": "code",
      "source": [
        "# prompt: plot actual vs predicted results\n",
        "\n",
        "import matplotlib.pyplot as plt\n",
        "\n",
        "# Assuming y_test and y_pred are already defined from the previous code\n",
        "plt.figure(figsize=(10, 6))\n",
        "plt.plot(y_test, label='Actual')\n",
        "plt.plot(y_pred, label='Predicted')\n",
        "plt.xlabel('Time Steps')\n",
        "plt.ylabel('Rate Change')\n",
        "plt.title('Actual vs. Predicted Rate Change')\n",
        "plt.legend()\n",
        "plt.show()\n"
      ],
      "metadata": {
        "id": "LyWlmV_qPyhg",
        "outputId": "bcc6d8e0-451d-413b-9863-f97e3b773672",
        "colab": {
          "base_uri": "https://localhost:8080/",
          "height": 438
        }
      },
      "execution_count": 162,
      "outputs": [
        {
          "output_type": "display_data",
          "data": {
            "text/plain": [
              "<Figure size 1000x600 with 1 Axes>"
            ],
            "image/png": "[encoded data removed]"
          },
          "metadata": {}
        }
      ]
    },
    {
      "cell_type": "markdown",
      "source": [
        "None of those models seemed to work very well. lol. It was a good exercise in mining data from Statistics Canada at least."
      ],
      "metadata": {
        "id": "PskfrVKtQHYW"
      }
    },
    {
      "cell_type": "markdown",
      "source": [
        "## References\n",
        "\n",
        "*   List item\n",
        "*   List item\n",
        "\n"
      ],
      "metadata": {
        "id": "c36K65K62FEV"
      }
    }
  ]
}