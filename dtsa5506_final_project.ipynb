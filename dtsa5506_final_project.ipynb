{
  "nbformat": 4,
  "nbformat_minor": 0,
  "metadata": {
    "colab": {
      "provenance": [],
      "authorship_tag": "ABX9TyP5Ezg5yIj2UuJYl43xK1wk",
      "include_colab_link": true
    },
    "kernelspec": {
      "name": "python3",
      "display_name": "Python 3"
    },
    "language_info": {
      "name": "python"
    }
  },
  "cells": [
    {
      "cell_type": "markdown",
      "metadata": {
        "id": "view-in-github",
        "colab_type": "text"
      },
      "source": [
        "<a href=\"https://colab.research.google.com/github/FleaBusyBeeBergs/dtsa5506-pipeline/blob/main/dtsa5506_final_project.ipynb\" target=\"_parent\"><img src=\"https://colab.research.google.com/assets/colab-badge.svg\" alt=\"Open In Colab\"/></a>"
      ]
    },
    {
      "cell_type": "code",
      "execution_count": 1,
      "metadata": {
        "id": "ZitFgRnRxmzO",
        "colab": {
          "base_uri": "https://localhost:8080/"
        },
        "outputId": "95f8f702-78f2-40fa-b923-5b79d7b11121"
      },
      "outputs": [
        {
          "output_type": "stream",
          "name": "stdout",
          "text": [
            "\u001b[2K   \u001b[90m━━━━━━━━━━━━━━━━━━━━━━━━━━━━━━━━━━━━━━━━\u001b[0m \u001b[32m4.5/4.5 MB\u001b[0m \u001b[31m30.5 MB/s\u001b[0m eta \u001b[36m0:00:00\u001b[0m\n",
            "\u001b[2K   \u001b[90m━━━━━━━━━━━━━━━━━━━━━━━━━━━━━━━━━━━━━━━━\u001b[0m \u001b[32m91.4/91.4 MB\u001b[0m \u001b[31m7.7 MB/s\u001b[0m eta \u001b[36m0:00:00\u001b[0m\n",
            "\u001b[2K   \u001b[90m━━━━━━━━━━━━━━━━━━━━━━━━━━━━━━━━━━━━━━━━\u001b[0m \u001b[32m10.1/10.1 MB\u001b[0m \u001b[31m44.5 MB/s\u001b[0m eta \u001b[36m0:00:00\u001b[0m\n",
            "\u001b[2K   \u001b[90m━━━━━━━━━━━━━━━━━━━━━━━━━━━━━━━━━━━━━━━━\u001b[0m \u001b[32m374.4/374.4 kB\u001b[0m \u001b[31m5.9 MB/s\u001b[0m eta \u001b[36m0:00:00\u001b[0m\n",
            "\u001b[2K   \u001b[90m━━━━━━━━━━━━━━━━━━━━━━━━━━━━━━━━━━━━━━━━\u001b[0m \u001b[32m98.7/98.7 MB\u001b[0m \u001b[31m8.7 MB/s\u001b[0m eta \u001b[36m0:00:00\u001b[0m\n",
            "\u001b[?25h"
          ]
        }
      ],
      "source": [
        "!pip install scikit-learn-intelex -q\n",
        "!pip install statsmodels==0.14.0 -q\n",
        "!pip install tslearn -q\n",
        "!pip install scikeras -q\n",
        "!pip install xgboost lightgbm catboost imbalanced-learn -q"
      ]
    },
    {
      "cell_type": "code",
      "source": [
        "# file handling & general\n",
        "import itertools\n",
        "import numpy as np\n",
        "import pandas as pd\n",
        "import os\n",
        "from google.colab import files\n",
        "import xml.etree.ElementTree as ET\n",
        "import warnings\n",
        "warnings.filterwarnings('ignore',\n",
        "                        message = '''.*'force_all_finite' was renamed to 'ensure_all_finite'.*''')\n",
        "from google.colab import files\n",
        "\n",
        "# http requests\n",
        "import requests\n",
        "\n",
        "# vis\n",
        "import matplotlib.pyplot as plt\n",
        "import matplotlib.dates as mdates\n",
        "import altair as alt\n",
        "import seaborn as sns\n",
        "\n",
        "# eda\n",
        "from statsmodels.stats.stattools import durbin_watson\n",
        "from statsmodels.tsa.stattools import adfuller\n",
        "from statsmodels.tsa.filters.hp_filter import hpfilter\n",
        "from statsmodels.graphics.tsaplots import plot_acf, plot_pacf\n",
        "import statsmodels.api as sm\n",
        "import scipy.stats as stats\n",
        "from scipy.stats import pointbiserialr\n",
        "\n",
        "# pca\n",
        "from sklearn.decomposition import PCA\n",
        "from sklearnex import patch_sklearn\n",
        "patch_sklearn()\n",
        "from sklearn.cluster import DBSCAN\n",
        "\n",
        "# preprocessing & ml\n",
        "from sklearn.preprocessing import MinMaxScaler, StandardScaler, LabelEncoder\n",
        "from sklearn.impute import SimpleImputer\n",
        "from sklearn.pipeline import Pipeline\n",
        "from sklearn.compose import ColumnTransformer\n",
        "from sklearn.model_selection import train_test_split, GridSearchCV, TimeSeriesSplit, RandomizedSearchCV\n",
        "from sklearn.ensemble import RandomForestClassifier\n",
        "from statsmodels.tsa.api import VAR\n",
        "from statsmodels.tsa.arima.model import ARIMA\n",
        "from sklearn.metrics import mean_squared_error, mean_absolute_error, mean_absolute_percentage_error, silhouette_score\n",
        "\n",
        "from xgboost import XGBClassifier\n",
        "from lightgbm import LGBMClassifier\n",
        "from catboost import CatBoostClassifier\n",
        "from imblearn.over_sampling import SMOTE\n",
        "\n",
        "#\n",
        "from sklearn.linear_model import LogisticRegression\n",
        "from sklearn.metrics import mean_squared_error, r2_score, accuracy_score, classification_report\n",
        "\n",
        "from tensorflow.keras.models import Sequential\n",
        "from tensorflow.keras.layers import SimpleRNN, Input, LSTM, Dense, Dropout\n",
        "from tensorflow.keras.callbacks import EarlyStopping\n",
        "from scikeras.wrappers import KerasRegressor\n",
        "\n",
        "# clustering\n",
        "from tslearn.clustering import TimeSeriesKMeans\n",
        "from tslearn import metrics"
      ],
      "metadata": {
        "colab": {
          "base_uri": "https://localhost:8080/"
        },
        "id": "cXr96m9LyEdR",
        "outputId": "5b93455a-333e-449c-c4a5-7e62815c690e"
      },
      "execution_count": 2,
      "outputs": [
        {
          "output_type": "stream",
          "name": "stderr",
          "text": [
            "Intel(R) Extension for Scikit-learn* enabled (https://github.com/uxlfoundation/scikit-learn-intelex)\n",
            "/usr/local/lib/python3.11/dist-packages/dask/dataframe/__init__.py:42: FutureWarning: \n",
            "Dask dataframe query planning is disabled because dask-expr is not installed.\n",
            "\n",
            "You can install it with `pip install dask[dataframe]` or `conda install dask`.\n",
            "This will raise in a future version.\n",
            "\n",
            "  warnings.warn(msg, FutureWarning)\n"
          ]
        }
      ]
    },
    {
      "cell_type": "markdown",
      "source": [
        "## Introduction"
      ],
      "metadata": {
        "id": "HzDxWzSzajfT"
      }
    },
    {
      "cell_type": "markdown",
      "source": [
        "The main idea of this project is to predict interest rate changes before they are announced. Interest rates affect nearly everyone and changes to the prevailing rates affect many decisions not just in the long term, but in the short term as well.\n",
        "\n",
        "The bank of canada exercises counter-inflationary monetary policy by increasing interest to slow inflation, and decreasing interest to allow to avoid recession. To predict changes to the policy interest rate, it would be helpful to first model and predict inflation. The consumer price index is a common measure of inflation, and cpi time series is available from statistics canada.\n",
        "\n",
        " Thinking back to when I studied economics as an undergrad, I remember the 2 drivers of inflation being cost-push and demand-pull. In this project I will focus on the cost-push side of things. Intuitively, I think of the inputs to producing goods and services as being materials and wages. For a simple model, the 2 indicators I will use from statistics canada to model cpi are the raw materials price index and average weekly wages.\n",
        "\n",
        " Once I have a forcast of cpi, I will use that to make predictions on whether the bank of canada will decrease, hold steady, or increase interest rates."
      ],
      "metadata": {
        "id": "__GhPR4DalnX"
      }
    },
    {
      "cell_type": "markdown",
      "source": [
        "## Extract, Transform, Load (ETL) pipeline"
      ],
      "metadata": {
        "id": "tZ-Ul-FAyYtj"
      }
    },
    {
      "cell_type": "markdown",
      "source": [
        "Statistics Canada has a data cube available to the public, and provides instructions to make http requests [1]. I used these these instructions to request very specific information for specific dates, rather than having to download entire tables. I was able to write code for a single vector request, then spent a lot of time trying to write my own functions before turning to a code generator [2] for the following StatCanETL class."
      ],
      "metadata": {
        "id": "S2xq_uiYyiep"
      }
    },
    {
      "cell_type": "code",
      "source": [
        "# base URL for data extraction\n",
        "base_url = 'https://www150.statcan.gc.ca/t1/wds/sdmx/statcan/rest/vector/'\n",
        "\n",
        "# namespace mappings for XML parsing\n",
        "namespaces = {\n",
        "    \"message\": 'http://www.sdmx.org/resources/sdmxml/schemas/v2_1/message',\n",
        "    \"generic\": 'http://www.sdmx.org/resources/sdmxml/schemas/v2_1/data/generic',\n",
        "    \"common\": 'http://www.sdmx.org/resources/sdmxml/schemas/v2_1/common',\n",
        "}\n"
      ],
      "metadata": {
        "id": "mjrGaYAEz3hm"
      },
      "execution_count": 3,
      "outputs": []
    },
    {
      "cell_type": "code",
      "source": [
        "class StatCanETL:\n",
        "    '''ETL pipeline for StatCan data'''\n",
        "\n",
        "    def __init__(self, table_df):\n",
        "        '''initialize with df of metadata table'''\n",
        "        self.table_df = table_df\n",
        "        self.data_objects = {}\n",
        "\n",
        "    def extract(self, vector, start_period, end_period):\n",
        "        '''extract data from the StatCan API for a given vector, start, and end dates'''\n",
        "        url = f'{base_url}{vector}?startPeriod={start_period}&endPeriod={end_period}&detail=full'\n",
        "        response = requests.get(url)\n",
        "\n",
        "        if response.status_code == 200:\n",
        "            return response.content\n",
        "        else:\n",
        "            raise ValueError(f'Failed to fetch data for vector {vector}. HTTP Status: {response.status_code}')\n",
        "\n",
        "    def transform(self, xml_content, frequency):\n",
        "        '''transform the XML response into a structured DataFrame.'''\n",
        "        # parse XML content\n",
        "        root = ET.fromstring(xml_content)\n",
        "\n",
        "        # locate the series element\n",
        "        series = root.find('.//generic:Series', namespaces)\n",
        "        if series is None:\n",
        "            raise ValueError('No Series element found in the XML response')\n",
        "\n",
        "        # extract obs\n",
        "        observations = series.findall('.//generic:Obs', namespaces)\n",
        "        data = []\n",
        "        for obs in observations:\n",
        "            obs_dim = obs.find('.//generic:ObsDimension', namespaces)\n",
        "            obs_val = obs.find('.//generic:ObsValue', namespaces)\n",
        "            date = obs_dim.attrib['value']\n",
        "\n",
        "            # convert date format if quarterly or yearly\n",
        "            if frequency == 'quarterly':\n",
        "                date = self.convert_quarter_to_date(date)\n",
        "            elif frequency == 'yearly':\n",
        "                date = date[:4] + '-01'\n",
        "\n",
        "            data.append({\n",
        "                'Date': date,\n",
        "                'Value': float(obs_val.attrib['value']),\n",
        "            })\n",
        "\n",
        "        # convert to df\n",
        "        df = pd.DataFrame(data)\n",
        "        return df\n",
        "\n",
        "    @staticmethod\n",
        "    def convert_quarter_to_date(quarter_str):\n",
        "        '''convert quarterly date string (YYYY-Qx) to a standard date format (YYYY-MM)'''\n",
        "        try:\n",
        "            year, quarter = quarter_str.split('-Q')\n",
        "            quarter_start_month = {\n",
        "                '1': '01',\n",
        "                '2': '04',\n",
        "                '3': '07',\n",
        "                '4': '10',\n",
        "            }.get(quarter)\n",
        "            if quarter_start_month:\n",
        "                return f'{year}-{quarter_start_month}'\n",
        "            else:\n",
        "                raise ValueError(f'Invalid quarter format: {quarter_str}')\n",
        "        except Exception as e:\n",
        "            raise ValueError(f'Error converting quarter string {quarter_str}: {e}')\n",
        "\n",
        "    def load(self, df, name):\n",
        "        '''load df into object named name_df.'''\n",
        "        variable_name = f'{name}_df'\n",
        "        globals()[variable_name] = df\n",
        "        self.data_objects[variable_name] = df\n",
        "        print(f'Data for {name} saved to object {variable_name}')\n",
        "\n",
        "    def run(self):\n",
        "        '''Run the full ETL pipeline for all variables'''\n",
        "        for _, row in self.table_df.iterrows():\n",
        "            print(f'Processing {row[\"name\"]}...')\n",
        "            try:\n",
        "                # extract\n",
        "                xml_content = self.extract(row['vector'], row['start'], row['end'])\n",
        "\n",
        "                # transform\n",
        "                df = self.transform(xml_content, row['frequency'])\n",
        "\n",
        "                # load\n",
        "                self.load(df, row['name'])\n",
        "            except Exception as e:\n",
        "                print(f'Error processing {row[\"name\"]}: {e}')"
      ],
      "metadata": {
        "id": "DHFUzbfa0E-z"
      },
      "execution_count": 4,
      "outputs": []
    },
    {
      "cell_type": "code",
      "source": [
        "# metadata - define what information to pull from statcan\n",
        "tables = {\n",
        "    'name': ['wage', 'rmpi', 'cpi', 'rate'],\n",
        "    'tableid': [14100223, 18100268, 18100004, 10100139],\n",
        "    'tablename': ['employment and average weekly earnings',\n",
        "                  'raw materials price index, 2010 = 100',\n",
        "                  'consumer price index, not seasonally adjusted, 2002 = 100', 'bank rate'],\n",
        "    'vector': ['v79311153', 'v1230998135', 'v41690973', 'v39078'],\n",
        "    'vectdesc': ['', '', '', ''],\n",
        "    'description': ['', '', '', ''],\n",
        "    'frequency': ['monthly', 'monthly', 'monthly', 'daily'],\n",
        "    'start': ['2001-01', '2001-01', '2001-01', '2001-01-01'], # if using quarterly data like productivity, format as yyyy-Q#\n",
        "    'end': ['2024-12', '2024-12', '2024-12', '2024-12-31']\n",
        "}\n",
        "\n",
        "# make df\n",
        "table_df = pd.DataFrame(tables)"
      ],
      "metadata": {
        "id": "OBz6HCJD0vwu"
      },
      "execution_count": 5,
      "outputs": []
    },
    {
      "cell_type": "code",
      "source": [
        "# run ETL pipe\n",
        "pipeline = StatCanETL(table_df)\n",
        "pipeline.run()"
      ],
      "metadata": {
        "colab": {
          "base_uri": "https://localhost:8080/"
        },
        "id": "W_mIaiIF1A1Z",
        "outputId": "f1ca3204-0030-4da4-d652-fc9b2adc315a"
      },
      "execution_count": 6,
      "outputs": [
        {
          "output_type": "stream",
          "name": "stdout",
          "text": [
            "Processing wage...\n",
            "Data for wage saved to object wage_df\n",
            "Processing rmpi...\n",
            "Data for rmpi saved to object rmpi_df\n",
            "Processing cpi...\n",
            "Data for cpi saved to object cpi_df\n",
            "Processing rate...\n",
            "Data for rate saved to object rate_df\n"
          ]
        }
      ]
    },
    {
      "cell_type": "code",
      "source": [
        "# save to csv\n",
        "# wage_df.to_csv('wage.csv', index=False)\n",
        "# rmpi_df.to_csv('rmpi.csv', index=False)\n",
        "# cpi_df.to_csv('cpi.csv', index=False)\n",
        "# rate_df.to_csv('rate.csv', index=False)\n",
        "\n",
        "# download for working offline, saved to data folder of repo\n",
        "# files.download('wage.csv')\n",
        "# files.download('rmpi.csv')\n",
        "# files.download('cpi.csv')\n",
        "# files.download('rate.csv')\n"
      ],
      "metadata": {
        "id": "dk7SJCxknmHS"
      },
      "execution_count": 8,
      "outputs": []
    },
    {
      "cell_type": "markdown",
      "source": [
        "#### Rate announcement dates"
      ],
      "metadata": {
        "id": "V-oiDzbmGw7Y"
      }
    },
    {
      "cell_type": "markdown",
      "source": [
        "I looked through Bank of Canada publications to find the following rate annoucement dates. I added them to a .csv in the data folder of my repo."
      ],
      "metadata": {
        "id": "t795-AqMG0t7"
      }
    },
    {
      "cell_type": "code",
      "source": [
        "# rate announcement dates\n",
        "url = 'https://raw.githubusercontent.com/FleaBusyBeeBergs/dtsa5506-pipeline/main/data/rate-announcements.csv'\n",
        "#url = None\n",
        "rate_announcements = pd.read_csv(url)\n",
        "rate_announcements.head(8)"
      ],
      "metadata": {
        "colab": {
          "base_uri": "https://localhost:8080/",
          "height": 300
        },
        "id": "WgnLem6rCyPE",
        "outputId": "e5944d11-6f1d-4291-f728-d682fd85ba98"
      },
      "execution_count": 7,
      "outputs": [
        {
          "output_type": "execute_result",
          "data": {
            "text/plain": [
              "         date\n",
              "0  2001-01-23\n",
              "1  2001-03-06\n",
              "2  2001-04-17\n",
              "3  2001-05-29\n",
              "4  2001-07-17\n",
              "5  2001-08-28\n",
              "6  2001-10-23\n",
              "7  2001-11-27"
            ],
            "text/html": [
              "\n",
              "  <div id=\"df-e2eec83f-9f78-4229-9fb0-3463172efe25\" class=\"colab-df-container\">\n",
              "    <div>\n",
              "<style scoped>\n",
              "    .dataframe tbody tr th:only-of-type {\n",
              "        vertical-align: middle;\n",
              "    }\n",
              "\n",
              "    .dataframe tbody tr th {\n",
              "        vertical-align: top;\n",
              "    }\n",
              "\n",
              "    .dataframe thead th {\n",
              "        text-align: right;\n",
              "    }\n",
              "</style>\n",
              "<table border=\"1\" class=\"dataframe\">\n",
              "  <thead>\n",
              "    <tr style=\"text-align: right;\">\n",
              "      <th></th>\n",
              "      <th>date</th>\n",
              "    </tr>\n",
              "  </thead>\n",
              "  <tbody>\n",
              "    <tr>\n",
              "      <th>0</th>\n",
              "      <td>2001-01-23</td>\n",
              "    </tr>\n",
              "    <tr>\n",
              "      <th>1</th>\n",
              "      <td>2001-03-06</td>\n",
              "    </tr>\n",
              "    <tr>\n",
              "      <th>2</th>\n",
              "      <td>2001-04-17</td>\n",
              "    </tr>\n",
              "    <tr>\n",
              "      <th>3</th>\n",
              "      <td>2001-05-29</td>\n",
              "    </tr>\n",
              "    <tr>\n",
              "      <th>4</th>\n",
              "      <td>2001-07-17</td>\n",
              "    </tr>\n",
              "    <tr>\n",
              "      <th>5</th>\n",
              "      <td>2001-08-28</td>\n",
              "    </tr>\n",
              "    <tr>\n",
              "      <th>6</th>\n",
              "      <td>2001-10-23</td>\n",
              "    </tr>\n",
              "    <tr>\n",
              "      <th>7</th>\n",
              "      <td>2001-11-27</td>\n",
              "    </tr>\n",
              "  </tbody>\n",
              "</table>\n",
              "</div>\n",
              "    <div class=\"colab-df-buttons\">\n",
              "\n",
              "  <div class=\"colab-df-container\">\n",
              "    <button class=\"colab-df-convert\" onclick=\"convertToInteractive('df-e2eec83f-9f78-4229-9fb0-3463172efe25')\"\n",
              "            title=\"Convert this dataframe to an interactive table.\"\n",
              "            style=\"display:none;\">\n",
              "\n",
              "  <svg xmlns=\"http://www.w3.org/2000/svg\" height=\"24px\" viewBox=\"0 -960 960 960\">\n",
              "    <path d=\"M120-120v-720h720v720H120Zm60-500h600v-160H180v160Zm220 220h160v-160H400v160Zm0 220h160v-160H400v160ZM180-400h160v-160H180v160Zm440 0h160v-160H620v160ZM180-180h160v-160H180v160Zm440 0h160v-160H620v160Z\"/>\n",
              "  </svg>\n",
              "    </button>\n",
              "\n",
              "  <style>\n",
              "    .colab-df-container {\n",
              "      display:flex;\n",
              "      gap: 12px;\n",
              "    }\n",
              "\n",
              "    .colab-df-convert {\n",
              "      background-color: #E8F0FE;\n",
              "      border: none;\n",
              "      border-radius: 50%;\n",
              "      cursor: pointer;\n",
              "      display: none;\n",
              "      fill: #1967D2;\n",
              "      height: 32px;\n",
              "      padding: 0 0 0 0;\n",
              "      width: 32px;\n",
              "    }\n",
              "\n",
              "    .colab-df-convert:hover {\n",
              "      background-color: #E2EBFA;\n",
              "      box-shadow: 0px 1px 2px rgba(60, 64, 67, 0.3), 0px 1px 3px 1px rgba(60, 64, 67, 0.15);\n",
              "      fill: #174EA6;\n",
              "    }\n",
              "\n",
              "    .colab-df-buttons div {\n",
              "      margin-bottom: 4px;\n",
              "    }\n",
              "\n",
              "    [theme=dark] .colab-df-convert {\n",
              "      background-color: #3B4455;\n",
              "      fill: #D2E3FC;\n",
              "    }\n",
              "\n",
              "    [theme=dark] .colab-df-convert:hover {\n",
              "      background-color: #434B5C;\n",
              "      box-shadow: 0px 1px 3px 1px rgba(0, 0, 0, 0.15);\n",
              "      filter: drop-shadow(0px 1px 2px rgba(0, 0, 0, 0.3));\n",
              "      fill: #FFFFFF;\n",
              "    }\n",
              "  </style>\n",
              "\n",
              "    <script>\n",
              "      const buttonEl =\n",
              "        document.querySelector('#df-e2eec83f-9f78-4229-9fb0-3463172efe25 button.colab-df-convert');\n",
              "      buttonEl.style.display =\n",
              "        google.colab.kernel.accessAllowed ? 'block' : 'none';\n",
              "\n",
              "      async function convertToInteractive(key) {\n",
              "        const element = document.querySelector('#df-e2eec83f-9f78-4229-9fb0-3463172efe25');\n",
              "        const dataTable =\n",
              "          await google.colab.kernel.invokeFunction('convertToInteractive',\n",
              "                                                    [key], {});\n",
              "        if (!dataTable) return;\n",
              "\n",
              "        const docLinkHtml = 'Like what you see? Visit the ' +\n",
              "          '<a target=\"_blank\" href=https://colab.research.google.com/notebooks/data_table.ipynb>data table notebook</a>'\n",
              "          + ' to learn more about interactive tables.';\n",
              "        element.innerHTML = '';\n",
              "        dataTable['output_type'] = 'display_data';\n",
              "        await google.colab.output.renderOutput(dataTable, element);\n",
              "        const docLink = document.createElement('div');\n",
              "        docLink.innerHTML = docLinkHtml;\n",
              "        element.appendChild(docLink);\n",
              "      }\n",
              "    </script>\n",
              "  </div>\n",
              "\n",
              "\n",
              "<div id=\"df-d0bea5fb-0b95-4a82-9bc9-cba9c5963679\">\n",
              "  <button class=\"colab-df-quickchart\" onclick=\"quickchart('df-d0bea5fb-0b95-4a82-9bc9-cba9c5963679')\"\n",
              "            title=\"Suggest charts\"\n",
              "            style=\"display:none;\">\n",
              "\n",
              "<svg xmlns=\"http://www.w3.org/2000/svg\" height=\"24px\"viewBox=\"0 0 24 24\"\n",
              "     width=\"24px\">\n",
              "    <g>\n",
              "        <path d=\"M19 3H5c-1.1 0-2 .9-2 2v14c0 1.1.9 2 2 2h14c1.1 0 2-.9 2-2V5c0-1.1-.9-2-2-2zM9 17H7v-7h2v7zm4 0h-2V7h2v10zm4 0h-2v-4h2v4z\"/>\n",
              "    </g>\n",
              "</svg>\n",
              "  </button>\n",
              "\n",
              "<style>\n",
              "  .colab-df-quickchart {\n",
              "      --bg-color: #E8F0FE;\n",
              "      --fill-color: #1967D2;\n",
              "      --hover-bg-color: #E2EBFA;\n",
              "      --hover-fill-color: #174EA6;\n",
              "      --disabled-fill-color: #AAA;\n",
              "      --disabled-bg-color: #DDD;\n",
              "  }\n",
              "\n",
              "  [theme=dark] .colab-df-quickchart {\n",
              "      --bg-color: #3B4455;\n",
              "      --fill-color: #D2E3FC;\n",
              "      --hover-bg-color: #434B5C;\n",
              "      --hover-fill-color: #FFFFFF;\n",
              "      --disabled-bg-color: #3B4455;\n",
              "      --disabled-fill-color: #666;\n",
              "  }\n",
              "\n",
              "  .colab-df-quickchart {\n",
              "    background-color: var(--bg-color);\n",
              "    border: none;\n",
              "    border-radius: 50%;\n",
              "    cursor: pointer;\n",
              "    display: none;\n",
              "    fill: var(--fill-color);\n",
              "    height: 32px;\n",
              "    padding: 0;\n",
              "    width: 32px;\n",
              "  }\n",
              "\n",
              "  .colab-df-quickchart:hover {\n",
              "    background-color: var(--hover-bg-color);\n",
              "    box-shadow: 0 1px 2px rgba(60, 64, 67, 0.3), 0 1px 3px 1px rgba(60, 64, 67, 0.15);\n",
              "    fill: var(--button-hover-fill-color);\n",
              "  }\n",
              "\n",
              "  .colab-df-quickchart-complete:disabled,\n",
              "  .colab-df-quickchart-complete:disabled:hover {\n",
              "    background-color: var(--disabled-bg-color);\n",
              "    fill: var(--disabled-fill-color);\n",
              "    box-shadow: none;\n",
              "  }\n",
              "\n",
              "  .colab-df-spinner {\n",
              "    border: 2px solid var(--fill-color);\n",
              "    border-color: transparent;\n",
              "    border-bottom-color: var(--fill-color);\n",
              "    animation:\n",
              "      spin 1s steps(1) infinite;\n",
              "  }\n",
              "\n",
              "  @keyframes spin {\n",
              "    0% {\n",
              "      border-color: transparent;\n",
              "      border-bottom-color: var(--fill-color);\n",
              "      border-left-color: var(--fill-color);\n",
              "    }\n",
              "    20% {\n",
              "      border-color: transparent;\n",
              "      border-left-color: var(--fill-color);\n",
              "      border-top-color: var(--fill-color);\n",
              "    }\n",
              "    30% {\n",
              "      border-color: transparent;\n",
              "      border-left-color: var(--fill-color);\n",
              "      border-top-color: var(--fill-color);\n",
              "      border-right-color: var(--fill-color);\n",
              "    }\n",
              "    40% {\n",
              "      border-color: transparent;\n",
              "      border-right-color: var(--fill-color);\n",
              "      border-top-color: var(--fill-color);\n",
              "    }\n",
              "    60% {\n",
              "      border-color: transparent;\n",
              "      border-right-color: var(--fill-color);\n",
              "    }\n",
              "    80% {\n",
              "      border-color: transparent;\n",
              "      border-right-color: var(--fill-color);\n",
              "      border-bottom-color: var(--fill-color);\n",
              "    }\n",
              "    90% {\n",
              "      border-color: transparent;\n",
              "      border-bottom-color: var(--fill-color);\n",
              "    }\n",
              "  }\n",
              "</style>\n",
              "\n",
              "  <script>\n",
              "    async function quickchart(key) {\n",
              "      const quickchartButtonEl =\n",
              "        document.querySelector('#' + key + ' button');\n",
              "      quickchartButtonEl.disabled = true;  // To prevent multiple clicks.\n",
              "      quickchartButtonEl.classList.add('colab-df-spinner');\n",
              "      try {\n",
              "        const charts = await google.colab.kernel.invokeFunction(\n",
              "            'suggestCharts', [key], {});\n",
              "      } catch (error) {\n",
              "        console.error('Error during call to suggestCharts:', error);\n",
              "      }\n",
              "      quickchartButtonEl.classList.remove('colab-df-spinner');\n",
              "      quickchartButtonEl.classList.add('colab-df-quickchart-complete');\n",
              "    }\n",
              "    (() => {\n",
              "      let quickchartButtonEl =\n",
              "        document.querySelector('#df-d0bea5fb-0b95-4a82-9bc9-cba9c5963679 button');\n",
              "      quickchartButtonEl.style.display =\n",
              "        google.colab.kernel.accessAllowed ? 'block' : 'none';\n",
              "    })();\n",
              "  </script>\n",
              "</div>\n",
              "\n",
              "    </div>\n",
              "  </div>\n"
            ],
            "application/vnd.google.colaboratory.intrinsic+json": {
              "type": "dataframe",
              "variable_name": "rate_announcements",
              "summary": "{\n  \"name\": \"rate_announcements\",\n  \"rows\": 201,\n  \"fields\": [\n    {\n      \"column\": \"date\",\n      \"properties\": {\n        \"dtype\": \"object\",\n        \"num_unique_values\": 201,\n        \"samples\": [\n          \"2012-10-23\",\n          \"2002-12-03\",\n          \"2004-10-19\"\n        ],\n        \"semantic_type\": \"\",\n        \"description\": \"\"\n      }\n    }\n  ]\n}"
            }
          },
          "metadata": {},
          "execution_count": 7
        }
      ]
    },
    {
      "cell_type": "markdown",
      "source": [
        "## EDA and cleaning"
      ],
      "metadata": {
        "id": "YIzyqqe21Rhf"
      }
    },
    {
      "cell_type": "code",
      "source": [
        "# check to see if data loaded correctly\n",
        "for key, value in pipeline.data_objects.items():\n",
        "    print(key)\n",
        "    print(value.head(3), '\\n')"
      ],
      "metadata": {
        "colab": {
          "base_uri": "https://localhost:8080/"
        },
        "id": "pKsc3CDa1YM_",
        "outputId": "6c4f75ea-2ec0-42f7-97b7-ae8a2e537e16"
      },
      "execution_count": 10,
      "outputs": [
        {
          "output_type": "stream",
          "name": "stdout",
          "text": [
            "wage_df\n",
            "      Date   Value\n",
            "0  2001-01  657.14\n",
            "1  2001-02  653.59\n",
            "2  2001-03  655.14 \n",
            "\n",
            "rmpi_df\n",
            "      Date  Value\n",
            "0  2001-01   65.2\n",
            "1  2001-02   65.8\n",
            "2  2001-03   65.5 \n",
            "\n",
            "cpi_df\n",
            "      Date  Value\n",
            "0  2001-01   96.3\n",
            "1  2001-02   96.8\n",
            "2  2001-03   97.1 \n",
            "\n",
            "rate_df\n",
            "         Date  Value\n",
            "0  2001-01-01    6.0\n",
            "1  2001-01-02    6.0\n",
            "2  2001-01-03    6.0 \n",
            "\n"
          ]
        }
      ]
    },
    {
      "cell_type": "code",
      "source": [
        "# rename columns\n",
        "wage_df.rename(columns = {'Value': 'wage',\n",
        "                          'Date': 'date'},\n",
        "               inplace = True)\n",
        "rmpi_df.rename(columns = {'Value': 'rmpi',\n",
        "                          'Date': 'date'},\n",
        "               inplace = True)\n",
        "cpi_df.rename(columns={'Value': 'cpi',\n",
        "                       'Date': 'date'},\n",
        "               inplace = True)\n",
        "rate_df.rename(columns={'Value': 'rate',\n",
        "                        'Date': 'date'},\n",
        "               inplace = True)"
      ],
      "metadata": {
        "id": "7P_wGHC71oUL"
      },
      "execution_count": 11,
      "outputs": []
    },
    {
      "cell_type": "code",
      "source": [
        "# merge tables with monthly data\n",
        "data = wage_df.merge(rmpi_df,\n",
        "                     on = 'date',\n",
        "                     how = 'outer')\\\n",
        "              .merge(cpi_df,\n",
        "                     on = 'date',\n",
        "                     how = 'outer')"
      ],
      "metadata": {
        "id": "h6Uge2Um1uqP"
      },
      "execution_count": 12,
      "outputs": []
    },
    {
      "cell_type": "code",
      "source": [
        "print(data)\n",
        "print(data.info())"
      ],
      "metadata": {
        "colab": {
          "base_uri": "https://localhost:8080/"
        },
        "id": "bgGJvvg_16zD",
        "outputId": "1ed96722-87ea-4e7e-9f89-882dc4acc355"
      },
      "execution_count": 13,
      "outputs": [
        {
          "output_type": "stream",
          "name": "stdout",
          "text": [
            "        date     wage   rmpi    cpi\n",
            "0    2001-01   657.14   65.2   96.3\n",
            "1    2001-02   653.59   65.8   96.8\n",
            "2    2001-03   655.14   65.5   97.1\n",
            "3    2001-04   652.44   65.2   97.8\n",
            "4    2001-05   652.28   65.3   98.6\n",
            "..       ...      ...    ...    ...\n",
            "283  2024-08  1274.25  139.3  161.8\n",
            "284  2024-09  1277.70  134.8  161.1\n",
            "285  2024-10  1284.24  140.3  161.8\n",
            "286  2024-11  1285.91  140.2  161.8\n",
            "287  2024-12      NaN  142.0  161.2\n",
            "\n",
            "[288 rows x 4 columns]\n",
            "<class 'pandas.core.frame.DataFrame'>\n",
            "RangeIndex: 288 entries, 0 to 287\n",
            "Data columns (total 4 columns):\n",
            " #   Column  Non-Null Count  Dtype  \n",
            "---  ------  --------------  -----  \n",
            " 0   date    288 non-null    object \n",
            " 1   wage    287 non-null    float64\n",
            " 2   rmpi    288 non-null    float64\n",
            " 3   cpi     288 non-null    float64\n",
            "dtypes: float64(3), object(1)\n",
            "memory usage: 9.1+ KB\n",
            "None\n"
          ]
        }
      ]
    },
    {
      "cell_type": "markdown",
      "source": [
        "At the time of writing, wage was missing one observation from 2024-12.\n",
        "I assume this is because it may take a while for the data to be processed each month. I'll use forward fill to deal with that missing value. If quarterly data was pulled from the data cube, there would be missing data for the months 02-03, 05-06, 08-09, and 11-12. Forward fill could also deal with those missing observations."
      ],
      "metadata": {
        "id": "K7YZAaQE2TMw"
      }
    },
    {
      "cell_type": "code",
      "source": [
        "# fill na\n",
        "data = data.ffill()"
      ],
      "metadata": {
        "id": "myxueTrR2CHP"
      },
      "execution_count": 14,
      "outputs": []
    },
    {
      "cell_type": "code",
      "source": [
        "# format date\n",
        "data['date'] = pd.to_datetime(data['date']).dt.strftime('%Y-%m')"
      ],
      "metadata": {
        "id": "WTI1uSHQ2p0X"
      },
      "execution_count": 15,
      "outputs": []
    },
    {
      "cell_type": "code",
      "source": [
        "data.info()"
      ],
      "metadata": {
        "colab": {
          "base_uri": "https://localhost:8080/"
        },
        "id": "HmkdWs6pIasN",
        "outputId": "e9d05506-5c4c-4ea5-b859-1a82b9954578"
      },
      "execution_count": 16,
      "outputs": [
        {
          "output_type": "stream",
          "name": "stdout",
          "text": [
            "<class 'pandas.core.frame.DataFrame'>\n",
            "RangeIndex: 288 entries, 0 to 287\n",
            "Data columns (total 4 columns):\n",
            " #   Column  Non-Null Count  Dtype  \n",
            "---  ------  --------------  -----  \n",
            " 0   date    288 non-null    object \n",
            " 1   wage    288 non-null    float64\n",
            " 2   rmpi    288 non-null    float64\n",
            " 3   cpi     288 non-null    float64\n",
            "dtypes: float64(3), object(1)\n",
            "memory usage: 9.1+ KB\n"
          ]
        }
      ]
    },
    {
      "cell_type": "code",
      "source": [
        "# descriptive stats\n",
        "data.describe()"
      ],
      "metadata": {
        "colab": {
          "base_uri": "https://localhost:8080/",
          "height": 300
        },
        "id": "GbAAuB7B2w8u",
        "outputId": "ffb856f9-e059-4975-a709-d42ff0f9973e"
      },
      "execution_count": 17,
      "outputs": [
        {
          "output_type": "execute_result",
          "data": {
            "text/plain": [
              "              wage        rmpi         cpi\n",
              "count   288.000000  288.000000  288.000000\n",
              "mean    911.631250   99.128125  123.738542\n",
              "std     170.097978   24.307042   17.143681\n",
              "min     652.280000   55.300000   96.300000\n",
              "25%     772.157500   84.075000  109.775000\n",
              "50%     903.520000   97.050000  122.200000\n",
              "75%    1009.597500  112.725000  134.225000\n",
              "max    1285.910000  166.600000  162.100000"
            ],
            "text/html": [
              "\n",
              "  <div id=\"df-a8831261-30e6-4d1e-9e8a-3e70126eaad3\" class=\"colab-df-container\">\n",
              "    <div>\n",
              "<style scoped>\n",
              "    .dataframe tbody tr th:only-of-type {\n",
              "        vertical-align: middle;\n",
              "    }\n",
              "\n",
              "    .dataframe tbody tr th {\n",
              "        vertical-align: top;\n",
              "    }\n",
              "\n",
              "    .dataframe thead th {\n",
              "        text-align: right;\n",
              "    }\n",
              "</style>\n",
              "<table border=\"1\" class=\"dataframe\">\n",
              "  <thead>\n",
              "    <tr style=\"text-align: right;\">\n",
              "      <th></th>\n",
              "      <th>wage</th>\n",
              "      <th>rmpi</th>\n",
              "      <th>cpi</th>\n",
              "    </tr>\n",
              "  </thead>\n",
              "  <tbody>\n",
              "    <tr>\n",
              "      <th>count</th>\n",
              "      <td>288.000000</td>\n",
              "      <td>288.000000</td>\n",
              "      <td>288.000000</td>\n",
              "    </tr>\n",
              "    <tr>\n",
              "      <th>mean</th>\n",
              "      <td>911.631250</td>\n",
              "      <td>99.128125</td>\n",
              "      <td>123.738542</td>\n",
              "    </tr>\n",
              "    <tr>\n",
              "      <th>std</th>\n",
              "      <td>170.097978</td>\n",
              "      <td>24.307042</td>\n",
              "      <td>17.143681</td>\n",
              "    </tr>\n",
              "    <tr>\n",
              "      <th>min</th>\n",
              "      <td>652.280000</td>\n",
              "      <td>55.300000</td>\n",
              "      <td>96.300000</td>\n",
              "    </tr>\n",
              "    <tr>\n",
              "      <th>25%</th>\n",
              "      <td>772.157500</td>\n",
              "      <td>84.075000</td>\n",
              "      <td>109.775000</td>\n",
              "    </tr>\n",
              "    <tr>\n",
              "      <th>50%</th>\n",
              "      <td>903.520000</td>\n",
              "      <td>97.050000</td>\n",
              "      <td>122.200000</td>\n",
              "    </tr>\n",
              "    <tr>\n",
              "      <th>75%</th>\n",
              "      <td>1009.597500</td>\n",
              "      <td>112.725000</td>\n",
              "      <td>134.225000</td>\n",
              "    </tr>\n",
              "    <tr>\n",
              "      <th>max</th>\n",
              "      <td>1285.910000</td>\n",
              "      <td>166.600000</td>\n",
              "      <td>162.100000</td>\n",
              "    </tr>\n",
              "  </tbody>\n",
              "</table>\n",
              "</div>\n",
              "    <div class=\"colab-df-buttons\">\n",
              "\n",
              "  <div class=\"colab-df-container\">\n",
              "    <button class=\"colab-df-convert\" onclick=\"convertToInteractive('df-a8831261-30e6-4d1e-9e8a-3e70126eaad3')\"\n",
              "            title=\"Convert this dataframe to an interactive table.\"\n",
              "            style=\"display:none;\">\n",
              "\n",
              "  <svg xmlns=\"http://www.w3.org/2000/svg\" height=\"24px\" viewBox=\"0 -960 960 960\">\n",
              "    <path d=\"M120-120v-720h720v720H120Zm60-500h600v-160H180v160Zm220 220h160v-160H400v160Zm0 220h160v-160H400v160ZM180-400h160v-160H180v160Zm440 0h160v-160H620v160ZM180-180h160v-160H180v160Zm440 0h160v-160H620v160Z\"/>\n",
              "  </svg>\n",
              "    </button>\n",
              "\n",
              "  <style>\n",
              "    .colab-df-container {\n",
              "      display:flex;\n",
              "      gap: 12px;\n",
              "    }\n",
              "\n",
              "    .colab-df-convert {\n",
              "      background-color: #E8F0FE;\n",
              "      border: none;\n",
              "      border-radius: 50%;\n",
              "      cursor: pointer;\n",
              "      display: none;\n",
              "      fill: #1967D2;\n",
              "      height: 32px;\n",
              "      padding: 0 0 0 0;\n",
              "      width: 32px;\n",
              "    }\n",
              "\n",
              "    .colab-df-convert:hover {\n",
              "      background-color: #E2EBFA;\n",
              "      box-shadow: 0px 1px 2px rgba(60, 64, 67, 0.3), 0px 1px 3px 1px rgba(60, 64, 67, 0.15);\n",
              "      fill: #174EA6;\n",
              "    }\n",
              "\n",
              "    .colab-df-buttons div {\n",
              "      margin-bottom: 4px;\n",
              "    }\n",
              "\n",
              "    [theme=dark] .colab-df-convert {\n",
              "      background-color: #3B4455;\n",
              "      fill: #D2E3FC;\n",
              "    }\n",
              "\n",
              "    [theme=dark] .colab-df-convert:hover {\n",
              "      background-color: #434B5C;\n",
              "      box-shadow: 0px 1px 3px 1px rgba(0, 0, 0, 0.15);\n",
              "      filter: drop-shadow(0px 1px 2px rgba(0, 0, 0, 0.3));\n",
              "      fill: #FFFFFF;\n",
              "    }\n",
              "  </style>\n",
              "\n",
              "    <script>\n",
              "      const buttonEl =\n",
              "        document.querySelector('#df-a8831261-30e6-4d1e-9e8a-3e70126eaad3 button.colab-df-convert');\n",
              "      buttonEl.style.display =\n",
              "        google.colab.kernel.accessAllowed ? 'block' : 'none';\n",
              "\n",
              "      async function convertToInteractive(key) {\n",
              "        const element = document.querySelector('#df-a8831261-30e6-4d1e-9e8a-3e70126eaad3');\n",
              "        const dataTable =\n",
              "          await google.colab.kernel.invokeFunction('convertToInteractive',\n",
              "                                                    [key], {});\n",
              "        if (!dataTable) return;\n",
              "\n",
              "        const docLinkHtml = 'Like what you see? Visit the ' +\n",
              "          '<a target=\"_blank\" href=https://colab.research.google.com/notebooks/data_table.ipynb>data table notebook</a>'\n",
              "          + ' to learn more about interactive tables.';\n",
              "        element.innerHTML = '';\n",
              "        dataTable['output_type'] = 'display_data';\n",
              "        await google.colab.output.renderOutput(dataTable, element);\n",
              "        const docLink = document.createElement('div');\n",
              "        docLink.innerHTML = docLinkHtml;\n",
              "        element.appendChild(docLink);\n",
              "      }\n",
              "    </script>\n",
              "  </div>\n",
              "\n",
              "\n",
              "<div id=\"df-8115aefa-4a56-414d-bfe9-ae090c30a895\">\n",
              "  <button class=\"colab-df-quickchart\" onclick=\"quickchart('df-8115aefa-4a56-414d-bfe9-ae090c30a895')\"\n",
              "            title=\"Suggest charts\"\n",
              "            style=\"display:none;\">\n",
              "\n",
              "<svg xmlns=\"http://www.w3.org/2000/svg\" height=\"24px\"viewBox=\"0 0 24 24\"\n",
              "     width=\"24px\">\n",
              "    <g>\n",
              "        <path d=\"M19 3H5c-1.1 0-2 .9-2 2v14c0 1.1.9 2 2 2h14c1.1 0 2-.9 2-2V5c0-1.1-.9-2-2-2zM9 17H7v-7h2v7zm4 0h-2V7h2v10zm4 0h-2v-4h2v4z\"/>\n",
              "    </g>\n",
              "</svg>\n",
              "  </button>\n",
              "\n",
              "<style>\n",
              "  .colab-df-quickchart {\n",
              "      --bg-color: #E8F0FE;\n",
              "      --fill-color: #1967D2;\n",
              "      --hover-bg-color: #E2EBFA;\n",
              "      --hover-fill-color: #174EA6;\n",
              "      --disabled-fill-color: #AAA;\n",
              "      --disabled-bg-color: #DDD;\n",
              "  }\n",
              "\n",
              "  [theme=dark] .colab-df-quickchart {\n",
              "      --bg-color: #3B4455;\n",
              "      --fill-color: #D2E3FC;\n",
              "      --hover-bg-color: #434B5C;\n",
              "      --hover-fill-color: #FFFFFF;\n",
              "      --disabled-bg-color: #3B4455;\n",
              "      --disabled-fill-color: #666;\n",
              "  }\n",
              "\n",
              "  .colab-df-quickchart {\n",
              "    background-color: var(--bg-color);\n",
              "    border: none;\n",
              "    border-radius: 50%;\n",
              "    cursor: pointer;\n",
              "    display: none;\n",
              "    fill: var(--fill-color);\n",
              "    height: 32px;\n",
              "    padding: 0;\n",
              "    width: 32px;\n",
              "  }\n",
              "\n",
              "  .colab-df-quickchart:hover {\n",
              "    background-color: var(--hover-bg-color);\n",
              "    box-shadow: 0 1px 2px rgba(60, 64, 67, 0.3), 0 1px 3px 1px rgba(60, 64, 67, 0.15);\n",
              "    fill: var(--button-hover-fill-color);\n",
              "  }\n",
              "\n",
              "  .colab-df-quickchart-complete:disabled,\n",
              "  .colab-df-quickchart-complete:disabled:hover {\n",
              "    background-color: var(--disabled-bg-color);\n",
              "    fill: var(--disabled-fill-color);\n",
              "    box-shadow: none;\n",
              "  }\n",
              "\n",
              "  .colab-df-spinner {\n",
              "    border: 2px solid var(--fill-color);\n",
              "    border-color: transparent;\n",
              "    border-bottom-color: var(--fill-color);\n",
              "    animation:\n",
              "      spin 1s steps(1) infinite;\n",
              "  }\n",
              "\n",
              "  @keyframes spin {\n",
              "    0% {\n",
              "      border-color: transparent;\n",
              "      border-bottom-color: var(--fill-color);\n",
              "      border-left-color: var(--fill-color);\n",
              "    }\n",
              "    20% {\n",
              "      border-color: transparent;\n",
              "      border-left-color: var(--fill-color);\n",
              "      border-top-color: var(--fill-color);\n",
              "    }\n",
              "    30% {\n",
              "      border-color: transparent;\n",
              "      border-left-color: var(--fill-color);\n",
              "      border-top-color: var(--fill-color);\n",
              "      border-right-color: var(--fill-color);\n",
              "    }\n",
              "    40% {\n",
              "      border-color: transparent;\n",
              "      border-right-color: var(--fill-color);\n",
              "      border-top-color: var(--fill-color);\n",
              "    }\n",
              "    60% {\n",
              "      border-color: transparent;\n",
              "      border-right-color: var(--fill-color);\n",
              "    }\n",
              "    80% {\n",
              "      border-color: transparent;\n",
              "      border-right-color: var(--fill-color);\n",
              "      border-bottom-color: var(--fill-color);\n",
              "    }\n",
              "    90% {\n",
              "      border-color: transparent;\n",
              "      border-bottom-color: var(--fill-color);\n",
              "    }\n",
              "  }\n",
              "</style>\n",
              "\n",
              "  <script>\n",
              "    async function quickchart(key) {\n",
              "      const quickchartButtonEl =\n",
              "        document.querySelector('#' + key + ' button');\n",
              "      quickchartButtonEl.disabled = true;  // To prevent multiple clicks.\n",
              "      quickchartButtonEl.classList.add('colab-df-spinner');\n",
              "      try {\n",
              "        const charts = await google.colab.kernel.invokeFunction(\n",
              "            'suggestCharts', [key], {});\n",
              "      } catch (error) {\n",
              "        console.error('Error during call to suggestCharts:', error);\n",
              "      }\n",
              "      quickchartButtonEl.classList.remove('colab-df-spinner');\n",
              "      quickchartButtonEl.classList.add('colab-df-quickchart-complete');\n",
              "    }\n",
              "    (() => {\n",
              "      let quickchartButtonEl =\n",
              "        document.querySelector('#df-8115aefa-4a56-414d-bfe9-ae090c30a895 button');\n",
              "      quickchartButtonEl.style.display =\n",
              "        google.colab.kernel.accessAllowed ? 'block' : 'none';\n",
              "    })();\n",
              "  </script>\n",
              "</div>\n",
              "\n",
              "    </div>\n",
              "  </div>\n"
            ],
            "application/vnd.google.colaboratory.intrinsic+json": {
              "type": "dataframe",
              "summary": "{\n  \"name\": \"data\",\n  \"rows\": 8,\n  \"fields\": [\n    {\n      \"column\": \"wage\",\n      \"properties\": {\n        \"dtype\": \"number\",\n        \"std\": 371.1080243384949,\n        \"min\": 170.097977907815,\n        \"max\": 1285.91,\n        \"num_unique_values\": 8,\n        \"samples\": [\n          911.6312499999999,\n          903.52,\n          288.0\n        ],\n        \"semantic_type\": \"\",\n        \"description\": \"\"\n      }\n    },\n    {\n      \"column\": \"rmpi\",\n      \"properties\": {\n        \"dtype\": \"number\",\n        \"std\": 80.98505994307416,\n        \"min\": 24.30704162234297,\n        \"max\": 288.0,\n        \"num_unique_values\": 8,\n        \"samples\": [\n          99.12812500000001,\n          97.05,\n          288.0\n        ],\n        \"semantic_type\": \"\",\n        \"description\": \"\"\n      }\n    },\n    {\n      \"column\": \"cpi\",\n      \"properties\": {\n        \"dtype\": \"number\",\n        \"std\": 75.94252958842388,\n        \"min\": 17.143680806468506,\n        \"max\": 288.0,\n        \"num_unique_values\": 8,\n        \"samples\": [\n          123.73854166666666,\n          122.2,\n          288.0\n        ],\n        \"semantic_type\": \"\",\n        \"description\": \"\"\n      }\n    }\n  ]\n}"
            }
          },
          "metadata": {},
          "execution_count": 17
        }
      ]
    },
    {
      "cell_type": "markdown",
      "source": [
        "The interest rate data is published (almost) daily, but only changes at 8 pre-determined dates per year. This will require some extra wrangling to align with the other monthly series. Where there is a rate change, I'll apply changed rate to that entire month, effective on the 1st day, so that rate_df can be aligned with the rate announcement data."
      ],
      "metadata": {
        "id": "cexNPvzpVHDH"
      }
    },
    {
      "cell_type": "code",
      "source": [
        "print(rate_df.info())\n",
        "print(rate_df.describe())"
      ],
      "metadata": {
        "colab": {
          "base_uri": "https://localhost:8080/"
        },
        "id": "Mu8nfJjq25Kv",
        "outputId": "02114eb0-2b65-4e01-82f0-55980050e88c"
      },
      "execution_count": 18,
      "outputs": [
        {
          "output_type": "stream",
          "name": "stdout",
          "text": [
            "<class 'pandas.core.frame.DataFrame'>\n",
            "RangeIndex: 8766 entries, 0 to 8765\n",
            "Data columns (total 2 columns):\n",
            " #   Column  Non-Null Count  Dtype  \n",
            "---  ------  --------------  -----  \n",
            " 0   date    8766 non-null   object \n",
            " 1   rate    6231 non-null   float64\n",
            "dtypes: float64(1), object(1)\n",
            "memory usage: 137.1+ KB\n",
            "None\n",
            "              rate\n",
            "count  6231.000000\n",
            "mean      2.237963\n",
            "std       1.519686\n",
            "min       0.500000\n",
            "25%       1.000000\n",
            "50%       1.750000\n",
            "75%       3.250000\n",
            "max       6.000000\n"
          ]
        }
      ]
    },
    {
      "cell_type": "code",
      "source": [
        "# date format\n",
        "rate_df['date'] = pd.to_datetime(rate_df['date'])\n",
        "\n",
        "# continuous dates\n",
        "rate_df = rate_df.set_index('date')\\\n",
        "                           .asfreq('D')\\\n",
        "                           .reset_index()\n",
        "\n",
        "# fill na\n",
        "rate_df['rate'] = rate_df['rate'].ffill()"
      ],
      "metadata": {
        "id": "4llM29bGMxAL"
      },
      "execution_count": 19,
      "outputs": []
    },
    {
      "cell_type": "code",
      "source": [
        "rate_df.info()"
      ],
      "metadata": {
        "colab": {
          "base_uri": "https://localhost:8080/"
        },
        "id": "Wrg8fN7FM4RT",
        "outputId": "03afc2b9-c764-4f6d-888c-b82465cf930d"
      },
      "execution_count": 20,
      "outputs": [
        {
          "output_type": "stream",
          "name": "stdout",
          "text": [
            "<class 'pandas.core.frame.DataFrame'>\n",
            "RangeIndex: 8766 entries, 0 to 8765\n",
            "Data columns (total 2 columns):\n",
            " #   Column  Non-Null Count  Dtype         \n",
            "---  ------  --------------  -----         \n",
            " 0   date    8766 non-null   datetime64[ns]\n",
            " 1   rate    8766 non-null   float64       \n",
            "dtypes: datetime64[ns](1), float64(1)\n",
            "memory usage: 137.1 KB\n"
          ]
        }
      ]
    },
    {
      "cell_type": "code",
      "source": [
        "def preprocess_rate(rate_df):\n",
        "    \"\"\"\n",
        "    Cleans and transforms daily interest rate DataFrame to monthly,\n",
        "    applying the new rate to the first day of the month of change.\n",
        "\n",
        "    Args:\n",
        "        rate_df (pd.DataFrame): DataFrame containing 'date' and 'rate' columns.\n",
        "\n",
        "    Returns:\n",
        "        pd.DataFrame: DataFrame with monthly interest rates.\n",
        "    \"\"\"\n",
        "\n",
        "    # sort\n",
        "    rate_df = rate_df.sort_values('date')\n",
        "\n",
        "    # rate changes\n",
        "    rate_df['prev_rate'] = rate_df['rate'].shift(1)\n",
        "    rate_df['rate_changed'] = rate_df['rate'] != rate_df['prev_rate']\n",
        "\n",
        "    # filter changes\n",
        "    rate_changes = rate_df[rate_df['rate_changed']].copy()\n",
        "\n",
        "    # rate effective first of month\n",
        "    rate_changes['date'] = rate_changes['date'].dt.to_period('M')\\\n",
        "                                               .dt.to_timestamp()\n",
        "\n",
        "    # ensure unique dates\n",
        "    rate_changes = rate_changes.groupby('date')['rate']\\\n",
        "                               .last()\\\n",
        "                               .reset_index()\n",
        "\n",
        "\n",
        "    # drop unnecessary cols\n",
        "    rate_changes = rate_changes[['date', 'rate']]\n",
        "\n",
        "    # monthly frequency fwd fill\n",
        "    monthly_rate_df = rate_changes.set_index('date')\\\n",
        "                                  .resample('MS')\\\n",
        "                                  .ffill()\\\n",
        "                                  .reset_index()\n",
        "\n",
        "    # format date\n",
        "    monthly_rate_df['date'] = monthly_rate_df['date'].dt.strftime('%Y-%m')\n",
        "\n",
        "    return monthly_rate_df"
      ],
      "metadata": {
        "id": "lB0Sma2924xB"
      },
      "execution_count": 21,
      "outputs": []
    },
    {
      "cell_type": "code",
      "source": [
        "# preprocess rate_df\n",
        "rate_df = preprocess_rate(rate_df)"
      ],
      "metadata": {
        "id": "_MbmzlZDY1R6"
      },
      "execution_count": 22,
      "outputs": []
    },
    {
      "cell_type": "code",
      "source": [
        "rate_df.head()"
      ],
      "metadata": {
        "colab": {
          "base_uri": "https://localhost:8080/",
          "height": 206
        },
        "id": "xCqPN9RkRiwF",
        "outputId": "484e88b0-839b-4e8b-f2c8-cbd743c93f10"
      },
      "execution_count": 23,
      "outputs": [
        {
          "output_type": "execute_result",
          "data": {
            "text/plain": [
              "      date  rate\n",
              "0  2001-01  5.75\n",
              "1  2001-02  5.75\n",
              "2  2001-03  5.25\n",
              "3  2001-04  5.00\n",
              "4  2001-05  4.75"
            ],
            "text/html": [
              "\n",
              "  <div id=\"df-5a0c2b47-952d-400c-99ae-9254b088c710\" class=\"colab-df-container\">\n",
              "    <div>\n",
              "<style scoped>\n",
              "    .dataframe tbody tr th:only-of-type {\n",
              "        vertical-align: middle;\n",
              "    }\n",
              "\n",
              "    .dataframe tbody tr th {\n",
              "        vertical-align: top;\n",
              "    }\n",
              "\n",
              "    .dataframe thead th {\n",
              "        text-align: right;\n",
              "    }\n",
              "</style>\n",
              "<table border=\"1\" class=\"dataframe\">\n",
              "  <thead>\n",
              "    <tr style=\"text-align: right;\">\n",
              "      <th></th>\n",
              "      <th>date</th>\n",
              "      <th>rate</th>\n",
              "    </tr>\n",
              "  </thead>\n",
              "  <tbody>\n",
              "    <tr>\n",
              "      <th>0</th>\n",
              "      <td>2001-01</td>\n",
              "      <td>5.75</td>\n",
              "    </tr>\n",
              "    <tr>\n",
              "      <th>1</th>\n",
              "      <td>2001-02</td>\n",
              "      <td>5.75</td>\n",
              "    </tr>\n",
              "    <tr>\n",
              "      <th>2</th>\n",
              "      <td>2001-03</td>\n",
              "      <td>5.25</td>\n",
              "    </tr>\n",
              "    <tr>\n",
              "      <th>3</th>\n",
              "      <td>2001-04</td>\n",
              "      <td>5.00</td>\n",
              "    </tr>\n",
              "    <tr>\n",
              "      <th>4</th>\n",
              "      <td>2001-05</td>\n",
              "      <td>4.75</td>\n",
              "    </tr>\n",
              "  </tbody>\n",
              "</table>\n",
              "</div>\n",
              "    <div class=\"colab-df-buttons\">\n",
              "\n",
              "  <div class=\"colab-df-container\">\n",
              "    <button class=\"colab-df-convert\" onclick=\"convertToInteractive('df-5a0c2b47-952d-400c-99ae-9254b088c710')\"\n",
              "            title=\"Convert this dataframe to an interactive table.\"\n",
              "            style=\"display:none;\">\n",
              "\n",
              "  <svg xmlns=\"http://www.w3.org/2000/svg\" height=\"24px\" viewBox=\"0 -960 960 960\">\n",
              "    <path d=\"M120-120v-720h720v720H120Zm60-500h600v-160H180v160Zm220 220h160v-160H400v160Zm0 220h160v-160H400v160ZM180-400h160v-160H180v160Zm440 0h160v-160H620v160ZM180-180h160v-160H180v160Zm440 0h160v-160H620v160Z\"/>\n",
              "  </svg>\n",
              "    </button>\n",
              "\n",
              "  <style>\n",
              "    .colab-df-container {\n",
              "      display:flex;\n",
              "      gap: 12px;\n",
              "    }\n",
              "\n",
              "    .colab-df-convert {\n",
              "      background-color: #E8F0FE;\n",
              "      border: none;\n",
              "      border-radius: 50%;\n",
              "      cursor: pointer;\n",
              "      display: none;\n",
              "      fill: #1967D2;\n",
              "      height: 32px;\n",
              "      padding: 0 0 0 0;\n",
              "      width: 32px;\n",
              "    }\n",
              "\n",
              "    .colab-df-convert:hover {\n",
              "      background-color: #E2EBFA;\n",
              "      box-shadow: 0px 1px 2px rgba(60, 64, 67, 0.3), 0px 1px 3px 1px rgba(60, 64, 67, 0.15);\n",
              "      fill: #174EA6;\n",
              "    }\n",
              "\n",
              "    .colab-df-buttons div {\n",
              "      margin-bottom: 4px;\n",
              "    }\n",
              "\n",
              "    [theme=dark] .colab-df-convert {\n",
              "      background-color: #3B4455;\n",
              "      fill: #D2E3FC;\n",
              "    }\n",
              "\n",
              "    [theme=dark] .colab-df-convert:hover {\n",
              "      background-color: #434B5C;\n",
              "      box-shadow: 0px 1px 3px 1px rgba(0, 0, 0, 0.15);\n",
              "      filter: drop-shadow(0px 1px 2px rgba(0, 0, 0, 0.3));\n",
              "      fill: #FFFFFF;\n",
              "    }\n",
              "  </style>\n",
              "\n",
              "    <script>\n",
              "      const buttonEl =\n",
              "        document.querySelector('#df-5a0c2b47-952d-400c-99ae-9254b088c710 button.colab-df-convert');\n",
              "      buttonEl.style.display =\n",
              "        google.colab.kernel.accessAllowed ? 'block' : 'none';\n",
              "\n",
              "      async function convertToInteractive(key) {\n",
              "        const element = document.querySelector('#df-5a0c2b47-952d-400c-99ae-9254b088c710');\n",
              "        const dataTable =\n",
              "          await google.colab.kernel.invokeFunction('convertToInteractive',\n",
              "                                                    [key], {});\n",
              "        if (!dataTable) return;\n",
              "\n",
              "        const docLinkHtml = 'Like what you see? Visit the ' +\n",
              "          '<a target=\"_blank\" href=https://colab.research.google.com/notebooks/data_table.ipynb>data table notebook</a>'\n",
              "          + ' to learn more about interactive tables.';\n",
              "        element.innerHTML = '';\n",
              "        dataTable['output_type'] = 'display_data';\n",
              "        await google.colab.output.renderOutput(dataTable, element);\n",
              "        const docLink = document.createElement('div');\n",
              "        docLink.innerHTML = docLinkHtml;\n",
              "        element.appendChild(docLink);\n",
              "      }\n",
              "    </script>\n",
              "  </div>\n",
              "\n",
              "\n",
              "<div id=\"df-a5d761e3-5fb7-4462-b77b-cb2d651f01be\">\n",
              "  <button class=\"colab-df-quickchart\" onclick=\"quickchart('df-a5d761e3-5fb7-4462-b77b-cb2d651f01be')\"\n",
              "            title=\"Suggest charts\"\n",
              "            style=\"display:none;\">\n",
              "\n",
              "<svg xmlns=\"http://www.w3.org/2000/svg\" height=\"24px\"viewBox=\"0 0 24 24\"\n",
              "     width=\"24px\">\n",
              "    <g>\n",
              "        <path d=\"M19 3H5c-1.1 0-2 .9-2 2v14c0 1.1.9 2 2 2h14c1.1 0 2-.9 2-2V5c0-1.1-.9-2-2-2zM9 17H7v-7h2v7zm4 0h-2V7h2v10zm4 0h-2v-4h2v4z\"/>\n",
              "    </g>\n",
              "</svg>\n",
              "  </button>\n",
              "\n",
              "<style>\n",
              "  .colab-df-quickchart {\n",
              "      --bg-color: #E8F0FE;\n",
              "      --fill-color: #1967D2;\n",
              "      --hover-bg-color: #E2EBFA;\n",
              "      --hover-fill-color: #174EA6;\n",
              "      --disabled-fill-color: #AAA;\n",
              "      --disabled-bg-color: #DDD;\n",
              "  }\n",
              "\n",
              "  [theme=dark] .colab-df-quickchart {\n",
              "      --bg-color: #3B4455;\n",
              "      --fill-color: #D2E3FC;\n",
              "      --hover-bg-color: #434B5C;\n",
              "      --hover-fill-color: #FFFFFF;\n",
              "      --disabled-bg-color: #3B4455;\n",
              "      --disabled-fill-color: #666;\n",
              "  }\n",
              "\n",
              "  .colab-df-quickchart {\n",
              "    background-color: var(--bg-color);\n",
              "    border: none;\n",
              "    border-radius: 50%;\n",
              "    cursor: pointer;\n",
              "    display: none;\n",
              "    fill: var(--fill-color);\n",
              "    height: 32px;\n",
              "    padding: 0;\n",
              "    width: 32px;\n",
              "  }\n",
              "\n",
              "  .colab-df-quickchart:hover {\n",
              "    background-color: var(--hover-bg-color);\n",
              "    box-shadow: 0 1px 2px rgba(60, 64, 67, 0.3), 0 1px 3px 1px rgba(60, 64, 67, 0.15);\n",
              "    fill: var(--button-hover-fill-color);\n",
              "  }\n",
              "\n",
              "  .colab-df-quickchart-complete:disabled,\n",
              "  .colab-df-quickchart-complete:disabled:hover {\n",
              "    background-color: var(--disabled-bg-color);\n",
              "    fill: var(--disabled-fill-color);\n",
              "    box-shadow: none;\n",
              "  }\n",
              "\n",
              "  .colab-df-spinner {\n",
              "    border: 2px solid var(--fill-color);\n",
              "    border-color: transparent;\n",
              "    border-bottom-color: var(--fill-color);\n",
              "    animation:\n",
              "      spin 1s steps(1) infinite;\n",
              "  }\n",
              "\n",
              "  @keyframes spin {\n",
              "    0% {\n",
              "      border-color: transparent;\n",
              "      border-bottom-color: var(--fill-color);\n",
              "      border-left-color: var(--fill-color);\n",
              "    }\n",
              "    20% {\n",
              "      border-color: transparent;\n",
              "      border-left-color: var(--fill-color);\n",
              "      border-top-color: var(--fill-color);\n",
              "    }\n",
              "    30% {\n",
              "      border-color: transparent;\n",
              "      border-left-color: var(--fill-color);\n",
              "      border-top-color: var(--fill-color);\n",
              "      border-right-color: var(--fill-color);\n",
              "    }\n",
              "    40% {\n",
              "      border-color: transparent;\n",
              "      border-right-color: var(--fill-color);\n",
              "      border-top-color: var(--fill-color);\n",
              "    }\n",
              "    60% {\n",
              "      border-color: transparent;\n",
              "      border-right-color: var(--fill-color);\n",
              "    }\n",
              "    80% {\n",
              "      border-color: transparent;\n",
              "      border-right-color: var(--fill-color);\n",
              "      border-bottom-color: var(--fill-color);\n",
              "    }\n",
              "    90% {\n",
              "      border-color: transparent;\n",
              "      border-bottom-color: var(--fill-color);\n",
              "    }\n",
              "  }\n",
              "</style>\n",
              "\n",
              "  <script>\n",
              "    async function quickchart(key) {\n",
              "      const quickchartButtonEl =\n",
              "        document.querySelector('#' + key + ' button');\n",
              "      quickchartButtonEl.disabled = true;  // To prevent multiple clicks.\n",
              "      quickchartButtonEl.classList.add('colab-df-spinner');\n",
              "      try {\n",
              "        const charts = await google.colab.kernel.invokeFunction(\n",
              "            'suggestCharts', [key], {});\n",
              "      } catch (error) {\n",
              "        console.error('Error during call to suggestCharts:', error);\n",
              "      }\n",
              "      quickchartButtonEl.classList.remove('colab-df-spinner');\n",
              "      quickchartButtonEl.classList.add('colab-df-quickchart-complete');\n",
              "    }\n",
              "    (() => {\n",
              "      let quickchartButtonEl =\n",
              "        document.querySelector('#df-a5d761e3-5fb7-4462-b77b-cb2d651f01be button');\n",
              "      quickchartButtonEl.style.display =\n",
              "        google.colab.kernel.accessAllowed ? 'block' : 'none';\n",
              "    })();\n",
              "  </script>\n",
              "</div>\n",
              "\n",
              "    </div>\n",
              "  </div>\n"
            ],
            "application/vnd.google.colaboratory.intrinsic+json": {
              "type": "dataframe",
              "variable_name": "rate_df",
              "summary": "{\n  \"name\": \"rate_df\",\n  \"rows\": 288,\n  \"fields\": [\n    {\n      \"column\": \"date\",\n      \"properties\": {\n        \"dtype\": \"object\",\n        \"num_unique_values\": 288,\n        \"samples\": [\n          \"2004-10\",\n          \"2014-02\",\n          \"2022-05\"\n        ],\n        \"semantic_type\": \"\",\n        \"description\": \"\"\n      }\n    },\n    {\n      \"column\": \"rate\",\n      \"properties\": {\n        \"dtype\": \"number\",\n        \"std\": 1.5225310417471374,\n        \"min\": 0.5,\n        \"max\": 5.75,\n        \"num_unique_values\": 21,\n        \"samples\": [\n          5.75,\n          0.5,\n          1.25\n        ],\n        \"semantic_type\": \"\",\n        \"description\": \"\"\n      }\n    }\n  ]\n}"
            }
          },
          "metadata": {},
          "execution_count": 23
        }
      ]
    },
    {
      "cell_type": "code",
      "source": [
        "rate_announcements.info()"
      ],
      "metadata": {
        "id": "Z3ZqUyK5GZwM",
        "outputId": "d3db659b-cf42-4f66-9a1e-71f7f13b44d5",
        "colab": {
          "base_uri": "https://localhost:8080/"
        }
      },
      "execution_count": 24,
      "outputs": [
        {
          "output_type": "stream",
          "name": "stdout",
          "text": [
            "<class 'pandas.core.frame.DataFrame'>\n",
            "RangeIndex: 201 entries, 0 to 200\n",
            "Data columns (total 1 columns):\n",
            " #   Column  Non-Null Count  Dtype \n",
            "---  ------  --------------  ----- \n",
            " 0   date    201 non-null    object\n",
            "dtypes: object(1)\n",
            "memory usage: 1.7+ KB\n"
          ]
        }
      ]
    },
    {
      "cell_type": "code",
      "source": [
        "rate_announcements.head()"
      ],
      "metadata": {
        "id": "K3c5CsMvH39Y",
        "outputId": "5322a566-3b0a-4216-e53b-4121136a6537",
        "colab": {
          "base_uri": "https://localhost:8080/",
          "height": 206
        }
      },
      "execution_count": 25,
      "outputs": [
        {
          "output_type": "execute_result",
          "data": {
            "text/plain": [
              "         date\n",
              "0  2001-01-23\n",
              "1  2001-03-06\n",
              "2  2001-04-17\n",
              "3  2001-05-29\n",
              "4  2001-07-17"
            ],
            "text/html": [
              "\n",
              "  <div id=\"df-eb1cc093-61a4-4609-8c35-afed7b4d6fe8\" class=\"colab-df-container\">\n",
              "    <div>\n",
              "<style scoped>\n",
              "    .dataframe tbody tr th:only-of-type {\n",
              "        vertical-align: middle;\n",
              "    }\n",
              "\n",
              "    .dataframe tbody tr th {\n",
              "        vertical-align: top;\n",
              "    }\n",
              "\n",
              "    .dataframe thead th {\n",
              "        text-align: right;\n",
              "    }\n",
              "</style>\n",
              "<table border=\"1\" class=\"dataframe\">\n",
              "  <thead>\n",
              "    <tr style=\"text-align: right;\">\n",
              "      <th></th>\n",
              "      <th>date</th>\n",
              "    </tr>\n",
              "  </thead>\n",
              "  <tbody>\n",
              "    <tr>\n",
              "      <th>0</th>\n",
              "      <td>2001-01-23</td>\n",
              "    </tr>\n",
              "    <tr>\n",
              "      <th>1</th>\n",
              "      <td>2001-03-06</td>\n",
              "    </tr>\n",
              "    <tr>\n",
              "      <th>2</th>\n",
              "      <td>2001-04-17</td>\n",
              "    </tr>\n",
              "    <tr>\n",
              "      <th>3</th>\n",
              "      <td>2001-05-29</td>\n",
              "    </tr>\n",
              "    <tr>\n",
              "      <th>4</th>\n",
              "      <td>2001-07-17</td>\n",
              "    </tr>\n",
              "  </tbody>\n",
              "</table>\n",
              "</div>\n",
              "    <div class=\"colab-df-buttons\">\n",
              "\n",
              "  <div class=\"colab-df-container\">\n",
              "    <button class=\"colab-df-convert\" onclick=\"convertToInteractive('df-eb1cc093-61a4-4609-8c35-afed7b4d6fe8')\"\n",
              "            title=\"Convert this dataframe to an interactive table.\"\n",
              "            style=\"display:none;\">\n",
              "\n",
              "  <svg xmlns=\"http://www.w3.org/2000/svg\" height=\"24px\" viewBox=\"0 -960 960 960\">\n",
              "    <path d=\"M120-120v-720h720v720H120Zm60-500h600v-160H180v160Zm220 220h160v-160H400v160Zm0 220h160v-160H400v160ZM180-400h160v-160H180v160Zm440 0h160v-160H620v160ZM180-180h160v-160H180v160Zm440 0h160v-160H620v160Z\"/>\n",
              "  </svg>\n",
              "    </button>\n",
              "\n",
              "  <style>\n",
              "    .colab-df-container {\n",
              "      display:flex;\n",
              "      gap: 12px;\n",
              "    }\n",
              "\n",
              "    .colab-df-convert {\n",
              "      background-color: #E8F0FE;\n",
              "      border: none;\n",
              "      border-radius: 50%;\n",
              "      cursor: pointer;\n",
              "      display: none;\n",
              "      fill: #1967D2;\n",
              "      height: 32px;\n",
              "      padding: 0 0 0 0;\n",
              "      width: 32px;\n",
              "    }\n",
              "\n",
              "    .colab-df-convert:hover {\n",
              "      background-color: #E2EBFA;\n",
              "      box-shadow: 0px 1px 2px rgba(60, 64, 67, 0.3), 0px 1px 3px 1px rgba(60, 64, 67, 0.15);\n",
              "      fill: #174EA6;\n",
              "    }\n",
              "\n",
              "    .colab-df-buttons div {\n",
              "      margin-bottom: 4px;\n",
              "    }\n",
              "\n",
              "    [theme=dark] .colab-df-convert {\n",
              "      background-color: #3B4455;\n",
              "      fill: #D2E3FC;\n",
              "    }\n",
              "\n",
              "    [theme=dark] .colab-df-convert:hover {\n",
              "      background-color: #434B5C;\n",
              "      box-shadow: 0px 1px 3px 1px rgba(0, 0, 0, 0.15);\n",
              "      filter: drop-shadow(0px 1px 2px rgba(0, 0, 0, 0.3));\n",
              "      fill: #FFFFFF;\n",
              "    }\n",
              "  </style>\n",
              "\n",
              "    <script>\n",
              "      const buttonEl =\n",
              "        document.querySelector('#df-eb1cc093-61a4-4609-8c35-afed7b4d6fe8 button.colab-df-convert');\n",
              "      buttonEl.style.display =\n",
              "        google.colab.kernel.accessAllowed ? 'block' : 'none';\n",
              "\n",
              "      async function convertToInteractive(key) {\n",
              "        const element = document.querySelector('#df-eb1cc093-61a4-4609-8c35-afed7b4d6fe8');\n",
              "        const dataTable =\n",
              "          await google.colab.kernel.invokeFunction('convertToInteractive',\n",
              "                                                    [key], {});\n",
              "        if (!dataTable) return;\n",
              "\n",
              "        const docLinkHtml = 'Like what you see? Visit the ' +\n",
              "          '<a target=\"_blank\" href=https://colab.research.google.com/notebooks/data_table.ipynb>data table notebook</a>'\n",
              "          + ' to learn more about interactive tables.';\n",
              "        element.innerHTML = '';\n",
              "        dataTable['output_type'] = 'display_data';\n",
              "        await google.colab.output.renderOutput(dataTable, element);\n",
              "        const docLink = document.createElement('div');\n",
              "        docLink.innerHTML = docLinkHtml;\n",
              "        element.appendChild(docLink);\n",
              "      }\n",
              "    </script>\n",
              "  </div>\n",
              "\n",
              "\n",
              "<div id=\"df-79bd265c-d462-4b0d-9cc7-5c4084a26465\">\n",
              "  <button class=\"colab-df-quickchart\" onclick=\"quickchart('df-79bd265c-d462-4b0d-9cc7-5c4084a26465')\"\n",
              "            title=\"Suggest charts\"\n",
              "            style=\"display:none;\">\n",
              "\n",
              "<svg xmlns=\"http://www.w3.org/2000/svg\" height=\"24px\"viewBox=\"0 0 24 24\"\n",
              "     width=\"24px\">\n",
              "    <g>\n",
              "        <path d=\"M19 3H5c-1.1 0-2 .9-2 2v14c0 1.1.9 2 2 2h14c1.1 0 2-.9 2-2V5c0-1.1-.9-2-2-2zM9 17H7v-7h2v7zm4 0h-2V7h2v10zm4 0h-2v-4h2v4z\"/>\n",
              "    </g>\n",
              "</svg>\n",
              "  </button>\n",
              "\n",
              "<style>\n",
              "  .colab-df-quickchart {\n",
              "      --bg-color: #E8F0FE;\n",
              "      --fill-color: #1967D2;\n",
              "      --hover-bg-color: #E2EBFA;\n",
              "      --hover-fill-color: #174EA6;\n",
              "      --disabled-fill-color: #AAA;\n",
              "      --disabled-bg-color: #DDD;\n",
              "  }\n",
              "\n",
              "  [theme=dark] .colab-df-quickchart {\n",
              "      --bg-color: #3B4455;\n",
              "      --fill-color: #D2E3FC;\n",
              "      --hover-bg-color: #434B5C;\n",
              "      --hover-fill-color: #FFFFFF;\n",
              "      --disabled-bg-color: #3B4455;\n",
              "      --disabled-fill-color: #666;\n",
              "  }\n",
              "\n",
              "  .colab-df-quickchart {\n",
              "    background-color: var(--bg-color);\n",
              "    border: none;\n",
              "    border-radius: 50%;\n",
              "    cursor: pointer;\n",
              "    display: none;\n",
              "    fill: var(--fill-color);\n",
              "    height: 32px;\n",
              "    padding: 0;\n",
              "    width: 32px;\n",
              "  }\n",
              "\n",
              "  .colab-df-quickchart:hover {\n",
              "    background-color: var(--hover-bg-color);\n",
              "    box-shadow: 0 1px 2px rgba(60, 64, 67, 0.3), 0 1px 3px 1px rgba(60, 64, 67, 0.15);\n",
              "    fill: var(--button-hover-fill-color);\n",
              "  }\n",
              "\n",
              "  .colab-df-quickchart-complete:disabled,\n",
              "  .colab-df-quickchart-complete:disabled:hover {\n",
              "    background-color: var(--disabled-bg-color);\n",
              "    fill: var(--disabled-fill-color);\n",
              "    box-shadow: none;\n",
              "  }\n",
              "\n",
              "  .colab-df-spinner {\n",
              "    border: 2px solid var(--fill-color);\n",
              "    border-color: transparent;\n",
              "    border-bottom-color: var(--fill-color);\n",
              "    animation:\n",
              "      spin 1s steps(1) infinite;\n",
              "  }\n",
              "\n",
              "  @keyframes spin {\n",
              "    0% {\n",
              "      border-color: transparent;\n",
              "      border-bottom-color: var(--fill-color);\n",
              "      border-left-color: var(--fill-color);\n",
              "    }\n",
              "    20% {\n",
              "      border-color: transparent;\n",
              "      border-left-color: var(--fill-color);\n",
              "      border-top-color: var(--fill-color);\n",
              "    }\n",
              "    30% {\n",
              "      border-color: transparent;\n",
              "      border-left-color: var(--fill-color);\n",
              "      border-top-color: var(--fill-color);\n",
              "      border-right-color: var(--fill-color);\n",
              "    }\n",
              "    40% {\n",
              "      border-color: transparent;\n",
              "      border-right-color: var(--fill-color);\n",
              "      border-top-color: var(--fill-color);\n",
              "    }\n",
              "    60% {\n",
              "      border-color: transparent;\n",
              "      border-right-color: var(--fill-color);\n",
              "    }\n",
              "    80% {\n",
              "      border-color: transparent;\n",
              "      border-right-color: var(--fill-color);\n",
              "      border-bottom-color: var(--fill-color);\n",
              "    }\n",
              "    90% {\n",
              "      border-color: transparent;\n",
              "      border-bottom-color: var(--fill-color);\n",
              "    }\n",
              "  }\n",
              "</style>\n",
              "\n",
              "  <script>\n",
              "    async function quickchart(key) {\n",
              "      const quickchartButtonEl =\n",
              "        document.querySelector('#' + key + ' button');\n",
              "      quickchartButtonEl.disabled = true;  // To prevent multiple clicks.\n",
              "      quickchartButtonEl.classList.add('colab-df-spinner');\n",
              "      try {\n",
              "        const charts = await google.colab.kernel.invokeFunction(\n",
              "            'suggestCharts', [key], {});\n",
              "      } catch (error) {\n",
              "        console.error('Error during call to suggestCharts:', error);\n",
              "      }\n",
              "      quickchartButtonEl.classList.remove('colab-df-spinner');\n",
              "      quickchartButtonEl.classList.add('colab-df-quickchart-complete');\n",
              "    }\n",
              "    (() => {\n",
              "      let quickchartButtonEl =\n",
              "        document.querySelector('#df-79bd265c-d462-4b0d-9cc7-5c4084a26465 button');\n",
              "      quickchartButtonEl.style.display =\n",
              "        google.colab.kernel.accessAllowed ? 'block' : 'none';\n",
              "    })();\n",
              "  </script>\n",
              "</div>\n",
              "\n",
              "    </div>\n",
              "  </div>\n"
            ],
            "application/vnd.google.colaboratory.intrinsic+json": {
              "type": "dataframe",
              "variable_name": "rate_announcements",
              "summary": "{\n  \"name\": \"rate_announcements\",\n  \"rows\": 201,\n  \"fields\": [\n    {\n      \"column\": \"date\",\n      \"properties\": {\n        \"dtype\": \"object\",\n        \"num_unique_values\": 201,\n        \"samples\": [\n          \"2012-10-23\",\n          \"2002-12-03\",\n          \"2004-10-19\"\n        ],\n        \"semantic_type\": \"\",\n        \"description\": \"\"\n      }\n    }\n  ]\n}"
            }
          },
          "metadata": {},
          "execution_count": 25
        }
      ]
    },
    {
      "cell_type": "code",
      "source": [
        "def preprocess_rate_announcements(rate_announcements):\n",
        "    '''\n",
        "    preprocesses rate announcement data by setting the effective date to the\n",
        "    first day of the announcement month.\n",
        "\n",
        "    args:\n",
        "        rate_announcements (pd.DataFrame): DataFrame containing rate announcements\n",
        "            with a 'date' column as the index.\n",
        "\n",
        "    returns:\n",
        "        pd.DataFrame: Preprocessed DataFrame with 'date' as the index, representing\n",
        "            the first day of the announcement month, and an 'announcement' column.\n",
        "    '''\n",
        "\n",
        "    # Ensure 'date' is a column (reset index if needed)\n",
        "    if rate_announcements.index.name == 'date':\n",
        "        rate_announcements = rate_announcements.reset_index()\n",
        "\n",
        "    # Convert 'date' column to datetime\n",
        "    rate_announcements['date'] = pd.to_datetime(rate_announcements['date'])\n",
        "\n",
        "    # Convert 'date' to YYYY-MM format (string)\n",
        "    rate_announcements['date'] = rate_announcements['date'].dt.strftime('%Y-%m')\n",
        "\n",
        "    # Add 'announcement' column with value 1\n",
        "    rate_announcements['announcement'] = 1\n",
        "\n",
        "    # Drop duplicates (if any)\n",
        "    rate_announcements = rate_announcements.drop_duplicates(subset='date')\n",
        "\n",
        "    # Set 'date' as index\n",
        "    rate_announcements = rate_announcements.set_index('date')\n",
        "\n",
        "    return rate_announcements\n"
      ],
      "metadata": {
        "id": "GafyICmwIFLd"
      },
      "execution_count": 26,
      "outputs": []
    },
    {
      "cell_type": "code",
      "source": [
        "rate_announcements = preprocess_rate_announcements(rate_announcements)\n",
        "rate_announcements.head()"
      ],
      "metadata": {
        "id": "98Hk0DeDIo1c",
        "outputId": "e5d1fcc9-0609-4a33-fd66-1a2000cf1aa8",
        "colab": {
          "base_uri": "https://localhost:8080/",
          "height": 238
        }
      },
      "execution_count": 27,
      "outputs": [
        {
          "output_type": "execute_result",
          "data": {
            "text/plain": [
              "         announcement\n",
              "date                 \n",
              "2001-01             1\n",
              "2001-03             1\n",
              "2001-04             1\n",
              "2001-05             1\n",
              "2001-07             1"
            ],
            "text/html": [
              "\n",
              "  <div id=\"df-adb5016c-6000-423b-aef9-9412922fc527\" class=\"colab-df-container\">\n",
              "    <div>\n",
              "<style scoped>\n",
              "    .dataframe tbody tr th:only-of-type {\n",
              "        vertical-align: middle;\n",
              "    }\n",
              "\n",
              "    .dataframe tbody tr th {\n",
              "        vertical-align: top;\n",
              "    }\n",
              "\n",
              "    .dataframe thead th {\n",
              "        text-align: right;\n",
              "    }\n",
              "</style>\n",
              "<table border=\"1\" class=\"dataframe\">\n",
              "  <thead>\n",
              "    <tr style=\"text-align: right;\">\n",
              "      <th></th>\n",
              "      <th>announcement</th>\n",
              "    </tr>\n",
              "    <tr>\n",
              "      <th>date</th>\n",
              "      <th></th>\n",
              "    </tr>\n",
              "  </thead>\n",
              "  <tbody>\n",
              "    <tr>\n",
              "      <th>2001-01</th>\n",
              "      <td>1</td>\n",
              "    </tr>\n",
              "    <tr>\n",
              "      <th>2001-03</th>\n",
              "      <td>1</td>\n",
              "    </tr>\n",
              "    <tr>\n",
              "      <th>2001-04</th>\n",
              "      <td>1</td>\n",
              "    </tr>\n",
              "    <tr>\n",
              "      <th>2001-05</th>\n",
              "      <td>1</td>\n",
              "    </tr>\n",
              "    <tr>\n",
              "      <th>2001-07</th>\n",
              "      <td>1</td>\n",
              "    </tr>\n",
              "  </tbody>\n",
              "</table>\n",
              "</div>\n",
              "    <div class=\"colab-df-buttons\">\n",
              "\n",
              "  <div class=\"colab-df-container\">\n",
              "    <button class=\"colab-df-convert\" onclick=\"convertToInteractive('df-adb5016c-6000-423b-aef9-9412922fc527')\"\n",
              "            title=\"Convert this dataframe to an interactive table.\"\n",
              "            style=\"display:none;\">\n",
              "\n",
              "  <svg xmlns=\"http://www.w3.org/2000/svg\" height=\"24px\" viewBox=\"0 -960 960 960\">\n",
              "    <path d=\"M120-120v-720h720v720H120Zm60-500h600v-160H180v160Zm220 220h160v-160H400v160Zm0 220h160v-160H400v160ZM180-400h160v-160H180v160Zm440 0h160v-160H620v160ZM180-180h160v-160H180v160Zm440 0h160v-160H620v160Z\"/>\n",
              "  </svg>\n",
              "    </button>\n",
              "\n",
              "  <style>\n",
              "    .colab-df-container {\n",
              "      display:flex;\n",
              "      gap: 12px;\n",
              "    }\n",
              "\n",
              "    .colab-df-convert {\n",
              "      background-color: #E8F0FE;\n",
              "      border: none;\n",
              "      border-radius: 50%;\n",
              "      cursor: pointer;\n",
              "      display: none;\n",
              "      fill: #1967D2;\n",
              "      height: 32px;\n",
              "      padding: 0 0 0 0;\n",
              "      width: 32px;\n",
              "    }\n",
              "\n",
              "    .colab-df-convert:hover {\n",
              "      background-color: #E2EBFA;\n",
              "      box-shadow: 0px 1px 2px rgba(60, 64, 67, 0.3), 0px 1px 3px 1px rgba(60, 64, 67, 0.15);\n",
              "      fill: #174EA6;\n",
              "    }\n",
              "\n",
              "    .colab-df-buttons div {\n",
              "      margin-bottom: 4px;\n",
              "    }\n",
              "\n",
              "    [theme=dark] .colab-df-convert {\n",
              "      background-color: #3B4455;\n",
              "      fill: #D2E3FC;\n",
              "    }\n",
              "\n",
              "    [theme=dark] .colab-df-convert:hover {\n",
              "      background-color: #434B5C;\n",
              "      box-shadow: 0px 1px 3px 1px rgba(0, 0, 0, 0.15);\n",
              "      filter: drop-shadow(0px 1px 2px rgba(0, 0, 0, 0.3));\n",
              "      fill: #FFFFFF;\n",
              "    }\n",
              "  </style>\n",
              "\n",
              "    <script>\n",
              "      const buttonEl =\n",
              "        document.querySelector('#df-adb5016c-6000-423b-aef9-9412922fc527 button.colab-df-convert');\n",
              "      buttonEl.style.display =\n",
              "        google.colab.kernel.accessAllowed ? 'block' : 'none';\n",
              "\n",
              "      async function convertToInteractive(key) {\n",
              "        const element = document.querySelector('#df-adb5016c-6000-423b-aef9-9412922fc527');\n",
              "        const dataTable =\n",
              "          await google.colab.kernel.invokeFunction('convertToInteractive',\n",
              "                                                    [key], {});\n",
              "        if (!dataTable) return;\n",
              "\n",
              "        const docLinkHtml = 'Like what you see? Visit the ' +\n",
              "          '<a target=\"_blank\" href=https://colab.research.google.com/notebooks/data_table.ipynb>data table notebook</a>'\n",
              "          + ' to learn more about interactive tables.';\n",
              "        element.innerHTML = '';\n",
              "        dataTable['output_type'] = 'display_data';\n",
              "        await google.colab.output.renderOutput(dataTable, element);\n",
              "        const docLink = document.createElement('div');\n",
              "        docLink.innerHTML = docLinkHtml;\n",
              "        element.appendChild(docLink);\n",
              "      }\n",
              "    </script>\n",
              "  </div>\n",
              "\n",
              "\n",
              "<div id=\"df-96f9e43d-4540-4ca6-99e2-87816fee9c9f\">\n",
              "  <button class=\"colab-df-quickchart\" onclick=\"quickchart('df-96f9e43d-4540-4ca6-99e2-87816fee9c9f')\"\n",
              "            title=\"Suggest charts\"\n",
              "            style=\"display:none;\">\n",
              "\n",
              "<svg xmlns=\"http://www.w3.org/2000/svg\" height=\"24px\"viewBox=\"0 0 24 24\"\n",
              "     width=\"24px\">\n",
              "    <g>\n",
              "        <path d=\"M19 3H5c-1.1 0-2 .9-2 2v14c0 1.1.9 2 2 2h14c1.1 0 2-.9 2-2V5c0-1.1-.9-2-2-2zM9 17H7v-7h2v7zm4 0h-2V7h2v10zm4 0h-2v-4h2v4z\"/>\n",
              "    </g>\n",
              "</svg>\n",
              "  </button>\n",
              "\n",
              "<style>\n",
              "  .colab-df-quickchart {\n",
              "      --bg-color: #E8F0FE;\n",
              "      --fill-color: #1967D2;\n",
              "      --hover-bg-color: #E2EBFA;\n",
              "      --hover-fill-color: #174EA6;\n",
              "      --disabled-fill-color: #AAA;\n",
              "      --disabled-bg-color: #DDD;\n",
              "  }\n",
              "\n",
              "  [theme=dark] .colab-df-quickchart {\n",
              "      --bg-color: #3B4455;\n",
              "      --fill-color: #D2E3FC;\n",
              "      --hover-bg-color: #434B5C;\n",
              "      --hover-fill-color: #FFFFFF;\n",
              "      --disabled-bg-color: #3B4455;\n",
              "      --disabled-fill-color: #666;\n",
              "  }\n",
              "\n",
              "  .colab-df-quickchart {\n",
              "    background-color: var(--bg-color);\n",
              "    border: none;\n",
              "    border-radius: 50%;\n",
              "    cursor: pointer;\n",
              "    display: none;\n",
              "    fill: var(--fill-color);\n",
              "    height: 32px;\n",
              "    padding: 0;\n",
              "    width: 32px;\n",
              "  }\n",
              "\n",
              "  .colab-df-quickchart:hover {\n",
              "    background-color: var(--hover-bg-color);\n",
              "    box-shadow: 0 1px 2px rgba(60, 64, 67, 0.3), 0 1px 3px 1px rgba(60, 64, 67, 0.15);\n",
              "    fill: var(--button-hover-fill-color);\n",
              "  }\n",
              "\n",
              "  .colab-df-quickchart-complete:disabled,\n",
              "  .colab-df-quickchart-complete:disabled:hover {\n",
              "    background-color: var(--disabled-bg-color);\n",
              "    fill: var(--disabled-fill-color);\n",
              "    box-shadow: none;\n",
              "  }\n",
              "\n",
              "  .colab-df-spinner {\n",
              "    border: 2px solid var(--fill-color);\n",
              "    border-color: transparent;\n",
              "    border-bottom-color: var(--fill-color);\n",
              "    animation:\n",
              "      spin 1s steps(1) infinite;\n",
              "  }\n",
              "\n",
              "  @keyframes spin {\n",
              "    0% {\n",
              "      border-color: transparent;\n",
              "      border-bottom-color: var(--fill-color);\n",
              "      border-left-color: var(--fill-color);\n",
              "    }\n",
              "    20% {\n",
              "      border-color: transparent;\n",
              "      border-left-color: var(--fill-color);\n",
              "      border-top-color: var(--fill-color);\n",
              "    }\n",
              "    30% {\n",
              "      border-color: transparent;\n",
              "      border-left-color: var(--fill-color);\n",
              "      border-top-color: var(--fill-color);\n",
              "      border-right-color: var(--fill-color);\n",
              "    }\n",
              "    40% {\n",
              "      border-color: transparent;\n",
              "      border-right-color: var(--fill-color);\n",
              "      border-top-color: var(--fill-color);\n",
              "    }\n",
              "    60% {\n",
              "      border-color: transparent;\n",
              "      border-right-color: var(--fill-color);\n",
              "    }\n",
              "    80% {\n",
              "      border-color: transparent;\n",
              "      border-right-color: var(--fill-color);\n",
              "      border-bottom-color: var(--fill-color);\n",
              "    }\n",
              "    90% {\n",
              "      border-color: transparent;\n",
              "      border-bottom-color: var(--fill-color);\n",
              "    }\n",
              "  }\n",
              "</style>\n",
              "\n",
              "  <script>\n",
              "    async function quickchart(key) {\n",
              "      const quickchartButtonEl =\n",
              "        document.querySelector('#' + key + ' button');\n",
              "      quickchartButtonEl.disabled = true;  // To prevent multiple clicks.\n",
              "      quickchartButtonEl.classList.add('colab-df-spinner');\n",
              "      try {\n",
              "        const charts = await google.colab.kernel.invokeFunction(\n",
              "            'suggestCharts', [key], {});\n",
              "      } catch (error) {\n",
              "        console.error('Error during call to suggestCharts:', error);\n",
              "      }\n",
              "      quickchartButtonEl.classList.remove('colab-df-spinner');\n",
              "      quickchartButtonEl.classList.add('colab-df-quickchart-complete');\n",
              "    }\n",
              "    (() => {\n",
              "      let quickchartButtonEl =\n",
              "        document.querySelector('#df-96f9e43d-4540-4ca6-99e2-87816fee9c9f button');\n",
              "      quickchartButtonEl.style.display =\n",
              "        google.colab.kernel.accessAllowed ? 'block' : 'none';\n",
              "    })();\n",
              "  </script>\n",
              "</div>\n",
              "\n",
              "    </div>\n",
              "  </div>\n"
            ],
            "application/vnd.google.colaboratory.intrinsic+json": {
              "type": "dataframe",
              "variable_name": "rate_announcements",
              "summary": "{\n  \"name\": \"rate_announcements\",\n  \"rows\": 200,\n  \"fields\": [\n    {\n      \"column\": \"date\",\n      \"properties\": {\n        \"dtype\": \"object\",\n        \"num_unique_values\": 200,\n        \"samples\": [\n          \"2012-12\",\n          \"2002-12\",\n          \"2004-10\"\n        ],\n        \"semantic_type\": \"\",\n        \"description\": \"\"\n      }\n    },\n    {\n      \"column\": \"announcement\",\n      \"properties\": {\n        \"dtype\": \"number\",\n        \"std\": 0,\n        \"min\": 1,\n        \"max\": 1,\n        \"num_unique_values\": 1,\n        \"samples\": [\n          1\n        ],\n        \"semantic_type\": \"\",\n        \"description\": \"\"\n      }\n    }\n  ]\n}"
            }
          },
          "metadata": {},
          "execution_count": 27
        }
      ]
    },
    {
      "cell_type": "code",
      "source": [
        "data = data.merge(rate_df,\n",
        "                  on = 'date',\n",
        "                  how = 'outer')\\\n",
        "           .merge(rate_announcements,\n",
        "                  on = 'date',\n",
        "                  how = 'outer')\\\n",
        "           .set_index('date')"
      ],
      "metadata": {
        "id": "nqtPiLM8UUMO"
      },
      "execution_count": 28,
      "outputs": []
    },
    {
      "cell_type": "code",
      "source": [
        "# no announcement = 0\n",
        "data['announcement'] = data['announcement'].fillna(0)"
      ],
      "metadata": {
        "id": "MA47iCwPthiC"
      },
      "execution_count": 29,
      "outputs": []
    },
    {
      "cell_type": "code",
      "source": [
        "data.head()"
      ],
      "metadata": {
        "colab": {
          "base_uri": "https://localhost:8080/",
          "height": 238
        },
        "id": "y21NQr-XWC2X",
        "outputId": "285beb07-7df7-4d39-c6f1-ee481bac5425"
      },
      "execution_count": 30,
      "outputs": [
        {
          "output_type": "execute_result",
          "data": {
            "text/plain": [
              "           wage  rmpi   cpi  rate  announcement\n",
              "date                                           \n",
              "2001-01  657.14  65.2  96.3  5.75           1.0\n",
              "2001-02  653.59  65.8  96.8  5.75           0.0\n",
              "2001-03  655.14  65.5  97.1  5.25           1.0\n",
              "2001-04  652.44  65.2  97.8  5.00           1.0\n",
              "2001-05  652.28  65.3  98.6  4.75           1.0"
            ],
            "text/html": [
              "\n",
              "  <div id=\"df-f8dd4e3f-5f46-4320-b3ad-4825d4ace5bc\" class=\"colab-df-container\">\n",
              "    <div>\n",
              "<style scoped>\n",
              "    .dataframe tbody tr th:only-of-type {\n",
              "        vertical-align: middle;\n",
              "    }\n",
              "\n",
              "    .dataframe tbody tr th {\n",
              "        vertical-align: top;\n",
              "    }\n",
              "\n",
              "    .dataframe thead th {\n",
              "        text-align: right;\n",
              "    }\n",
              "</style>\n",
              "<table border=\"1\" class=\"dataframe\">\n",
              "  <thead>\n",
              "    <tr style=\"text-align: right;\">\n",
              "      <th></th>\n",
              "      <th>wage</th>\n",
              "      <th>rmpi</th>\n",
              "      <th>cpi</th>\n",
              "      <th>rate</th>\n",
              "      <th>announcement</th>\n",
              "    </tr>\n",
              "    <tr>\n",
              "      <th>date</th>\n",
              "      <th></th>\n",
              "      <th></th>\n",
              "      <th></th>\n",
              "      <th></th>\n",
              "      <th></th>\n",
              "    </tr>\n",
              "  </thead>\n",
              "  <tbody>\n",
              "    <tr>\n",
              "      <th>2001-01</th>\n",
              "      <td>657.14</td>\n",
              "      <td>65.2</td>\n",
              "      <td>96.3</td>\n",
              "      <td>5.75</td>\n",
              "      <td>1.0</td>\n",
              "    </tr>\n",
              "    <tr>\n",
              "      <th>2001-02</th>\n",
              "      <td>653.59</td>\n",
              "      <td>65.8</td>\n",
              "      <td>96.8</td>\n",
              "      <td>5.75</td>\n",
              "      <td>0.0</td>\n",
              "    </tr>\n",
              "    <tr>\n",
              "      <th>2001-03</th>\n",
              "      <td>655.14</td>\n",
              "      <td>65.5</td>\n",
              "      <td>97.1</td>\n",
              "      <td>5.25</td>\n",
              "      <td>1.0</td>\n",
              "    </tr>\n",
              "    <tr>\n",
              "      <th>2001-04</th>\n",
              "      <td>652.44</td>\n",
              "      <td>65.2</td>\n",
              "      <td>97.8</td>\n",
              "      <td>5.00</td>\n",
              "      <td>1.0</td>\n",
              "    </tr>\n",
              "    <tr>\n",
              "      <th>2001-05</th>\n",
              "      <td>652.28</td>\n",
              "      <td>65.3</td>\n",
              "      <td>98.6</td>\n",
              "      <td>4.75</td>\n",
              "      <td>1.0</td>\n",
              "    </tr>\n",
              "  </tbody>\n",
              "</table>\n",
              "</div>\n",
              "    <div class=\"colab-df-buttons\">\n",
              "\n",
              "  <div class=\"colab-df-container\">\n",
              "    <button class=\"colab-df-convert\" onclick=\"convertToInteractive('df-f8dd4e3f-5f46-4320-b3ad-4825d4ace5bc')\"\n",
              "            title=\"Convert this dataframe to an interactive table.\"\n",
              "            style=\"display:none;\">\n",
              "\n",
              "  <svg xmlns=\"http://www.w3.org/2000/svg\" height=\"24px\" viewBox=\"0 -960 960 960\">\n",
              "    <path d=\"M120-120v-720h720v720H120Zm60-500h600v-160H180v160Zm220 220h160v-160H400v160Zm0 220h160v-160H400v160ZM180-400h160v-160H180v160Zm440 0h160v-160H620v160ZM180-180h160v-160H180v160Zm440 0h160v-160H620v160Z\"/>\n",
              "  </svg>\n",
              "    </button>\n",
              "\n",
              "  <style>\n",
              "    .colab-df-container {\n",
              "      display:flex;\n",
              "      gap: 12px;\n",
              "    }\n",
              "\n",
              "    .colab-df-convert {\n",
              "      background-color: #E8F0FE;\n",
              "      border: none;\n",
              "      border-radius: 50%;\n",
              "      cursor: pointer;\n",
              "      display: none;\n",
              "      fill: #1967D2;\n",
              "      height: 32px;\n",
              "      padding: 0 0 0 0;\n",
              "      width: 32px;\n",
              "    }\n",
              "\n",
              "    .colab-df-convert:hover {\n",
              "      background-color: #E2EBFA;\n",
              "      box-shadow: 0px 1px 2px rgba(60, 64, 67, 0.3), 0px 1px 3px 1px rgba(60, 64, 67, 0.15);\n",
              "      fill: #174EA6;\n",
              "    }\n",
              "\n",
              "    .colab-df-buttons div {\n",
              "      margin-bottom: 4px;\n",
              "    }\n",
              "\n",
              "    [theme=dark] .colab-df-convert {\n",
              "      background-color: #3B4455;\n",
              "      fill: #D2E3FC;\n",
              "    }\n",
              "\n",
              "    [theme=dark] .colab-df-convert:hover {\n",
              "      background-color: #434B5C;\n",
              "      box-shadow: 0px 1px 3px 1px rgba(0, 0, 0, 0.15);\n",
              "      filter: drop-shadow(0px 1px 2px rgba(0, 0, 0, 0.3));\n",
              "      fill: #FFFFFF;\n",
              "    }\n",
              "  </style>\n",
              "\n",
              "    <script>\n",
              "      const buttonEl =\n",
              "        document.querySelector('#df-f8dd4e3f-5f46-4320-b3ad-4825d4ace5bc button.colab-df-convert');\n",
              "      buttonEl.style.display =\n",
              "        google.colab.kernel.accessAllowed ? 'block' : 'none';\n",
              "\n",
              "      async function convertToInteractive(key) {\n",
              "        const element = document.querySelector('#df-f8dd4e3f-5f46-4320-b3ad-4825d4ace5bc');\n",
              "        const dataTable =\n",
              "          await google.colab.kernel.invokeFunction('convertToInteractive',\n",
              "                                                    [key], {});\n",
              "        if (!dataTable) return;\n",
              "\n",
              "        const docLinkHtml = 'Like what you see? Visit the ' +\n",
              "          '<a target=\"_blank\" href=https://colab.research.google.com/notebooks/data_table.ipynb>data table notebook</a>'\n",
              "          + ' to learn more about interactive tables.';\n",
              "        element.innerHTML = '';\n",
              "        dataTable['output_type'] = 'display_data';\n",
              "        await google.colab.output.renderOutput(dataTable, element);\n",
              "        const docLink = document.createElement('div');\n",
              "        docLink.innerHTML = docLinkHtml;\n",
              "        element.appendChild(docLink);\n",
              "      }\n",
              "    </script>\n",
              "  </div>\n",
              "\n",
              "\n",
              "<div id=\"df-12c03583-b258-48f9-88d2-4cf875b32278\">\n",
              "  <button class=\"colab-df-quickchart\" onclick=\"quickchart('df-12c03583-b258-48f9-88d2-4cf875b32278')\"\n",
              "            title=\"Suggest charts\"\n",
              "            style=\"display:none;\">\n",
              "\n",
              "<svg xmlns=\"http://www.w3.org/2000/svg\" height=\"24px\"viewBox=\"0 0 24 24\"\n",
              "     width=\"24px\">\n",
              "    <g>\n",
              "        <path d=\"M19 3H5c-1.1 0-2 .9-2 2v14c0 1.1.9 2 2 2h14c1.1 0 2-.9 2-2V5c0-1.1-.9-2-2-2zM9 17H7v-7h2v7zm4 0h-2V7h2v10zm4 0h-2v-4h2v4z\"/>\n",
              "    </g>\n",
              "</svg>\n",
              "  </button>\n",
              "\n",
              "<style>\n",
              "  .colab-df-quickchart {\n",
              "      --bg-color: #E8F0FE;\n",
              "      --fill-color: #1967D2;\n",
              "      --hover-bg-color: #E2EBFA;\n",
              "      --hover-fill-color: #174EA6;\n",
              "      --disabled-fill-color: #AAA;\n",
              "      --disabled-bg-color: #DDD;\n",
              "  }\n",
              "\n",
              "  [theme=dark] .colab-df-quickchart {\n",
              "      --bg-color: #3B4455;\n",
              "      --fill-color: #D2E3FC;\n",
              "      --hover-bg-color: #434B5C;\n",
              "      --hover-fill-color: #FFFFFF;\n",
              "      --disabled-bg-color: #3B4455;\n",
              "      --disabled-fill-color: #666;\n",
              "  }\n",
              "\n",
              "  .colab-df-quickchart {\n",
              "    background-color: var(--bg-color);\n",
              "    border: none;\n",
              "    border-radius: 50%;\n",
              "    cursor: pointer;\n",
              "    display: none;\n",
              "    fill: var(--fill-color);\n",
              "    height: 32px;\n",
              "    padding: 0;\n",
              "    width: 32px;\n",
              "  }\n",
              "\n",
              "  .colab-df-quickchart:hover {\n",
              "    background-color: var(--hover-bg-color);\n",
              "    box-shadow: 0 1px 2px rgba(60, 64, 67, 0.3), 0 1px 3px 1px rgba(60, 64, 67, 0.15);\n",
              "    fill: var(--button-hover-fill-color);\n",
              "  }\n",
              "\n",
              "  .colab-df-quickchart-complete:disabled,\n",
              "  .colab-df-quickchart-complete:disabled:hover {\n",
              "    background-color: var(--disabled-bg-color);\n",
              "    fill: var(--disabled-fill-color);\n",
              "    box-shadow: none;\n",
              "  }\n",
              "\n",
              "  .colab-df-spinner {\n",
              "    border: 2px solid var(--fill-color);\n",
              "    border-color: transparent;\n",
              "    border-bottom-color: var(--fill-color);\n",
              "    animation:\n",
              "      spin 1s steps(1) infinite;\n",
              "  }\n",
              "\n",
              "  @keyframes spin {\n",
              "    0% {\n",
              "      border-color: transparent;\n",
              "      border-bottom-color: var(--fill-color);\n",
              "      border-left-color: var(--fill-color);\n",
              "    }\n",
              "    20% {\n",
              "      border-color: transparent;\n",
              "      border-left-color: var(--fill-color);\n",
              "      border-top-color: var(--fill-color);\n",
              "    }\n",
              "    30% {\n",
              "      border-color: transparent;\n",
              "      border-left-color: var(--fill-color);\n",
              "      border-top-color: var(--fill-color);\n",
              "      border-right-color: var(--fill-color);\n",
              "    }\n",
              "    40% {\n",
              "      border-color: transparent;\n",
              "      border-right-color: var(--fill-color);\n",
              "      border-top-color: var(--fill-color);\n",
              "    }\n",
              "    60% {\n",
              "      border-color: transparent;\n",
              "      border-right-color: var(--fill-color);\n",
              "    }\n",
              "    80% {\n",
              "      border-color: transparent;\n",
              "      border-right-color: var(--fill-color);\n",
              "      border-bottom-color: var(--fill-color);\n",
              "    }\n",
              "    90% {\n",
              "      border-color: transparent;\n",
              "      border-bottom-color: var(--fill-color);\n",
              "    }\n",
              "  }\n",
              "</style>\n",
              "\n",
              "  <script>\n",
              "    async function quickchart(key) {\n",
              "      const quickchartButtonEl =\n",
              "        document.querySelector('#' + key + ' button');\n",
              "      quickchartButtonEl.disabled = true;  // To prevent multiple clicks.\n",
              "      quickchartButtonEl.classList.add('colab-df-spinner');\n",
              "      try {\n",
              "        const charts = await google.colab.kernel.invokeFunction(\n",
              "            'suggestCharts', [key], {});\n",
              "      } catch (error) {\n",
              "        console.error('Error during call to suggestCharts:', error);\n",
              "      }\n",
              "      quickchartButtonEl.classList.remove('colab-df-spinner');\n",
              "      quickchartButtonEl.classList.add('colab-df-quickchart-complete');\n",
              "    }\n",
              "    (() => {\n",
              "      let quickchartButtonEl =\n",
              "        document.querySelector('#df-12c03583-b258-48f9-88d2-4cf875b32278 button');\n",
              "      quickchartButtonEl.style.display =\n",
              "        google.colab.kernel.accessAllowed ? 'block' : 'none';\n",
              "    })();\n",
              "  </script>\n",
              "</div>\n",
              "\n",
              "    </div>\n",
              "  </div>\n"
            ],
            "application/vnd.google.colaboratory.intrinsic+json": {
              "type": "dataframe",
              "variable_name": "data",
              "summary": "{\n  \"name\": \"data\",\n  \"rows\": 296,\n  \"fields\": [\n    {\n      \"column\": \"date\",\n      \"properties\": {\n        \"dtype\": \"object\",\n        \"num_unique_values\": 296,\n        \"samples\": [\n          \"2023-11\",\n          \"2013-12\",\n          \"2008-01\"\n        ],\n        \"semantic_type\": \"\",\n        \"description\": \"\"\n      }\n    },\n    {\n      \"column\": \"wage\",\n      \"properties\": {\n        \"dtype\": \"number\",\n        \"std\": 170.097977907815,\n        \"min\": 652.28,\n        \"max\": 1285.91,\n        \"num_unique_values\": 286,\n        \"samples\": [\n          660.91,\n          1201.0,\n          900.71\n        ],\n        \"semantic_type\": \"\",\n        \"description\": \"\"\n      }\n    },\n    {\n      \"column\": \"rmpi\",\n      \"properties\": {\n        \"dtype\": \"number\",\n        \"std\": 24.30704162234297,\n        \"min\": 55.3,\n        \"max\": 166.6,\n        \"num_unique_values\": 242,\n        \"samples\": [\n          61.8,\n          60.8,\n          88.1\n        ],\n        \"semantic_type\": \"\",\n        \"description\": \"\"\n      }\n    },\n    {\n      \"column\": \"cpi\",\n      \"properties\": {\n        \"dtype\": \"number\",\n        \"std\": 17.143680806468506,\n        \"min\": 96.3,\n        \"max\": 162.1,\n        \"num_unique_values\": 225,\n        \"samples\": [\n          97.4,\n          139.6,\n          123.1\n        ],\n        \"semantic_type\": \"\",\n        \"description\": \"\"\n      }\n    },\n    {\n      \"column\": \"rate\",\n      \"properties\": {\n        \"dtype\": \"number\",\n        \"std\": 1.5225310417471374,\n        \"min\": 0.5,\n        \"max\": 5.75,\n        \"num_unique_values\": 21,\n        \"samples\": [\n          5.75,\n          0.5,\n          1.25\n        ],\n        \"semantic_type\": \"\",\n        \"description\": \"\"\n      }\n    },\n    {\n      \"column\": \"announcement\",\n      \"properties\": {\n        \"dtype\": \"number\",\n        \"std\": 0.4689145954723524,\n        \"min\": 0.0,\n        \"max\": 1.0,\n        \"num_unique_values\": 2,\n        \"samples\": [\n          0.0,\n          1.0\n        ],\n        \"semantic_type\": \"\",\n        \"description\": \"\"\n      }\n    }\n  ]\n}"
            }
          },
          "metadata": {},
          "execution_count": 30
        }
      ]
    },
    {
      "cell_type": "markdown",
      "source": [
        "#### Scaling the data"
      ],
      "metadata": {
        "id": "KfSitV5XaPu9"
      }
    },
    {
      "cell_type": "markdown",
      "source": [
        "Comparing series with different magnitudes can be a bit like comparing apples to oranges, or maybe grapes to watermelons. Scaling the data makes visually comparing the series easier and is also required for some ml models."
      ],
      "metadata": {
        "id": "0UEo8FNYZvhx"
      }
    },
    {
      "cell_type": "code",
      "source": [
        "scaler = MinMaxScaler\n",
        "data_scaled = data.copy()\n",
        "data_scaled[['wage', 'rmpi', 'cpi', 'rate']] = scaler().fit_transform(data[['wage', 'rmpi', 'cpi', 'rate']])\n",
        "data_scaled.describe()"
      ],
      "metadata": {
        "colab": {
          "base_uri": "https://localhost:8080/",
          "height": 300
        },
        "id": "mL_35f6HWXcE",
        "outputId": "88968ff3-e096-4fbe-d8ef-8c87104c60ec"
      },
      "execution_count": 31,
      "outputs": [
        {
          "output_type": "execute_result",
          "data": {
            "text/plain": [
              "             wage        rmpi         cpi        rate  announcement\n",
              "count  288.000000  288.000000  288.000000  288.000000    296.000000\n",
              "mean     0.409310    0.393784    0.416999    0.331845      0.675676\n",
              "std      0.268450    0.218392    0.260542    0.290006      0.468915\n",
              "min      0.000000    0.000000    0.000000    0.000000      0.000000\n",
              "25%      0.189192    0.258535    0.204787    0.095238      0.000000\n",
              "50%      0.396509    0.375112    0.393617    0.238095      1.000000\n",
              "75%      0.563921    0.515948    0.576368    0.523810      1.000000\n",
              "max      1.000000    1.000000    1.000000    1.000000      1.000000"
            ],
            "text/html": [
              "\n",
              "  <div id=\"df-196b6f40-907b-429c-98c1-660c21b917cb\" class=\"colab-df-container\">\n",
              "    <div>\n",
              "<style scoped>\n",
              "    .dataframe tbody tr th:only-of-type {\n",
              "        vertical-align: middle;\n",
              "    }\n",
              "\n",
              "    .dataframe tbody tr th {\n",
              "        vertical-align: top;\n",
              "    }\n",
              "\n",
              "    .dataframe thead th {\n",
              "        text-align: right;\n",
              "    }\n",
              "</style>\n",
              "<table border=\"1\" class=\"dataframe\">\n",
              "  <thead>\n",
              "    <tr style=\"text-align: right;\">\n",
              "      <th></th>\n",
              "      <th>wage</th>\n",
              "      <th>rmpi</th>\n",
              "      <th>cpi</th>\n",
              "      <th>rate</th>\n",
              "      <th>announcement</th>\n",
              "    </tr>\n",
              "  </thead>\n",
              "  <tbody>\n",
              "    <tr>\n",
              "      <th>count</th>\n",
              "      <td>288.000000</td>\n",
              "      <td>288.000000</td>\n",
              "      <td>288.000000</td>\n",
              "      <td>288.000000</td>\n",
              "      <td>296.000000</td>\n",
              "    </tr>\n",
              "    <tr>\n",
              "      <th>mean</th>\n",
              "      <td>0.409310</td>\n",
              "      <td>0.393784</td>\n",
              "      <td>0.416999</td>\n",
              "      <td>0.331845</td>\n",
              "      <td>0.675676</td>\n",
              "    </tr>\n",
              "    <tr>\n",
              "      <th>std</th>\n",
              "      <td>0.268450</td>\n",
              "      <td>0.218392</td>\n",
              "      <td>0.260542</td>\n",
              "      <td>0.290006</td>\n",
              "      <td>0.468915</td>\n",
              "    </tr>\n",
              "    <tr>\n",
              "      <th>min</th>\n",
              "      <td>0.000000</td>\n",
              "      <td>0.000000</td>\n",
              "      <td>0.000000</td>\n",
              "      <td>0.000000</td>\n",
              "      <td>0.000000</td>\n",
              "    </tr>\n",
              "    <tr>\n",
              "      <th>25%</th>\n",
              "      <td>0.189192</td>\n",
              "      <td>0.258535</td>\n",
              "      <td>0.204787</td>\n",
              "      <td>0.095238</td>\n",
              "      <td>0.000000</td>\n",
              "    </tr>\n",
              "    <tr>\n",
              "      <th>50%</th>\n",
              "      <td>0.396509</td>\n",
              "      <td>0.375112</td>\n",
              "      <td>0.393617</td>\n",
              "      <td>0.238095</td>\n",
              "      <td>1.000000</td>\n",
              "    </tr>\n",
              "    <tr>\n",
              "      <th>75%</th>\n",
              "      <td>0.563921</td>\n",
              "      <td>0.515948</td>\n",
              "      <td>0.576368</td>\n",
              "      <td>0.523810</td>\n",
              "      <td>1.000000</td>\n",
              "    </tr>\n",
              "    <tr>\n",
              "      <th>max</th>\n",
              "      <td>1.000000</td>\n",
              "      <td>1.000000</td>\n",
              "      <td>1.000000</td>\n",
              "      <td>1.000000</td>\n",
              "      <td>1.000000</td>\n",
              "    </tr>\n",
              "  </tbody>\n",
              "</table>\n",
              "</div>\n",
              "    <div class=\"colab-df-buttons\">\n",
              "\n",
              "  <div class=\"colab-df-container\">\n",
              "    <button class=\"colab-df-convert\" onclick=\"convertToInteractive('df-196b6f40-907b-429c-98c1-660c21b917cb')\"\n",
              "            title=\"Convert this dataframe to an interactive table.\"\n",
              "            style=\"display:none;\">\n",
              "\n",
              "  <svg xmlns=\"http://www.w3.org/2000/svg\" height=\"24px\" viewBox=\"0 -960 960 960\">\n",
              "    <path d=\"M120-120v-720h720v720H120Zm60-500h600v-160H180v160Zm220 220h160v-160H400v160Zm0 220h160v-160H400v160ZM180-400h160v-160H180v160Zm440 0h160v-160H620v160ZM180-180h160v-160H180v160Zm440 0h160v-160H620v160Z\"/>\n",
              "  </svg>\n",
              "    </button>\n",
              "\n",
              "  <style>\n",
              "    .colab-df-container {\n",
              "      display:flex;\n",
              "      gap: 12px;\n",
              "    }\n",
              "\n",
              "    .colab-df-convert {\n",
              "      background-color: #E8F0FE;\n",
              "      border: none;\n",
              "      border-radius: 50%;\n",
              "      cursor: pointer;\n",
              "      display: none;\n",
              "      fill: #1967D2;\n",
              "      height: 32px;\n",
              "      padding: 0 0 0 0;\n",
              "      width: 32px;\n",
              "    }\n",
              "\n",
              "    .colab-df-convert:hover {\n",
              "      background-color: #E2EBFA;\n",
              "      box-shadow: 0px 1px 2px rgba(60, 64, 67, 0.3), 0px 1px 3px 1px rgba(60, 64, 67, 0.15);\n",
              "      fill: #174EA6;\n",
              "    }\n",
              "\n",
              "    .colab-df-buttons div {\n",
              "      margin-bottom: 4px;\n",
              "    }\n",
              "\n",
              "    [theme=dark] .colab-df-convert {\n",
              "      background-color: #3B4455;\n",
              "      fill: #D2E3FC;\n",
              "    }\n",
              "\n",
              "    [theme=dark] .colab-df-convert:hover {\n",
              "      background-color: #434B5C;\n",
              "      box-shadow: 0px 1px 3px 1px rgba(0, 0, 0, 0.15);\n",
              "      filter: drop-shadow(0px 1px 2px rgba(0, 0, 0, 0.3));\n",
              "      fill: #FFFFFF;\n",
              "    }\n",
              "  </style>\n",
              "\n",
              "    <script>\n",
              "      const buttonEl =\n",
              "        document.querySelector('#df-196b6f40-907b-429c-98c1-660c21b917cb button.colab-df-convert');\n",
              "      buttonEl.style.display =\n",
              "        google.colab.kernel.accessAllowed ? 'block' : 'none';\n",
              "\n",
              "      async function convertToInteractive(key) {\n",
              "        const element = document.querySelector('#df-196b6f40-907b-429c-98c1-660c21b917cb');\n",
              "        const dataTable =\n",
              "          await google.colab.kernel.invokeFunction('convertToInteractive',\n",
              "                                                    [key], {});\n",
              "        if (!dataTable) return;\n",
              "\n",
              "        const docLinkHtml = 'Like what you see? Visit the ' +\n",
              "          '<a target=\"_blank\" href=https://colab.research.google.com/notebooks/data_table.ipynb>data table notebook</a>'\n",
              "          + ' to learn more about interactive tables.';\n",
              "        element.innerHTML = '';\n",
              "        dataTable['output_type'] = 'display_data';\n",
              "        await google.colab.output.renderOutput(dataTable, element);\n",
              "        const docLink = document.createElement('div');\n",
              "        docLink.innerHTML = docLinkHtml;\n",
              "        element.appendChild(docLink);\n",
              "      }\n",
              "    </script>\n",
              "  </div>\n",
              "\n",
              "\n",
              "<div id=\"df-f080f2d9-9730-468e-ba3e-5bb52ec2b1b1\">\n",
              "  <button class=\"colab-df-quickchart\" onclick=\"quickchart('df-f080f2d9-9730-468e-ba3e-5bb52ec2b1b1')\"\n",
              "            title=\"Suggest charts\"\n",
              "            style=\"display:none;\">\n",
              "\n",
              "<svg xmlns=\"http://www.w3.org/2000/svg\" height=\"24px\"viewBox=\"0 0 24 24\"\n",
              "     width=\"24px\">\n",
              "    <g>\n",
              "        <path d=\"M19 3H5c-1.1 0-2 .9-2 2v14c0 1.1.9 2 2 2h14c1.1 0 2-.9 2-2V5c0-1.1-.9-2-2-2zM9 17H7v-7h2v7zm4 0h-2V7h2v10zm4 0h-2v-4h2v4z\"/>\n",
              "    </g>\n",
              "</svg>\n",
              "  </button>\n",
              "\n",
              "<style>\n",
              "  .colab-df-quickchart {\n",
              "      --bg-color: #E8F0FE;\n",
              "      --fill-color: #1967D2;\n",
              "      --hover-bg-color: #E2EBFA;\n",
              "      --hover-fill-color: #174EA6;\n",
              "      --disabled-fill-color: #AAA;\n",
              "      --disabled-bg-color: #DDD;\n",
              "  }\n",
              "\n",
              "  [theme=dark] .colab-df-quickchart {\n",
              "      --bg-color: #3B4455;\n",
              "      --fill-color: #D2E3FC;\n",
              "      --hover-bg-color: #434B5C;\n",
              "      --hover-fill-color: #FFFFFF;\n",
              "      --disabled-bg-color: #3B4455;\n",
              "      --disabled-fill-color: #666;\n",
              "  }\n",
              "\n",
              "  .colab-df-quickchart {\n",
              "    background-color: var(--bg-color);\n",
              "    border: none;\n",
              "    border-radius: 50%;\n",
              "    cursor: pointer;\n",
              "    display: none;\n",
              "    fill: var(--fill-color);\n",
              "    height: 32px;\n",
              "    padding: 0;\n",
              "    width: 32px;\n",
              "  }\n",
              "\n",
              "  .colab-df-quickchart:hover {\n",
              "    background-color: var(--hover-bg-color);\n",
              "    box-shadow: 0 1px 2px rgba(60, 64, 67, 0.3), 0 1px 3px 1px rgba(60, 64, 67, 0.15);\n",
              "    fill: var(--button-hover-fill-color);\n",
              "  }\n",
              "\n",
              "  .colab-df-quickchart-complete:disabled,\n",
              "  .colab-df-quickchart-complete:disabled:hover {\n",
              "    background-color: var(--disabled-bg-color);\n",
              "    fill: var(--disabled-fill-color);\n",
              "    box-shadow: none;\n",
              "  }\n",
              "\n",
              "  .colab-df-spinner {\n",
              "    border: 2px solid var(--fill-color);\n",
              "    border-color: transparent;\n",
              "    border-bottom-color: var(--fill-color);\n",
              "    animation:\n",
              "      spin 1s steps(1) infinite;\n",
              "  }\n",
              "\n",
              "  @keyframes spin {\n",
              "    0% {\n",
              "      border-color: transparent;\n",
              "      border-bottom-color: var(--fill-color);\n",
              "      border-left-color: var(--fill-color);\n",
              "    }\n",
              "    20% {\n",
              "      border-color: transparent;\n",
              "      border-left-color: var(--fill-color);\n",
              "      border-top-color: var(--fill-color);\n",
              "    }\n",
              "    30% {\n",
              "      border-color: transparent;\n",
              "      border-left-color: var(--fill-color);\n",
              "      border-top-color: var(--fill-color);\n",
              "      border-right-color: var(--fill-color);\n",
              "    }\n",
              "    40% {\n",
              "      border-color: transparent;\n",
              "      border-right-color: var(--fill-color);\n",
              "      border-top-color: var(--fill-color);\n",
              "    }\n",
              "    60% {\n",
              "      border-color: transparent;\n",
              "      border-right-color: var(--fill-color);\n",
              "    }\n",
              "    80% {\n",
              "      border-color: transparent;\n",
              "      border-right-color: var(--fill-color);\n",
              "      border-bottom-color: var(--fill-color);\n",
              "    }\n",
              "    90% {\n",
              "      border-color: transparent;\n",
              "      border-bottom-color: var(--fill-color);\n",
              "    }\n",
              "  }\n",
              "</style>\n",
              "\n",
              "  <script>\n",
              "    async function quickchart(key) {\n",
              "      const quickchartButtonEl =\n",
              "        document.querySelector('#' + key + ' button');\n",
              "      quickchartButtonEl.disabled = true;  // To prevent multiple clicks.\n",
              "      quickchartButtonEl.classList.add('colab-df-spinner');\n",
              "      try {\n",
              "        const charts = await google.colab.kernel.invokeFunction(\n",
              "            'suggestCharts', [key], {});\n",
              "      } catch (error) {\n",
              "        console.error('Error during call to suggestCharts:', error);\n",
              "      }\n",
              "      quickchartButtonEl.classList.remove('colab-df-spinner');\n",
              "      quickchartButtonEl.classList.add('colab-df-quickchart-complete');\n",
              "    }\n",
              "    (() => {\n",
              "      let quickchartButtonEl =\n",
              "        document.querySelector('#df-f080f2d9-9730-468e-ba3e-5bb52ec2b1b1 button');\n",
              "      quickchartButtonEl.style.display =\n",
              "        google.colab.kernel.accessAllowed ? 'block' : 'none';\n",
              "    })();\n",
              "  </script>\n",
              "</div>\n",
              "\n",
              "    </div>\n",
              "  </div>\n"
            ],
            "application/vnd.google.colaboratory.intrinsic+json": {
              "type": "dataframe",
              "summary": "{\n  \"name\": \"data_scaled\",\n  \"rows\": 8,\n  \"fields\": [\n    {\n      \"column\": \"wage\",\n      \"properties\": {\n        \"dtype\": \"number\",\n        \"std\": 101.68099965486837,\n        \"min\": 0.0,\n        \"max\": 288.0,\n        \"num_unique_values\": 8,\n        \"samples\": [\n          0.40931024414879336,\n          0.39650900367722486,\n          288.0\n        ],\n        \"semantic_type\": \"\",\n        \"description\": \"\"\n      }\n    },\n    {\n      \"column\": \"rmpi\",\n      \"properties\": {\n        \"dtype\": \"number\",\n        \"std\": 101.68429822804987,\n        \"min\": 0.0,\n        \"max\": 288.0,\n        \"num_unique_values\": 8,\n        \"samples\": [\n          0.39378369272237196,\n          0.37511230907457327,\n          288.0\n        ],\n        \"semantic_type\": \"\",\n        \"description\": \"\"\n      }\n    },\n    {\n      \"column\": \"cpi\",\n      \"properties\": {\n        \"dtype\": \"number\",\n        \"std\": 101.6797404426704,\n        \"min\": 0.0,\n        \"max\": 288.0,\n        \"num_unique_values\": 8,\n        \"samples\": [\n          0.4169991134751775,\n          0.3936170212765959,\n          288.0\n        ],\n        \"semantic_type\": \"\",\n        \"description\": \"\"\n      }\n    },\n    {\n      \"column\": \"rate\",\n      \"properties\": {\n        \"dtype\": \"number\",\n        \"std\": 101.6986294441726,\n        \"min\": 0.0,\n        \"max\": 288.0,\n        \"num_unique_values\": 8,\n        \"samples\": [\n          0.331845238095238,\n          0.23809523809523808,\n          288.0\n        ],\n        \"semantic_type\": \"\",\n        \"description\": \"\"\n      }\n    },\n    {\n      \"column\": \"announcement\",\n      \"properties\": {\n        \"dtype\": \"number\",\n        \"std\": 104.44330624443863,\n        \"min\": 0.0,\n        \"max\": 296.0,\n        \"num_unique_values\": 5,\n        \"samples\": [\n          0.6756756756756757,\n          1.0,\n          0.4689145954723524\n        ],\n        \"semantic_type\": \"\",\n        \"description\": \"\"\n      }\n    }\n  ]\n}"
            }
          },
          "metadata": {},
          "execution_count": 31
        }
      ]
    },
    {
      "cell_type": "markdown",
      "source": [
        "Let's have a look at what the plotted data looks like."
      ],
      "metadata": {
        "id": "uSOwkrM-c4HZ"
      }
    },
    {
      "cell_type": "code",
      "source": [
        "fig, axes = plt.subplots(2, 1,\n",
        "                         figsize = (10, 8),\n",
        "                         sharex = True)\n",
        "\n",
        "# separate plot\n",
        "second = ['rate', 'announcement']\n",
        "\n",
        "for col in data_scaled.columns:\n",
        "    if col not in second:\n",
        "        axes[0].plot(data_scaled.index,\n",
        "                     data_scaled[col],\n",
        "                     linestyle = '-',\n",
        "                     label = col)\n",
        "\n",
        "axes[0].set_xlabel('years 2001 to 2024')\n",
        "axes[0].set_ylabel('standardized scale value')\n",
        "axes[0].set_title('wage, rmpi, and cpi')\n",
        "axes[0].legend()\n",
        "axes[0].set_xticks([])\n",
        "\n",
        "# separate plot\n",
        "for col in data_scaled.columns:\n",
        "    if col == 'rate':\n",
        "        axes[1].plot(data_scaled.index,\n",
        "                     data_scaled[col],\n",
        "                     linestyle = '-',\n",
        "                     label = col)\n",
        "\n",
        "axes[1].set_xlabel('years 2001 toh 2024')  # Set x-axis label for second subplot\n",
        "axes[1].set_ylabel('standardized scale value')\n",
        "axes[1].set_title('interest rate and announcements')\n",
        "axes[1].legend()\n",
        "axes[0].set_xticks([])\n",
        "\n",
        "plt.tight_layout()\n",
        "plt.show()"
      ],
      "metadata": {
        "colab": {
          "base_uri": "https://localhost:8080/",
          "height": 807
        },
        "id": "rR08TY2_YBX5",
        "outputId": "9f59dd34-d563-47b9-cf08-544514946b40"
      },
      "execution_count": 32,
      "outputs": [
        {
          "output_type": "display_data",
          "data": {
            "text/plain": [
              "<Figure size 1000x800 with 2 Axes>"
            ],
            "image/png": "[encoded data removed]"
          },
          "metadata": {}
        }
      ]
    },
    {
      "cell_type": "markdown",
      "source": [
        "In the first figure above, we can see that wage appears to be closely correlated with the cpi with a nearly-constant upward linear trend. rmpi is relatively more volatile but appears to also follow an upward trend."
      ],
      "metadata": {
        "id": "zmk132DSc_p-"
      }
    },
    {
      "cell_type": "markdown",
      "source": [
        "### Transforming data with differencing"
      ],
      "metadata": {
        "id": "sEXjAHcyitas"
      }
    },
    {
      "cell_type": "markdown",
      "source": [
        "Description of differencing"
      ],
      "metadata": {
        "id": "MeL6uBl8i8WF"
      }
    },
    {
      "cell_type": "code",
      "source": [
        "data_diff = data.copy().dropna()"
      ],
      "metadata": {
        "id": "sIdaV0XIldr4"
      },
      "execution_count": 33,
      "outputs": []
    },
    {
      "cell_type": "code",
      "source": [
        "data_diff.info()"
      ],
      "metadata": {
        "id": "yqkZ-zBeh8ew",
        "outputId": "c6431733-04c1-413a-c252-1d9dd10356ac",
        "colab": {
          "base_uri": "https://localhost:8080/"
        }
      },
      "execution_count": 34,
      "outputs": [
        {
          "output_type": "stream",
          "name": "stdout",
          "text": [
            "<class 'pandas.core.frame.DataFrame'>\n",
            "Index: 288 entries, 2001-01 to 2024-12\n",
            "Data columns (total 5 columns):\n",
            " #   Column        Non-Null Count  Dtype  \n",
            "---  ------        --------------  -----  \n",
            " 0   wage          288 non-null    float64\n",
            " 1   rmpi          288 non-null    float64\n",
            " 2   cpi           288 non-null    float64\n",
            " 3   rate          288 non-null    float64\n",
            " 4   announcement  288 non-null    float64\n",
            "dtypes: float64(5)\n",
            "memory usage: 13.5+ KB\n"
          ]
        }
      ]
    },
    {
      "cell_type": "code",
      "source": [
        "# adf test for stationarity\n",
        "adf_result = adfuller(data_diff['cpi'])\n",
        "print(f'ADF Statistic: {adf_result[0]}')\n",
        "print(f'p-value: {adf_result[1]}')"
      ],
      "metadata": {
        "id": "xYDglKE5fFzk",
        "outputId": "cc55dcc8-1054-4b5a-fe12-51a5a92d59e8",
        "colab": {
          "base_uri": "https://localhost:8080/"
        }
      },
      "execution_count": 35,
      "outputs": [
        {
          "output_type": "stream",
          "name": "stdout",
          "text": [
            "ADF Statistic: 0.7257562584956001\n",
            "p-value: 0.990338109629542\n"
          ]
        }
      ]
    },
    {
      "cell_type": "code",
      "source": [
        "# hp filter differencing\n",
        "lambda_value = 10\n",
        "cycle, trend = hpfilter(data_diff['cpi'], lamb = lambda_value)\n",
        "data_diff['cpi_cyclical'] = data_diff['cpi'] - trend\n",
        "data_diff['cpi_trend'] = trend"
      ],
      "metadata": {
        "id": "2hO2Z5WmiFPe"
      },
      "execution_count": 36,
      "outputs": []
    },
    {
      "cell_type": "code",
      "source": [
        "# standard first order differencing\n",
        "data_diff['cpi_diff'] = data_diff['cpi'].diff()\n",
        "data_diff.dropna(inplace = True)"
      ],
      "metadata": {
        "id": "ASwLWu3o0BYB"
      },
      "execution_count": 37,
      "outputs": []
    },
    {
      "cell_type": "code",
      "source": [
        "data_diff.head()"
      ],
      "metadata": {
        "colab": {
          "base_uri": "https://localhost:8080/",
          "height": 238
        },
        "id": "KmGrVDwaxKbL",
        "outputId": "60601aa1-75ed-4da6-a601-4bfd05d930d7"
      },
      "execution_count": 38,
      "outputs": [
        {
          "output_type": "execute_result",
          "data": {
            "text/plain": [
              "           wage  rmpi   cpi  rate  announcement  cpi_cyclical  cpi_trend  \\\n",
              "date                                                                       \n",
              "2001-02  653.59  65.8  96.8  5.75           0.0     -0.109655  96.909655   \n",
              "2001-03  655.14  65.5  97.1  5.25           1.0     -0.273467  97.373467   \n",
              "2001-04  652.44  65.2  97.8  5.00           1.0      0.000203  97.799797   \n",
              "2001-05  652.28  65.3  98.6  4.75           1.0      0.462926  98.137074   \n",
              "2001-06  656.81  63.9  98.7  4.75           0.0      0.366252  98.333748   \n",
              "\n",
              "         cpi_diff  \n",
              "date               \n",
              "2001-02       0.5  \n",
              "2001-03       0.3  \n",
              "2001-04       0.7  \n",
              "2001-05       0.8  \n",
              "2001-06       0.1  "
            ],
            "text/html": [
              "\n",
              "  <div id=\"df-612d5979-5c94-47d8-9a07-e49f1f2bef94\" class=\"colab-df-container\">\n",
              "    <div>\n",
              "<style scoped>\n",
              "    .dataframe tbody tr th:only-of-type {\n",
              "        vertical-align: middle;\n",
              "    }\n",
              "\n",
              "    .dataframe tbody tr th {\n",
              "        vertical-align: top;\n",
              "    }\n",
              "\n",
              "    .dataframe thead th {\n",
              "        text-align: right;\n",
              "    }\n",
              "</style>\n",
              "<table border=\"1\" class=\"dataframe\">\n",
              "  <thead>\n",
              "    <tr style=\"text-align: right;\">\n",
              "      <th></th>\n",
              "      <th>wage</th>\n",
              "      <th>rmpi</th>\n",
              "      <th>cpi</th>\n",
              "      <th>rate</th>\n",
              "      <th>announcement</th>\n",
              "      <th>cpi_cyclical</th>\n",
              "      <th>cpi_trend</th>\n",
              "      <th>cpi_diff</th>\n",
              "    </tr>\n",
              "    <tr>\n",
              "      <th>date</th>\n",
              "      <th></th>\n",
              "      <th></th>\n",
              "      <th></th>\n",
              "      <th></th>\n",
              "      <th></th>\n",
              "      <th></th>\n",
              "      <th></th>\n",
              "      <th></th>\n",
              "    </tr>\n",
              "  </thead>\n",
              "  <tbody>\n",
              "    <tr>\n",
              "      <th>2001-02</th>\n",
              "      <td>653.59</td>\n",
              "      <td>65.8</td>\n",
              "      <td>96.8</td>\n",
              "      <td>5.75</td>\n",
              "      <td>0.0</td>\n",
              "      <td>-0.109655</td>\n",
              "      <td>96.909655</td>\n",
              "      <td>0.5</td>\n",
              "    </tr>\n",
              "    <tr>\n",
              "      <th>2001-03</th>\n",
              "      <td>655.14</td>\n",
              "      <td>65.5</td>\n",
              "      <td>97.1</td>\n",
              "      <td>5.25</td>\n",
              "      <td>1.0</td>\n",
              "      <td>-0.273467</td>\n",
              "      <td>97.373467</td>\n",
              "      <td>0.3</td>\n",
              "    </tr>\n",
              "    <tr>\n",
              "      <th>2001-04</th>\n",
              "      <td>652.44</td>\n",
              "      <td>65.2</td>\n",
              "      <td>97.8</td>\n",
              "      <td>5.00</td>\n",
              "      <td>1.0</td>\n",
              "      <td>0.000203</td>\n",
              "      <td>97.799797</td>\n",
              "      <td>0.7</td>\n",
              "    </tr>\n",
              "    <tr>\n",
              "      <th>2001-05</th>\n",
              "      <td>652.28</td>\n",
              "      <td>65.3</td>\n",
              "      <td>98.6</td>\n",
              "      <td>4.75</td>\n",
              "      <td>1.0</td>\n",
              "      <td>0.462926</td>\n",
              "      <td>98.137074</td>\n",
              "      <td>0.8</td>\n",
              "    </tr>\n",
              "    <tr>\n",
              "      <th>2001-06</th>\n",
              "      <td>656.81</td>\n",
              "      <td>63.9</td>\n",
              "      <td>98.7</td>\n",
              "      <td>4.75</td>\n",
              "      <td>0.0</td>\n",
              "      <td>0.366252</td>\n",
              "      <td>98.333748</td>\n",
              "      <td>0.1</td>\n",
              "    </tr>\n",
              "  </tbody>\n",
              "</table>\n",
              "</div>\n",
              "    <div class=\"colab-df-buttons\">\n",
              "\n",
              "  <div class=\"colab-df-container\">\n",
              "    <button class=\"colab-df-convert\" onclick=\"convertToInteractive('df-612d5979-5c94-47d8-9a07-e49f1f2bef94')\"\n",
              "            title=\"Convert this dataframe to an interactive table.\"\n",
              "            style=\"display:none;\">\n",
              "\n",
              "  <svg xmlns=\"http://www.w3.org/2000/svg\" height=\"24px\" viewBox=\"0 -960 960 960\">\n",
              "    <path d=\"M120-120v-720h720v720H120Zm60-500h600v-160H180v160Zm220 220h160v-160H400v160Zm0 220h160v-160H400v160ZM180-400h160v-160H180v160Zm440 0h160v-160H620v160ZM180-180h160v-160H180v160Zm440 0h160v-160H620v160Z\"/>\n",
              "  </svg>\n",
              "    </button>\n",
              "\n",
              "  <style>\n",
              "    .colab-df-container {\n",
              "      display:flex;\n",
              "      gap: 12px;\n",
              "    }\n",
              "\n",
              "    .colab-df-convert {\n",
              "      background-color: #E8F0FE;\n",
              "      border: none;\n",
              "      border-radius: 50%;\n",
              "      cursor: pointer;\n",
              "      display: none;\n",
              "      fill: #1967D2;\n",
              "      height: 32px;\n",
              "      padding: 0 0 0 0;\n",
              "      width: 32px;\n",
              "    }\n",
              "\n",
              "    .colab-df-convert:hover {\n",
              "      background-color: #E2EBFA;\n",
              "      box-shadow: 0px 1px 2px rgba(60, 64, 67, 0.3), 0px 1px 3px 1px rgba(60, 64, 67, 0.15);\n",
              "      fill: #174EA6;\n",
              "    }\n",
              "\n",
              "    .colab-df-buttons div {\n",
              "      margin-bottom: 4px;\n",
              "    }\n",
              "\n",
              "    [theme=dark] .colab-df-convert {\n",
              "      background-color: #3B4455;\n",
              "      fill: #D2E3FC;\n",
              "    }\n",
              "\n",
              "    [theme=dark] .colab-df-convert:hover {\n",
              "      background-color: #434B5C;\n",
              "      box-shadow: 0px 1px 3px 1px rgba(0, 0, 0, 0.15);\n",
              "      filter: drop-shadow(0px 1px 2px rgba(0, 0, 0, 0.3));\n",
              "      fill: #FFFFFF;\n",
              "    }\n",
              "  </style>\n",
              "\n",
              "    <script>\n",
              "      const buttonEl =\n",
              "        document.querySelector('#df-612d5979-5c94-47d8-9a07-e49f1f2bef94 button.colab-df-convert');\n",
              "      buttonEl.style.display =\n",
              "        google.colab.kernel.accessAllowed ? 'block' : 'none';\n",
              "\n",
              "      async function convertToInteractive(key) {\n",
              "        const element = document.querySelector('#df-612d5979-5c94-47d8-9a07-e49f1f2bef94');\n",
              "        const dataTable =\n",
              "          await google.colab.kernel.invokeFunction('convertToInteractive',\n",
              "                                                    [key], {});\n",
              "        if (!dataTable) return;\n",
              "\n",
              "        const docLinkHtml = 'Like what you see? Visit the ' +\n",
              "          '<a target=\"_blank\" href=https://colab.research.google.com/notebooks/data_table.ipynb>data table notebook</a>'\n",
              "          + ' to learn more about interactive tables.';\n",
              "        element.innerHTML = '';\n",
              "        dataTable['output_type'] = 'display_data';\n",
              "        await google.colab.output.renderOutput(dataTable, element);\n",
              "        const docLink = document.createElement('div');\n",
              "        docLink.innerHTML = docLinkHtml;\n",
              "        element.appendChild(docLink);\n",
              "      }\n",
              "    </script>\n",
              "  </div>\n",
              "\n",
              "\n",
              "<div id=\"df-113859cd-4c63-4f3e-8cb6-cd0f233c43a5\">\n",
              "  <button class=\"colab-df-quickchart\" onclick=\"quickchart('df-113859cd-4c63-4f3e-8cb6-cd0f233c43a5')\"\n",
              "            title=\"Suggest charts\"\n",
              "            style=\"display:none;\">\n",
              "\n",
              "<svg xmlns=\"http://www.w3.org/2000/svg\" height=\"24px\"viewBox=\"0 0 24 24\"\n",
              "     width=\"24px\">\n",
              "    <g>\n",
              "        <path d=\"M19 3H5c-1.1 0-2 .9-2 2v14c0 1.1.9 2 2 2h14c1.1 0 2-.9 2-2V5c0-1.1-.9-2-2-2zM9 17H7v-7h2v7zm4 0h-2V7h2v10zm4 0h-2v-4h2v4z\"/>\n",
              "    </g>\n",
              "</svg>\n",
              "  </button>\n",
              "\n",
              "<style>\n",
              "  .colab-df-quickchart {\n",
              "      --bg-color: #E8F0FE;\n",
              "      --fill-color: #1967D2;\n",
              "      --hover-bg-color: #E2EBFA;\n",
              "      --hover-fill-color: #174EA6;\n",
              "      --disabled-fill-color: #AAA;\n",
              "      --disabled-bg-color: #DDD;\n",
              "  }\n",
              "\n",
              "  [theme=dark] .colab-df-quickchart {\n",
              "      --bg-color: #3B4455;\n",
              "      --fill-color: #D2E3FC;\n",
              "      --hover-bg-color: #434B5C;\n",
              "      --hover-fill-color: #FFFFFF;\n",
              "      --disabled-bg-color: #3B4455;\n",
              "      --disabled-fill-color: #666;\n",
              "  }\n",
              "\n",
              "  .colab-df-quickchart {\n",
              "    background-color: var(--bg-color);\n",
              "    border: none;\n",
              "    border-radius: 50%;\n",
              "    cursor: pointer;\n",
              "    display: none;\n",
              "    fill: var(--fill-color);\n",
              "    height: 32px;\n",
              "    padding: 0;\n",
              "    width: 32px;\n",
              "  }\n",
              "\n",
              "  .colab-df-quickchart:hover {\n",
              "    background-color: var(--hover-bg-color);\n",
              "    box-shadow: 0 1px 2px rgba(60, 64, 67, 0.3), 0 1px 3px 1px rgba(60, 64, 67, 0.15);\n",
              "    fill: var(--button-hover-fill-color);\n",
              "  }\n",
              "\n",
              "  .colab-df-quickchart-complete:disabled,\n",
              "  .colab-df-quickchart-complete:disabled:hover {\n",
              "    background-color: var(--disabled-bg-color);\n",
              "    fill: var(--disabled-fill-color);\n",
              "    box-shadow: none;\n",
              "  }\n",
              "\n",
              "  .colab-df-spinner {\n",
              "    border: 2px solid var(--fill-color);\n",
              "    border-color: transparent;\n",
              "    border-bottom-color: var(--fill-color);\n",
              "    animation:\n",
              "      spin 1s steps(1) infinite;\n",
              "  }\n",
              "\n",
              "  @keyframes spin {\n",
              "    0% {\n",
              "      border-color: transparent;\n",
              "      border-bottom-color: var(--fill-color);\n",
              "      border-left-color: var(--fill-color);\n",
              "    }\n",
              "    20% {\n",
              "      border-color: transparent;\n",
              "      border-left-color: var(--fill-color);\n",
              "      border-top-color: var(--fill-color);\n",
              "    }\n",
              "    30% {\n",
              "      border-color: transparent;\n",
              "      border-left-color: var(--fill-color);\n",
              "      border-top-color: var(--fill-color);\n",
              "      border-right-color: var(--fill-color);\n",
              "    }\n",
              "    40% {\n",
              "      border-color: transparent;\n",
              "      border-right-color: var(--fill-color);\n",
              "      border-top-color: var(--fill-color);\n",
              "    }\n",
              "    60% {\n",
              "      border-color: transparent;\n",
              "      border-right-color: var(--fill-color);\n",
              "    }\n",
              "    80% {\n",
              "      border-color: transparent;\n",
              "      border-right-color: var(--fill-color);\n",
              "      border-bottom-color: var(--fill-color);\n",
              "    }\n",
              "    90% {\n",
              "      border-color: transparent;\n",
              "      border-bottom-color: var(--fill-color);\n",
              "    }\n",
              "  }\n",
              "</style>\n",
              "\n",
              "  <script>\n",
              "    async function quickchart(key) {\n",
              "      const quickchartButtonEl =\n",
              "        document.querySelector('#' + key + ' button');\n",
              "      quickchartButtonEl.disabled = true;  // To prevent multiple clicks.\n",
              "      quickchartButtonEl.classList.add('colab-df-spinner');\n",
              "      try {\n",
              "        const charts = await google.colab.kernel.invokeFunction(\n",
              "            'suggestCharts', [key], {});\n",
              "      } catch (error) {\n",
              "        console.error('Error during call to suggestCharts:', error);\n",
              "      }\n",
              "      quickchartButtonEl.classList.remove('colab-df-spinner');\n",
              "      quickchartButtonEl.classList.add('colab-df-quickchart-complete');\n",
              "    }\n",
              "    (() => {\n",
              "      let quickchartButtonEl =\n",
              "        document.querySelector('#df-113859cd-4c63-4f3e-8cb6-cd0f233c43a5 button');\n",
              "      quickchartButtonEl.style.display =\n",
              "        google.colab.kernel.accessAllowed ? 'block' : 'none';\n",
              "    })();\n",
              "  </script>\n",
              "</div>\n",
              "\n",
              "    </div>\n",
              "  </div>\n"
            ],
            "application/vnd.google.colaboratory.intrinsic+json": {
              "type": "dataframe",
              "variable_name": "data_diff",
              "summary": "{\n  \"name\": \"data_diff\",\n  \"rows\": 287,\n  \"fields\": [\n    {\n      \"column\": \"date\",\n      \"properties\": {\n        \"dtype\": \"object\",\n        \"num_unique_values\": 287,\n        \"samples\": [\n          \"2001-11\",\n          \"2022-05\",\n          \"2013-02\"\n        ],\n        \"semantic_type\": \"\",\n        \"description\": \"\"\n      }\n    },\n    {\n      \"column\": \"wage\",\n      \"properties\": {\n        \"dtype\": \"number\",\n        \"std\": 169.72697098316007,\n        \"min\": 652.28,\n        \"max\": 1285.91,\n        \"num_unique_values\": 285,\n        \"samples\": [\n          659.72,\n          1142.05,\n          931.54\n        ],\n        \"semantic_type\": \"\",\n        \"description\": \"\"\n      }\n    },\n    {\n      \"column\": \"rmpi\",\n      \"properties\": {\n        \"dtype\": \"number\",\n        \"std\": 24.266421421303175,\n        \"min\": 55.3,\n        \"max\": 166.6,\n        \"num_unique_values\": 242,\n        \"samples\": [\n          61.8,\n          60.8,\n          88.1\n        ],\n        \"semantic_type\": \"\",\n        \"description\": \"\"\n      }\n    },\n    {\n      \"column\": \"cpi\",\n      \"properties\": {\n        \"dtype\": \"number\",\n        \"std\": 17.0965445907512,\n        \"min\": 96.8,\n        \"max\": 162.1,\n        \"num_unique_values\": 224,\n        \"samples\": [\n          97.6,\n          115.1,\n          122.9\n        ],\n        \"semantic_type\": \"\",\n        \"description\": \"\"\n      }\n    },\n    {\n      \"column\": \"rate\",\n      \"properties\": {\n        \"dtype\": \"number\",\n        \"std\": 1.5109707198566817,\n        \"min\": 0.5,\n        \"max\": 5.75,\n        \"num_unique_values\": 21,\n        \"samples\": [\n          5.75,\n          0.5,\n          1.25\n        ],\n        \"semantic_type\": \"\",\n        \"description\": \"\"\n      }\n    },\n    {\n      \"column\": \"announcement\",\n      \"properties\": {\n        \"dtype\": \"number\",\n        \"std\": 0.47263767277676105,\n        \"min\": 0.0,\n        \"max\": 1.0,\n        \"num_unique_values\": 2,\n        \"samples\": [\n          1.0,\n          0.0\n        ],\n        \"semantic_type\": \"\",\n        \"description\": \"\"\n      }\n    },\n    {\n      \"column\": \"cpi_cyclical\",\n      \"properties\": {\n        \"dtype\": \"number\",\n        \"std\": 0.33667345457207865,\n        \"min\": -0.987328720200594,\n        \"max\": 0.937579406656937,\n        \"num_unique_values\": 287,\n        \"samples\": [\n          -0.6460721364788782,\n          0.8450857574382837\n        ],\n        \"semantic_type\": \"\",\n        \"description\": \"\"\n      }\n    },\n    {\n      \"column\": \"cpi_trend\",\n      \"properties\": {\n        \"dtype\": \"number\",\n        \"std\": 17.089856952014404,\n        \"min\": 96.90965505734941,\n        \"max\": 161.69560433829412,\n        \"num_unique_values\": 287,\n        \"samples\": [\n          97.84607213647888,\n          151.05491424256172\n        ],\n        \"semantic_type\": \"\",\n        \"description\": \"\"\n      }\n    },\n    {\n      \"column\": \"cpi_diff\",\n      \"properties\": {\n        \"dtype\": \"number\",\n        \"std\": 0.49364495242146783,\n        \"min\": -1.2000000000000028,\n        \"max\": 2.0999999999999943,\n        \"num_unique_values\": 54,\n        \"samples\": [\n          -0.09999999999999432,\n          0.799999999999983\n        ],\n        \"semantic_type\": \"\",\n        \"description\": \"\"\n      }\n    }\n  ]\n}"
            }
          },
          "metadata": {},
          "execution_count": 38
        }
      ]
    },
    {
      "cell_type": "code",
      "source": [
        "# adf test - cpi cyclical\n",
        "adf_result_c = adfuller(data_diff['cpi_cyclical'])\n",
        "print(f'adf statistic (cyclical): {adf_result_c[0]}')\n",
        "print(f'p-value: {adf_result_c[1]}')"
      ],
      "metadata": {
        "id": "mkN_C9xhiTr1",
        "outputId": "0d60d2cb-9b7a-4458-b33e-d6570664e545",
        "colab": {
          "base_uri": "https://localhost:8080/"
        }
      },
      "execution_count": 39,
      "outputs": [
        {
          "output_type": "stream",
          "name": "stdout",
          "text": [
            "adf statistic (cyclical): -9.441346433671818\n",
            "p-value: 4.885277221583502e-16\n"
          ]
        }
      ]
    },
    {
      "cell_type": "code",
      "source": [
        "# adf test - cpi diff\n",
        "adf_result = adfuller(data_diff['cpi_diff'])\n",
        "print(f'ADF Statistic: {adf_result[0]}')\n",
        "print(f'p-value: {adf_result[1]}')"
      ],
      "metadata": {
        "colab": {
          "base_uri": "https://localhost:8080/"
        },
        "id": "huSE-JnC0OHZ",
        "outputId": "e9d02d1a-1952-49f6-b6d8-0483544139bf"
      },
      "execution_count": 40,
      "outputs": [
        {
          "output_type": "stream",
          "name": "stdout",
          "text": [
            "ADF Statistic: -2.956485504812459\n",
            "p-value: 0.03916280564842521\n"
          ]
        }
      ]
    },
    {
      "cell_type": "code",
      "source": [
        "# plot cpi components\n",
        "fig, axes = plt.subplots(3, 1, figsize=(10, 6))\n",
        "\n",
        "axes[0].plot(data_diff.index, data_diff['cpi'])\n",
        "axes[0].set_title('cpi')\n",
        "axes[0].set_xticks([])\n",
        "\n",
        "axes[1].plot(data_diff.index,\n",
        "             data_diff['cpi_cyclical'])\n",
        "axes[1].set_title('cpi (cyclical component)')\n",
        "axes[1].set_xticks([])\n",
        "\n",
        "axes[2].plot(data_diff.index,\n",
        "             data_diff['cpi_trend'])\n",
        "axes[2].set_title('cpi (trend component)')\n",
        "axes[2].set_xticks([])\n",
        "\n",
        "plt.tight_layout()\n",
        "plt.show()\n"
      ],
      "metadata": {
        "colab": {
          "base_uri": "https://localhost:8080/",
          "height": 607
        },
        "id": "7zCES2AVfrV9",
        "outputId": "c33fa944-cd4b-43bb-8684-334dfd0d9360"
      },
      "execution_count": 41,
      "outputs": [
        {
          "output_type": "display_data",
          "data": {
            "text/plain": [
              "<Figure size 1000x600 with 3 Axes>"
            ],
            "image/png": "[encoded data removed]"
          },
          "metadata": {}
        }
      ]
    },
    {
      "cell_type": "code",
      "source": [
        "# convert index to datetime with frequency for statsmodels\n",
        "data_diff.index = pd.date_range(start = '2001-01-01',\n",
        "                                periods = len(data_diff),\n",
        "                                freq = 'MS')"
      ],
      "metadata": {
        "id": "4ybYz_tHP0k3"
      },
      "execution_count": 42,
      "outputs": []
    },
    {
      "cell_type": "markdown",
      "source": [
        "## Statistical model of cpi - arima"
      ],
      "metadata": {
        "id": "8lrlTTjhhUQN"
      }
    },
    {
      "cell_type": "markdown",
      "source": [
        "The auto-regressive integrate moving average model is not a machine learning model, but a statistical model that is frequently used on time series data. It models series based upon its own prior values. Some assumptions of the model:\n",
        "* stationary data\n",
        "* sensitive to outliers\n",
        "* and others..."
      ],
      "metadata": {
        "id": "rv2W4p9PhZRu"
      }
    },
    {
      "cell_type": "code",
      "source": [
        "def evaluate_arima_rmse(data, p_values, d_values, q_values):\n",
        "    '''\n",
        "    iterate through (p, d, q) values, fit ARIMA models, compute rmse\n",
        "\n",
        "    parameters:\n",
        "        data (pd.Series): ime series\n",
        "        p_values (list): list of AR terms\n",
        "        d_values (list): list of differencing terms\n",
        "        q_values (list): list of MA terms\n",
        "\n",
        "    Returns:\n",
        "        results (list of tuples): (p, d, q, rmse)\n",
        "    '''\n",
        "    best_score = float('inf')\n",
        "    results = []\n",
        "\n",
        "    # iterate combinations of p-d-q\n",
        "    for p, d, q in itertools.product(p_values,\n",
        "                                     d_values,\n",
        "                                     q_values):\n",
        "        try:\n",
        "            # fit\n",
        "            model = ARIMA(data, order=(p, d, q))\n",
        "            model_fit = model.fit()\n",
        "\n",
        "            # prediction\n",
        "            predictions = model_fit.fittedvalues\n",
        "\n",
        "            # evaluate\n",
        "            rmse = np.sqrt(mean_squared_error(data[d:],\n",
        "                                              predictions[d:]))\n",
        "\n",
        "\n",
        "            # results\n",
        "            results.append((p, d, q, rmse))\n",
        "\n",
        "            # best model\n",
        "            if rmse < best_score:\n",
        "                best_score = rmse\n",
        "                best_cfg = (p, d, q)\n",
        "\n",
        "            print(f'arima({p},{d},{q}) - rmse: {rmse:.4f}')\n",
        "\n",
        "        except Exception as e:\n",
        "            print(f'arima({p},{d},{q}) failed: {e}')\n",
        "            continue\n",
        "\n",
        "    # results to df\n",
        "    results_df = pd.DataFrame(results, columns=['p', 'd', 'q', 'RMSE']).sort_values(by='RMSE')\n",
        "\n",
        "    print('\\nbest model:', best_cfg, 'with rmse:, best_score')\n",
        "\n",
        "    return results_df"
      ],
      "metadata": {
        "id": "pcw9fpOCoBkt"
      },
      "execution_count": 43,
      "outputs": []
    },
    {
      "cell_type": "code",
      "source": [
        "# train & test data - cyclical\n",
        "train_arima_cyclical = data_diff['2001-01-01':'2023-12-31']['cpi_cyclical']\n",
        "test_arima_cyclical = data_diff['2024-01-01':'2024-12-31']['cpi_cyclical']"
      ],
      "metadata": {
        "id": "bYVuP7AOhSSK"
      },
      "execution_count": 44,
      "outputs": []
    },
    {
      "cell_type": "code",
      "source": [
        "warnings.filterwarnings('ignore', message = 'Non-stationary starting autoregressive parameters')\n",
        "warnings.filterwarnings('ignore', message = 'Non-invertible starting MA parameters found.')\n",
        "warnings.filterwarnings('ignore', message = 'Maximum Likelihood optimization failed to ')\n",
        "\n",
        "# parameters to search\n",
        "p_values = [1, 2, 3, 6, 12]\n",
        "d_values = [0, 1]\n",
        "q_values = [1, 2, 3, 6, 12]\n",
        "df = train_arima_cyclical\n",
        "\n",
        "arima_results = evaluate_arima_rmse(df,\n",
        "                                    p_values,\n",
        "                                    d_values,\n",
        "                                    q_values)"
      ],
      "metadata": {
        "id": "9rOBSck9lEJn",
        "outputId": "70e90723-a59c-4059-8a64-9acd25e43fc0",
        "colab": {
          "base_uri": "https://localhost:8080/"
        }
      },
      "execution_count": 45,
      "outputs": [
        {
          "output_type": "stream",
          "name": "stdout",
          "text": [
            "arima(1,0,1) - rmse: 0.3007\n",
            "arima(1,0,2) - rmse: 0.2692\n",
            "arima(1,0,3) - rmse: 0.2619\n",
            "arima(1,0,6) - rmse: 0.2606\n",
            "arima(1,0,12) - rmse: 0.2315\n",
            "arima(1,1,1) - rmse: 0.3145\n",
            "arima(1,1,2) - rmse: 0.3035\n",
            "arima(1,1,3) - rmse: 0.2974\n",
            "arima(1,1,6) - rmse: 0.2626\n",
            "arima(1,1,12) - rmse: 0.2425\n",
            "arima(2,0,1) - rmse: 0.2549\n",
            "arima(2,0,2) - rmse: 0.2330\n",
            "arima(2,0,3) - rmse: 0.2690\n",
            "arima(2,0,6) - rmse: 0.2598\n",
            "arima(2,0,12) - rmse: 0.2343\n",
            "arima(2,1,1) - rmse: 0.2979\n",
            "arima(2,1,2) - rmse: 0.2599\n",
            "arima(2,1,3) - rmse: 0.2974\n",
            "arima(2,1,6) - rmse: 0.2673\n",
            "arima(2,1,12) - rmse: 0.2378\n",
            "arima(3,0,1) - rmse: 0.2548\n",
            "arima(3,0,2) - rmse: 0.2525\n",
            "arima(3,0,3) - rmse: 0.2586\n",
            "arima(3,0,6) - rmse: 0.2598\n",
            "arima(3,0,12) - rmse: 0.2343\n",
            "arima(3,1,1) - rmse: 0.2974\n",
            "arima(3,1,2) - rmse: 0.2934\n",
            "arima(3,1,3) - rmse: 0.2610\n",
            "arima(3,1,6) - rmse: 0.2943\n",
            "arima(3,1,12) - rmse: 0.2338\n",
            "arima(6,0,1) - rmse: 0.2401\n",
            "arima(6,0,2) - rmse: 0.2394\n",
            "arima(6,0,3) - rmse: 0.2448\n",
            "arima(6,0,6) - rmse: 0.2315\n",
            "arima(6,0,12) - rmse: 0.2280\n",
            "arima(6,1,1) - rmse: 0.2841\n",
            "arima(6,1,2) - rmse: 0.2837\n",
            "arima(6,1,3) - rmse: 0.2428\n",
            "arima(6,1,6) - rmse: 0.2599\n",
            "arima(6,1,12) - rmse: 0.2585\n",
            "arima(12,0,1) - rmse: 0.2387\n",
            "arima(12,0,2) - rmse: 0.2197\n",
            "arima(12,0,3) - rmse: 0.2182\n",
            "arima(12,0,6) - rmse: 0.2183\n",
            "arima(12,0,12) - rmse: 0.2135\n",
            "arima(12,1,1) - rmse: 0.2430\n",
            "arima(12,1,2) - rmse: 0.2405\n",
            "arima(12,1,3) - rmse: 0.2416\n",
            "arima(12,1,6) - rmse: 0.2192\n",
            "arima(12,1,12) - rmse: 0.2122\n",
            "\n",
            "best model: (12, 1, 12) with rmse:, best_score\n"
          ]
        }
      ]
    },
    {
      "cell_type": "code",
      "source": [
        "# model\n",
        "arima_model = sm.tsa.ARIMA(train_arima_cyclical,\n",
        "                           order = (12, 1, 12))\n",
        "\n",
        "# fit\n",
        "arima_fit = arima_model.fit()"
      ],
      "metadata": {
        "id": "9Rd75Jnjusmp"
      },
      "execution_count": 46,
      "outputs": []
    },
    {
      "cell_type": "code",
      "source": [
        "# residuals\n",
        "residuals = arima_fit.resid\n",
        "\n",
        "# plot hist and qq\n",
        "fig, ax = plt.subplots(1,\n",
        "                       2,\n",
        "                       figsize = (12, 5))\n",
        "\n",
        "stats.probplot(residuals,\n",
        "               plot = ax[0])\n",
        "ax[0].set_title('qq plot')\n",
        "\n",
        "ax[1].hist(residuals,\n",
        "           bins = 25,\n",
        "           density = True,\n",
        "           alpha = 0.7,\n",
        "           color = 'blue')\n",
        "ax[1].set_title(residuals)\n",
        "\n",
        "plt.show()\n",
        "\n",
        "# acf plot\n",
        "sm.graphics.tsa.plot_acf(residuals,\n",
        "                         lags = 12)\n",
        "plt.title('acf residuals')\n",
        "plt.show()"
      ],
      "metadata": {
        "colab": {
          "base_uri": "https://localhost:8080/",
          "height": 1000
        },
        "id": "3Xaur9Wgvjia",
        "outputId": "1ec9f47c-e05e-4cc7-e291-571114d165d8"
      },
      "execution_count": 47,
      "outputs": [
        {
          "output_type": "display_data",
          "data": {
            "text/plain": [
              "<Figure size 1200x500 with 2 Axes>"
            ],
            "image/png": "[encoded data removed]"
          },
          "metadata": {}
        },
        {
          "output_type": "display_data",
          "data": {
            "text/plain": [
              "<Figure size 640x480 with 1 Axes>"
            ],
            "image/png": "[encoded data removed]"
          },
          "metadata": {}
        }
      ]
    },
    {
      "cell_type": "markdown",
      "source": [
        "QQ plot doesn't look too bad, thought there is a group of outliers at the lower tail. Distribution or residuals looks relatively normal, and no acf in residuals. I think it's close enough for demonstrative purposes."
      ],
      "metadata": {
        "id": "Vs5-5n9cl7uo"
      }
    },
    {
      "cell_type": "code",
      "source": [
        "# pred on test data\n",
        "forecast_test = arima_fit.get_forecast(steps = len(test_arima_cyclical))\n",
        "predictions = forecast_test.predicted_mean\n",
        "conf_int = forecast_test.conf_int(alpha = 0.10)\n",
        "\n",
        "# evaluate\n",
        "rmse = np.sqrt(mean_squared_error(test_arima_cyclical,\n",
        "                                  predictions))\n",
        "mae = mean_absolute_error(test_arima_cyclical,\n",
        "                          predictions)\n",
        "\n",
        "print(f'rmse: {rmse}')\n",
        "print(f'mae: {mae}')\n",
        "\n",
        "# plot\n",
        "plt.figure(figsize=(10, 5))\n",
        "plt.plot(data_diff.index,\n",
        "         data_diff['cpi_cyclical'],\n",
        "         label = 'actual cpi (cyclical component)',\n",
        "         color = 'blue')\n",
        "plt.plot(test_arima_cyclical.index,\n",
        "         predictions,\n",
        "         label = 'predicted cpi (cyclical component)',\n",
        "         color = 'red',\n",
        "         linestyle = 'dashed')\n",
        "plt.fill_between(test_arima_cyclical.index,\n",
        "                 conf_int.iloc[:, 0],\n",
        "                 conf_int.iloc[:, 1],\n",
        "                 color = 'red',\n",
        "                 alpha = 0.10,\n",
        "                 edgecolor = 'black',\n",
        "                 linewidth = 0.5)\n",
        "plt.legend()\n",
        "plt.title('arima(12, 1, 12) cpi (cyclical component) predicted')\n",
        "plt.xlim(pd.to_datetime('2020-01-01'), data_diff.index[-1])\n",
        "plt.grid(True)\n",
        "\n",
        "plt.show()"
      ],
      "metadata": {
        "colab": {
          "base_uri": "https://localhost:8080/",
          "height": 503
        },
        "id": "yM4ijUVomikJ",
        "outputId": "f5a0f588-b00e-45a0-87c1-6a55b0ae86c7"
      },
      "execution_count": 48,
      "outputs": [
        {
          "output_type": "stream",
          "name": "stdout",
          "text": [
            "rmse: 0.2744949747221301\n",
            "mae: 0.2143919784658917\n"
          ]
        },
        {
          "output_type": "display_data",
          "data": {
            "text/plain": [
              "<Figure size 1000x500 with 1 Axes>"
            ],
            "image/png": "[encoded data removed]"
          },
          "metadata": {}
        }
      ]
    },
    {
      "cell_type": "markdown",
      "source": [
        "Now that I have a model, lets forcast cpi for the next 6 months."
      ],
      "metadata": {
        "id": "Do-qKwoo_Q48"
      }
    },
    {
      "cell_type": "code",
      "source": [
        "# last date\n",
        "last_date = data_diff.index[-1]\n",
        "\n",
        "# create future dates\n",
        "future_dates = pd.date_range(start = last_date + pd.DateOffset(months = 1),\n",
        "                             periods = 6,\n",
        "                             freq = 'MS')\n",
        "\n",
        "\n",
        "# forecast\n",
        "forecast_future = arima_fit.get_forecast(steps = 6)\n",
        "predictions_future = forecast_future.predicted_mean\n",
        "conf_int_future = forecast_future.conf_int(alpha = 0.10)\n",
        "\n",
        "forecast_df = pd.DataFrame({'date': future_dates,\n",
        "                            'cpi_cyclical_forecast': predictions_future})\n",
        "\n",
        "print(forecast_df)\n",
        "\n",
        "# plot\n",
        "plt.figure(figsize=(10, 5))\n",
        "\n",
        "plt.plot(data_diff.index,\n",
        "         data_diff['cpi_cyclical'],\n",
        "         label = 'historical cpi (cyclical component)',\n",
        "         color = 'blue')\n",
        "\n",
        "plt.plot(forecast_df['date'],\n",
        "         forecast_df['cpi_cyclical_forecast'],\n",
        "         label = 'forecasted cpi (cyclical component)',\n",
        "         color = 'red',\n",
        "         linestyle = 'dashed')\n",
        "\n",
        "\n",
        "plt.fill_between(forecast_df['date'],\n",
        "                  conf_int_future.iloc[:, 0],\n",
        "                  conf_int_future.iloc[:, 1],\n",
        "                  color='red',\n",
        "                  alpha=0.10,\n",
        "                  edgecolor='black',\n",
        "                  linewidth=0.5)\n",
        "\n",
        "plt.legend()\n",
        "plt.title('arima forecast of cpi (cyclical component)')\n",
        "plt.xlabel('date')\n",
        "plt.ylabel('cpi (cyclical component)')\n",
        "plt.grid(True)\n",
        "\n",
        "plt.xlim(pd.to_datetime('2024-01-01'), forecast_df['date'].max())\n",
        "\n",
        "plt.show()"
      ],
      "metadata": {
        "colab": {
          "base_uri": "https://localhost:8080/",
          "height": 609
        },
        "id": "n9QDMZ6k-5QZ",
        "outputId": "601a77b0-1eb0-4d01-94b1-823902e90ce1"
      },
      "execution_count": 49,
      "outputs": [
        {
          "output_type": "stream",
          "name": "stdout",
          "text": [
            "                 date  cpi_cyclical_forecast\n",
            "2024-01-01 2024-12-01              -0.297613\n",
            "2024-02-01 2025-01-01              -0.091833\n",
            "2024-03-01 2025-02-01               0.085860\n",
            "2024-04-01 2025-03-01               0.146981\n",
            "2024-05-01 2025-04-01               0.282215\n",
            "2024-06-01 2025-05-01               0.264676\n"
          ]
        },
        {
          "output_type": "display_data",
          "data": {
            "text/plain": [
              "<Figure size 1000x500 with 1 Axes>"
            ],
            "image/png": "[encoded data removed]"
          },
          "metadata": {}
        }
      ]
    },
    {
      "cell_type": "markdown",
      "source": [
        "## Machine learning"
      ],
      "metadata": {
        "id": "4spIfzstC6C8"
      }
    },
    {
      "cell_type": "markdown",
      "source": [
        "### Feature engineering"
      ],
      "metadata": {
        "id": "I2swfiPrF1Yj"
      }
    },
    {
      "cell_type": "code",
      "source": [
        "ml_df = data.copy()\n",
        "ml_df = ml_df.reset_index()"
      ],
      "metadata": {
        "id": "anP0s0IdC0rN"
      },
      "execution_count": 50,
      "outputs": []
    },
    {
      "cell_type": "code",
      "source": [
        "ml_df.head()"
      ],
      "metadata": {
        "id": "2LZG1uhRfqNj",
        "outputId": "a4980a2c-66b8-44e7-9f6a-012302adc06f",
        "colab": {
          "base_uri": "https://localhost:8080/",
          "height": 206
        }
      },
      "execution_count": 51,
      "outputs": [
        {
          "output_type": "execute_result",
          "data": {
            "text/plain": [
              "      date    wage  rmpi   cpi  rate  announcement\n",
              "0  2001-01  657.14  65.2  96.3  5.75           1.0\n",
              "1  2001-02  653.59  65.8  96.8  5.75           0.0\n",
              "2  2001-03  655.14  65.5  97.1  5.25           1.0\n",
              "3  2001-04  652.44  65.2  97.8  5.00           1.0\n",
              "4  2001-05  652.28  65.3  98.6  4.75           1.0"
            ],
            "text/html": [
              "\n",
              "  <div id=\"df-4419de5b-4954-46b0-998e-0f2e4306e481\" class=\"colab-df-container\">\n",
              "    <div>\n",
              "<style scoped>\n",
              "    .dataframe tbody tr th:only-of-type {\n",
              "        vertical-align: middle;\n",
              "    }\n",
              "\n",
              "    .dataframe tbody tr th {\n",
              "        vertical-align: top;\n",
              "    }\n",
              "\n",
              "    .dataframe thead th {\n",
              "        text-align: right;\n",
              "    }\n",
              "</style>\n",
              "<table border=\"1\" class=\"dataframe\">\n",
              "  <thead>\n",
              "    <tr style=\"text-align: right;\">\n",
              "      <th></th>\n",
              "      <th>date</th>\n",
              "      <th>wage</th>\n",
              "      <th>rmpi</th>\n",
              "      <th>cpi</th>\n",
              "      <th>rate</th>\n",
              "      <th>announcement</th>\n",
              "    </tr>\n",
              "  </thead>\n",
              "  <tbody>\n",
              "    <tr>\n",
              "      <th>0</th>\n",
              "      <td>2001-01</td>\n",
              "      <td>657.14</td>\n",
              "      <td>65.2</td>\n",
              "      <td>96.3</td>\n",
              "      <td>5.75</td>\n",
              "      <td>1.0</td>\n",
              "    </tr>\n",
              "    <tr>\n",
              "      <th>1</th>\n",
              "      <td>2001-02</td>\n",
              "      <td>653.59</td>\n",
              "      <td>65.8</td>\n",
              "      <td>96.8</td>\n",
              "      <td>5.75</td>\n",
              "      <td>0.0</td>\n",
              "    </tr>\n",
              "    <tr>\n",
              "      <th>2</th>\n",
              "      <td>2001-03</td>\n",
              "      <td>655.14</td>\n",
              "      <td>65.5</td>\n",
              "      <td>97.1</td>\n",
              "      <td>5.25</td>\n",
              "      <td>1.0</td>\n",
              "    </tr>\n",
              "    <tr>\n",
              "      <th>3</th>\n",
              "      <td>2001-04</td>\n",
              "      <td>652.44</td>\n",
              "      <td>65.2</td>\n",
              "      <td>97.8</td>\n",
              "      <td>5.00</td>\n",
              "      <td>1.0</td>\n",
              "    </tr>\n",
              "    <tr>\n",
              "      <th>4</th>\n",
              "      <td>2001-05</td>\n",
              "      <td>652.28</td>\n",
              "      <td>65.3</td>\n",
              "      <td>98.6</td>\n",
              "      <td>4.75</td>\n",
              "      <td>1.0</td>\n",
              "    </tr>\n",
              "  </tbody>\n",
              "</table>\n",
              "</div>\n",
              "    <div class=\"colab-df-buttons\">\n",
              "\n",
              "  <div class=\"colab-df-container\">\n",
              "    <button class=\"colab-df-convert\" onclick=\"convertToInteractive('df-4419de5b-4954-46b0-998e-0f2e4306e481')\"\n",
              "            title=\"Convert this dataframe to an interactive table.\"\n",
              "            style=\"display:none;\">\n",
              "\n",
              "  <svg xmlns=\"http://www.w3.org/2000/svg\" height=\"24px\" viewBox=\"0 -960 960 960\">\n",
              "    <path d=\"M120-120v-720h720v720H120Zm60-500h600v-160H180v160Zm220 220h160v-160H400v160Zm0 220h160v-160H400v160ZM180-400h160v-160H180v160Zm440 0h160v-160H620v160ZM180-180h160v-160H180v160Zm440 0h160v-160H620v160Z\"/>\n",
              "  </svg>\n",
              "    </button>\n",
              "\n",
              "  <style>\n",
              "    .colab-df-container {\n",
              "      display:flex;\n",
              "      gap: 12px;\n",
              "    }\n",
              "\n",
              "    .colab-df-convert {\n",
              "      background-color: #E8F0FE;\n",
              "      border: none;\n",
              "      border-radius: 50%;\n",
              "      cursor: pointer;\n",
              "      display: none;\n",
              "      fill: #1967D2;\n",
              "      height: 32px;\n",
              "      padding: 0 0 0 0;\n",
              "      width: 32px;\n",
              "    }\n",
              "\n",
              "    .colab-df-convert:hover {\n",
              "      background-color: #E2EBFA;\n",
              "      box-shadow: 0px 1px 2px rgba(60, 64, 67, 0.3), 0px 1px 3px 1px rgba(60, 64, 67, 0.15);\n",
              "      fill: #174EA6;\n",
              "    }\n",
              "\n",
              "    .colab-df-buttons div {\n",
              "      margin-bottom: 4px;\n",
              "    }\n",
              "\n",
              "    [theme=dark] .colab-df-convert {\n",
              "      background-color: #3B4455;\n",
              "      fill: #D2E3FC;\n",
              "    }\n",
              "\n",
              "    [theme=dark] .colab-df-convert:hover {\n",
              "      background-color: #434B5C;\n",
              "      box-shadow: 0px 1px 3px 1px rgba(0, 0, 0, 0.15);\n",
              "      filter: drop-shadow(0px 1px 2px rgba(0, 0, 0, 0.3));\n",
              "      fill: #FFFFFF;\n",
              "    }\n",
              "  </style>\n",
              "\n",
              "    <script>\n",
              "      const buttonEl =\n",
              "        document.querySelector('#df-4419de5b-4954-46b0-998e-0f2e4306e481 button.colab-df-convert');\n",
              "      buttonEl.style.display =\n",
              "        google.colab.kernel.accessAllowed ? 'block' : 'none';\n",
              "\n",
              "      async function convertToInteractive(key) {\n",
              "        const element = document.querySelector('#df-4419de5b-4954-46b0-998e-0f2e4306e481');\n",
              "        const dataTable =\n",
              "          await google.colab.kernel.invokeFunction('convertToInteractive',\n",
              "                                                    [key], {});\n",
              "        if (!dataTable) return;\n",
              "\n",
              "        const docLinkHtml = 'Like what you see? Visit the ' +\n",
              "          '<a target=\"_blank\" href=https://colab.research.google.com/notebooks/data_table.ipynb>data table notebook</a>'\n",
              "          + ' to learn more about interactive tables.';\n",
              "        element.innerHTML = '';\n",
              "        dataTable['output_type'] = 'display_data';\n",
              "        await google.colab.output.renderOutput(dataTable, element);\n",
              "        const docLink = document.createElement('div');\n",
              "        docLink.innerHTML = docLinkHtml;\n",
              "        element.appendChild(docLink);\n",
              "      }\n",
              "    </script>\n",
              "  </div>\n",
              "\n",
              "\n",
              "<div id=\"df-f047b844-aaa0-407e-8a13-f3e65f55d1bb\">\n",
              "  <button class=\"colab-df-quickchart\" onclick=\"quickchart('df-f047b844-aaa0-407e-8a13-f3e65f55d1bb')\"\n",
              "            title=\"Suggest charts\"\n",
              "            style=\"display:none;\">\n",
              "\n",
              "<svg xmlns=\"http://www.w3.org/2000/svg\" height=\"24px\"viewBox=\"0 0 24 24\"\n",
              "     width=\"24px\">\n",
              "    <g>\n",
              "        <path d=\"M19 3H5c-1.1 0-2 .9-2 2v14c0 1.1.9 2 2 2h14c1.1 0 2-.9 2-2V5c0-1.1-.9-2-2-2zM9 17H7v-7h2v7zm4 0h-2V7h2v10zm4 0h-2v-4h2v4z\"/>\n",
              "    </g>\n",
              "</svg>\n",
              "  </button>\n",
              "\n",
              "<style>\n",
              "  .colab-df-quickchart {\n",
              "      --bg-color: #E8F0FE;\n",
              "      --fill-color: #1967D2;\n",
              "      --hover-bg-color: #E2EBFA;\n",
              "      --hover-fill-color: #174EA6;\n",
              "      --disabled-fill-color: #AAA;\n",
              "      --disabled-bg-color: #DDD;\n",
              "  }\n",
              "\n",
              "  [theme=dark] .colab-df-quickchart {\n",
              "      --bg-color: #3B4455;\n",
              "      --fill-color: #D2E3FC;\n",
              "      --hover-bg-color: #434B5C;\n",
              "      --hover-fill-color: #FFFFFF;\n",
              "      --disabled-bg-color: #3B4455;\n",
              "      --disabled-fill-color: #666;\n",
              "  }\n",
              "\n",
              "  .colab-df-quickchart {\n",
              "    background-color: var(--bg-color);\n",
              "    border: none;\n",
              "    border-radius: 50%;\n",
              "    cursor: pointer;\n",
              "    display: none;\n",
              "    fill: var(--fill-color);\n",
              "    height: 32px;\n",
              "    padding: 0;\n",
              "    width: 32px;\n",
              "  }\n",
              "\n",
              "  .colab-df-quickchart:hover {\n",
              "    background-color: var(--hover-bg-color);\n",
              "    box-shadow: 0 1px 2px rgba(60, 64, 67, 0.3), 0 1px 3px 1px rgba(60, 64, 67, 0.15);\n",
              "    fill: var(--button-hover-fill-color);\n",
              "  }\n",
              "\n",
              "  .colab-df-quickchart-complete:disabled,\n",
              "  .colab-df-quickchart-complete:disabled:hover {\n",
              "    background-color: var(--disabled-bg-color);\n",
              "    fill: var(--disabled-fill-color);\n",
              "    box-shadow: none;\n",
              "  }\n",
              "\n",
              "  .colab-df-spinner {\n",
              "    border: 2px solid var(--fill-color);\n",
              "    border-color: transparent;\n",
              "    border-bottom-color: var(--fill-color);\n",
              "    animation:\n",
              "      spin 1s steps(1) infinite;\n",
              "  }\n",
              "\n",
              "  @keyframes spin {\n",
              "    0% {\n",
              "      border-color: transparent;\n",
              "      border-bottom-color: var(--fill-color);\n",
              "      border-left-color: var(--fill-color);\n",
              "    }\n",
              "    20% {\n",
              "      border-color: transparent;\n",
              "      border-left-color: var(--fill-color);\n",
              "      border-top-color: var(--fill-color);\n",
              "    }\n",
              "    30% {\n",
              "      border-color: transparent;\n",
              "      border-left-color: var(--fill-color);\n",
              "      border-top-color: var(--fill-color);\n",
              "      border-right-color: var(--fill-color);\n",
              "    }\n",
              "    40% {\n",
              "      border-color: transparent;\n",
              "      border-right-color: var(--fill-color);\n",
              "      border-top-color: var(--fill-color);\n",
              "    }\n",
              "    60% {\n",
              "      border-color: transparent;\n",
              "      border-right-color: var(--fill-color);\n",
              "    }\n",
              "    80% {\n",
              "      border-color: transparent;\n",
              "      border-right-color: var(--fill-color);\n",
              "      border-bottom-color: var(--fill-color);\n",
              "    }\n",
              "    90% {\n",
              "      border-color: transparent;\n",
              "      border-bottom-color: var(--fill-color);\n",
              "    }\n",
              "  }\n",
              "</style>\n",
              "\n",
              "  <script>\n",
              "    async function quickchart(key) {\n",
              "      const quickchartButtonEl =\n",
              "        document.querySelector('#' + key + ' button');\n",
              "      quickchartButtonEl.disabled = true;  // To prevent multiple clicks.\n",
              "      quickchartButtonEl.classList.add('colab-df-spinner');\n",
              "      try {\n",
              "        const charts = await google.colab.kernel.invokeFunction(\n",
              "            'suggestCharts', [key], {});\n",
              "      } catch (error) {\n",
              "        console.error('Error during call to suggestCharts:', error);\n",
              "      }\n",
              "      quickchartButtonEl.classList.remove('colab-df-spinner');\n",
              "      quickchartButtonEl.classList.add('colab-df-quickchart-complete');\n",
              "    }\n",
              "    (() => {\n",
              "      let quickchartButtonEl =\n",
              "        document.querySelector('#df-f047b844-aaa0-407e-8a13-f3e65f55d1bb button');\n",
              "      quickchartButtonEl.style.display =\n",
              "        google.colab.kernel.accessAllowed ? 'block' : 'none';\n",
              "    })();\n",
              "  </script>\n",
              "</div>\n",
              "\n",
              "    </div>\n",
              "  </div>\n"
            ],
            "application/vnd.google.colaboratory.intrinsic+json": {
              "type": "dataframe",
              "variable_name": "ml_df",
              "summary": "{\n  \"name\": \"ml_df\",\n  \"rows\": 296,\n  \"fields\": [\n    {\n      \"column\": \"date\",\n      \"properties\": {\n        \"dtype\": \"object\",\n        \"num_unique_values\": 296,\n        \"samples\": [\n          \"2023-11\",\n          \"2013-12\",\n          \"2008-01\"\n        ],\n        \"semantic_type\": \"\",\n        \"description\": \"\"\n      }\n    },\n    {\n      \"column\": \"wage\",\n      \"properties\": {\n        \"dtype\": \"number\",\n        \"std\": 170.097977907815,\n        \"min\": 652.28,\n        \"max\": 1285.91,\n        \"num_unique_values\": 286,\n        \"samples\": [\n          660.91,\n          1201.0,\n          900.71\n        ],\n        \"semantic_type\": \"\",\n        \"description\": \"\"\n      }\n    },\n    {\n      \"column\": \"rmpi\",\n      \"properties\": {\n        \"dtype\": \"number\",\n        \"std\": 24.30704162234297,\n        \"min\": 55.3,\n        \"max\": 166.6,\n        \"num_unique_values\": 242,\n        \"samples\": [\n          61.8,\n          60.8,\n          88.1\n        ],\n        \"semantic_type\": \"\",\n        \"description\": \"\"\n      }\n    },\n    {\n      \"column\": \"cpi\",\n      \"properties\": {\n        \"dtype\": \"number\",\n        \"std\": 17.143680806468506,\n        \"min\": 96.3,\n        \"max\": 162.1,\n        \"num_unique_values\": 225,\n        \"samples\": [\n          97.4,\n          139.6,\n          123.1\n        ],\n        \"semantic_type\": \"\",\n        \"description\": \"\"\n      }\n    },\n    {\n      \"column\": \"rate\",\n      \"properties\": {\n        \"dtype\": \"number\",\n        \"std\": 1.5225310417471374,\n        \"min\": 0.5,\n        \"max\": 5.75,\n        \"num_unique_values\": 21,\n        \"samples\": [\n          5.75,\n          0.5,\n          1.25\n        ],\n        \"semantic_type\": \"\",\n        \"description\": \"\"\n      }\n    },\n    {\n      \"column\": \"announcement\",\n      \"properties\": {\n        \"dtype\": \"number\",\n        \"std\": 0.4689145954723524,\n        \"min\": 0.0,\n        \"max\": 1.0,\n        \"num_unique_values\": 2,\n        \"samples\": [\n          0.0,\n          1.0\n        ],\n        \"semantic_type\": \"\",\n        \"description\": \"\"\n      }\n    }\n  ]\n}"
            }
          },
          "metadata": {},
          "execution_count": 51
        }
      ]
    },
    {
      "cell_type": "markdown",
      "source": [
        "#### Target feature"
      ],
      "metadata": {
        "id": "5Llx9VIvaBN_"
      }
    },
    {
      "cell_type": "code",
      "source": [
        "# categorical target - rate_change\n",
        "ml_df['rate_diff'] = ml_df['rate'].diff().fillna(0)\n",
        "ml_df['rate_change'] = ml_df['rate_diff'].apply(lambda x: -1 if x < 0 else (1 if x > 0 else 0))"
      ],
      "metadata": {
        "id": "aH_kqARJNkJK"
      },
      "execution_count": 52,
      "outputs": []
    },
    {
      "cell_type": "code",
      "source": [
        "ml_df['rate_change'].unique()"
      ],
      "metadata": {
        "id": "stQTAM3zeHXD",
        "outputId": "abe0feae-340b-4d83-b658-49ddf93978d9",
        "colab": {
          "base_uri": "https://localhost:8080/"
        }
      },
      "execution_count": 53,
      "outputs": [
        {
          "output_type": "execute_result",
          "data": {
            "text/plain": [
              "array([ 0, -1,  1])"
            ]
          },
          "metadata": {},
          "execution_count": 53
        }
      ]
    },
    {
      "cell_type": "code",
      "source": [
        "# plot class proportions\n",
        "rate_change_counts = ml_df['rate_change'].value_counts()\n",
        "proportions = rate_change_counts / len(ml_df)\n",
        "\n",
        "plt.figure(figsize=(8, 6))\n",
        "plt.bar(proportions.index, proportions.values)\n",
        "plt.xlabel(\"Rate Change Class\")\n",
        "plt.ylabel(\"Proportion\")\n",
        "plt.title(\"Proportion of Classes in Rate Change\")\n",
        "plt.xticks(proportions.index)  # Ensure all class labels are displayed\n",
        "plt.show()\n"
      ],
      "metadata": {
        "colab": {
          "base_uri": "https://localhost:8080/",
          "height": 564
        },
        "id": "yR_J-FteB25V",
        "outputId": "68c2fbbd-e9f2-4cd7-956d-c3931a46ac04"
      },
      "execution_count": 54,
      "outputs": [
        {
          "output_type": "display_data",
          "data": {
            "text/plain": [
              "<Figure size 800x600 with 1 Axes>"
            ],
            "image/png": "[encoded data removed]"
          },
          "metadata": {}
        }
      ]
    },
    {
      "cell_type": "markdown",
      "source": [
        "Very imbalanced classes. Need to deal with this when modelling to prevent a biased model. If given 3 classes that were balanced and a person were to randomly guess at each class, we could expect that they would be correct 33.3% of the time; I'll use that as a baseline against which I can compare ml models."
      ],
      "metadata": {
        "id": "82SKtNW7CF55"
      }
    },
    {
      "cell_type": "markdown",
      "source": [
        "#### X features"
      ],
      "metadata": {
        "id": "Lp08PQ36Z1qq"
      }
    },
    {
      "cell_type": "code",
      "source": [
        "ml_df['date'] = pd.to_datetime(ml_df['date'])"
      ],
      "metadata": {
        "id": "DGwqa4WCHFn4"
      },
      "execution_count": 55,
      "outputs": []
    },
    {
      "cell_type": "code",
      "source": [
        "# date features\n",
        "ml_df['year'] = ml_df['date'].dt.year\n",
        "ml_df['month'] = ml_df['date'].dt.month\n",
        "ml_df['quarter'] = ml_df['date'].dt.quarter"
      ],
      "metadata": {
        "id": "nUh-Y1IUC0oC"
      },
      "execution_count": 56,
      "outputs": []
    },
    {
      "cell_type": "code",
      "source": [
        "# cpi lag features - months\n",
        "ml_df['cpi_lag3'] = ml_df['cpi'].shift(3)\n",
        "ml_df['cpi_lag6'] = ml_df['cpi'].shift(6)\n",
        "ml_df['cpi_lag9'] = ml_df['cpi'].shift(9)\n",
        "ml_df['cpi_lag12'] = ml_df['cpi'].shift(12)"
      ],
      "metadata": {
        "id": "x18HgzXBC0ka"
      },
      "execution_count": 57,
      "outputs": []
    },
    {
      "cell_type": "code",
      "source": [
        "# cpi rolling window - mean\n",
        "ml_df['cpi_rolling_mean3'] = ml_df['cpi'].rolling(window = 3).mean()\n",
        "ml_df['cpi_rolling_mean6'] = ml_df['cpi'].rolling(window = 6).mean()\n",
        "ml_df['cpi_rolling_mean9'] = ml_df['cpi'].rolling(window = 9).mean()"
      ],
      "metadata": {
        "id": "8t1hmGD8C0gR"
      },
      "execution_count": 58,
      "outputs": []
    },
    {
      "cell_type": "code",
      "source": [
        "# cpi exp. moving avg - ema\n",
        "ml_df['cpi_ema3'] = ml_df['cpi'].ewm(span = 3).mean()\n",
        "ml_df['cpi_ema6'] = ml_df['cpi'].ewm(span = 6).mean()\n",
        "ml_df['cpi_ema9'] = ml_df['cpi'].ewm(span = 9).mean()"
      ],
      "metadata": {
        "id": "Snq5Hg6NC0ch"
      },
      "execution_count": 59,
      "outputs": []
    },
    {
      "cell_type": "code",
      "source": [
        "# cpi rate of change\n",
        "ml_df['cpi_pct_change3'] = ml_df['cpi'].pct_change(periods = 3)\n",
        "ml_df['cpi_pct_change6'] = ml_df['cpi'].pct_change(periods = 6)\n",
        "ml_df['cpi_pct_change9'] = ml_df['cpi'].pct_change(periods = 9)\n",
        "ml_df['cpi_pct_change12'] = ml_df['cpi'].pct_change(periods = 12) # year over year change."
      ],
      "metadata": {
        "id": "hWyQ7_3YMO1f",
        "outputId": "2c2d0bac-5660-4f17-b245-475f99efd584",
        "colab": {
          "base_uri": "https://localhost:8080/"
        }
      },
      "execution_count": 60,
      "outputs": [
        {
          "output_type": "stream",
          "name": "stderr",
          "text": [
            "<ipython-input-60-c86a68abc264>:2: FutureWarning: The default fill_method='pad' in Series.pct_change is deprecated and will be removed in a future version. Either fill in any non-leading NA values prior to calling pct_change or specify 'fill_method=None' to not fill NA values.\n",
            "  ml_df['cpi_pct_change3'] = ml_df['cpi'].pct_change(periods = 3)\n",
            "<ipython-input-60-c86a68abc264>:3: FutureWarning: The default fill_method='pad' in Series.pct_change is deprecated and will be removed in a future version. Either fill in any non-leading NA values prior to calling pct_change or specify 'fill_method=None' to not fill NA values.\n",
            "  ml_df['cpi_pct_change6'] = ml_df['cpi'].pct_change(periods = 6)\n",
            "<ipython-input-60-c86a68abc264>:4: FutureWarning: The default fill_method='pad' in Series.pct_change is deprecated and will be removed in a future version. Either fill in any non-leading NA values prior to calling pct_change or specify 'fill_method=None' to not fill NA values.\n",
            "  ml_df['cpi_pct_change9'] = ml_df['cpi'].pct_change(periods = 9)\n",
            "<ipython-input-60-c86a68abc264>:5: FutureWarning: The default fill_method='pad' in Series.pct_change is deprecated and will be removed in a future version. Either fill in any non-leading NA values prior to calling pct_change or specify 'fill_method=None' to not fill NA values.\n",
            "  ml_df['cpi_pct_change12'] = ml_df['cpi'].pct_change(periods = 12) # year over year change.\n"
          ]
        }
      ]
    },
    {
      "cell_type": "code",
      "source": [
        "# cpi volatility\n",
        "ml_df['cpi_rolling_std3'] = ml_df['cpi'].rolling(window = 3).std()\n",
        "ml_df['cpi_rolling_std6'] = ml_df['cpi'].rolling(window = 6).std()"
      ],
      "metadata": {
        "id": "Y5MTFr3zMX7R"
      },
      "execution_count": 61,
      "outputs": []
    },
    {
      "cell_type": "code",
      "source": [
        "ml_df['cpi_diff_rolling_mean3'] = ml_df['cpi'] - ml_df['cpi_rolling_mean3']\n",
        "ml_df['cpi_diff_rolling_mean6'] = ml_df['cpi'] - ml_df['cpi_rolling_mean6']"
      ],
      "metadata": {
        "id": "5ZyCTvXfMnuE"
      },
      "execution_count": 62,
      "outputs": []
    },
    {
      "cell_type": "code",
      "source": [
        "# inflation deviation\n",
        "ml_df['inflation_dev'] = ml_df['cpi_pct_change12'] - 2\n",
        "ml_df['inflation_dev_lag3'] = ml_df['inflation_dev'].shift(3)\n",
        "ml_df['inflation_dev_lag6'] = ml_df['inflation_dev'].shift(6)\n",
        "ml_df['inflation_dev_lag9'] = ml_df['inflation_dev'].shift(9)"
      ],
      "metadata": {
        "id": "UYHYpeaFdTjr"
      },
      "execution_count": 63,
      "outputs": []
    },
    {
      "cell_type": "code",
      "source": [
        "# inflation trend - stabilizing or worsening?\n",
        "ml_df['inflation_trend'] = ml_df['inflation_dev'].diff()\n",
        "ml_df['inflation_trend_lag3'] = ml_df['inflation_trend'].shift(3)\n",
        "ml_df['inflation_trend_lag6'] = ml_df['inflation_trend'].shift(6)\n",
        "ml_df['inflation_trend_lag9'] = ml_df['inflation_trend'].shift(9)"
      ],
      "metadata": {
        "id": "KA8JS6PEeb8l"
      },
      "execution_count": 64,
      "outputs": []
    },
    {
      "cell_type": "code",
      "source": [
        "# rmpi features\n",
        "ml_df['rmpi_lag3'] = ml_df['rmpi'].shift(3)\n",
        "ml_df['rmpi_lag6'] = ml_df['rmpi'].shift(6)\n",
        "ml_df['rmpi_lag9'] = ml_df['rmpi'].shift(9)"
      ],
      "metadata": {
        "id": "s-0tor_rtsY8"
      },
      "execution_count": 65,
      "outputs": []
    },
    {
      "cell_type": "code",
      "source": [
        "# rate difference lag\n",
        "ml_df['rate_diff_lag3'] = ml_df['rate_diff'].shift(3)\n",
        "ml_df['rate_diff_lag6'] = ml_df['rate_diff'].shift(6)\n",
        "ml_df['rate_diff_lag9'] = ml_df['rate_diff'].shift(9)"
      ],
      "metadata": {
        "id": "WZQCWHnol1LV"
      },
      "execution_count": 66,
      "outputs": []
    },
    {
      "cell_type": "code",
      "source": [
        "ml_df.dropna(inplace=True)"
      ],
      "metadata": {
        "id": "W6XE9931Mvp3"
      },
      "execution_count": 67,
      "outputs": []
    },
    {
      "cell_type": "code",
      "source": [
        "ml_df.columns"
      ],
      "metadata": {
        "id": "ZlPPBJKDC0M-",
        "outputId": "c8b8c81a-7b46-461a-b555-36793241f835",
        "colab": {
          "base_uri": "https://localhost:8080/"
        }
      },
      "execution_count": 68,
      "outputs": [
        {
          "output_type": "execute_result",
          "data": {
            "text/plain": [
              "Index(['date', 'wage', 'rmpi', 'cpi', 'rate', 'announcement', 'rate_diff',\n",
              "       'rate_change', 'year', 'month', 'quarter', 'cpi_lag3', 'cpi_lag6',\n",
              "       'cpi_lag9', 'cpi_lag12', 'cpi_rolling_mean3', 'cpi_rolling_mean6',\n",
              "       'cpi_rolling_mean9', 'cpi_ema3', 'cpi_ema6', 'cpi_ema9',\n",
              "       'cpi_pct_change3', 'cpi_pct_change6', 'cpi_pct_change9',\n",
              "       'cpi_pct_change12', 'cpi_rolling_std3', 'cpi_rolling_std6',\n",
              "       'cpi_diff_rolling_mean3', 'cpi_diff_rolling_mean6', 'inflation_dev',\n",
              "       'inflation_dev_lag3', 'inflation_dev_lag6', 'inflation_dev_lag9',\n",
              "       'inflation_trend', 'inflation_trend_lag3', 'inflation_trend_lag6',\n",
              "       'inflation_trend_lag9', 'rmpi_lag3', 'rmpi_lag6', 'rmpi_lag9',\n",
              "       'rate_diff_lag3', 'rate_diff_lag6', 'rate_diff_lag9'],\n",
              "      dtype='object')"
            ]
          },
          "metadata": {},
          "execution_count": 68
        }
      ]
    },
    {
      "cell_type": "markdown",
      "source": [
        "Now that I have created features, I need to drop the rows where there was no rate change."
      ],
      "metadata": {
        "id": "76D1pR2Iz-bb"
      }
    },
    {
      "cell_type": "code",
      "source": [
        "ml_df = ml_df[ml_df['announcement'] != 0]\n",
        "ml_df = ml_df.drop(columns = ['announcement'])"
      ],
      "metadata": {
        "id": "6jEciMoC0XBI"
      },
      "execution_count": 69,
      "outputs": []
    },
    {
      "cell_type": "markdown",
      "source": [
        "### Feature selection"
      ],
      "metadata": {
        "id": "rhUwt5nAKMjj"
      }
    },
    {
      "cell_type": "markdown",
      "source": [
        "##### Feature/target correlation"
      ],
      "metadata": {
        "id": "eSqhlmKl_2WE"
      }
    },
    {
      "cell_type": "markdown",
      "source": [
        "To select features, I first found the correlation between each feature and the target. I started by cutting the features with the lowest correlation, until there were only 10 features remaining."
      ],
      "metadata": {
        "id": "c1QMeRX98vGm"
      }
    },
    {
      "cell_type": "code",
      "source": [
        "features = [\n",
        "            #'wage', #current\n",
        "            #'rmpi', #current\n",
        "            #'cpi', #current\n",
        "            #'rate', #current\n",
        "            #'rate_diff', #current\n",
        "            #'rate_change', #target\n",
        "            #'year', #low corr\n",
        "            #'month', #low corr\n",
        "            #'quarter', #low corr\n",
        "            #'cpi_lag3', #low corr\n",
        "            #'cpi_lag6', #low corr\n",
        "            #'cpi_lag9', #low corr\n",
        "            #'cpi_lag12', #low corr\n",
        "            #'cpi_rolling_mean3', #low corr\n",
        "            #'cpi_rolling_mean6', #low corr\n",
        "            #'cpi_rolling_mean9', low corr\n",
        "            #'cpi_ema3', #low corr\n",
        "            #'cpi_ema6', #low corr\n",
        "            #'cpi_ema9', #low corr\n",
        "            'cpi_pct_change3',\n",
        "            'cpi_pct_change6',\n",
        "            'cpi_pct_change9',\n",
        "            'cpi_pct_change12',\n",
        "            #'cpi_rolling_std3',\n",
        "            'cpi_rolling_std6',\n",
        "            'cpi_diff_rolling_mean3',\n",
        "            'cpi_diff_rolling_mean6',\n",
        "            #'inflation_dev', #current\n",
        "            'inflation_dev_lag3',\n",
        "            #'inflation_dev_lag6',\n",
        "            #'inflation_dev_lag9', #low corr\n",
        "            #'inflation_trend', #low corr\n",
        "            #'inflation_trend_lag3', #low corr\n",
        "            #'inflation_trend_lag6', #low corr\n",
        "            #'inflation_trend_lag9', #low corr\n",
        "            #'rmpi_lag3', low corr\n",
        "            #'rmpi_lag6', #low corr\n",
        "            #'rmpi_lag9', low corr\n",
        "            'rate_diff_lag3',\n",
        "            'rate_diff_lag6',\n",
        "            #'rate_diff_lag9' #low corr\n",
        "            ]"
      ],
      "metadata": {
        "id": "L-G9vLL3HrUL"
      },
      "execution_count": 71,
      "outputs": []
    },
    {
      "cell_type": "code",
      "source": [
        "# replace infinite values with nan from pct change feature creation\n",
        "for feature in features:\n",
        "    ml_df[feature] = ml_df[feature].replace([np.inf, -np.inf], np.nan)\n",
        "    ml_df[feature] = ml_df[feature].fillna(ml_df[feature].mean())"
      ],
      "metadata": {
        "id": "me9clKwlnfBB"
      },
      "execution_count": 72,
      "outputs": []
    },
    {
      "cell_type": "code",
      "source": [
        "# corr\n",
        "correlations = {feature: pointbiserialr(ml_df[feature],\n",
        "                                        ml_df['rate_change'])[0] for feature in features}\n",
        "\n",
        "corr_df = pd.DataFrame.from_dict(correlations,\n",
        "                                 orient = 'index',\n",
        "                                 columns = ['correlation'])\n",
        "\n",
        "corr_df = corr_df.abs().sort_values(by = 'correlation',\n",
        "                                    ascending = False)\n",
        "\n",
        "print('number of total features: ', corr_df.shape[0])\n",
        "corr_df.tail(10)"
      ],
      "metadata": {
        "id": "sdWMJgh7iPTa",
        "outputId": "829ec956-d89b-4ae6-e6a7-59990d3e6942",
        "colab": {
          "base_uri": "https://localhost:8080/",
          "height": 380
        }
      },
      "execution_count": 74,
      "outputs": [
        {
          "output_type": "stream",
          "name": "stdout",
          "text": [
            "number of total features:  10\n"
          ]
        },
        {
          "output_type": "execute_result",
          "data": {
            "text/plain": [
              "                        correlation\n",
              "cpi_pct_change9            0.429643\n",
              "cpi_pct_change12           0.390208\n",
              "rate_diff_lag3             0.378094\n",
              "cpi_pct_change6            0.364432\n",
              "cpi_diff_rolling_mean6     0.299307\n",
              "inflation_dev_lag3         0.290837\n",
              "rate_diff_lag6             0.237986\n",
              "cpi_diff_rolling_mean3     0.230108\n",
              "cpi_pct_change3            0.227195\n",
              "cpi_rolling_std6           0.202871"
            ],
            "text/html": [
              "\n",
              "  <div id=\"df-6963dfdf-a059-43be-aa8b-12972a0ce74b\" class=\"colab-df-container\">\n",
              "    <div>\n",
              "<style scoped>\n",
              "    .dataframe tbody tr th:only-of-type {\n",
              "        vertical-align: middle;\n",
              "    }\n",
              "\n",
              "    .dataframe tbody tr th {\n",
              "        vertical-align: top;\n",
              "    }\n",
              "\n",
              "    .dataframe thead th {\n",
              "        text-align: right;\n",
              "    }\n",
              "</style>\n",
              "<table border=\"1\" class=\"dataframe\">\n",
              "  <thead>\n",
              "    <tr style=\"text-align: right;\">\n",
              "      <th></th>\n",
              "      <th>correlation</th>\n",
              "    </tr>\n",
              "  </thead>\n",
              "  <tbody>\n",
              "    <tr>\n",
              "      <th>cpi_pct_change9</th>\n",
              "      <td>0.429643</td>\n",
              "    </tr>\n",
              "    <tr>\n",
              "      <th>cpi_pct_change12</th>\n",
              "      <td>0.390208</td>\n",
              "    </tr>\n",
              "    <tr>\n",
              "      <th>rate_diff_lag3</th>\n",
              "      <td>0.378094</td>\n",
              "    </tr>\n",
              "    <tr>\n",
              "      <th>cpi_pct_change6</th>\n",
              "      <td>0.364432</td>\n",
              "    </tr>\n",
              "    <tr>\n",
              "      <th>cpi_diff_rolling_mean6</th>\n",
              "      <td>0.299307</td>\n",
              "    </tr>\n",
              "    <tr>\n",
              "      <th>inflation_dev_lag3</th>\n",
              "      <td>0.290837</td>\n",
              "    </tr>\n",
              "    <tr>\n",
              "      <th>rate_diff_lag6</th>\n",
              "      <td>0.237986</td>\n",
              "    </tr>\n",
              "    <tr>\n",
              "      <th>cpi_diff_rolling_mean3</th>\n",
              "      <td>0.230108</td>\n",
              "    </tr>\n",
              "    <tr>\n",
              "      <th>cpi_pct_change3</th>\n",
              "      <td>0.227195</td>\n",
              "    </tr>\n",
              "    <tr>\n",
              "      <th>cpi_rolling_std6</th>\n",
              "      <td>0.202871</td>\n",
              "    </tr>\n",
              "  </tbody>\n",
              "</table>\n",
              "</div>\n",
              "    <div class=\"colab-df-buttons\">\n",
              "\n",
              "  <div class=\"colab-df-container\">\n",
              "    <button class=\"colab-df-convert\" onclick=\"convertToInteractive('df-6963dfdf-a059-43be-aa8b-12972a0ce74b')\"\n",
              "            title=\"Convert this dataframe to an interactive table.\"\n",
              "            style=\"display:none;\">\n",
              "\n",
              "  <svg xmlns=\"http://www.w3.org/2000/svg\" height=\"24px\" viewBox=\"0 -960 960 960\">\n",
              "    <path d=\"M120-120v-720h720v720H120Zm60-500h600v-160H180v160Zm220 220h160v-160H400v160Zm0 220h160v-160H400v160ZM180-400h160v-160H180v160Zm440 0h160v-160H620v160ZM180-180h160v-160H180v160Zm440 0h160v-160H620v160Z\"/>\n",
              "  </svg>\n",
              "    </button>\n",
              "\n",
              "  <style>\n",
              "    .colab-df-container {\n",
              "      display:flex;\n",
              "      gap: 12px;\n",
              "    }\n",
              "\n",
              "    .colab-df-convert {\n",
              "      background-color: #E8F0FE;\n",
              "      border: none;\n",
              "      border-radius: 50%;\n",
              "      cursor: pointer;\n",
              "      display: none;\n",
              "      fill: #1967D2;\n",
              "      height: 32px;\n",
              "      padding: 0 0 0 0;\n",
              "      width: 32px;\n",
              "    }\n",
              "\n",
              "    .colab-df-convert:hover {\n",
              "      background-color: #E2EBFA;\n",
              "      box-shadow: 0px 1px 2px rgba(60, 64, 67, 0.3), 0px 1px 3px 1px rgba(60, 64, 67, 0.15);\n",
              "      fill: #174EA6;\n",
              "    }\n",
              "\n",
              "    .colab-df-buttons div {\n",
              "      margin-bottom: 4px;\n",
              "    }\n",
              "\n",
              "    [theme=dark] .colab-df-convert {\n",
              "      background-color: #3B4455;\n",
              "      fill: #D2E3FC;\n",
              "    }\n",
              "\n",
              "    [theme=dark] .colab-df-convert:hover {\n",
              "      background-color: #434B5C;\n",
              "      box-shadow: 0px 1px 3px 1px rgba(0, 0, 0, 0.15);\n",
              "      filter: drop-shadow(0px 1px 2px rgba(0, 0, 0, 0.3));\n",
              "      fill: #FFFFFF;\n",
              "    }\n",
              "  </style>\n",
              "\n",
              "    <script>\n",
              "      const buttonEl =\n",
              "        document.querySelector('#df-6963dfdf-a059-43be-aa8b-12972a0ce74b button.colab-df-convert');\n",
              "      buttonEl.style.display =\n",
              "        google.colab.kernel.accessAllowed ? 'block' : 'none';\n",
              "\n",
              "      async function convertToInteractive(key) {\n",
              "        const element = document.querySelector('#df-6963dfdf-a059-43be-aa8b-12972a0ce74b');\n",
              "        const dataTable =\n",
              "          await google.colab.kernel.invokeFunction('convertToInteractive',\n",
              "                                                    [key], {});\n",
              "        if (!dataTable) return;\n",
              "\n",
              "        const docLinkHtml = 'Like what you see? Visit the ' +\n",
              "          '<a target=\"_blank\" href=https://colab.research.google.com/notebooks/data_table.ipynb>data table notebook</a>'\n",
              "          + ' to learn more about interactive tables.';\n",
              "        element.innerHTML = '';\n",
              "        dataTable['output_type'] = 'display_data';\n",
              "        await google.colab.output.renderOutput(dataTable, element);\n",
              "        const docLink = document.createElement('div');\n",
              "        docLink.innerHTML = docLinkHtml;\n",
              "        element.appendChild(docLink);\n",
              "      }\n",
              "    </script>\n",
              "  </div>\n",
              "\n",
              "\n",
              "<div id=\"df-1c015886-d11b-4d2f-814a-7980c026c530\">\n",
              "  <button class=\"colab-df-quickchart\" onclick=\"quickchart('df-1c015886-d11b-4d2f-814a-7980c026c530')\"\n",
              "            title=\"Suggest charts\"\n",
              "            style=\"display:none;\">\n",
              "\n",
              "<svg xmlns=\"http://www.w3.org/2000/svg\" height=\"24px\"viewBox=\"0 0 24 24\"\n",
              "     width=\"24px\">\n",
              "    <g>\n",
              "        <path d=\"M19 3H5c-1.1 0-2 .9-2 2v14c0 1.1.9 2 2 2h14c1.1 0 2-.9 2-2V5c0-1.1-.9-2-2-2zM9 17H7v-7h2v7zm4 0h-2V7h2v10zm4 0h-2v-4h2v4z\"/>\n",
              "    </g>\n",
              "</svg>\n",
              "  </button>\n",
              "\n",
              "<style>\n",
              "  .colab-df-quickchart {\n",
              "      --bg-color: #E8F0FE;\n",
              "      --fill-color: #1967D2;\n",
              "      --hover-bg-color: #E2EBFA;\n",
              "      --hover-fill-color: #174EA6;\n",
              "      --disabled-fill-color: #AAA;\n",
              "      --disabled-bg-color: #DDD;\n",
              "  }\n",
              "\n",
              "  [theme=dark] .colab-df-quickchart {\n",
              "      --bg-color: #3B4455;\n",
              "      --fill-color: #D2E3FC;\n",
              "      --hover-bg-color: #434B5C;\n",
              "      --hover-fill-color: #FFFFFF;\n",
              "      --disabled-bg-color: #3B4455;\n",
              "      --disabled-fill-color: #666;\n",
              "  }\n",
              "\n",
              "  .colab-df-quickchart {\n",
              "    background-color: var(--bg-color);\n",
              "    border: none;\n",
              "    border-radius: 50%;\n",
              "    cursor: pointer;\n",
              "    display: none;\n",
              "    fill: var(--fill-color);\n",
              "    height: 32px;\n",
              "    padding: 0;\n",
              "    width: 32px;\n",
              "  }\n",
              "\n",
              "  .colab-df-quickchart:hover {\n",
              "    background-color: var(--hover-bg-color);\n",
              "    box-shadow: 0 1px 2px rgba(60, 64, 67, 0.3), 0 1px 3px 1px rgba(60, 64, 67, 0.15);\n",
              "    fill: var(--button-hover-fill-color);\n",
              "  }\n",
              "\n",
              "  .colab-df-quickchart-complete:disabled,\n",
              "  .colab-df-quickchart-complete:disabled:hover {\n",
              "    background-color: var(--disabled-bg-color);\n",
              "    fill: var(--disabled-fill-color);\n",
              "    box-shadow: none;\n",
              "  }\n",
              "\n",
              "  .colab-df-spinner {\n",
              "    border: 2px solid var(--fill-color);\n",
              "    border-color: transparent;\n",
              "    border-bottom-color: var(--fill-color);\n",
              "    animation:\n",
              "      spin 1s steps(1) infinite;\n",
              "  }\n",
              "\n",
              "  @keyframes spin {\n",
              "    0% {\n",
              "      border-color: transparent;\n",
              "      border-bottom-color: var(--fill-color);\n",
              "      border-left-color: var(--fill-color);\n",
              "    }\n",
              "    20% {\n",
              "      border-color: transparent;\n",
              "      border-left-color: var(--fill-color);\n",
              "      border-top-color: var(--fill-color);\n",
              "    }\n",
              "    30% {\n",
              "      border-color: transparent;\n",
              "      border-left-color: var(--fill-color);\n",
              "      border-top-color: var(--fill-color);\n",
              "      border-right-color: var(--fill-color);\n",
              "    }\n",
              "    40% {\n",
              "      border-color: transparent;\n",
              "      border-right-color: var(--fill-color);\n",
              "      border-top-color: var(--fill-color);\n",
              "    }\n",
              "    60% {\n",
              "      border-color: transparent;\n",
              "      border-right-color: var(--fill-color);\n",
              "    }\n",
              "    80% {\n",
              "      border-color: transparent;\n",
              "      border-right-color: var(--fill-color);\n",
              "      border-bottom-color: var(--fill-color);\n",
              "    }\n",
              "    90% {\n",
              "      border-color: transparent;\n",
              "      border-bottom-color: var(--fill-color);\n",
              "    }\n",
              "  }\n",
              "</style>\n",
              "\n",
              "  <script>\n",
              "    async function quickchart(key) {\n",
              "      const quickchartButtonEl =\n",
              "        document.querySelector('#' + key + ' button');\n",
              "      quickchartButtonEl.disabled = true;  // To prevent multiple clicks.\n",
              "      quickchartButtonEl.classList.add('colab-df-spinner');\n",
              "      try {\n",
              "        const charts = await google.colab.kernel.invokeFunction(\n",
              "            'suggestCharts', [key], {});\n",
              "      } catch (error) {\n",
              "        console.error('Error during call to suggestCharts:', error);\n",
              "      }\n",
              "      quickchartButtonEl.classList.remove('colab-df-spinner');\n",
              "      quickchartButtonEl.classList.add('colab-df-quickchart-complete');\n",
              "    }\n",
              "    (() => {\n",
              "      let quickchartButtonEl =\n",
              "        document.querySelector('#df-1c015886-d11b-4d2f-814a-7980c026c530 button');\n",
              "      quickchartButtonEl.style.display =\n",
              "        google.colab.kernel.accessAllowed ? 'block' : 'none';\n",
              "    })();\n",
              "  </script>\n",
              "</div>\n",
              "\n",
              "    </div>\n",
              "  </div>\n"
            ],
            "application/vnd.google.colaboratory.intrinsic+json": {
              "type": "dataframe",
              "summary": "{\n  \"name\": \"corr_df\",\n  \"rows\": 10,\n  \"fields\": [\n    {\n      \"column\": \"correlation\",\n      \"properties\": {\n        \"dtype\": \"number\",\n        \"std\": 0.0806140302850002,\n        \"min\": 0.20287139015599784,\n        \"max\": 0.4296426288259055,\n        \"num_unique_values\": 10,\n        \"samples\": [\n          0.22719533258401486,\n          0.3902082711942955,\n          0.29083661759952556\n        ],\n        \"semantic_type\": \"\",\n        \"description\": \"\"\n      }\n    }\n  ]\n}"
            }
          },
          "metadata": {},
          "execution_count": 74
        }
      ]
    },
    {
      "cell_type": "code",
      "source": [
        "top_features = corr_df.index.tolist()\n",
        "top_features"
      ],
      "metadata": {
        "id": "473YTsmVkanl",
        "colab": {
          "base_uri": "https://localhost:8080/"
        },
        "outputId": "78979ec4-ebf3-47b2-b362-ae9438d4dc55"
      },
      "execution_count": 75,
      "outputs": [
        {
          "output_type": "execute_result",
          "data": {
            "text/plain": [
              "['cpi_pct_change9',\n",
              " 'cpi_pct_change12',\n",
              " 'rate_diff_lag3',\n",
              " 'cpi_pct_change6',\n",
              " 'cpi_diff_rolling_mean6',\n",
              " 'inflation_dev_lag3',\n",
              " 'rate_diff_lag6',\n",
              " 'cpi_diff_rolling_mean3',\n",
              " 'cpi_pct_change3',\n",
              " 'cpi_rolling_std6']"
            ]
          },
          "metadata": {},
          "execution_count": 75
        }
      ]
    },
    {
      "cell_type": "code",
      "source": [
        "ml_df_top = ml_df[['date'] + top_features + ['rate_change']]"
      ],
      "metadata": {
        "id": "rgzel-eokUag"
      },
      "execution_count": 76,
      "outputs": []
    },
    {
      "cell_type": "code",
      "source": [
        "ml_df_top.columns"
      ],
      "metadata": {
        "colab": {
          "base_uri": "https://localhost:8080/"
        },
        "id": "W-M_m4_n9hu2",
        "outputId": "d844ebb4-6b2c-4382-9236-d72f2d30417d"
      },
      "execution_count": 77,
      "outputs": [
        {
          "output_type": "execute_result",
          "data": {
            "text/plain": [
              "Index(['date', 'cpi_pct_change9', 'cpi_pct_change12', 'rate_diff_lag3',\n",
              "       'cpi_pct_change6', 'cpi_diff_rolling_mean6', 'inflation_dev_lag3',\n",
              "       'rate_diff_lag6', 'cpi_diff_rolling_mean3', 'cpi_pct_change3',\n",
              "       'cpi_rolling_std6', 'rate_change'],\n",
              "      dtype='object')"
            ]
          },
          "metadata": {},
          "execution_count": 77
        }
      ]
    },
    {
      "cell_type": "markdown",
      "source": [
        "#### Feature cross correlation"
      ],
      "metadata": {
        "id": "nFFJJVVdKYee"
      }
    },
    {
      "cell_type": "markdown",
      "source": [
        "For the next step in feature selection, I found the cross-correlation between each of the features in order to identify potential multicollinearity. I sorted the top features alphabetically so they'd group together, making some patterns more apparent."
      ],
      "metadata": {
        "id": "fevKXee3_qzO"
      }
    },
    {
      "cell_type": "code",
      "source": [
        "def create_heatmap(features):\n",
        "     # cross correlation\n",
        "     corr_matrix = ml_df_top[features].corr().abs()\n",
        "\n",
        "     sorted_cols = sorted(corr_matrix.columns)\n",
        "     corr_matrix = corr_matrix[sorted_cols]\n",
        "     corr_matrix = corr_matrix.loc[sorted_cols]\n",
        "\n",
        "     # plot\n",
        "     plt.figure(figsize=(12, 10))\n",
        "     sns.heatmap(corr_matrix, annot=True, cmap='coolwarm', fmt=\".2f\")\n",
        "     plt.title('Correlation Plot of Top Features')\n",
        "     plt.show()"
      ],
      "metadata": {
        "id": "pUTMZsU5Duty"
      },
      "execution_count": 78,
      "outputs": []
    },
    {
      "cell_type": "code",
      "source": [
        "# copied from above\n",
        "top_features = ['cpi_pct_change9',\n",
        "                #'cpi_pct_change12',\n",
        "                'rate_diff_lag3',\n",
        "                #'cpi_pct_change6',\n",
        "                #'cpi_diff_rolling_mean6',\n",
        "                'inflation_dev_lag3',\n",
        "                'rate_diff_lag6',\n",
        "                #'cpi_diff_rolling_mean3',\n",
        "                'cpi_pct_change3',\n",
        "                #'cpi_rolling_std6' #multicollinearity, lower corr\n",
        "                ]"
      ],
      "metadata": {
        "id": "tJthrmWICCRQ"
      },
      "execution_count": 79,
      "outputs": []
    },
    {
      "cell_type": "code",
      "source": [
        "# plot heat map\n",
        "create_heatmap(top_features)"
      ],
      "metadata": {
        "colab": {
          "base_uri": "https://localhost:8080/",
          "height": 853
        },
        "id": "NrO39hQOD8Ly",
        "outputId": "e1107f3d-18dd-4c82-c560-31ba66c6693c"
      },
      "execution_count": 80,
      "outputs": [
        {
          "output_type": "display_data",
          "data": {
            "text/plain": [
              "<Figure size 1200x1000 with 2 Axes>"
            ],
            "image/png": "[encoded data removed]"
          },
          "metadata": {}
        }
      ]
    },
    {
      "cell_type": "code",
      "source": [
        "ml_df_top = ml_df_top.loc[:, ['date'] + top_features + ['rate_change']]"
      ],
      "metadata": {
        "id": "hU0Fwx8xHUx7"
      },
      "execution_count": 81,
      "outputs": []
    },
    {
      "cell_type": "markdown",
      "source": [
        "### Model selection"
      ],
      "metadata": {
        "id": "XuyYLFMUM2gF"
      }
    },
    {
      "cell_type": "code",
      "source": [
        "# timeseries split\n",
        "tscv = TimeSeriesSplit(n_splits = 5)"
      ],
      "metadata": {
        "id": "q9L4xh6_OCPc"
      },
      "execution_count": 82,
      "outputs": []
    },
    {
      "cell_type": "code",
      "source": [
        "# features, target\n",
        "X = ml_df_top[top_features]\n",
        "y = ml_df_top['rate_change']\n",
        "\n",
        "# models to try\n",
        "models = {'logistic regression': LogisticRegression(multi_class = 'multinomial',\n",
        "                                                         solver = 'lbfgs',\n",
        "                                                         max_iter = 1000,\n",
        "                                                         class_weight = 'balanced'),\n",
        "          'random forest': RandomForestClassifier(n_estimators = 10,\n",
        "                                                  class_weight = 'balanced',\n",
        "                                                  random_state = 5506),\n",
        "          'xg boost': XGBClassifier(use_label_encoder = False,\n",
        "                             eval_metric = 'mlogloss'),\n",
        "          'cat boost': CatBoostClassifier(verbose = 0)}"
      ],
      "metadata": {
        "id": "cqUYS4MqOcJI"
      },
      "execution_count": 84,
      "outputs": []
    },
    {
      "cell_type": "code",
      "source": [
        "# store results\n",
        "cv_results = {}\n",
        "\n",
        "# loop through cv folds\n",
        "for train_index, test_index in tscv.split(X):\n",
        "\n",
        "    # train test data\n",
        "    X_train, X_test = X.iloc[train_index], X.iloc[test_index]\n",
        "    y_train, y_test = y.iloc[train_index], y.iloc[test_index]\n",
        "\n",
        "    # smote for class imbalance\n",
        "    smote = SMOTE(k_neighbors = min(5, y_train.value_counts().min() - 1),\n",
        "                  random_state = 5506)\n",
        "    X_train_resampled, y_train_resampled = smote.fit_resample(X_train, y_train)\n",
        "\n",
        "    # labels encoded\n",
        "    encoder = LabelEncoder()\n",
        "    y_train_resampled = encoder.fit_transform(y_train_resampled)\n",
        "    y_test = encoder.transform(y_test)\n",
        "\n",
        "    # scale\n",
        "    scaler = StandardScaler()\n",
        "    X_train_scaled = scaler.fit_transform(X_train_resampled)\n",
        "    X_test_scaled = scaler.transform(X_test)\n",
        "\n",
        "    # models\n",
        "    for model_name, model in models.items():\n",
        "\n",
        "        # fit\n",
        "        model.fit(X_train_scaled, y_train_resampled)\n",
        "\n",
        "        # pred\n",
        "        y_pred = model.predict(X_test_scaled)\n",
        "\n",
        "        # eval\n",
        "        accuracy = accuracy_score(y_test, y_pred)\n",
        "\n",
        "        # store results\n",
        "        if model_name not in cv_results:\n",
        "            cv_results[model_name] = []\n",
        "        cv_results[model_name].append(accuracy)\n",
        "\n",
        "# avg accuracy\n",
        "for model_name, accuracies in cv_results.items():\n",
        "    avg_accuracy = np.mean(accuracies)\n",
        "    print(f'model: {model_name}, avg acccuracy: {avg_accuracy:.4f}')\n",
        "\n",
        "# best model\n",
        "best_model = max(cv_results,\n",
        "                 key = lambda k: np.mean(cv_results[k]))\n",
        "print(f'\\nbest model: {best_model}, Average Accuracy: {np.mean(cv_results[best_model]):.4f}')"
      ],
      "metadata": {
        "colab": {
          "base_uri": "https://localhost:8080/"
        },
        "id": "w979bGbON8PB",
        "outputId": "460e08f1-493d-41d3-8b62-ed5551a2ebb6"
      },
      "execution_count": 88,
      "outputs": [
        {
          "output_type": "stream",
          "name": "stderr",
          "text": [
            "/usr/local/lib/python3.11/dist-packages/sklearn/base.py:493: FutureWarning: `BaseEstimator._check_feature_names` is deprecated in 1.6 and will be removed in 1.7. Use `sklearn.utils.validation._check_feature_names` instead.\n",
            "  warnings.warn(\n",
            "/usr/local/lib/python3.11/dist-packages/sklearn/base.py:493: FutureWarning: `BaseEstimator._check_feature_names` is deprecated in 1.6 and will be removed in 1.7. Use `sklearn.utils.validation._check_feature_names` instead.\n",
            "  warnings.warn(\n",
            "/usr/local/lib/python3.11/dist-packages/sklearn/base.py:493: FutureWarning: `BaseEstimator._check_feature_names` is deprecated in 1.6 and will be removed in 1.7. Use `sklearn.utils.validation._check_feature_names` instead.\n",
            "  warnings.warn(\n",
            "/usr/local/lib/python3.11/dist-packages/sklearn/base.py:493: FutureWarning: `BaseEstimator._check_feature_names` is deprecated in 1.6 and will be removed in 1.7. Use `sklearn.utils.validation._check_feature_names` instead.\n",
            "  warnings.warn(\n",
            "/usr/local/lib/python3.11/dist-packages/sklearn/linear_model/_logistic.py:1247: FutureWarning: 'multi_class' was deprecated in version 1.5 and will be removed in 1.7. From then on, it will always use 'multinomial'. Leave it to its default value to avoid this warning.\n",
            "  warnings.warn(\n",
            "/usr/local/lib/python3.11/dist-packages/sklearn/base.py:493: FutureWarning: `BaseEstimator._check_feature_names` is deprecated in 1.6 and will be removed in 1.7. Use `sklearn.utils.validation._check_feature_names` instead.\n",
            "  warnings.warn(\n",
            "/usr/local/lib/python3.11/dist-packages/xgboost/core.py:158: UserWarning: [03:01:47] WARNING: /workspace/src/learner.cc:740: \n",
            "Parameters: { \"use_label_encoder\" } are not used.\n",
            "\n",
            "  warnings.warn(smsg, UserWarning)\n",
            "/usr/local/lib/python3.11/dist-packages/sklearn/base.py:493: FutureWarning: `BaseEstimator._check_feature_names` is deprecated in 1.6 and will be removed in 1.7. Use `sklearn.utils.validation._check_feature_names` instead.\n",
            "  warnings.warn(\n",
            "/usr/local/lib/python3.11/dist-packages/sklearn/base.py:493: FutureWarning: `BaseEstimator._check_feature_names` is deprecated in 1.6 and will be removed in 1.7. Use `sklearn.utils.validation._check_feature_names` instead.\n",
            "  warnings.warn(\n",
            "/usr/local/lib/python3.11/dist-packages/sklearn/base.py:493: FutureWarning: `BaseEstimator._check_feature_names` is deprecated in 1.6 and will be removed in 1.7. Use `sklearn.utils.validation._check_feature_names` instead.\n",
            "  warnings.warn(\n",
            "/usr/local/lib/python3.11/dist-packages/sklearn/base.py:493: FutureWarning: `BaseEstimator._check_feature_names` is deprecated in 1.6 and will be removed in 1.7. Use `sklearn.utils.validation._check_feature_names` instead.\n",
            "  warnings.warn(\n",
            "/usr/local/lib/python3.11/dist-packages/sklearn/linear_model/_logistic.py:1247: FutureWarning: 'multi_class' was deprecated in version 1.5 and will be removed in 1.7. From then on, it will always use 'multinomial'. Leave it to its default value to avoid this warning.\n",
            "  warnings.warn(\n",
            "/usr/local/lib/python3.11/dist-packages/sklearn/base.py:493: FutureWarning: `BaseEstimator._check_feature_names` is deprecated in 1.6 and will be removed in 1.7. Use `sklearn.utils.validation._check_feature_names` instead.\n",
            "  warnings.warn(\n",
            "/usr/local/lib/python3.11/dist-packages/xgboost/core.py:158: UserWarning: [03:01:48] WARNING: /workspace/src/learner.cc:740: \n",
            "Parameters: { \"use_label_encoder\" } are not used.\n",
            "\n",
            "  warnings.warn(smsg, UserWarning)\n",
            "/usr/local/lib/python3.11/dist-packages/sklearn/base.py:493: FutureWarning: `BaseEstimator._check_feature_names` is deprecated in 1.6 and will be removed in 1.7. Use `sklearn.utils.validation._check_feature_names` instead.\n",
            "  warnings.warn(\n",
            "/usr/local/lib/python3.11/dist-packages/sklearn/base.py:493: FutureWarning: `BaseEstimator._check_feature_names` is deprecated in 1.6 and will be removed in 1.7. Use `sklearn.utils.validation._check_feature_names` instead.\n",
            "  warnings.warn(\n",
            "/usr/local/lib/python3.11/dist-packages/sklearn/base.py:493: FutureWarning: `BaseEstimator._check_feature_names` is deprecated in 1.6 and will be removed in 1.7. Use `sklearn.utils.validation._check_feature_names` instead.\n",
            "  warnings.warn(\n",
            "/usr/local/lib/python3.11/dist-packages/sklearn/base.py:493: FutureWarning: `BaseEstimator._check_feature_names` is deprecated in 1.6 and will be removed in 1.7. Use `sklearn.utils.validation._check_feature_names` instead.\n",
            "  warnings.warn(\n",
            "/usr/local/lib/python3.11/dist-packages/sklearn/linear_model/_logistic.py:1247: FutureWarning: 'multi_class' was deprecated in version 1.5 and will be removed in 1.7. From then on, it will always use 'multinomial'. Leave it to its default value to avoid this warning.\n",
            "  warnings.warn(\n",
            "/usr/local/lib/python3.11/dist-packages/sklearn/base.py:493: FutureWarning: `BaseEstimator._check_feature_names` is deprecated in 1.6 and will be removed in 1.7. Use `sklearn.utils.validation._check_feature_names` instead.\n",
            "  warnings.warn(\n",
            "/usr/local/lib/python3.11/dist-packages/xgboost/core.py:158: UserWarning: [03:01:50] WARNING: /workspace/src/learner.cc:740: \n",
            "Parameters: { \"use_label_encoder\" } are not used.\n",
            "\n",
            "  warnings.warn(smsg, UserWarning)\n",
            "/usr/local/lib/python3.11/dist-packages/sklearn/base.py:493: FutureWarning: `BaseEstimator._check_feature_names` is deprecated in 1.6 and will be removed in 1.7. Use `sklearn.utils.validation._check_feature_names` instead.\n",
            "  warnings.warn(\n",
            "/usr/local/lib/python3.11/dist-packages/sklearn/base.py:493: FutureWarning: `BaseEstimator._check_feature_names` is deprecated in 1.6 and will be removed in 1.7. Use `sklearn.utils.validation._check_feature_names` instead.\n",
            "  warnings.warn(\n",
            "/usr/local/lib/python3.11/dist-packages/sklearn/base.py:493: FutureWarning: `BaseEstimator._check_feature_names` is deprecated in 1.6 and will be removed in 1.7. Use `sklearn.utils.validation._check_feature_names` instead.\n",
            "  warnings.warn(\n",
            "/usr/local/lib/python3.11/dist-packages/sklearn/base.py:493: FutureWarning: `BaseEstimator._check_feature_names` is deprecated in 1.6 and will be removed in 1.7. Use `sklearn.utils.validation._check_feature_names` instead.\n",
            "  warnings.warn(\n",
            "/usr/local/lib/python3.11/dist-packages/sklearn/linear_model/_logistic.py:1247: FutureWarning: 'multi_class' was deprecated in version 1.5 and will be removed in 1.7. From then on, it will always use 'multinomial'. Leave it to its default value to avoid this warning.\n",
            "  warnings.warn(\n",
            "/usr/local/lib/python3.11/dist-packages/sklearn/base.py:493: FutureWarning: `BaseEstimator._check_feature_names` is deprecated in 1.6 and will be removed in 1.7. Use `sklearn.utils.validation._check_feature_names` instead.\n",
            "  warnings.warn(\n",
            "/usr/local/lib/python3.11/dist-packages/xgboost/core.py:158: UserWarning: [03:01:52] WARNING: /workspace/src/learner.cc:740: \n",
            "Parameters: { \"use_label_encoder\" } are not used.\n",
            "\n",
            "  warnings.warn(smsg, UserWarning)\n",
            "/usr/local/lib/python3.11/dist-packages/sklearn/base.py:493: FutureWarning: `BaseEstimator._check_feature_names` is deprecated in 1.6 and will be removed in 1.7. Use `sklearn.utils.validation._check_feature_names` instead.\n",
            "  warnings.warn(\n",
            "/usr/local/lib/python3.11/dist-packages/sklearn/base.py:493: FutureWarning: `BaseEstimator._check_feature_names` is deprecated in 1.6 and will be removed in 1.7. Use `sklearn.utils.validation._check_feature_names` instead.\n",
            "  warnings.warn(\n",
            "/usr/local/lib/python3.11/dist-packages/sklearn/base.py:493: FutureWarning: `BaseEstimator._check_feature_names` is deprecated in 1.6 and will be removed in 1.7. Use `sklearn.utils.validation._check_feature_names` instead.\n",
            "  warnings.warn(\n",
            "/usr/local/lib/python3.11/dist-packages/sklearn/base.py:493: FutureWarning: `BaseEstimator._check_feature_names` is deprecated in 1.6 and will be removed in 1.7. Use `sklearn.utils.validation._check_feature_names` instead.\n",
            "  warnings.warn(\n",
            "/usr/local/lib/python3.11/dist-packages/sklearn/linear_model/_logistic.py:1247: FutureWarning: 'multi_class' was deprecated in version 1.5 and will be removed in 1.7. From then on, it will always use 'multinomial'. Leave it to its default value to avoid this warning.\n",
            "  warnings.warn(\n",
            "/usr/local/lib/python3.11/dist-packages/sklearn/base.py:493: FutureWarning: `BaseEstimator._check_feature_names` is deprecated in 1.6 and will be removed in 1.7. Use `sklearn.utils.validation._check_feature_names` instead.\n",
            "  warnings.warn(\n",
            "/usr/local/lib/python3.11/dist-packages/xgboost/core.py:158: UserWarning: [03:01:55] WARNING: /workspace/src/learner.cc:740: \n",
            "Parameters: { \"use_label_encoder\" } are not used.\n",
            "\n",
            "  warnings.warn(smsg, UserWarning)\n"
          ]
        },
        {
          "output_type": "stream",
          "name": "stdout",
          "text": [
            "model: logistic regression, avg acccuracy: 0.4621\n",
            "model: random forest, avg acccuracy: 0.5103\n",
            "model: xg boost, avg acccuracy: 0.5379\n",
            "model: cat boost, avg acccuracy: 0.5310\n",
            "\n",
            "best model: xg boost, Average Accuracy: 0.5379\n"
          ]
        }
      ]
    },
    {
      "cell_type": "markdown",
      "source": [
        "Given the results above, XGBoost has the best initial performance"
      ],
      "metadata": {
        "id": "yMKQWKxyYLxJ"
      }
    },
    {
      "cell_type": "markdown",
      "source": [
        "### Hyperparameter tuning"
      ],
      "metadata": {
        "id": "15QsQmOQSkIT"
      }
    },
    {
      "cell_type": "code",
      "source": [
        "# outer and inner loops to avoid data leakage and overfitting.\n",
        "outer_cv = TimeSeriesSplit(n_splits = 5)\n",
        "inner_cv = TimeSeriesSplit(n_splits = 5)\n",
        "\n",
        "# outer loop for model selection\n",
        "for train_index, test_index in outer_cv.split(X):\n",
        "    X_train_outer, X_test_outer = X.iloc[train_index], X.iloc[test_index]\n",
        "    y_train_outer, y_test_outer = y.iloc[train_index], y.iloc[test_index]\n",
        "\n",
        "    # inner loop for hyperparameter tuning\n",
        "    for train_index_inner, val_index_inner in inner_cv.split(X_train_outer):\n",
        "        X_train_inner, X_val_inner = X_train_outer.iloc[train_index_inner], X_train_outer.iloc[val_index_inner]\n",
        "        y_train_inner, y_val_inner = y_train_outer.iloc[train_index_inner], y_train_outer.iloc[val_index_inner]\n",
        "\n",
        "        # smote resampling inner training data\n",
        "        smote = SMOTE(k_neighbors = min(5, y_train_inner.value_counts().min() - 1),\n",
        "                      random_state = 5506)\n",
        "        X_train_resampled_inner, y_train_resampled_inner = smote.fit_resample(X_train_inner, y_train_inner)\n",
        "\n",
        "        # scale inner training data\n",
        "        scaler = StandardScaler()\n",
        "        X_train_scaled_inner = scaler.fit_transform(X_train_resampled_inner)\n",
        "        X_val_scaled_inner = scaler.transform(X_val_inner)\n",
        "\n",
        "        # hyperparameter grid\n",
        "        param_grid = {\n",
        "                      'learning_rate': [0.17, 0.18, 0.19],\n",
        "                      'max_depth': [7, 8, 9],\n",
        "                      'n_estimators': [95, 100, 105],\n",
        "                      'subsample': [1.0],\n",
        "                      'colsample_bytree': [0.79, 0.80,0.81],\n",
        "                      }\n",
        "\n",
        "        # init time series split\n",
        "        tscv = TimeSeriesSplit(n_splits=5)\n",
        "\n",
        "        # model\n",
        "        xgb_model = XGBClassifier(use_label_encoder = False,\n",
        "                                  eval_metric = 'mlogloss')\n",
        "\n",
        "        # grid search\n",
        "        grid_search = GridSearchCV(\n",
        "        estimator = xgb_model,\n",
        "        param_grid = param_grid,\n",
        "        scoring = 'accuracy',\n",
        "        cv = tscv,\n",
        "        n_jobs = -1,\n",
        "        )\n",
        "\n",
        "        # fita\n",
        "        grid_search.fit(X_train_scaled, y_train_resampled)\n",
        "\n",
        "        # best hyperparameters, eval\n",
        "        print('best hyperparameters:', grid_search.best_params_)\n",
        "        print('best score:', grid_search.best_score_)\n",
        "\n",
        "        # best model\n",
        "        best_xgb_model = grid_search.best_estimator_\n",
        "\n",
        "        # best model for predictions\n",
        "        y_pred = best_xgb_model.predict(X_test_scaled)\n"
      ],
      "metadata": {
        "id": "rvpxzQ3HX6vb",
        "outputId": "ed5a68ed-8600-466a-8682-3e53854cdf2a",
        "colab": {
          "base_uri": "https://localhost:8080/"
        }
      },
      "execution_count": 93,
      "outputs": [
        {
          "output_type": "stream",
          "name": "stderr",
          "text": [
            "/usr/local/lib/python3.11/dist-packages/sklearn/base.py:493: FutureWarning: `BaseEstimator._check_feature_names` is deprecated in 1.6 and will be removed in 1.7. Use `sklearn.utils.validation._check_feature_names` instead.\n",
            "  warnings.warn(\n",
            "/usr/local/lib/python3.11/dist-packages/sklearn/base.py:493: FutureWarning: `BaseEstimator._check_feature_names` is deprecated in 1.6 and will be removed in 1.7. Use `sklearn.utils.validation._check_feature_names` instead.\n",
            "  warnings.warn(\n",
            "/usr/local/lib/python3.11/dist-packages/sklearn/base.py:493: FutureWarning: `BaseEstimator._check_feature_names` is deprecated in 1.6 and will be removed in 1.7. Use `sklearn.utils.validation._check_feature_names` instead.\n",
            "  warnings.warn(\n",
            "/usr/local/lib/python3.11/dist-packages/sklearn/base.py:493: FutureWarning: `BaseEstimator._check_feature_names` is deprecated in 1.6 and will be removed in 1.7. Use `sklearn.utils.validation._check_feature_names` instead.\n",
            "  warnings.warn(\n",
            "/usr/local/lib/python3.11/dist-packages/xgboost/core.py:158: UserWarning: [03:31:14] WARNING: /workspace/src/learner.cc:740: \n",
            "Parameters: { \"use_label_encoder\" } are not used.\n",
            "\n",
            "  warnings.warn(smsg, UserWarning)\n",
            "/usr/local/lib/python3.11/dist-packages/sklearn/base.py:493: FutureWarning: `BaseEstimator._check_feature_names` is deprecated in 1.6 and will be removed in 1.7. Use `sklearn.utils.validation._check_feature_names` instead.\n",
            "  warnings.warn(\n",
            "/usr/local/lib/python3.11/dist-packages/sklearn/base.py:493: FutureWarning: `BaseEstimator._check_feature_names` is deprecated in 1.6 and will be removed in 1.7. Use `sklearn.utils.validation._check_feature_names` instead.\n",
            "  warnings.warn(\n"
          ]
        },
        {
          "output_type": "stream",
          "name": "stdout",
          "text": [
            "best hyperparameters: {'colsample_bytree': 0.8, 'learning_rate': 0.18, 'max_depth': 8, 'n_estimators': 100, 'subsample': 1.0}\n",
            "best score: 0.7345454545454546\n"
          ]
        },
        {
          "output_type": "stream",
          "name": "stderr",
          "text": [
            "/usr/local/lib/python3.11/dist-packages/xgboost/core.py:158: UserWarning: [03:31:43] WARNING: /workspace/src/learner.cc:740: \n",
            "Parameters: { \"use_label_encoder\" } are not used.\n",
            "\n",
            "  warnings.warn(smsg, UserWarning)\n",
            "/usr/local/lib/python3.11/dist-packages/sklearn/base.py:493: FutureWarning: `BaseEstimator._check_feature_names` is deprecated in 1.6 and will be removed in 1.7. Use `sklearn.utils.validation._check_feature_names` instead.\n",
            "  warnings.warn(\n",
            "/usr/local/lib/python3.11/dist-packages/sklearn/base.py:493: FutureWarning: `BaseEstimator._check_feature_names` is deprecated in 1.6 and will be removed in 1.7. Use `sklearn.utils.validation._check_feature_names` instead.\n",
            "  warnings.warn(\n",
            "/usr/local/lib/python3.11/dist-packages/sklearn/base.py:493: FutureWarning: `BaseEstimator._check_feature_names` is deprecated in 1.6 and will be removed in 1.7. Use `sklearn.utils.validation._check_feature_names` instead.\n",
            "  warnings.warn(\n",
            "/usr/local/lib/python3.11/dist-packages/sklearn/base.py:493: FutureWarning: `BaseEstimator._check_feature_names` is deprecated in 1.6 and will be removed in 1.7. Use `sklearn.utils.validation._check_feature_names` instead.\n",
            "  warnings.warn(\n"
          ]
        },
        {
          "output_type": "stream",
          "name": "stdout",
          "text": [
            "best hyperparameters: {'colsample_bytree': 0.8, 'learning_rate': 0.18, 'max_depth': 8, 'n_estimators': 100, 'subsample': 1.0}\n",
            "best score: 0.7345454545454546\n"
          ]
        },
        {
          "output_type": "stream",
          "name": "stderr",
          "text": [
            "/usr/local/lib/python3.11/dist-packages/xgboost/core.py:158: UserWarning: [03:32:13] WARNING: /workspace/src/learner.cc:740: \n",
            "Parameters: { \"use_label_encoder\" } are not used.\n",
            "\n",
            "  warnings.warn(smsg, UserWarning)\n",
            "/usr/local/lib/python3.11/dist-packages/sklearn/base.py:493: FutureWarning: `BaseEstimator._check_feature_names` is deprecated in 1.6 and will be removed in 1.7. Use `sklearn.utils.validation._check_feature_names` instead.\n",
            "  warnings.warn(\n",
            "/usr/local/lib/python3.11/dist-packages/sklearn/base.py:493: FutureWarning: `BaseEstimator._check_feature_names` is deprecated in 1.6 and will be removed in 1.7. Use `sklearn.utils.validation._check_feature_names` instead.\n",
            "  warnings.warn(\n",
            "/usr/local/lib/python3.11/dist-packages/sklearn/base.py:493: FutureWarning: `BaseEstimator._check_feature_names` is deprecated in 1.6 and will be removed in 1.7. Use `sklearn.utils.validation._check_feature_names` instead.\n",
            "  warnings.warn(\n",
            "/usr/local/lib/python3.11/dist-packages/sklearn/base.py:493: FutureWarning: `BaseEstimator._check_feature_names` is deprecated in 1.6 and will be removed in 1.7. Use `sklearn.utils.validation._check_feature_names` instead.\n",
            "  warnings.warn(\n"
          ]
        },
        {
          "output_type": "stream",
          "name": "stdout",
          "text": [
            "best hyperparameters: {'colsample_bytree': 0.8, 'learning_rate': 0.18, 'max_depth': 8, 'n_estimators': 100, 'subsample': 1.0}\n",
            "best score: 0.7345454545454546\n"
          ]
        },
        {
          "output_type": "stream",
          "name": "stderr",
          "text": [
            "/usr/local/lib/python3.11/dist-packages/xgboost/core.py:158: UserWarning: [03:32:53] WARNING: /workspace/src/learner.cc:740: \n",
            "Parameters: { \"use_label_encoder\" } are not used.\n",
            "\n",
            "  warnings.warn(smsg, UserWarning)\n",
            "/usr/local/lib/python3.11/dist-packages/sklearn/base.py:493: FutureWarning: `BaseEstimator._check_feature_names` is deprecated in 1.6 and will be removed in 1.7. Use `sklearn.utils.validation._check_feature_names` instead.\n",
            "  warnings.warn(\n",
            "/usr/local/lib/python3.11/dist-packages/sklearn/base.py:493: FutureWarning: `BaseEstimator._check_feature_names` is deprecated in 1.6 and will be removed in 1.7. Use `sklearn.utils.validation._check_feature_names` instead.\n",
            "  warnings.warn(\n",
            "/usr/local/lib/python3.11/dist-packages/sklearn/base.py:493: FutureWarning: `BaseEstimator._check_feature_names` is deprecated in 1.6 and will be removed in 1.7. Use `sklearn.utils.validation._check_feature_names` instead.\n",
            "  warnings.warn(\n",
            "/usr/local/lib/python3.11/dist-packages/sklearn/base.py:493: FutureWarning: `BaseEstimator._check_feature_names` is deprecated in 1.6 and will be removed in 1.7. Use `sklearn.utils.validation._check_feature_names` instead.\n",
            "  warnings.warn(\n"
          ]
        },
        {
          "output_type": "stream",
          "name": "stdout",
          "text": [
            "best hyperparameters: {'colsample_bytree': 0.8, 'learning_rate': 0.18, 'max_depth': 8, 'n_estimators': 100, 'subsample': 1.0}\n",
            "best score: 0.7345454545454546\n"
          ]
        },
        {
          "output_type": "stream",
          "name": "stderr",
          "text": [
            "/usr/local/lib/python3.11/dist-packages/xgboost/core.py:158: UserWarning: [03:33:23] WARNING: /workspace/src/learner.cc:740: \n",
            "Parameters: { \"use_label_encoder\" } are not used.\n",
            "\n",
            "  warnings.warn(smsg, UserWarning)\n",
            "/usr/local/lib/python3.11/dist-packages/sklearn/base.py:493: FutureWarning: `BaseEstimator._check_feature_names` is deprecated in 1.6 and will be removed in 1.7. Use `sklearn.utils.validation._check_feature_names` instead.\n",
            "  warnings.warn(\n",
            "/usr/local/lib/python3.11/dist-packages/sklearn/base.py:493: FutureWarning: `BaseEstimator._check_feature_names` is deprecated in 1.6 and will be removed in 1.7. Use `sklearn.utils.validation._check_feature_names` instead.\n",
            "  warnings.warn(\n",
            "/usr/local/lib/python3.11/dist-packages/sklearn/base.py:493: FutureWarning: `BaseEstimator._check_feature_names` is deprecated in 1.6 and will be removed in 1.7. Use `sklearn.utils.validation._check_feature_names` instead.\n",
            "  warnings.warn(\n",
            "/usr/local/lib/python3.11/dist-packages/sklearn/base.py:493: FutureWarning: `BaseEstimator._check_feature_names` is deprecated in 1.6 and will be removed in 1.7. Use `sklearn.utils.validation._check_feature_names` instead.\n",
            "  warnings.warn(\n"
          ]
        },
        {
          "output_type": "stream",
          "name": "stdout",
          "text": [
            "best hyperparameters: {'colsample_bytree': 0.8, 'learning_rate': 0.18, 'max_depth': 8, 'n_estimators': 100, 'subsample': 1.0}\n",
            "best score: 0.7345454545454546\n"
          ]
        },
        {
          "output_type": "stream",
          "name": "stderr",
          "text": [
            "/usr/local/lib/python3.11/dist-packages/xgboost/core.py:158: UserWarning: [03:33:54] WARNING: /workspace/src/learner.cc:740: \n",
            "Parameters: { \"use_label_encoder\" } are not used.\n",
            "\n",
            "  warnings.warn(smsg, UserWarning)\n"
          ]
        },
        {
          "output_type": "stream",
          "name": "stdout",
          "text": [
            "best hyperparameters: {'colsample_bytree': 0.8, 'learning_rate': 0.18, 'max_depth': 8, 'n_estimators': 100, 'subsample': 1.0}\n",
            "best score: 0.7345454545454546\n"
          ]
        },
        {
          "output_type": "stream",
          "name": "stderr",
          "text": [
            "/usr/local/lib/python3.11/dist-packages/sklearn/base.py:493: FutureWarning: `BaseEstimator._check_feature_names` is deprecated in 1.6 and will be removed in 1.7. Use `sklearn.utils.validation._check_feature_names` instead.\n",
            "  warnings.warn(\n",
            "/usr/local/lib/python3.11/dist-packages/sklearn/base.py:493: FutureWarning: `BaseEstimator._check_feature_names` is deprecated in 1.6 and will be removed in 1.7. Use `sklearn.utils.validation._check_feature_names` instead.\n",
            "  warnings.warn(\n",
            "/usr/local/lib/python3.11/dist-packages/sklearn/base.py:493: FutureWarning: `BaseEstimator._check_feature_names` is deprecated in 1.6 and will be removed in 1.7. Use `sklearn.utils.validation._check_feature_names` instead.\n",
            "  warnings.warn(\n",
            "/usr/local/lib/python3.11/dist-packages/sklearn/base.py:493: FutureWarning: `BaseEstimator._check_feature_names` is deprecated in 1.6 and will be removed in 1.7. Use `sklearn.utils.validation._check_feature_names` instead.\n",
            "  warnings.warn(\n",
            "/usr/local/lib/python3.11/dist-packages/xgboost/core.py:158: UserWarning: [03:34:36] WARNING: /workspace/src/learner.cc:740: \n",
            "Parameters: { \"use_label_encoder\" } are not used.\n",
            "\n",
            "  warnings.warn(smsg, UserWarning)\n",
            "/usr/local/lib/python3.11/dist-packages/sklearn/base.py:493: FutureWarning: `BaseEstimator._check_feature_names` is deprecated in 1.6 and will be removed in 1.7. Use `sklearn.utils.validation._check_feature_names` instead.\n",
            "  warnings.warn(\n",
            "/usr/local/lib/python3.11/dist-packages/sklearn/base.py:493: FutureWarning: `BaseEstimator._check_feature_names` is deprecated in 1.6 and will be removed in 1.7. Use `sklearn.utils.validation._check_feature_names` instead.\n",
            "  warnings.warn(\n",
            "/usr/local/lib/python3.11/dist-packages/sklearn/base.py:493: FutureWarning: `BaseEstimator._check_feature_names` is deprecated in 1.6 and will be removed in 1.7. Use `sklearn.utils.validation._check_feature_names` instead.\n",
            "  warnings.warn(\n",
            "/usr/local/lib/python3.11/dist-packages/sklearn/base.py:493: FutureWarning: `BaseEstimator._check_feature_names` is deprecated in 1.6 and will be removed in 1.7. Use `sklearn.utils.validation._check_feature_names` instead.\n",
            "  warnings.warn(\n"
          ]
        },
        {
          "output_type": "stream",
          "name": "stdout",
          "text": [
            "best hyperparameters: {'colsample_bytree': 0.8, 'learning_rate': 0.18, 'max_depth': 8, 'n_estimators': 100, 'subsample': 1.0}\n",
            "best score: 0.7345454545454546\n"
          ]
        },
        {
          "output_type": "stream",
          "name": "stderr",
          "text": [
            "/usr/local/lib/python3.11/dist-packages/xgboost/core.py:158: UserWarning: [03:35:06] WARNING: /workspace/src/learner.cc:740: \n",
            "Parameters: { \"use_label_encoder\" } are not used.\n",
            "\n",
            "  warnings.warn(smsg, UserWarning)\n",
            "/usr/local/lib/python3.11/dist-packages/sklearn/base.py:493: FutureWarning: `BaseEstimator._check_feature_names` is deprecated in 1.6 and will be removed in 1.7. Use `sklearn.utils.validation._check_feature_names` instead.\n",
            "  warnings.warn(\n",
            "/usr/local/lib/python3.11/dist-packages/sklearn/base.py:493: FutureWarning: `BaseEstimator._check_feature_names` is deprecated in 1.6 and will be removed in 1.7. Use `sklearn.utils.validation._check_feature_names` instead.\n",
            "  warnings.warn(\n",
            "/usr/local/lib/python3.11/dist-packages/sklearn/base.py:493: FutureWarning: `BaseEstimator._check_feature_names` is deprecated in 1.6 and will be removed in 1.7. Use `sklearn.utils.validation._check_feature_names` instead.\n",
            "  warnings.warn(\n",
            "/usr/local/lib/python3.11/dist-packages/sklearn/base.py:493: FutureWarning: `BaseEstimator._check_feature_names` is deprecated in 1.6 and will be removed in 1.7. Use `sklearn.utils.validation._check_feature_names` instead.\n",
            "  warnings.warn(\n"
          ]
        },
        {
          "output_type": "stream",
          "name": "stdout",
          "text": [
            "best hyperparameters: {'colsample_bytree': 0.8, 'learning_rate': 0.18, 'max_depth': 8, 'n_estimators': 100, 'subsample': 1.0}\n",
            "best score: 0.7345454545454546\n"
          ]
        },
        {
          "output_type": "stream",
          "name": "stderr",
          "text": [
            "/usr/local/lib/python3.11/dist-packages/xgboost/core.py:158: UserWarning: [03:35:36] WARNING: /workspace/src/learner.cc:740: \n",
            "Parameters: { \"use_label_encoder\" } are not used.\n",
            "\n",
            "  warnings.warn(smsg, UserWarning)\n",
            "/usr/local/lib/python3.11/dist-packages/sklearn/base.py:493: FutureWarning: `BaseEstimator._check_feature_names` is deprecated in 1.6 and will be removed in 1.7. Use `sklearn.utils.validation._check_feature_names` instead.\n",
            "  warnings.warn(\n",
            "/usr/local/lib/python3.11/dist-packages/sklearn/base.py:493: FutureWarning: `BaseEstimator._check_feature_names` is deprecated in 1.6 and will be removed in 1.7. Use `sklearn.utils.validation._check_feature_names` instead.\n",
            "  warnings.warn(\n",
            "/usr/local/lib/python3.11/dist-packages/sklearn/base.py:493: FutureWarning: `BaseEstimator._check_feature_names` is deprecated in 1.6 and will be removed in 1.7. Use `sklearn.utils.validation._check_feature_names` instead.\n",
            "  warnings.warn(\n",
            "/usr/local/lib/python3.11/dist-packages/sklearn/base.py:493: FutureWarning: `BaseEstimator._check_feature_names` is deprecated in 1.6 and will be removed in 1.7. Use `sklearn.utils.validation._check_feature_names` instead.\n",
            "  warnings.warn(\n"
          ]
        },
        {
          "output_type": "stream",
          "name": "stdout",
          "text": [
            "best hyperparameters: {'colsample_bytree': 0.8, 'learning_rate': 0.18, 'max_depth': 8, 'n_estimators': 100, 'subsample': 1.0}\n",
            "best score: 0.7345454545454546\n"
          ]
        },
        {
          "output_type": "stream",
          "name": "stderr",
          "text": [
            "/usr/local/lib/python3.11/dist-packages/xgboost/core.py:158: UserWarning: [03:36:06] WARNING: /workspace/src/learner.cc:740: \n",
            "Parameters: { \"use_label_encoder\" } are not used.\n",
            "\n",
            "  warnings.warn(smsg, UserWarning)\n",
            "/usr/local/lib/python3.11/dist-packages/sklearn/base.py:493: FutureWarning: `BaseEstimator._check_feature_names` is deprecated in 1.6 and will be removed in 1.7. Use `sklearn.utils.validation._check_feature_names` instead.\n",
            "  warnings.warn(\n",
            "/usr/local/lib/python3.11/dist-packages/sklearn/base.py:493: FutureWarning: `BaseEstimator._check_feature_names` is deprecated in 1.6 and will be removed in 1.7. Use `sklearn.utils.validation._check_feature_names` instead.\n",
            "  warnings.warn(\n",
            "/usr/local/lib/python3.11/dist-packages/sklearn/base.py:493: FutureWarning: `BaseEstimator._check_feature_names` is deprecated in 1.6 and will be removed in 1.7. Use `sklearn.utils.validation._check_feature_names` instead.\n",
            "  warnings.warn(\n",
            "/usr/local/lib/python3.11/dist-packages/sklearn/base.py:493: FutureWarning: `BaseEstimator._check_feature_names` is deprecated in 1.6 and will be removed in 1.7. Use `sklearn.utils.validation._check_feature_names` instead.\n",
            "  warnings.warn(\n"
          ]
        },
        {
          "output_type": "stream",
          "name": "stdout",
          "text": [
            "best hyperparameters: {'colsample_bytree': 0.8, 'learning_rate': 0.18, 'max_depth': 8, 'n_estimators': 100, 'subsample': 1.0}\n",
            "best score: 0.7345454545454546\n"
          ]
        },
        {
          "output_type": "stream",
          "name": "stderr",
          "text": [
            "/usr/local/lib/python3.11/dist-packages/xgboost/core.py:158: UserWarning: [03:36:36] WARNING: /workspace/src/learner.cc:740: \n",
            "Parameters: { \"use_label_encoder\" } are not used.\n",
            "\n",
            "  warnings.warn(smsg, UserWarning)\n"
          ]
        },
        {
          "output_type": "stream",
          "name": "stdout",
          "text": [
            "best hyperparameters: {'colsample_bytree': 0.8, 'learning_rate': 0.18, 'max_depth': 8, 'n_estimators': 100, 'subsample': 1.0}\n",
            "best score: 0.7345454545454546\n"
          ]
        },
        {
          "output_type": "stream",
          "name": "stderr",
          "text": [
            "/usr/local/lib/python3.11/dist-packages/sklearn/base.py:493: FutureWarning: `BaseEstimator._check_feature_names` is deprecated in 1.6 and will be removed in 1.7. Use `sklearn.utils.validation._check_feature_names` instead.\n",
            "  warnings.warn(\n",
            "/usr/local/lib/python3.11/dist-packages/sklearn/base.py:493: FutureWarning: `BaseEstimator._check_feature_names` is deprecated in 1.6 and will be removed in 1.7. Use `sklearn.utils.validation._check_feature_names` instead.\n",
            "  warnings.warn(\n",
            "/usr/local/lib/python3.11/dist-packages/sklearn/base.py:493: FutureWarning: `BaseEstimator._check_feature_names` is deprecated in 1.6 and will be removed in 1.7. Use `sklearn.utils.validation._check_feature_names` instead.\n",
            "  warnings.warn(\n",
            "/usr/local/lib/python3.11/dist-packages/sklearn/base.py:493: FutureWarning: `BaseEstimator._check_feature_names` is deprecated in 1.6 and will be removed in 1.7. Use `sklearn.utils.validation._check_feature_names` instead.\n",
            "  warnings.warn(\n",
            "/usr/local/lib/python3.11/dist-packages/xgboost/core.py:158: UserWarning: [03:37:07] WARNING: /workspace/src/learner.cc:740: \n",
            "Parameters: { \"use_label_encoder\" } are not used.\n",
            "\n",
            "  warnings.warn(smsg, UserWarning)\n",
            "/usr/local/lib/python3.11/dist-packages/sklearn/base.py:493: FutureWarning: `BaseEstimator._check_feature_names` is deprecated in 1.6 and will be removed in 1.7. Use `sklearn.utils.validation._check_feature_names` instead.\n",
            "  warnings.warn(\n",
            "/usr/local/lib/python3.11/dist-packages/sklearn/base.py:493: FutureWarning: `BaseEstimator._check_feature_names` is deprecated in 1.6 and will be removed in 1.7. Use `sklearn.utils.validation._check_feature_names` instead.\n",
            "  warnings.warn(\n",
            "/usr/local/lib/python3.11/dist-packages/sklearn/base.py:493: FutureWarning: `BaseEstimator._check_feature_names` is deprecated in 1.6 and will be removed in 1.7. Use `sklearn.utils.validation._check_feature_names` instead.\n",
            "  warnings.warn(\n",
            "/usr/local/lib/python3.11/dist-packages/sklearn/base.py:493: FutureWarning: `BaseEstimator._check_feature_names` is deprecated in 1.6 and will be removed in 1.7. Use `sklearn.utils.validation._check_feature_names` instead.\n",
            "  warnings.warn(\n"
          ]
        },
        {
          "output_type": "stream",
          "name": "stdout",
          "text": [
            "best hyperparameters: {'colsample_bytree': 0.8, 'learning_rate': 0.18, 'max_depth': 8, 'n_estimators': 100, 'subsample': 1.0}\n",
            "best score: 0.7345454545454546\n"
          ]
        },
        {
          "output_type": "stream",
          "name": "stderr",
          "text": [
            "/usr/local/lib/python3.11/dist-packages/xgboost/core.py:158: UserWarning: [03:37:37] WARNING: /workspace/src/learner.cc:740: \n",
            "Parameters: { \"use_label_encoder\" } are not used.\n",
            "\n",
            "  warnings.warn(smsg, UserWarning)\n",
            "/usr/local/lib/python3.11/dist-packages/sklearn/base.py:493: FutureWarning: `BaseEstimator._check_feature_names` is deprecated in 1.6 and will be removed in 1.7. Use `sklearn.utils.validation._check_feature_names` instead.\n",
            "  warnings.warn(\n",
            "/usr/local/lib/python3.11/dist-packages/sklearn/base.py:493: FutureWarning: `BaseEstimator._check_feature_names` is deprecated in 1.6 and will be removed in 1.7. Use `sklearn.utils.validation._check_feature_names` instead.\n",
            "  warnings.warn(\n",
            "/usr/local/lib/python3.11/dist-packages/sklearn/base.py:493: FutureWarning: `BaseEstimator._check_feature_names` is deprecated in 1.6 and will be removed in 1.7. Use `sklearn.utils.validation._check_feature_names` instead.\n",
            "  warnings.warn(\n",
            "/usr/local/lib/python3.11/dist-packages/sklearn/base.py:493: FutureWarning: `BaseEstimator._check_feature_names` is deprecated in 1.6 and will be removed in 1.7. Use `sklearn.utils.validation._check_feature_names` instead.\n",
            "  warnings.warn(\n"
          ]
        },
        {
          "output_type": "stream",
          "name": "stdout",
          "text": [
            "best hyperparameters: {'colsample_bytree': 0.8, 'learning_rate': 0.18, 'max_depth': 8, 'n_estimators': 100, 'subsample': 1.0}\n",
            "best score: 0.7345454545454546\n"
          ]
        },
        {
          "output_type": "stream",
          "name": "stderr",
          "text": [
            "/usr/local/lib/python3.11/dist-packages/xgboost/core.py:158: UserWarning: [03:38:07] WARNING: /workspace/src/learner.cc:740: \n",
            "Parameters: { \"use_label_encoder\" } are not used.\n",
            "\n",
            "  warnings.warn(smsg, UserWarning)\n",
            "/usr/local/lib/python3.11/dist-packages/sklearn/base.py:493: FutureWarning: `BaseEstimator._check_feature_names` is deprecated in 1.6 and will be removed in 1.7. Use `sklearn.utils.validation._check_feature_names` instead.\n",
            "  warnings.warn(\n",
            "/usr/local/lib/python3.11/dist-packages/sklearn/base.py:493: FutureWarning: `BaseEstimator._check_feature_names` is deprecated in 1.6 and will be removed in 1.7. Use `sklearn.utils.validation._check_feature_names` instead.\n",
            "  warnings.warn(\n",
            "/usr/local/lib/python3.11/dist-packages/sklearn/base.py:493: FutureWarning: `BaseEstimator._check_feature_names` is deprecated in 1.6 and will be removed in 1.7. Use `sklearn.utils.validation._check_feature_names` instead.\n",
            "  warnings.warn(\n",
            "/usr/local/lib/python3.11/dist-packages/sklearn/base.py:493: FutureWarning: `BaseEstimator._check_feature_names` is deprecated in 1.6 and will be removed in 1.7. Use `sklearn.utils.validation._check_feature_names` instead.\n",
            "  warnings.warn(\n"
          ]
        },
        {
          "output_type": "stream",
          "name": "stdout",
          "text": [
            "best hyperparameters: {'colsample_bytree': 0.8, 'learning_rate': 0.18, 'max_depth': 8, 'n_estimators': 100, 'subsample': 1.0}\n",
            "best score: 0.7345454545454546\n"
          ]
        },
        {
          "output_type": "stream",
          "name": "stderr",
          "text": [
            "/usr/local/lib/python3.11/dist-packages/xgboost/core.py:158: UserWarning: [03:38:37] WARNING: /workspace/src/learner.cc:740: \n",
            "Parameters: { \"use_label_encoder\" } are not used.\n",
            "\n",
            "  warnings.warn(smsg, UserWarning)\n",
            "/usr/local/lib/python3.11/dist-packages/sklearn/base.py:493: FutureWarning: `BaseEstimator._check_feature_names` is deprecated in 1.6 and will be removed in 1.7. Use `sklearn.utils.validation._check_feature_names` instead.\n",
            "  warnings.warn(\n",
            "/usr/local/lib/python3.11/dist-packages/sklearn/base.py:493: FutureWarning: `BaseEstimator._check_feature_names` is deprecated in 1.6 and will be removed in 1.7. Use `sklearn.utils.validation._check_feature_names` instead.\n",
            "  warnings.warn(\n",
            "/usr/local/lib/python3.11/dist-packages/sklearn/base.py:493: FutureWarning: `BaseEstimator._check_feature_names` is deprecated in 1.6 and will be removed in 1.7. Use `sklearn.utils.validation._check_feature_names` instead.\n",
            "  warnings.warn(\n",
            "/usr/local/lib/python3.11/dist-packages/sklearn/base.py:493: FutureWarning: `BaseEstimator._check_feature_names` is deprecated in 1.6 and will be removed in 1.7. Use `sklearn.utils.validation._check_feature_names` instead.\n",
            "  warnings.warn(\n"
          ]
        },
        {
          "output_type": "stream",
          "name": "stdout",
          "text": [
            "best hyperparameters: {'colsample_bytree': 0.8, 'learning_rate': 0.18, 'max_depth': 8, 'n_estimators': 100, 'subsample': 1.0}\n",
            "best score: 0.7345454545454546\n"
          ]
        },
        {
          "output_type": "stream",
          "name": "stderr",
          "text": [
            "/usr/local/lib/python3.11/dist-packages/xgboost/core.py:158: UserWarning: [03:39:07] WARNING: /workspace/src/learner.cc:740: \n",
            "Parameters: { \"use_label_encoder\" } are not used.\n",
            "\n",
            "  warnings.warn(smsg, UserWarning)\n",
            "/usr/local/lib/python3.11/dist-packages/sklearn/base.py:493: FutureWarning: `BaseEstimator._check_feature_names` is deprecated in 1.6 and will be removed in 1.7. Use `sklearn.utils.validation._check_feature_names` instead.\n",
            "  warnings.warn(\n",
            "/usr/local/lib/python3.11/dist-packages/sklearn/base.py:493: FutureWarning: `BaseEstimator._check_feature_names` is deprecated in 1.6 and will be removed in 1.7. Use `sklearn.utils.validation._check_feature_names` instead.\n",
            "  warnings.warn(\n",
            "/usr/local/lib/python3.11/dist-packages/sklearn/base.py:493: FutureWarning: `BaseEstimator._check_feature_names` is deprecated in 1.6 and will be removed in 1.7. Use `sklearn.utils.validation._check_feature_names` instead.\n",
            "  warnings.warn(\n",
            "/usr/local/lib/python3.11/dist-packages/sklearn/base.py:493: FutureWarning: `BaseEstimator._check_feature_names` is deprecated in 1.6 and will be removed in 1.7. Use `sklearn.utils.validation._check_feature_names` instead.\n",
            "  warnings.warn(\n"
          ]
        },
        {
          "output_type": "stream",
          "name": "stdout",
          "text": [
            "best hyperparameters: {'colsample_bytree': 0.8, 'learning_rate': 0.18, 'max_depth': 8, 'n_estimators': 100, 'subsample': 1.0}\n",
            "best score: 0.7345454545454546\n"
          ]
        },
        {
          "output_type": "stream",
          "name": "stderr",
          "text": [
            "/usr/local/lib/python3.11/dist-packages/xgboost/core.py:158: UserWarning: [03:39:38] WARNING: /workspace/src/learner.cc:740: \n",
            "Parameters: { \"use_label_encoder\" } are not used.\n",
            "\n",
            "  warnings.warn(smsg, UserWarning)\n"
          ]
        },
        {
          "output_type": "stream",
          "name": "stdout",
          "text": [
            "best hyperparameters: {'colsample_bytree': 0.8, 'learning_rate': 0.18, 'max_depth': 8, 'n_estimators': 100, 'subsample': 1.0}\n",
            "best score: 0.7345454545454546\n"
          ]
        },
        {
          "output_type": "stream",
          "name": "stderr",
          "text": [
            "/usr/local/lib/python3.11/dist-packages/sklearn/base.py:493: FutureWarning: `BaseEstimator._check_feature_names` is deprecated in 1.6 and will be removed in 1.7. Use `sklearn.utils.validation._check_feature_names` instead.\n",
            "  warnings.warn(\n",
            "/usr/local/lib/python3.11/dist-packages/sklearn/base.py:493: FutureWarning: `BaseEstimator._check_feature_names` is deprecated in 1.6 and will be removed in 1.7. Use `sklearn.utils.validation._check_feature_names` instead.\n",
            "  warnings.warn(\n",
            "/usr/local/lib/python3.11/dist-packages/sklearn/base.py:493: FutureWarning: `BaseEstimator._check_feature_names` is deprecated in 1.6 and will be removed in 1.7. Use `sklearn.utils.validation._check_feature_names` instead.\n",
            "  warnings.warn(\n",
            "/usr/local/lib/python3.11/dist-packages/sklearn/base.py:493: FutureWarning: `BaseEstimator._check_feature_names` is deprecated in 1.6 and will be removed in 1.7. Use `sklearn.utils.validation._check_feature_names` instead.\n",
            "  warnings.warn(\n",
            "/usr/local/lib/python3.11/dist-packages/xgboost/core.py:158: UserWarning: [03:40:08] WARNING: /workspace/src/learner.cc:740: \n",
            "Parameters: { \"use_label_encoder\" } are not used.\n",
            "\n",
            "  warnings.warn(smsg, UserWarning)\n",
            "/usr/local/lib/python3.11/dist-packages/sklearn/base.py:493: FutureWarning: `BaseEstimator._check_feature_names` is deprecated in 1.6 and will be removed in 1.7. Use `sklearn.utils.validation._check_feature_names` instead.\n",
            "  warnings.warn(\n",
            "/usr/local/lib/python3.11/dist-packages/sklearn/base.py:493: FutureWarning: `BaseEstimator._check_feature_names` is deprecated in 1.6 and will be removed in 1.7. Use `sklearn.utils.validation._check_feature_names` instead.\n",
            "  warnings.warn(\n",
            "/usr/local/lib/python3.11/dist-packages/sklearn/base.py:493: FutureWarning: `BaseEstimator._check_feature_names` is deprecated in 1.6 and will be removed in 1.7. Use `sklearn.utils.validation._check_feature_names` instead.\n",
            "  warnings.warn(\n",
            "/usr/local/lib/python3.11/dist-packages/sklearn/base.py:493: FutureWarning: `BaseEstimator._check_feature_names` is deprecated in 1.6 and will be removed in 1.7. Use `sklearn.utils.validation._check_feature_names` instead.\n",
            "  warnings.warn(\n"
          ]
        },
        {
          "output_type": "stream",
          "name": "stdout",
          "text": [
            "best hyperparameters: {'colsample_bytree': 0.8, 'learning_rate': 0.18, 'max_depth': 8, 'n_estimators': 100, 'subsample': 1.0}\n",
            "best score: 0.7345454545454546\n"
          ]
        },
        {
          "output_type": "stream",
          "name": "stderr",
          "text": [
            "/usr/local/lib/python3.11/dist-packages/xgboost/core.py:158: UserWarning: [03:40:38] WARNING: /workspace/src/learner.cc:740: \n",
            "Parameters: { \"use_label_encoder\" } are not used.\n",
            "\n",
            "  warnings.warn(smsg, UserWarning)\n",
            "/usr/local/lib/python3.11/dist-packages/sklearn/base.py:493: FutureWarning: `BaseEstimator._check_feature_names` is deprecated in 1.6 and will be removed in 1.7. Use `sklearn.utils.validation._check_feature_names` instead.\n",
            "  warnings.warn(\n",
            "/usr/local/lib/python3.11/dist-packages/sklearn/base.py:493: FutureWarning: `BaseEstimator._check_feature_names` is deprecated in 1.6 and will be removed in 1.7. Use `sklearn.utils.validation._check_feature_names` instead.\n",
            "  warnings.warn(\n",
            "/usr/local/lib/python3.11/dist-packages/sklearn/base.py:493: FutureWarning: `BaseEstimator._check_feature_names` is deprecated in 1.6 and will be removed in 1.7. Use `sklearn.utils.validation._check_feature_names` instead.\n",
            "  warnings.warn(\n",
            "/usr/local/lib/python3.11/dist-packages/sklearn/base.py:493: FutureWarning: `BaseEstimator._check_feature_names` is deprecated in 1.6 and will be removed in 1.7. Use `sklearn.utils.validation._check_feature_names` instead.\n",
            "  warnings.warn(\n"
          ]
        },
        {
          "output_type": "stream",
          "name": "stdout",
          "text": [
            "best hyperparameters: {'colsample_bytree': 0.8, 'learning_rate': 0.18, 'max_depth': 8, 'n_estimators': 100, 'subsample': 1.0}\n",
            "best score: 0.7345454545454546\n"
          ]
        },
        {
          "output_type": "stream",
          "name": "stderr",
          "text": [
            "/usr/local/lib/python3.11/dist-packages/xgboost/core.py:158: UserWarning: [03:41:08] WARNING: /workspace/src/learner.cc:740: \n",
            "Parameters: { \"use_label_encoder\" } are not used.\n",
            "\n",
            "  warnings.warn(smsg, UserWarning)\n",
            "/usr/local/lib/python3.11/dist-packages/sklearn/base.py:493: FutureWarning: `BaseEstimator._check_feature_names` is deprecated in 1.6 and will be removed in 1.7. Use `sklearn.utils.validation._check_feature_names` instead.\n",
            "  warnings.warn(\n",
            "/usr/local/lib/python3.11/dist-packages/sklearn/base.py:493: FutureWarning: `BaseEstimator._check_feature_names` is deprecated in 1.6 and will be removed in 1.7. Use `sklearn.utils.validation._check_feature_names` instead.\n",
            "  warnings.warn(\n",
            "/usr/local/lib/python3.11/dist-packages/sklearn/base.py:493: FutureWarning: `BaseEstimator._check_feature_names` is deprecated in 1.6 and will be removed in 1.7. Use `sklearn.utils.validation._check_feature_names` instead.\n",
            "  warnings.warn(\n",
            "/usr/local/lib/python3.11/dist-packages/sklearn/base.py:493: FutureWarning: `BaseEstimator._check_feature_names` is deprecated in 1.6 and will be removed in 1.7. Use `sklearn.utils.validation._check_feature_names` instead.\n",
            "  warnings.warn(\n"
          ]
        },
        {
          "output_type": "stream",
          "name": "stdout",
          "text": [
            "best hyperparameters: {'colsample_bytree': 0.8, 'learning_rate': 0.18, 'max_depth': 8, 'n_estimators': 100, 'subsample': 1.0}\n",
            "best score: 0.7345454545454546\n"
          ]
        },
        {
          "output_type": "stream",
          "name": "stderr",
          "text": [
            "/usr/local/lib/python3.11/dist-packages/xgboost/core.py:158: UserWarning: [03:41:38] WARNING: /workspace/src/learner.cc:740: \n",
            "Parameters: { \"use_label_encoder\" } are not used.\n",
            "\n",
            "  warnings.warn(smsg, UserWarning)\n",
            "/usr/local/lib/python3.11/dist-packages/sklearn/base.py:493: FutureWarning: `BaseEstimator._check_feature_names` is deprecated in 1.6 and will be removed in 1.7. Use `sklearn.utils.validation._check_feature_names` instead.\n",
            "  warnings.warn(\n",
            "/usr/local/lib/python3.11/dist-packages/sklearn/base.py:493: FutureWarning: `BaseEstimator._check_feature_names` is deprecated in 1.6 and will be removed in 1.7. Use `sklearn.utils.validation._check_feature_names` instead.\n",
            "  warnings.warn(\n",
            "/usr/local/lib/python3.11/dist-packages/sklearn/base.py:493: FutureWarning: `BaseEstimator._check_feature_names` is deprecated in 1.6 and will be removed in 1.7. Use `sklearn.utils.validation._check_feature_names` instead.\n",
            "  warnings.warn(\n",
            "/usr/local/lib/python3.11/dist-packages/sklearn/base.py:493: FutureWarning: `BaseEstimator._check_feature_names` is deprecated in 1.6 and will be removed in 1.7. Use `sklearn.utils.validation._check_feature_names` instead.\n",
            "  warnings.warn(\n"
          ]
        },
        {
          "output_type": "stream",
          "name": "stdout",
          "text": [
            "best hyperparameters: {'colsample_bytree': 0.8, 'learning_rate': 0.18, 'max_depth': 8, 'n_estimators': 100, 'subsample': 1.0}\n",
            "best score: 0.7345454545454546\n"
          ]
        },
        {
          "output_type": "stream",
          "name": "stderr",
          "text": [
            "/usr/local/lib/python3.11/dist-packages/xgboost/core.py:158: UserWarning: [03:42:07] WARNING: /workspace/src/learner.cc:740: \n",
            "Parameters: { \"use_label_encoder\" } are not used.\n",
            "\n",
            "  warnings.warn(smsg, UserWarning)\n"
          ]
        },
        {
          "output_type": "stream",
          "name": "stdout",
          "text": [
            "best hyperparameters: {'colsample_bytree': 0.8, 'learning_rate': 0.18, 'max_depth': 8, 'n_estimators': 100, 'subsample': 1.0}\n",
            "best score: 0.7345454545454546\n"
          ]
        },
        {
          "output_type": "stream",
          "name": "stderr",
          "text": [
            "/usr/local/lib/python3.11/dist-packages/sklearn/base.py:493: FutureWarning: `BaseEstimator._check_feature_names` is deprecated in 1.6 and will be removed in 1.7. Use `sklearn.utils.validation._check_feature_names` instead.\n",
            "  warnings.warn(\n",
            "/usr/local/lib/python3.11/dist-packages/sklearn/base.py:493: FutureWarning: `BaseEstimator._check_feature_names` is deprecated in 1.6 and will be removed in 1.7. Use `sklearn.utils.validation._check_feature_names` instead.\n",
            "  warnings.warn(\n",
            "/usr/local/lib/python3.11/dist-packages/sklearn/base.py:493: FutureWarning: `BaseEstimator._check_feature_names` is deprecated in 1.6 and will be removed in 1.7. Use `sklearn.utils.validation._check_feature_names` instead.\n",
            "  warnings.warn(\n",
            "/usr/local/lib/python3.11/dist-packages/sklearn/base.py:493: FutureWarning: `BaseEstimator._check_feature_names` is deprecated in 1.6 and will be removed in 1.7. Use `sklearn.utils.validation._check_feature_names` instead.\n",
            "  warnings.warn(\n",
            "/usr/local/lib/python3.11/dist-packages/xgboost/core.py:158: UserWarning: [03:42:38] WARNING: /workspace/src/learner.cc:740: \n",
            "Parameters: { \"use_label_encoder\" } are not used.\n",
            "\n",
            "  warnings.warn(smsg, UserWarning)\n",
            "/usr/local/lib/python3.11/dist-packages/sklearn/base.py:493: FutureWarning: `BaseEstimator._check_feature_names` is deprecated in 1.6 and will be removed in 1.7. Use `sklearn.utils.validation._check_feature_names` instead.\n",
            "  warnings.warn(\n",
            "/usr/local/lib/python3.11/dist-packages/sklearn/base.py:493: FutureWarning: `BaseEstimator._check_feature_names` is deprecated in 1.6 and will be removed in 1.7. Use `sklearn.utils.validation._check_feature_names` instead.\n",
            "  warnings.warn(\n",
            "/usr/local/lib/python3.11/dist-packages/sklearn/base.py:493: FutureWarning: `BaseEstimator._check_feature_names` is deprecated in 1.6 and will be removed in 1.7. Use `sklearn.utils.validation._check_feature_names` instead.\n",
            "  warnings.warn(\n",
            "/usr/local/lib/python3.11/dist-packages/sklearn/base.py:493: FutureWarning: `BaseEstimator._check_feature_names` is deprecated in 1.6 and will be removed in 1.7. Use `sklearn.utils.validation._check_feature_names` instead.\n",
            "  warnings.warn(\n"
          ]
        },
        {
          "output_type": "stream",
          "name": "stdout",
          "text": [
            "best hyperparameters: {'colsample_bytree': 0.8, 'learning_rate': 0.18, 'max_depth': 8, 'n_estimators': 100, 'subsample': 1.0}\n",
            "best score: 0.7345454545454546\n"
          ]
        },
        {
          "output_type": "stream",
          "name": "stderr",
          "text": [
            "/usr/local/lib/python3.11/dist-packages/xgboost/core.py:158: UserWarning: [03:43:08] WARNING: /workspace/src/learner.cc:740: \n",
            "Parameters: { \"use_label_encoder\" } are not used.\n",
            "\n",
            "  warnings.warn(smsg, UserWarning)\n",
            "/usr/local/lib/python3.11/dist-packages/sklearn/base.py:493: FutureWarning: `BaseEstimator._check_feature_names` is deprecated in 1.6 and will be removed in 1.7. Use `sklearn.utils.validation._check_feature_names` instead.\n",
            "  warnings.warn(\n",
            "/usr/local/lib/python3.11/dist-packages/sklearn/base.py:493: FutureWarning: `BaseEstimator._check_feature_names` is deprecated in 1.6 and will be removed in 1.7. Use `sklearn.utils.validation._check_feature_names` instead.\n",
            "  warnings.warn(\n",
            "/usr/local/lib/python3.11/dist-packages/sklearn/base.py:493: FutureWarning: `BaseEstimator._check_feature_names` is deprecated in 1.6 and will be removed in 1.7. Use `sklearn.utils.validation._check_feature_names` instead.\n",
            "  warnings.warn(\n",
            "/usr/local/lib/python3.11/dist-packages/sklearn/base.py:493: FutureWarning: `BaseEstimator._check_feature_names` is deprecated in 1.6 and will be removed in 1.7. Use `sklearn.utils.validation._check_feature_names` instead.\n",
            "  warnings.warn(\n"
          ]
        },
        {
          "output_type": "stream",
          "name": "stdout",
          "text": [
            "best hyperparameters: {'colsample_bytree': 0.8, 'learning_rate': 0.18, 'max_depth': 8, 'n_estimators': 100, 'subsample': 1.0}\n",
            "best score: 0.7345454545454546\n",
            "best hyperparameters: {'colsample_bytree': 0.8, 'learning_rate': 0.18, 'max_depth': 8, 'n_estimators': 100, 'subsample': 1.0}\n",
            "best score: 0.7345454545454546\n"
          ]
        },
        {
          "output_type": "stream",
          "name": "stderr",
          "text": [
            "/usr/local/lib/python3.11/dist-packages/xgboost/core.py:158: UserWarning: [03:43:37] WARNING: /workspace/src/learner.cc:740: \n",
            "Parameters: { \"use_label_encoder\" } are not used.\n",
            "\n",
            "  warnings.warn(smsg, UserWarning)\n"
          ]
        }
      ]
    },
    {
      "cell_type": "code",
      "source": [
        "# evaluate best model\n",
        "accuracy = accuracy_score(y_test, y_pred)\n",
        "print(f\"XGBoost Test Accuracy: {accuracy}\")\n"
      ],
      "metadata": {
        "id": "rpExeZw1hZTx",
        "outputId": "fe6d546f-3663-442b-d12c-737eac5186c1",
        "colab": {
          "base_uri": "https://localhost:8080/"
        }
      },
      "execution_count": 94,
      "outputs": [
        {
          "output_type": "stream",
          "name": "stdout",
          "text": [
            "XGBoost Test Accuracy: 0.3793103448275862\n"
          ]
        }
      ]
    },
    {
      "cell_type": "markdown",
      "source": [
        "lol. That definitely is overfit to the training data, results are barely better than a baseline model with random chance."
      ],
      "metadata": {
        "id": "rxp8FNhZiSGM"
      }
    },
    {
      "cell_type": "markdown",
      "source": [
        "RNN model"
      ],
      "metadata": {
        "id": "LKhq_BdvPZ8O"
      }
    },
    {
      "cell_type": "code",
      "source": [
        "# reshape data for rnn (samples, timesteps, features)\n",
        "timesteps = 1\n",
        "X_train_rnn = X_train_scaled.reshape((X_train_scaled.shape[0], timesteps, X_train_scaled.shape[1]))\n",
        "X_test_rnn = X_test_scaled.reshape((X_test_scaled.shape[0], timesteps, X_test_scaled.shape[1]))\n",
        "\n",
        "# rnn model\n",
        "model_rnn = Sequential()\n",
        "model_rnn.add(Input(shape=(timesteps, X_train_scaled.shape[1])))\n",
        "model_rnn.add(LSTM(50, activation = 'relu'))\n",
        "model_rnn.add(Dense(3, activation = 'softmax'))\n",
        "\n",
        "# compile\n",
        "model_rnn.compile(optimizer = 'adam',\n",
        "                  loss = 'sparse_categorical_crossentropy',\n",
        "                  metrics = ['accuracy'])\n",
        "\n",
        "# fit\n",
        "model_rnn.fit(X_train_rnn,\n",
        "              y_train_resampled,\n",
        "              epochs = 100,\n",
        "              verbose = 0)\n",
        "\n",
        "# eval\n",
        "loss, accuracy = model_rnn.evaluate(X_test_rnn,\n",
        "                                    y_test,\n",
        "                                    verbose = 0)\n",
        "\n",
        "print(f'rnn accuracy: {accuracy:.4f}')\n",
        "\n",
        "# pred\n",
        "y_pred_rnn = model_rnn.predict(X_test_rnn).argmax(axis = 1)\n",
        "\n",
        "# classification\n",
        "from sklearn.metrics import classification_report\n",
        "print(classification_report(y_test, y_pred_rnn))\n"
      ],
      "metadata": {
        "colab": {
          "base_uri": "https://localhost:8080/"
        },
        "id": "qNyGo8N9JaMT",
        "outputId": "dc4e41cb-3280-4107-d141-ba229d4dd059"
      },
      "execution_count": 105,
      "outputs": [
        {
          "output_type": "stream",
          "name": "stdout",
          "text": [
            "rnn accuracy: 0.3793\n",
            "\u001b[1m1/1\u001b[0m \u001b[32m━━━━━━━━━━━━━━━━━━━━\u001b[0m\u001b[37m\u001b[0m \u001b[1m0s\u001b[0m 187ms/step\n",
            "              precision    recall  f1-score   support\n",
            "\n",
            "           0       0.50      0.20      0.29         5\n",
            "           1       0.33      0.14      0.20        14\n",
            "           2       0.38      0.80      0.52        10\n",
            "\n",
            "    accuracy                           0.38        29\n",
            "   macro avg       0.40      0.38      0.33        29\n",
            "weighted avg       0.38      0.38      0.32        29\n",
            "\n"
          ]
        }
      ]
    },
    {
      "cell_type": "markdown",
      "source": [
        "## Discussion"
      ],
      "metadata": {
        "id": "sMgSikszgYtw"
      }
    },
    {
      "cell_type": "markdown",
      "source": [
        "Further study:\n",
        "* Feature selection. None of the features had a very strong correlation with rate changes. It's not realistic to expect a model to perform well when there's not good data to work with. More series that could be added are:\n",
        "  * housing market indicators\n",
        "  * consumer and business confidence\n",
        "  * exchange rate (import/export/commodity markets)\n",
        "  * unemployment rate\n",
        "  * gdp\n",
        "  * A very large number of features could be engineered from these few series. Just as I modelled cpi, each one could be modelled with other predictors.\n",
        "\n",
        "* More domain knowledge. While I have a background in economics, I didn't spend much time reading up on economic models for this project due to time constraints. The models created here would not be suitable for use in production.\n",
        "* Turn feature engineering and selection process into a pipeline. This would be useful as more features are added."
      ],
      "metadata": {
        "id": "K89hdoH7gbrx"
      }
    },
    {
      "cell_type": "markdown",
      "source": [
        "## References\n",
        "\n",
        "*   List item\n",
        "*   List item\n",
        "\n"
      ],
      "metadata": {
        "id": "c36K65K62FEV"
      }
    }
  ]
}