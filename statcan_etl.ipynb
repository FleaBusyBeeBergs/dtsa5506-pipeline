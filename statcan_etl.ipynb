{
  "nbformat": 4,
  "nbformat_minor": 0,
  "metadata": {
    "colab": {
      "provenance": [],
      "authorship_tag": "ABX9TyOGS5eeenItmvrsFE2h5Doa",
      "include_colab_link": true
    },
    "kernelspec": {
      "name": "python3",
      "display_name": "Python 3"
    },
    "language_info": {
      "name": "python"
    }
  },
  "cells": [
    {
      "cell_type": "markdown",
      "metadata": {
        "id": "view-in-github",
        "colab_type": "text"
      },
      "source": [
        "<a href=\"https://colab.research.google.com/github/FleaBusyBeeBergs/dtsa5506-pipeline/blob/main/statcan_etl.ipynb\" target=\"_parent\"><img src=\"https://colab.research.google.com/assets/colab-badge.svg\" alt=\"Open In Colab\"/></a>"
      ]
    },
    {
      "cell_type": "code",
      "execution_count": 22,
      "metadata": {
        "id": "7RdJsRYMM3DG"
      },
      "outputs": [],
      "source": [
        "# file handling\n",
        "import pandas as pd\n",
        "import os\n",
        "from google.colab import files\n",
        "\n",
        "# http requests\n",
        "import requests\n",
        "\n",
        "# vis\n",
        "import matplotlib.pyplot as plt\n",
        "\n",
        "\n",
        "import xml.etree.ElementTree as ET"
      ]
    },
    {
      "cell_type": "code",
      "source": [
        "# Base URL for data extraction\n",
        "base_url = 'https://www150.statcan.gc.ca/t1/wds/sdmx/statcan/rest/vector/'"
      ],
      "metadata": {
        "id": "J4Kn2gIPM-9R"
      },
      "execution_count": 12,
      "outputs": []
    },
    {
      "cell_type": "code",
      "source": [
        "# Namespace mappings for XML parsing\n",
        "NAMESPACES = {\n",
        "    \"message\": \"http://www.sdmx.org/resources/sdmxml/schemas/v2_1/message\",\n",
        "    \"generic\": \"http://www.sdmx.org/resources/sdmxml/schemas/v2_1/data/generic\",\n",
        "    \"common\": \"http://www.sdmx.org/resources/sdmxml/schemas/v2_1/common\",\n",
        "}\n"
      ],
      "metadata": {
        "id": "W-Udwi4MPqMW"
      },
      "execution_count": 16,
      "outputs": []
    },
    {
      "cell_type": "code",
      "source": [
        "class StatCanETL:\n",
        "    def __init__(self, table_df):\n",
        "        # Initialize with the DataFrame of table metadata\n",
        "        self.table_df = table_df\n",
        "        self.data_objects = {}  # Dictionary to store DataFrames dynamically\n",
        "\n",
        "    def extract(self, vector, start_period, end_period):\n",
        "        \"\"\"Extract data from the StatCan API for a given vector.\"\"\"\n",
        "        url = f\"{BASE_URL}{vector}?startPeriod={start_period}&endPeriod={end_period}&detail=full\"\n",
        "        response = requests.get(url)\n",
        "\n",
        "        if response.status_code == 200:\n",
        "            return response.content\n",
        "        else:\n",
        "            raise ValueError(f\"Failed to fetch data for vector {vector}. HTTP Status: {response.status_code}\")\n",
        "\n",
        "    def transform(self, xml_content, frequency):\n",
        "        \"\"\"Transform the XML response into a structured DataFrame.\"\"\"\n",
        "        # Parse XML content\n",
        "        root = ET.fromstring(xml_content)\n",
        "\n",
        "        # Locate the Series element\n",
        "        series = root.find(\".//generic:Series\", NAMESPACES)\n",
        "        if series is None:\n",
        "            raise ValueError(\"No Series element found in the XML response.\")\n",
        "\n",
        "        # Extract observations\n",
        "        observations = series.findall(\".//generic:Obs\", NAMESPACES)\n",
        "        data = []\n",
        "        for obs in observations:\n",
        "            obs_dim = obs.find(\".//generic:ObsDimension\", NAMESPACES)\n",
        "            obs_val = obs.find(\".//generic:ObsValue\", NAMESPACES)\n",
        "            date = obs_dim.attrib[\"value\"]\n",
        "\n",
        "            # Convert date format if the frequency is quarterly\n",
        "            if frequency == \"quarterly\":\n",
        "                date = self.convert_quarter_to_date(date)\n",
        "\n",
        "            data.append({\n",
        "                \"Date\": date,\n",
        "                \"Value\": float(obs_val.attrib[\"value\"]),\n",
        "            })\n",
        "\n",
        "        # Convert to DataFrame\n",
        "        df = pd.DataFrame(data)\n",
        "        return df\n",
        "\n",
        "    @staticmethod\n",
        "    def convert_quarter_to_date(quarter_str):\n",
        "        \"\"\"Convert a quarterly date string (YYYY-Qx) to a standard date format (YYYY-MM-DD).\"\"\"\n",
        "        try:\n",
        "            year, quarter = quarter_str.split(\"-Q\")\n",
        "            quarter_start_month = {\n",
        "                \"1\": \"01\",\n",
        "                \"2\": \"04\",\n",
        "                \"3\": \"07\",\n",
        "                \"4\": \"10\",\n",
        "            }.get(quarter)\n",
        "            if quarter_start_month:\n",
        "                return f\"{year}-{quarter_start_month}-01\"\n",
        "            else:\n",
        "                raise ValueError(f\"Invalid quarter format: {quarter_str}\")\n",
        "        except Exception as e:\n",
        "            raise ValueError(f\"Error converting quarter string {quarter_str}: {e}\")\n",
        "\n",
        "    def load(self, df, name):\n",
        "        \"\"\"Load the DataFrame into an object named name_df.\"\"\"\n",
        "        variable_name = f\"{name}_df\"\n",
        "        globals()[variable_name] = df  # Dynamically create a global variable\n",
        "        self.data_objects[variable_name] = df  # Store in a dictionary for easy access\n",
        "        print(f\"Data for {name} saved to object {variable_name}\")\n",
        "\n",
        "    def run(self):\n",
        "        \"\"\"Run the full ETL pipeline for all variables.\"\"\"\n",
        "        for _, row in self.table_df.iterrows():\n",
        "            print(f\"Processing {row['name']}...\")\n",
        "            try:\n",
        "                # Extract\n",
        "                xml_content = self.extract(row[\"vector\"], row[\"start\"], row[\"end\"])\n",
        "\n",
        "                # Transform\n",
        "                df = self.transform(xml_content, row[\"frequency\"])\n",
        "\n",
        "                # Load\n",
        "                self.load(df, row[\"name\"])\n",
        "            except Exception as e:\n",
        "                print(f\"Error processing {row['name']}: {e}\")"
      ],
      "metadata": {
        "id": "ictARtWmPwGh"
      },
      "execution_count": 44,
      "outputs": []
    },
    {
      "cell_type": "code",
      "source": [
        "# Define the table metadata\n",
        "tables = {\n",
        "    'name': ['wage', 'raw', 'tax', 'productivity', 'cpi'],\n",
        "    'tableid': [14100223, 18100268, 11100058, 36100206, 18100004],\n",
        "    'vector': ['v79311153', 'v1230998135', 'v122807833', 'v1409153', 'v41690973'],\n",
        "    'description': ['', '', '', '', ''],\n",
        "    'frequency': ['monthly', 'monthly', 'annual', 'quarterly', 'monthly'],\n",
        "    'start': ['2001-01', '2001-01', '2001-01', '2001-Q1', '2001-01'],\n",
        "    'end': ['2024-12', '2024-12', '2024-12', '2024-Q4', '2024-12'],\n",
        "    'url': ['', '', '', '', '']\n",
        "}\n",
        "\n",
        "# Create DataFrame\n",
        "table_df = pd.DataFrame(tables)"
      ],
      "metadata": {
        "id": "CZWpGZEIM-1x"
      },
      "execution_count": 45,
      "outputs": []
    },
    {
      "cell_type": "code",
      "source": [
        "# Initialize and run the ETL pipeline\n",
        "pipeline = StatCanETL(table_df)\n",
        "pipeline.run()"
      ],
      "metadata": {
        "colab": {
          "base_uri": "https://localhost:8080/"
        },
        "id": "zjqkOZPWQJrA",
        "outputId": "81261b5b-f6ce-4dff-e261-f584fe53f6a5"
      },
      "execution_count": 46,
      "outputs": [
        {
          "output_type": "stream",
          "name": "stdout",
          "text": [
            "Processing wage...\n",
            "Data for wage saved to object wage_df\n",
            "Processing raw...\n",
            "Data for raw saved to object raw_df\n",
            "Processing tax...\n",
            "Data for tax saved to object tax_df\n",
            "Processing productivity...\n",
            "Data for productivity saved to object productivity_df\n",
            "Processing cpi...\n",
            "Data for cpi saved to object cpi_df\n"
          ]
        }
      ]
    },
    {
      "cell_type": "code",
      "source": [
        "for key, value in pipeline.data_objects.items():\n",
        "    print(key)\n",
        "    print(value.head(3))"
      ],
      "metadata": {
        "colab": {
          "base_uri": "https://localhost:8080/"
        },
        "id": "MlIzORgxQIJW",
        "outputId": "132c8bbf-6b54-496f-ef45-40b6c28ff7e7"
      },
      "execution_count": 50,
      "outputs": [
        {
          "output_type": "stream",
          "name": "stdout",
          "text": [
            "wage_df\n",
            "      Date   Value\n",
            "0  2001-01  657.14\n",
            "1  2001-02  653.59\n",
            "2  2001-03  655.14\n",
            "raw_df\n",
            "      Date  Value\n",
            "0  2001-01   65.2\n",
            "1  2001-02   65.8\n",
            "2  2001-03   65.5\n",
            "tax_df\n",
            "   Date  Value\n",
            "0  2001   14.0\n",
            "1  2002   13.8\n",
            "2  2003   13.8\n",
            "productivity_df\n",
            "         Date   Value\n",
            "0  2001-01-01  85.173\n",
            "1  2001-04-01  86.150\n",
            "2  2001-07-01  86.665\n",
            "cpi_df\n",
            "      Date  Value\n",
            "0  2001-01   96.3\n",
            "1  2001-02   96.8\n",
            "2  2001-03   97.1\n"
          ]
        }
      ]
    },
    {
      "cell_type": "code",
      "source": [],
      "metadata": {
        "id": "FHNrv2-qM_GO"
      },
      "execution_count": null,
      "outputs": []
    },
    {
      "cell_type": "code",
      "source": [],
      "metadata": {
        "id": "6m0xBoJyM_Jf"
      },
      "execution_count": null,
      "outputs": []
    },
    {
      "cell_type": "code",
      "source": [],
      "metadata": {
        "id": "oy_B9q9AM_Mb"
      },
      "execution_count": null,
      "outputs": []
    },
    {
      "cell_type": "code",
      "source": [],
      "metadata": {
        "id": "sEWPpkkBM_Po"
      },
      "execution_count": null,
      "outputs": []
    },
    {
      "cell_type": "code",
      "source": [],
      "metadata": {
        "id": "_dmdMt29M_Sz"
      },
      "execution_count": null,
      "outputs": []
    },
    {
      "cell_type": "code",
      "source": [],
      "metadata": {
        "id": "YFi-hkmCM_V2"
      },
      "execution_count": null,
      "outputs": []
    },
    {
      "cell_type": "code",
      "source": [],
      "metadata": {
        "id": "ixEQ08jMM_ZV"
      },
      "execution_count": null,
      "outputs": []
    }
  ]
}